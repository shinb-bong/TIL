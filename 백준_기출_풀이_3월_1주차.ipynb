{
  "nbformat": 4,
  "nbformat_minor": 0,
  "metadata": {
    "colab": {
      "name": "백준 기출 풀이 3월 1주차.ipynb",
      "provenance": [],
      "collapsed_sections": [],
      "authorship_tag": "ABX9TyMSnNbzAsd1FnFCYCXMRl5J",
      "include_colab_link": true
    },
    "kernelspec": {
      "name": "python3",
      "display_name": "Python 3"
    },
    "language_info": {
      "name": "python"
    }
  },
  "cells": [
    {
      "cell_type": "markdown",
      "metadata": {
        "id": "view-in-github",
        "colab_type": "text"
      },
      "source": [
        "<a href=\"https://colab.research.google.com/github/shinb-bong/TIL/blob/main/%EB%B0%B1%EC%A4%80_%EA%B8%B0%EC%B6%9C_%ED%92%80%EC%9D%B4_3%EC%9B%94_1%EC%A3%BC%EC%B0%A8.ipynb\" target=\"_parent\"><img src=\"https://colab.research.google.com/assets/colab-badge.svg\" alt=\"Open In Colab\"/></a>"
      ]
    },
    {
      "cell_type": "markdown",
      "source": [
        "알고리즘 3월 1주차\n",
        "복습\n",
        "---\n",
        "\n",
        "상기 시키기\n",
        "\n",
        "1. 이것이 코딩 테스트다. 개념 부분 반복\n",
        "\n",
        "1초에 2,000만번의 계산을 수행하고 데이터 개수가 100만 개 인 문제가 있다면 O(NlogN) 알고리즘을 이용하여 문제를 풀어야한다.\n",
        "\n",
        "2. 최단 경로는 무한을 이용하는 경우가 많다. \n",
        "\n",
        "3. 플로이드 워셜은 3중 포문 k가 제일 윗줄\n",
        "\n",
        "4. 크루스칼 알고리즘\n",
        "\n",
        "> 간선 오름차순 정렬, 확인하면서 간선이 사이클을 발생시키는지 확인, 반복"
      ],
      "metadata": {
        "id": "38ALz249IRMe"
      }
    },
    {
      "cell_type": "markdown",
      "source": [
        "1339번 단어수학\n",
        "----\n",
        "\n",
        "그리디 알고리즘이며 가장 큰수를 만들려면 양쪽 수를 비교해 가면서 가장 앞자리에 있는 알파벳을 가장 크게 만들면된다.\n",
        "\n",
        "- 구현을 하지 못해서 참고를 하였다.\n",
        "\n",
        "- 각자리 수를 자리수별로 10의 제곱을 곱한뒤 각자 더해주고 큰 값을 가지는 것 부터 할당 해주는 방식으로 구현을 하였다.\n",
        "\n",
        "- 참고 자료: https://jokerldg.github.io/algorithm/2021/03/13/word-math.html"
      ],
      "metadata": {
        "id": "wafchtDbKcY-"
      }
    },
    {
      "cell_type": "code",
      "execution_count": null,
      "metadata": {
        "id": "7C7aDslMIA4r"
      },
      "outputs": [],
      "source": [
        "n = int(input())\n",
        "\n",
        "arr = []\n",
        "for _ in range(n):\n",
        " arr.append(input())\n",
        "\n",
        "# dict \n",
        "dict = {}\n",
        "\n",
        "# dict에 알파벳별로 값을 준다.\n",
        "for word in arr:\n",
        "  # 길이를 계산하여 넣어주기 위해 계산한다. -1을 해서 자리수를 맞춰준다.\n",
        "  square = len(word) -1\n",
        "  for c in word:\n",
        "    if c in dict: # 문자에 해당하는 값이 있는경우 더해준다.\n",
        "      dict[c] += pow(10,square) # pow는 제곱해주는 것이다.\n",
        "    else: # 없는 경우 그대로 넣어준다.\n",
        "      dict[c] = pow(10,square)\n",
        "    \n",
        "    # 제곱근을 빼준다. 왜냐하면 다음자리 숫자를 진행해야 하기때문\n",
        "    square -=1\n",
        "\n",
        "# dict 정렬\n",
        "dict = sorted(dict.values(),reverse=True)\n",
        "\n",
        "# 결과값 도출을 위한 변수 선언\n",
        "result , m = 0,9\n",
        "\n",
        "for value in dict:\n",
        "  result += value *m\n",
        "  m -= 1\n",
        "\n",
        "print(result)\n",
        "\n",
        "  "
      ]
    },
    {
      "cell_type": "markdown",
      "source": [
        "1715번 카드 정렬하기\n",
        "---\n",
        "\n",
        "식을 적어봤을때 가장 작은 두수를 계속해서 더하는게 중복을 줄여서 가장 작은 비교 횟수가 나온다. \n",
        "\n",
        "그렇다면 heapq 를 통해 빠르게 비교를 해주면서 앞에서 두개씩 꺼내면서 합쳐주고 다시 삽입하는 과정을 떠올렸다. "
      ],
      "metadata": {
        "id": "VXOTT3AHODcP"
      }
    },
    {
      "cell_type": "code",
      "source": [
        "import heapq\n",
        "n = int(input())\n",
        "\n",
        "# 카드 리스트\n",
        "cards = []\n",
        "result = 0\n",
        "for _ in range(n):\n",
        "  heapq.heappush(cards,int(input()))\n",
        "\n",
        "while len(cards) != 1:\n",
        "    num1 = heapq.heappop(cards)\n",
        "    num2 = heapq.heappop(cards)\n",
        "    sum = num1 + num2\n",
        "    result += sum\n",
        "    heapq.heappush(cards,sum)\n",
        "\n",
        "print(result)"
      ],
      "metadata": {
        "colab": {
          "base_uri": "https://localhost:8080/"
        },
        "id": "R8AKTieMO_OW",
        "outputId": "d61bfef9-215d-493e-d0c2-3591f0a78d24"
      },
      "execution_count": 6,
      "outputs": [
        {
          "output_type": "stream",
          "name": "stdout",
          "text": [
            "3\n",
            "10\n",
            "20\n",
            "40\n",
            "100\n"
          ]
        }
      ]
    },
    {
      "cell_type": "markdown",
      "source": [
        "1939번 중량제한\n",
        "---\n",
        "\n",
        "찾아야하는 주어진 수가 매우 크므로 이진 탐색으로 접근을 해야할 것 같다. \n",
        "\n",
        "근데 또 문제를 읽어보면 갈 수있는 도시를 찾아야 하므로 DFS/BFS? 느낌도 나는 것 같다. \n",
        "\n",
        "다리에 대한 접근은 BFS로 하면서 찾는 결과값은 이분 탐색으로 접근해야 시간 안에 해결 할 수 있을 것 같다."
      ],
      "metadata": {
        "id": "08dcnYsvUwOH"
      }
    },
    {
      "cell_type": "code",
      "source": [
        "import sys\n",
        "from collections import deque\n",
        "input = sys.stdin.readline\n",
        "\n",
        "# 섬, 다리\n",
        "n, m = map(int,input().split())\n",
        "\n",
        "edges= [[] for _ in range(n+1)]\n",
        "# 다리 입력\n",
        "for _ in range(m):\n",
        "  a,b,wei = map(int,input().split())\n",
        "  edges[a].append((b,wei))\n",
        "  edges[b].append((a,wei))\n",
        "# 시작점과 끝점\n",
        "start, end = map(int,input().split())\n",
        "\n",
        "# 통과가 가능한 무게의 최소 최대 지정(최대값은 문제에 나와있다.)\n",
        "_min, _max = 1,1000000000\n",
        "\n",
        "# 일단 bfs를 작성해서 갈 수 있는 이어지는 도시들을 찾는다.\n",
        "def bfs(c):\n",
        "  queue = deque()\n",
        "  queue.append(start)\n",
        "\n",
        "  # 방문 테이블 작성(새로운 검사방법 아래 작성)\n",
        "  visited = set()\n",
        "  visited.add(start)\n",
        "  result = []\n",
        "\n",
        "  while queue: \n",
        "    now = queue.popleft()\n",
        "    for x,w in edges[now]:\n",
        "      # 이미 visited에 등록이 되어있다면 패쓰\n",
        "      if x not in visited and w >= c:\n",
        "        visited.add(x)\n",
        "        queue.append(x)\n",
        "\n",
        "  # 마지막 도시에 방문이 가능하면 True 아니면 False\n",
        "  return True if end in visited else False  \n",
        "\n",
        "# 결과 일단 최소\n",
        "result = _min\n",
        "# 이분 탐색 진행\n",
        "while _min <= _max:\n",
        "  mid = (_min+_max) //2\n",
        "  # 해당 무게로 end 까지 갈수 있는 경우 \n",
        "  if bfs(mid):\n",
        "  # 값 저장 및 이분 탐색 이어 진행\n",
        "    result = mid \n",
        "    _min = mid +1 \n",
        "  else:\n",
        "    _max = mid -1\n",
        "\n",
        "print(result)"
      ],
      "metadata": {
        "id": "9oxErGmpVKyU"
      },
      "execution_count": null,
      "outputs": []
    },
    {
      "cell_type": "markdown",
      "source": [
        "새로운 visited 사용법(Set 이용)\n",
        "---\n",
        "visited = set()\n",
        "\n",
        "visited.add(start)\n",
        "\n",
        "  if x not in visited \n",
        "형태로 검사도 가능하다 "
      ],
      "metadata": {
        "id": "4eFUWwoSZYfn"
      }
    }
  ]
}