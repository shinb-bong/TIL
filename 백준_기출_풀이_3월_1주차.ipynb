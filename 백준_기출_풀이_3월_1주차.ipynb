{
  "nbformat": 4,
  "nbformat_minor": 0,
  "metadata": {
    "colab": {
      "name": "백준 기출 풀이 3월 1주차.ipynb",
      "provenance": [],
      "collapsed_sections": [],
      "authorship_tag": "ABX9TyMXCW/p3wpUJe8wMKZsPiFB",
      "include_colab_link": true
    },
    "kernelspec": {
      "name": "python3",
      "display_name": "Python 3"
    },
    "language_info": {
      "name": "python"
    }
  },
  "cells": [
    {
      "cell_type": "markdown",
      "metadata": {
        "id": "view-in-github",
        "colab_type": "text"
      },
      "source": [
        "<a href=\"https://colab.research.google.com/github/shinb-bong/TIL/blob/main/%EB%B0%B1%EC%A4%80_%EA%B8%B0%EC%B6%9C_%ED%92%80%EC%9D%B4_3%EC%9B%94_1%EC%A3%BC%EC%B0%A8.ipynb\" target=\"_parent\"><img src=\"https://colab.research.google.com/assets/colab-badge.svg\" alt=\"Open In Colab\"/></a>"
      ]
    },
    {
      "cell_type": "markdown",
      "source": [
        "알고리즘 3월 1주차\n",
        "복습\n",
        "---\n",
        "\n",
        "상기 시키기\n",
        "\n",
        "1. 이것이 코딩 테스트다. 개념 부분 반복\n",
        "\n",
        "1초에 2,000만번의 계산을 수행하고 데이터 개수가 100만 개 인 문제가 있다면 O(NlogN) 알고리즘을 이용하여 문제를 풀어야한다.\n",
        "\n",
        "2. 최단 경로는 무한을 이용하는 경우가 많다. \n",
        "\n",
        "3. 플로이드 워셜은 3중 포문 k가 제일 윗줄\n",
        "\n",
        "4. 크루스칼 알고리즘\n",
        "\n",
        "> 간선 오름차순 정렬, 확인하면서 간선이 사이클을 발생시키는지 확인, 반복"
      ],
      "metadata": {
        "id": "38ALz249IRMe"
      }
    },
    {
      "cell_type": "markdown",
      "source": [
        "1339번 단어수학\n",
        "----\n",
        "\n",
        "그리디 알고리즘이며 가장 큰수를 만들려면 양쪽 수를 비교해 가면서 가장 앞자리에 있는 알파벳을 가장 크게 만들면된다.\n",
        "\n",
        "- 구현을 하지 못해서 참고를 하였다.\n",
        "\n",
        "- 각자리 수를 자리수별로 10의 제곱을 곱한뒤 각자 더해주고 큰 값을 가지는 것 부터 할당 해주는 방식으로 구현을 하였다.\n",
        "\n",
        "- 참고 자료: https://jokerldg.github.io/algorithm/2021/03/13/word-math.html"
      ],
      "metadata": {
        "id": "wafchtDbKcY-"
      }
    },
    {
      "cell_type": "code",
      "execution_count": null,
      "metadata": {
        "id": "7C7aDslMIA4r"
      },
      "outputs": [],
      "source": [
        "n = int(input())\n",
        "\n",
        "arr = []\n",
        "for _ in range(n):\n",
        " arr.append(input())\n",
        "\n",
        "# dict \n",
        "dict = {}\n",
        "\n",
        "# dict에 알파벳별로 값을 준다.\n",
        "for word in arr:\n",
        "  # 길이를 계산하여 넣어주기 위해 계산한다. -1을 해서 자리수를 맞춰준다.\n",
        "  square = len(word) -1\n",
        "  for c in word:\n",
        "    if c in dict: # 문자에 해당하는 값이 있는경우 더해준다.\n",
        "      dict[c] += pow(10,square) # pow는 제곱해주는 것이다.\n",
        "    else: # 없는 경우 그대로 넣어준다.\n",
        "      dict[c] = pow(10,square)\n",
        "    \n",
        "    # 제곱근을 빼준다. 왜냐하면 다음자리 숫자를 진행해야 하기때문\n",
        "    square -=1\n",
        "\n",
        "# dict 정렬\n",
        "dict = sorted(dict.values(),reverse=True)\n",
        "\n",
        "# 결과값 도출을 위한 변수 선언\n",
        "result , m = 0,9\n",
        "\n",
        "for value in dict:\n",
        "  result += value *m\n",
        "  m -= 1\n",
        "\n",
        "print(result)\n",
        "\n",
        "  "
      ]
    },
    {
      "cell_type": "markdown",
      "source": [
        "1715번 카드 정렬하기\n",
        "---\n",
        "\n",
        "식을 적어봤을때 가장 작은 두수를 계속해서 더하는게 중복을 줄여서 가장 작은 비교 횟수가 나온다. \n",
        "\n",
        "그렇다면 heapq 를 통해 빠르게 비교를 해주면서 앞에서 두개씩 꺼내면서 합쳐주고 다시 삽입하는 과정을 떠올렸다. "
      ],
      "metadata": {
        "id": "VXOTT3AHODcP"
      }
    },
    {
      "cell_type": "code",
      "source": [
        "import heapq\n",
        "n = int(input())\n",
        "\n",
        "# 카드 리스트\n",
        "cards = []\n",
        "result = 0\n",
        "for _ in range(n):\n",
        "  heapq.heappush(cards,int(input()))\n",
        "\n",
        "while len(cards) != 1:\n",
        "    num1 = heapq.heappop(cards)\n",
        "    num2 = heapq.heappop(cards)\n",
        "    sum = num1 + num2\n",
        "    result += sum\n",
        "    heapq.heappush(cards,sum)\n",
        "\n",
        "print(result)"
      ],
      "metadata": {
        "colab": {
          "base_uri": "https://localhost:8080/"
        },
        "id": "R8AKTieMO_OW",
        "outputId": "d61bfef9-215d-493e-d0c2-3591f0a78d24"
      },
      "execution_count": null,
      "outputs": [
        {
          "output_type": "stream",
          "name": "stdout",
          "text": [
            "3\n",
            "10\n",
            "20\n",
            "40\n",
            "100\n"
          ]
        }
      ]
    },
    {
      "cell_type": "markdown",
      "source": [
        "1939번 중량제한\n",
        "---\n",
        "\n",
        "찾아야하는 주어진 수가 매우 크므로 이진 탐색으로 접근을 해야할 것 같다. \n",
        "\n",
        "근데 또 문제를 읽어보면 갈 수있는 도시를 찾아야 하므로 DFS/BFS? 느낌도 나는 것 같다. \n",
        "\n",
        "다리에 대한 접근은 BFS로 하면서 찾는 결과값은 이분 탐색으로 접근해야 시간 안에 해결 할 수 있을 것 같다."
      ],
      "metadata": {
        "id": "08dcnYsvUwOH"
      }
    },
    {
      "cell_type": "code",
      "source": [
        "import sys\n",
        "from collections import deque\n",
        "input = sys.stdin.readline\n",
        "\n",
        "# 섬, 다리\n",
        "n, m = map(int,input().split())\n",
        "\n",
        "edges= [[] for _ in range(n+1)]\n",
        "# 다리 입력\n",
        "for _ in range(m):\n",
        "  a,b,wei = map(int,input().split())\n",
        "  edges[a].append((b,wei))\n",
        "  edges[b].append((a,wei))\n",
        "# 시작점과 끝점\n",
        "start, end = map(int,input().split())\n",
        "\n",
        "# 통과가 가능한 무게의 최소 최대 지정(최대값은 문제에 나와있다.)\n",
        "_min, _max = 1,1000000000\n",
        "\n",
        "# 일단 bfs를 작성해서 갈 수 있는 이어지는 도시들을 찾는다.\n",
        "def bfs(c):\n",
        "  queue = deque()\n",
        "  queue.append(start)\n",
        "\n",
        "  # 방문 테이블 작성(새로운 검사방법 아래 작성)\n",
        "  visited = set()\n",
        "  visited.add(start)\n",
        "  result = []\n",
        "\n",
        "  while queue: \n",
        "    now = queue.popleft()\n",
        "    for x,w in edges[now]:\n",
        "      # 이미 visited에 등록이 되어있다면 패쓰\n",
        "      if x not in visited and w >= c:\n",
        "        visited.add(x)\n",
        "        queue.append(x)\n",
        "\n",
        "  # 마지막 도시에 방문이 가능하면 True 아니면 False\n",
        "  return True if end in visited else False  \n",
        "\n",
        "# 결과 일단 최소\n",
        "result = _min\n",
        "# 이분 탐색 진행\n",
        "while _min <= _max:\n",
        "  mid = (_min+_max) //2\n",
        "  # 해당 무게로 end 까지 갈수 있는 경우 \n",
        "  if bfs(mid):\n",
        "  # 값 저장 및 이분 탐색 이어 진행\n",
        "    result = mid \n",
        "    _min = mid +1 \n",
        "  else:\n",
        "    _max = mid -1\n",
        "\n",
        "print(result)"
      ],
      "metadata": {
        "id": "9oxErGmpVKyU"
      },
      "execution_count": null,
      "outputs": []
    },
    {
      "cell_type": "markdown",
      "source": [
        "새로운 visited 사용법(Set 이용)\n",
        "---\n",
        "visited = set()\n",
        "\n",
        "visited.add(start)\n",
        "\n",
        "  if x not in visited \n",
        "형태로 검사도 가능하다 "
      ],
      "metadata": {
        "id": "4eFUWwoSZYfn"
      }
    },
    {
      "cell_type": "markdown",
      "source": [
        "9663번 N-Queen\n",
        "---\n",
        "\n",
        "해당 문제는 주어진 수가 적어서 완전탐색으로 풀어야 할 듯하다.\n",
        "\n",
        "또한 퀸이 움직일 수 있는 부분에 대해서 다 체크를 해주면서 구해줄려고 한다."
      ],
      "metadata": {
        "id": "uyInK6hQ6aWI"
      }
    },
    {
      "cell_type": "code",
      "source": [
        "# 체스판 크기\n",
        "n = int(input())\n",
        "\n",
        "result = 0\n",
        "row = [0]*n\n",
        "def is_okay(x):\n",
        "  for i in range(x):\n",
        "    # 같은열 or 대각선에 있는지 판별\n",
        "    if row[x] == row [i] or abs(row[x]-row[i]) == abs(x-i):\n",
        "      return False\n",
        "  \n",
        "  return True\n",
        "\n",
        "def n_queen(x):\n",
        "  global result\n",
        "\n",
        "  # 판에 놓은 말의 숫자가 명시된 숫자와 같다면 \n",
        "  if x ==n:\n",
        "    result +=1\n",
        "\n",
        "  else:\n",
        "    for i in range(n):\n",
        "      #[x,i]에 퀸을 놓겠다.\n",
        "      row[x] = i\n",
        "      if is_okay(x):\n",
        "        n_queen(x+1)\n",
        "\n",
        "n_queen(0)\n",
        "print(result)"
      ],
      "metadata": {
        "id": "G2dAureH6pBU"
      },
      "execution_count": null,
      "outputs": []
    },
    {
      "cell_type": "markdown",
      "source": [
        "2490번 윷놀이\n",
        "--- \n",
        "\n",
        "cout 함수를 사용해서 쉽게 구현이 가능했다.\n",
        "\n",
        "딱히 주어진 수도 없어서 아주 쉬운 문제였다.\n",
        "\n",
        "함수 count(?) ?표가 몇개 들어가있는지 계산해줌"
      ],
      "metadata": {
        "id": "YsNKTRUYDYuf"
      }
    },
    {
      "cell_type": "code",
      "source": [
        "for _ in range(3):\n",
        "  a =list(map(int,input().split()))\n",
        "  if a.count(0) == 1:\n",
        "      print(\"A\")\n",
        "  elif a.count(0) == 2:\n",
        "      print(\"B\")\n",
        "  elif a.count(0) == 3:\n",
        "      print(\"C\")   \n",
        "  elif a.count(0) == 4:\n",
        "      print(\"D\")\n",
        "  else:\n",
        "      print(\"E\") "
      ],
      "metadata": {
        "id": "NYgvFfjGBcFK"
      },
      "execution_count": null,
      "outputs": []
    },
    {
      "cell_type": "markdown",
      "source": [
        "2206번 벽 부수고 이동하기\n",
        "---\n",
        "\n",
        "벽을 최대 하나까지 부술 수 있으며 (1,1)에서 (N,M)으로 이동하는 최단경로를 구하는 것이다. 불가능하면 -1 \n",
        "\n",
        "해당 문제는 bfs를 통해 최단거리를 구해야 할 것 같으며 \n",
        "\n",
        "벽을 부수는게 가장 큰 다른 포인트 인 것같다.\n",
        "\n",
        "벽을 부순다는 의미는 내가 처음 생각하기엔 그 부순 벽 이후 +1 을 구해서 가장 작은 쪽으로 이동하면 되지않을까 라는 생각을 한다."
      ],
      "metadata": {
        "id": "hXhg4anjDuGR"
      }
    },
    {
      "cell_type": "code",
      "source": [
        "from collections import deque\n",
        "\n",
        "# 행x열\n",
        "n,m = map(int,input().split())\n",
        "\n",
        "graph = []\n",
        "for _ in range(n):\n",
        "  graph.append(list(map(int,input())))\n",
        "\n",
        "# 방향벡터\n",
        "dx = [-1,1,0,0]\n",
        "dy = [0,0,-1,1]\n",
        "visited = [[0]*m for _ in range(n)]\n",
        "# BFS\n",
        "def bfs():\n",
        "  q= deque()\n",
        "  q.append((0,0))\n",
        "  # 벽을 부술 수있는 기회\n",
        "  chance = 0\n",
        "  while q:\n",
        "    x,y = q.popleft()\n",
        "    for i in range(4):\n",
        "      nx= x+dx[i]\n",
        "      ny= y+dy[i]\n",
        "      # 범위안에 있으면\n",
        "      if 0<= nx <n and 0<= ny <m and chance <2:\n",
        "        if graph[nx][ny] == 0:\n",
        "          visited[nx][ny] = visited[x][y] + 1\n",
        "          q.append((nx,ny))\n",
        "        else :\n",
        "          chance += 1\n",
        "          visited[nx][ny] = visited[x][y] + 1\n",
        "          q.append((nx,ny))\n",
        "\n",
        "\n",
        "bfs()\n",
        "if graph[n-1][m-1] == 0:\n",
        "  print(\"-1\")\n",
        "else:\n",
        "  print(graph[n-1][m-1])"
      ],
      "metadata": {
        "id": "sZ8B0j4lEe9U"
      },
      "execution_count": null,
      "outputs": []
    },
    {
      "cell_type": "markdown",
      "source": [
        "라고 생각해서 풀었지만 오답 \n",
        "\n",
        "- 틀린이유:\n",
        "이유는 벽뚫기 검사를 할때 누적되는 값을 계속해서 사용해서 그런 것 같다... 생각하기엔.\n",
        "\n",
        "- 이후 생각하는 과정이 막혀서 다른 사람의 풀이를 참고했는데 \n",
        "https://pacific-ocean.tistory.com/348\n",
        "\n",
        "> 이렇게 삼차원 배열로 뚫었는지 혹은 안뚫었는지 검사를 하면서 가는 방법이 있었다.\n",
        "\n",
        "> bfs를 하는데 visit[x][y][i] 중 i가 0이라면 한번뚫은 상태고 1이면 아직 벽을 뚫지 못한 상태이다.\n",
        "\n",
        "> 그렇게 뚫어줄수있으면 뚫고 +1 그냥 갈수 있으면 +1 로 하는 방법을 채택한 것 같다.\n",
        "\n",
        "새롭게 접한 3차원 배열을 통한 검사 부분은 새로웠다.\n"
      ],
      "metadata": {
        "id": "91ueU74JIwKO"
      }
    },
    {
      "cell_type": "code",
      "source": [
        "import sys\n",
        "from collections import deque\n",
        "input = sys.stdin.readline\n",
        "\n",
        "# 방향벡터 설정\n",
        "dx = [1, -1, 0, 0]\n",
        "dy = [0, 0, -1, 1]\n",
        "\n",
        "# bfs\n",
        "def bfs():\n",
        "  #덱\n",
        "  q = deque()\n",
        "  # (x,y,벽뚫기가능여부)\n",
        "  q.append([0, 0, 1])\n",
        "  # 횟수 기록\n",
        "  visit = [[[0] * 2 for i in range(m)] for i in range(n)]\n",
        "  # 처음시작 초기화\n",
        "  visit[0][0][1] = 1\n",
        "  while q:\n",
        "    a, b, w = q.popleft()\n",
        "    # 원하는 x,y에 멈추면\n",
        "    if a == n - 1 and b == m - 1:\n",
        "      return visit[a][b][w]\n",
        "    # 방향벡터 확인\n",
        "    for i in range(4):\n",
        "      x = a + dx[i]\n",
        "      y = b + dy[i]\n",
        "      # 범위 안이라면\n",
        "      if 0 <= x < n and 0 <= y < m:\n",
        "        # 벽을 만났지만 벽뚫기가 아직 가능하다면\n",
        "        if graph[x][y] == 1 and w == 1:\n",
        "            visit[x][y][0] = visit[a][b][1] + 1\n",
        "            q.append([x, y, 0])\n",
        "        # 그냥 지나갈 수 있는 경우라면?\n",
        "        elif graph[x][y] == 0 and visit[x][y][w] == 0:\n",
        "            visit[x][y][w] = visit[a][b][w] + 1\n",
        "            q.append([x, y, w])\n",
        "  return -1\n",
        "\n",
        "n, m = map(int, input().split())\n",
        "graph = []\n",
        "for i in range(n):\n",
        "    graph.append(list(map(int, list(input().strip()))))\n",
        "print(bfs())"
      ],
      "metadata": {
        "id": "HR8r1_ONJl48"
      },
      "execution_count": null,
      "outputs": []
    },
    {
      "cell_type": "markdown",
      "source": [
        "1948번 임계경로\n",
        "---\n",
        "\n",
        "해당 문제는 위상정렬 문제로 싸이클이 없고 방향성이 있으며 진입차수로 접근을 하면 좋을 것 같다.\n",
        "\n",
        "------\n",
        "\n",
        "오답 원인: 문제 이해 잘못함.\n",
        "\n",
        "문제를 이해를 잘못하였다. 두사람이 뛰어가서 만나는 가장 긴 시간을 찾는 것을 푸는 문제였다. \n",
        "--> 이런것을 임계 경로라고 한다.\n",
        "\n",
        "임계경로: 전체중에서 여러 경로가 동시에 이루어 질 때 가장 오래 걸리는 경로\n",
        "\n",
        "또한 도로수를 카운트 할때 지나온 도로수를 세는것이니 \n",
        "예제를 그림을 그리게 되면 정답이\n",
        "1->2 2->6 6->7\n",
        "//1->4 4->6 6->7\n",
        "인데 6->7 은 도로가 겹치니 한번만 세주는 것이였다."
      ],
      "metadata": {
        "id": "0_hyjEidaqev"
      }
    },
    {
      "cell_type": "code",
      "source": [
        "from collections import deque\n",
        "# 도시의 개수 \n",
        "n = int(input())\n",
        "# 도로의 개수 \n",
        "m = int(input())\n",
        "\n",
        "# 진입차수\n",
        "indegree = [0]*(n+1)\n",
        "# 도로 입력\n",
        "graph= [[]*(n+1)for i in range(n+1)]\n",
        "# 돌아오면서 검사할 그래프 입력\n",
        "back_graph=[[]*(n+1)for i in range(n+1)]\n",
        "#결과\n",
        "result= [0]*(n+1)\n",
        "# 백트래킹의 visited\n",
        "check= [0] *(n+1)\n",
        "for _ in range(m):\n",
        "  a,b,t = map(int,input().split())\n",
        "  graph[a].append((b,cost))\n",
        "  back_graph[b].append((a,t))\n",
        "  # 진입 차수 1 증가\n",
        "  indegree[b] += 1\n",
        "\n",
        "# 시작점 끝점\n",
        "start , end = map(int,input().split())\n",
        "\n",
        "# 위상 정렬 진행\n",
        "def topolgy_sort():\n",
        "  q = deque()\n",
        "  # 처음 시작시작 하는 노드 삽입\n",
        "  q.append((start))\n",
        "\n",
        "  while q:\n",
        "    now = q.popleft()\n",
        "    # 해당 원소와 연결된 노드들의 진입 차수에서 1빼기\n",
        "    for i,t in graph[now]:\n",
        "      indegree[i] -= 1\n",
        "      # 비교를 해서 더 큰쪽을 넣어준다(임계 경로)\n",
        "      result[i] = max(result[i],result[now]+t)\n",
        "      # 새롭게 진입차수가 0이 되는 노드를 큐에 삽입\n",
        "      if indegree[i] == 0:\n",
        "        q.append(i)\n",
        "  # 백트래킹(갯수를 세기 위하여)\n",
        "  cnt = 0\n",
        "  q.append(end) # q는 비었으니깐 그대로 사용\n",
        "  while q: # 거꾸로 검사\n",
        "    now = q.popleft()\n",
        "    for i,t in back_graph[now]:\n",
        "      # 도착점까지의 비용에서 시작점 비용을 뺐을때 그 간선 비용과 같다면 \n",
        "      # 이 길을 지나쳐 온것이다.\n",
        "      if result[now]-result[i] == t:\n",
        "        cnt += 1\n",
        "        if check[i] == 0:# 큐에 한번씩만 담을 수 있도록 중복방문 방지\n",
        "          q.append(i)\n",
        "          check[i] =1\n",
        "  print(result[end])\n",
        "\n",
        "  print(cnt)\n",
        "\n",
        "topolopy_sort()\n"
      ],
      "metadata": {
        "id": "F07GK899bCVs"
      },
      "execution_count": null,
      "outputs": []
    }
  ]
}