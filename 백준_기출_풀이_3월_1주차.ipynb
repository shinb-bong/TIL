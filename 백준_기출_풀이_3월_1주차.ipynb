{
  "nbformat": 4,
  "nbformat_minor": 0,
  "metadata": {
    "colab": {
      "name": "백준 기출 풀이 3월 1주차.ipynb",
      "provenance": [],
      "collapsed_sections": [],
      "authorship_tag": "ABX9TyMXOJqv+pJeFcvlQNTongNt",
      "include_colab_link": true
    },
    "kernelspec": {
      "name": "python3",
      "display_name": "Python 3"
    },
    "language_info": {
      "name": "python"
    }
  },
  "cells": [
    {
      "cell_type": "markdown",
      "metadata": {
        "id": "view-in-github",
        "colab_type": "text"
      },
      "source": [
        "<a href=\"https://colab.research.google.com/github/shinb-bong/TIL/blob/main/%EB%B0%B1%EC%A4%80_%EA%B8%B0%EC%B6%9C_%ED%92%80%EC%9D%B4_3%EC%9B%94_1%EC%A3%BC%EC%B0%A8.ipynb\" target=\"_parent\"><img src=\"https://colab.research.google.com/assets/colab-badge.svg\" alt=\"Open In Colab\"/></a>"
      ]
    },
    {
      "cell_type": "markdown",
      "source": [
        "알고리즘 3월 1주차\n",
        "복습\n",
        "---\n",
        "\n",
        "상기 시키기\n",
        "\n",
        "1. 이것이 코딩 테스트다. 개념 부분 반복\n",
        "\n",
        "1초에 2,000만번의 계산을 수행하고 데이터 개수가 100만 개 인 문제가 있다면 O(NlogN) 알고리즘을 이용하여 문제를 풀어야한다.\n",
        "\n",
        "2. 최단 경로는 무한을 이용하는 경우가 많다. \n",
        "\n",
        "3. 플로이드 워셜은 3중 포문 k가 제일 윗줄\n",
        "\n",
        "4. 크루스칼 알고리즘\n",
        "\n",
        "> 간선 오름차순 정렬, 확인하면서 간선이 사이클을 발생시키는지 확인, 반복"
      ],
      "metadata": {
        "id": "38ALz249IRMe"
      }
    },
    {
      "cell_type": "markdown",
      "source": [
        "1339번 단어수학\n",
        "----\n",
        "\n",
        "그리디 알고리즘이며 가장 큰수를 만들려면 양쪽 수를 비교해 가면서 가장 앞자리에 있는 알파벳을 가장 크게 만들면된다.\n",
        "\n",
        "- 구현을 하지 못해서 참고를 하였다.\n",
        "\n",
        "- 각자리 수를 자리수별로 10의 제곱을 곱한뒤 각자 더해주고 큰 값을 가지는 것 부터 할당 해주는 방식으로 구현을 하였다.\n",
        "\n",
        "- 참고 자료: https://jokerldg.github.io/algorithm/2021/03/13/word-math.html"
      ],
      "metadata": {
        "id": "wafchtDbKcY-"
      }
    },
    {
      "cell_type": "code",
      "execution_count": null,
      "metadata": {
        "id": "7C7aDslMIA4r"
      },
      "outputs": [],
      "source": [
        "n = int(input())\n",
        "\n",
        "arr = []\n",
        "for _ in range(n):\n",
        " arr.append(input())\n",
        "\n",
        "# dict \n",
        "dict = {}\n",
        "\n",
        "# dict에 알파벳별로 값을 준다.\n",
        "for word in arr:\n",
        "  # 길이를 계산하여 넣어주기 위해 계산한다. -1을 해서 자리수를 맞춰준다.\n",
        "  square = len(word) -1\n",
        "  for c in word:\n",
        "    if c in dict: # 문자에 해당하는 값이 있는경우 더해준다.\n",
        "      dict[c] += pow(10,square) # pow는 제곱해주는 것이다.\n",
        "    else: # 없는 경우 그대로 넣어준다.\n",
        "      dict[c] = pow(10,square)\n",
        "    \n",
        "    # 제곱근을 빼준다. 왜냐하면 다음자리 숫자를 진행해야 하기때문\n",
        "    square -=1\n",
        "\n",
        "# dict 정렬\n",
        "dict = sorted(dict.values(),reverse=True)\n",
        "\n",
        "# 결과값 도출을 위한 변수 선언\n",
        "result , m = 0,9\n",
        "\n",
        "for value in dict:\n",
        "  result += value *m\n",
        "  m -= 1\n",
        "\n",
        "print(result)\n",
        "\n",
        "  "
      ]
    },
    {
      "cell_type": "markdown",
      "source": [
        "1715번 카드 정렬하기\n",
        "---\n",
        "\n",
        "식을 적어봤을때 가장 작은 두수를 계속해서 더하는게 중복을 줄여서 가장 작은 비교 횟수가 나온다. \n",
        "\n",
        "그렇다면 heapq 를 통해 빠르게 비교를 해주면서 앞에서 두개씩 꺼내면서 합쳐주고 다시 삽입하는 과정을 떠올렸다. "
      ],
      "metadata": {
        "id": "VXOTT3AHODcP"
      }
    },
    {
      "cell_type": "code",
      "source": [
        "import heapq\n",
        "n = int(input())\n",
        "\n",
        "# 카드 리스트\n",
        "cards = []\n",
        "result = 0\n",
        "for _ in range(n):\n",
        "  heapq.heappush(cards,int(input()))\n",
        "\n",
        "while len(cards) != 1:\n",
        "    num1 = heapq.heappop(cards)\n",
        "    num2 = heapq.heappop(cards)\n",
        "    sum = num1 + num2\n",
        "    result += sum\n",
        "    heapq.heappush(cards,sum)\n",
        "\n",
        "print(result)"
      ],
      "metadata": {
        "colab": {
          "base_uri": "https://localhost:8080/"
        },
        "id": "R8AKTieMO_OW",
        "outputId": "d61bfef9-215d-493e-d0c2-3591f0a78d24"
      },
      "execution_count": null,
      "outputs": [
        {
          "output_type": "stream",
          "name": "stdout",
          "text": [
            "3\n",
            "10\n",
            "20\n",
            "40\n",
            "100\n"
          ]
        }
      ]
    },
    {
      "cell_type": "markdown",
      "source": [
        "1939번 중량제한\n",
        "---\n",
        "\n",
        "찾아야하는 주어진 수가 매우 크므로 이진 탐색으로 접근을 해야할 것 같다. \n",
        "\n",
        "근데 또 문제를 읽어보면 갈 수있는 도시를 찾아야 하므로 DFS/BFS? 느낌도 나는 것 같다. \n",
        "\n",
        "다리에 대한 접근은 BFS로 하면서 찾는 결과값은 이분 탐색으로 접근해야 시간 안에 해결 할 수 있을 것 같다."
      ],
      "metadata": {
        "id": "08dcnYsvUwOH"
      }
    },
    {
      "cell_type": "code",
      "source": [
        "import sys\n",
        "from collections import deque\n",
        "input = sys.stdin.readline\n",
        "\n",
        "# 섬, 다리\n",
        "n, m = map(int,input().split())\n",
        "\n",
        "edges= [[] for _ in range(n+1)]\n",
        "# 다리 입력\n",
        "for _ in range(m):\n",
        "  a,b,wei = map(int,input().split())\n",
        "  edges[a].append((b,wei))\n",
        "  edges[b].append((a,wei))\n",
        "# 시작점과 끝점\n",
        "start, end = map(int,input().split())\n",
        "\n",
        "# 통과가 가능한 무게의 최소 최대 지정(최대값은 문제에 나와있다.)\n",
        "_min, _max = 1,1000000000\n",
        "\n",
        "# 일단 bfs를 작성해서 갈 수 있는 이어지는 도시들을 찾는다.\n",
        "def bfs(c):\n",
        "  queue = deque()\n",
        "  queue.append(start)\n",
        "\n",
        "  # 방문 테이블 작성(새로운 검사방법 아래 작성)\n",
        "  visited = set()\n",
        "  visited.add(start)\n",
        "  result = []\n",
        "\n",
        "  while queue: \n",
        "    now = queue.popleft()\n",
        "    for x,w in edges[now]:\n",
        "      # 이미 visited에 등록이 되어있다면 패쓰\n",
        "      if x not in visited and w >= c:\n",
        "        visited.add(x)\n",
        "        queue.append(x)\n",
        "\n",
        "  # 마지막 도시에 방문이 가능하면 True 아니면 False\n",
        "  return True if end in visited else False  \n",
        "\n",
        "# 결과 일단 최소\n",
        "result = _min\n",
        "# 이분 탐색 진행\n",
        "while _min <= _max:\n",
        "  mid = (_min+_max) //2\n",
        "  # 해당 무게로 end 까지 갈수 있는 경우 \n",
        "  if bfs(mid):\n",
        "  # 값 저장 및 이분 탐색 이어 진행\n",
        "    result = mid \n",
        "    _min = mid +1 \n",
        "  else:\n",
        "    _max = mid -1\n",
        "\n",
        "print(result)"
      ],
      "metadata": {
        "id": "9oxErGmpVKyU"
      },
      "execution_count": null,
      "outputs": []
    },
    {
      "cell_type": "markdown",
      "source": [
        "새로운 visited 사용법(Set 이용)\n",
        "---\n",
        "visited = set()\n",
        "\n",
        "visited.add(start)\n",
        "\n",
        "  if x not in visited \n",
        "형태로 검사도 가능하다 "
      ],
      "metadata": {
        "id": "4eFUWwoSZYfn"
      }
    },
    {
      "cell_type": "markdown",
      "source": [
        "9663번 N-Queen\n",
        "---\n",
        "\n",
        "해당 문제는 주어진 수가 적어서 완전탐색으로 풀어야 할 듯하다.\n",
        "\n",
        "또한 퀸이 움직일 수 있는 부분에 대해서 다 체크를 해주면서 구해줄려고 한다."
      ],
      "metadata": {
        "id": "uyInK6hQ6aWI"
      }
    },
    {
      "cell_type": "code",
      "source": [
        "# 체스판 크기\n",
        "n = int(input())\n",
        "\n",
        "result = 0\n",
        "row = [0]*n\n",
        "def is_okay(x):\n",
        "  for i in range(x):\n",
        "    # 같은열 or 대각선에 있는지 판별\n",
        "    if row[x] == row [i] or abs(row[x]-row[i]) == abs(x-i):\n",
        "      return False\n",
        "  \n",
        "  return True\n",
        "\n",
        "def n_queen(x):\n",
        "  global result\n",
        "\n",
        "  # 판에 놓은 말의 숫자가 명시된 숫자와 같다면 \n",
        "  if x ==n:\n",
        "    result +=1\n",
        "\n",
        "  else:\n",
        "    for i in range(n):\n",
        "      #[x,i]에 퀸을 놓겠다.\n",
        "      row[x] = i\n",
        "      if is_okay(x):\n",
        "        n_queen(x+1)\n",
        "\n",
        "n_queen(0)\n",
        "print(result)"
      ],
      "metadata": {
        "id": "G2dAureH6pBU"
      },
      "execution_count": null,
      "outputs": []
    },
    {
      "cell_type": "markdown",
      "source": [
        "2490번 윷놀이\n",
        "--- \n",
        "\n",
        "cout 함수를 사용해서 쉽게 구현이 가능했다.\n",
        "\n",
        "딱히 주어진 수도 없어서 아주 쉬운 문제였다.\n",
        "\n",
        "함수 count(?) ?표가 몇개 들어가있는지 계산해줌"
      ],
      "metadata": {
        "id": "YsNKTRUYDYuf"
      }
    },
    {
      "cell_type": "code",
      "source": [
        "for _ in range(3):\n",
        "  a =list(map(int,input().split()))\n",
        "  if a.count(0) == 1:\n",
        "      print(\"A\")\n",
        "  elif a.count(0) == 2:\n",
        "      print(\"B\")\n",
        "  elif a.count(0) == 3:\n",
        "      print(\"C\")   \n",
        "  elif a.count(0) == 4:\n",
        "      print(\"D\")\n",
        "  else:\n",
        "      print(\"E\") "
      ],
      "metadata": {
        "id": "NYgvFfjGBcFK"
      },
      "execution_count": null,
      "outputs": []
    },
    {
      "cell_type": "markdown",
      "source": [
        "2206번 벽 부수고 이동하기\n",
        "---\n",
        "\n",
        "벽을 최대 하나까지 부술 수 있으며 (1,1)에서 (N,M)으로 이동하는 최단경로를 구하는 것이다. 불가능하면 -1 \n",
        "\n",
        "해당 문제는 bfs를 통해 최단거리를 구해야 할 것 같으며 \n",
        "\n",
        "벽을 부수는게 가장 큰 다른 포인트 인 것같다.\n",
        "\n",
        "벽을 부순다는 의미는 내가 처음 생각하기엔 그 부순 벽 이후 +1 을 구해서 가장 작은 쪽으로 이동하면 되지않을까 라는 생각을 한다."
      ],
      "metadata": {
        "id": "hXhg4anjDuGR"
      }
    },
    {
      "cell_type": "code",
      "source": [
        "from collections import deque\n",
        "\n",
        "# 행x열\n",
        "n,m = map(int,input().split())\n",
        "\n",
        "graph = []\n",
        "for _ in range(n):\n",
        "  graph.append(list(map(int,input())))\n",
        "\n",
        "# 방향벡터\n",
        "dx = [-1,1,0,0]\n",
        "dy = [0,0,-1,1]\n",
        "visited = [[0]*m for _ in range(n)]\n",
        "# BFS\n",
        "def bfs():\n",
        "  q= deque()\n",
        "  q.append((0,0))\n",
        "  # 벽을 부술 수있는 기회\n",
        "  chance = 0\n",
        "  while q:\n",
        "    x,y = q.popleft()\n",
        "    for i in range(4):\n",
        "      nx= x+dx[i]\n",
        "      ny= y+dy[i]\n",
        "      # 범위안에 있으면\n",
        "      if 0<= nx <n and 0<= ny <m and chance <2:\n",
        "        if graph[nx][ny] == 0:\n",
        "          visited[nx][ny] = visited[x][y] + 1\n",
        "          q.append((nx,ny))\n",
        "        else :\n",
        "          chance += 1\n",
        "          visited[nx][ny] = visited[x][y] + 1\n",
        "          q.append((nx,ny))\n",
        "\n",
        "\n",
        "bfs()\n",
        "if graph[n-1][m-1] == 0:\n",
        "  print(\"-1\")\n",
        "else:\n",
        "  print(graph[n-1][m-1])"
      ],
      "metadata": {
        "id": "sZ8B0j4lEe9U"
      },
      "execution_count": null,
      "outputs": []
    },
    {
      "cell_type": "markdown",
      "source": [
        "라고 생각해서 풀었지만 오답 \n",
        "\n",
        "- 틀린이유:\n",
        "이유는 벽뚫기 검사를 할때 누적되는 값을 계속해서 사용해서 그런 것 같다... 생각하기엔.\n",
        "\n",
        "- 이후 생각하는 과정이 막혀서 다른 사람의 풀이를 참고했는데 \n",
        "https://pacific-ocean.tistory.com/348\n",
        "\n",
        "> 이렇게 삼차원 배열로 뚫었는지 혹은 안뚫었는지 검사를 하면서 가는 방법이 있었다.\n",
        "\n",
        "> bfs를 하는데 visit[x][y][i] 중 i가 0이라면 한번뚫은 상태고 1이면 아직 벽을 뚫지 못한 상태이다.\n",
        "\n",
        "> 그렇게 뚫어줄수있으면 뚫고 +1 그냥 갈수 있으면 +1 로 하는 방법을 채택한 것 같다.\n",
        "\n",
        "새롭게 접한 3차원 배열을 통한 검사 부분은 새로웠다.\n"
      ],
      "metadata": {
        "id": "91ueU74JIwKO"
      }
    },
    {
      "cell_type": "code",
      "source": [
        "import sys\n",
        "from collections import deque\n",
        "input = sys.stdin.readline\n",
        "\n",
        "# 방향벡터 설정\n",
        "dx = [1, -1, 0, 0]\n",
        "dy = [0, 0, -1, 1]\n",
        "\n",
        "# bfs\n",
        "def bfs():\n",
        "  #덱\n",
        "  q = deque()\n",
        "  # (x,y,벽뚫기가능여부)\n",
        "  q.append([0, 0, 1])\n",
        "  # 횟수 기록\n",
        "  visit = [[[0] * 2 for i in range(m)] for i in range(n)]\n",
        "  # 처음시작 초기화\n",
        "  visit[0][0][1] = 1\n",
        "  while q:\n",
        "    a, b, w = q.popleft()\n",
        "    # 원하는 x,y에 멈추면\n",
        "    if a == n - 1 and b == m - 1:\n",
        "      return visit[a][b][w]\n",
        "    # 방향벡터 확인\n",
        "    for i in range(4):\n",
        "      x = a + dx[i]\n",
        "      y = b + dy[i]\n",
        "      # 범위 안이라면\n",
        "      if 0 <= x < n and 0 <= y < m:\n",
        "        # 벽을 만났지만 벽뚫기가 아직 가능하다면\n",
        "        if graph[x][y] == 1 and w == 1:\n",
        "            visit[x][y][0] = visit[a][b][1] + 1\n",
        "            q.append([x, y, 0])\n",
        "        # 그냥 지나갈 수 있는 경우라면?\n",
        "        elif graph[x][y] == 0 and visit[x][y][w] == 0:\n",
        "            visit[x][y][w] = visit[a][b][w] + 1\n",
        "            q.append([x, y, w])\n",
        "  return -1\n",
        "\n",
        "n, m = map(int, input().split())\n",
        "graph = []\n",
        "for i in range(n):\n",
        "    graph.append(list(map(int, list(input().strip()))))\n",
        "print(bfs())"
      ],
      "metadata": {
        "id": "HR8r1_ONJl48"
      },
      "execution_count": null,
      "outputs": []
    },
    {
      "cell_type": "markdown",
      "source": [
        "1948번 임계경로\n",
        "---\n",
        "\n",
        "해당 문제는 위상정렬 문제로 싸이클이 없고 방향성이 있으며 진입차수로 접근을 하면 좋을 것 같다.\n",
        "\n",
        "------\n",
        "\n",
        "오답 원인: 문제 이해 잘못함.\n",
        "\n",
        "문제를 이해를 잘못하였다. 두사람이 뛰어가서 만나는 가장 긴 시간을 찾는 것을 푸는 문제였다. \n",
        "--> 이런것을 임계 경로라고 한다.\n",
        "\n",
        "임계경로: 전체중에서 여러 경로가 동시에 이루어 질 때 가장 오래 걸리는 경로\n",
        "\n",
        "또한 도로수를 카운트 할때 지나온 도로수를 세는것이니 \n",
        "예제를 그림을 그리게 되면 정답이\n",
        "1->2 2->6 6->7\n",
        "//1->4 4->6 6->7\n",
        "인데 6->7 은 도로가 겹치니 한번만 세주는 것이였다."
      ],
      "metadata": {
        "id": "0_hyjEidaqev"
      }
    },
    {
      "cell_type": "code",
      "source": [
        "from collections import deque\n",
        "# 도시의 개수 \n",
        "n = int(input())\n",
        "# 도로의 개수 \n",
        "m = int(input())\n",
        "\n",
        "# 진입차수\n",
        "indegree = [0]*(n+1)\n",
        "# 도로 입력\n",
        "graph= [[]*(n+1)for i in range(n+1)]\n",
        "# 돌아오면서 검사할 그래프 입력\n",
        "back_graph=[[]*(n+1)for i in range(n+1)]\n",
        "#결과\n",
        "result= [0]*(n+1)\n",
        "# 백트래킹의 visited\n",
        "check= [0] *(n+1)\n",
        "for _ in range(m):\n",
        "  a,b,t = map(int,input().split())\n",
        "  graph[a].append((b,cost))\n",
        "  back_graph[b].append((a,t))\n",
        "  # 진입 차수 1 증가\n",
        "  indegree[b] += 1\n",
        "\n",
        "# 시작점 끝점\n",
        "start , end = map(int,input().split())\n",
        "\n",
        "# 위상 정렬 진행\n",
        "def topolgy_sort():\n",
        "  q = deque()\n",
        "  # 처음 시작시작 하는 노드 삽입\n",
        "  q.append((start))\n",
        "\n",
        "  while q:\n",
        "    now = q.popleft()\n",
        "    # 해당 원소와 연결된 노드들의 진입 차수에서 1빼기\n",
        "    for i,t in graph[now]:\n",
        "      indegree[i] -= 1\n",
        "      # 비교를 해서 더 큰쪽을 넣어준다(임계 경로)\n",
        "      result[i] = max(result[i],result[now]+t)\n",
        "      # 새롭게 진입차수가 0이 되는 노드를 큐에 삽입\n",
        "      if indegree[i] == 0:\n",
        "        q.append(i)\n",
        "  # 백트래킹(갯수를 세기 위하여)\n",
        "  cnt = 0\n",
        "  q.append(end) # q는 비었으니깐 그대로 사용\n",
        "  while q: # 거꾸로 검사\n",
        "    now = q.popleft()\n",
        "    for i,t in back_graph[now]:\n",
        "      # 도착점까지의 비용에서 시작점 비용을 뺐을때 그 간선 비용과 같다면 \n",
        "      # 이 길을 지나쳐 온것이다.\n",
        "      if result[now]-result[i] == t:\n",
        "        cnt += 1\n",
        "        if check[i] == 0:# 큐에 한번씩만 담을 수 있도록 중복방문 방지\n",
        "          q.append(i)\n",
        "          check[i] =1\n",
        "  print(result[end])\n",
        "\n",
        "  print(cnt)\n",
        "\n",
        "topolopy_sort()\n"
      ],
      "metadata": {
        "id": "F07GK899bCVs"
      },
      "execution_count": null,
      "outputs": []
    },
    {
      "cell_type": "markdown",
      "source": [
        "2169번 로봇 조종하기\n",
        "---\n",
        "\n",
        "로봇은 움직일때 위쪽으로 이동이 불가하고 한번 지나간 칸은 탐사를 하지 못한다 라는 포인트 \n",
        "\n",
        "그래서 처음 방향벡터를 위쪽으로 가는 법을 없애고 bfs로 접근을 하였다.\n",
        "\n",
        "하지만 시간초과가 뜬다. 들어가는 수가 너무 큰게 문제 인것 같다. \n",
        "\n",
        "다른 해결 방안을 찾아야할 것 같다.\n"
      ],
      "metadata": {
        "id": "61aKaGXM1lra"
      }
    },
    {
      "cell_type": "code",
      "source": [
        "from collections import deque\n",
        "\n",
        "# 가로 세로\n",
        "n,m = map(int,input().split())\n",
        "\n",
        "# 위쪽은 이동이 불가한 방향 벡터\n",
        "dx = [0,0,-1]\n",
        "dy = [-1,1,0]\n",
        "\n",
        "# 가장 큰 값을 기록해 가면서 갱신\n",
        "cost = [[]*m for _ in range(n)]\n",
        "\n",
        "# graph 입력받기\n",
        "graph = []\n",
        "for _ in range(n):\n",
        "  graph.append(list(map(int,input().split())))\n",
        "\n",
        "def bfs():\n",
        "  q = deque()\n",
        "  q.append([0,0])\n",
        "  cost[0][0] = graph[0][0]\n",
        "  while q:\n",
        "    # 현재 있는 칸\n",
        "    x,y = q.popleft()\n",
        "    for i in range(3):\n",
        "      nx = x +dx[i]\n",
        "      ny = y+ dy[i]\n",
        "      if 0<=nx<n and 0<= ny <m:\n",
        "        if cost[nx][ny] is None:\n",
        "          cost[nx][ny] = cost[x][y] + graph[x][y]\n",
        "        else:\n",
        "          cost[nx][ny] = max(cost[nx][ny],cost[x][y] + graph[x][y])\n",
        "  print(cost[n-1][m-1])\n",
        "\n",
        "bfs()"
      ],
      "metadata": {
        "id": "Fa87Cleh17vo"
      },
      "execution_count": null,
      "outputs": []
    },
    {
      "cell_type": "markdown",
      "source": [
        "다른 풀이 방법을 고민 하던중 그림을 그려 생각을 조금 해보았다. \n",
        "\n",
        "첫번째 행에 속한 dp[i][j]는 무조건 왼쪽에서 시작해서 내려온 값이다. \n",
        "\n",
        "그러면 그렇게 내려온 값을 왼쪽으로 가는게 이득일지 오른쪽으로 가는게 이득일지 판단하면 되는 일이다.\n",
        "\n",
        "**실패요인**은 너무 방향백터에 한정짓고 문제를 푼 것 같다.\n",
        "\n",
        "참고는 https://velog.io/@dltlsgh5/Algorithm%EB%B0%B1%EC%A4%802169-%EB%A1%9C%EB%B4%87-%EC%A1%B0%EC%A2%85%ED%95%98%EA%B8%B0-7ak5l4ar5h\n",
        "\n",
        "그래서 코드를 한번 짜보았다.\n",
        "\n",
        "또한 다른 예에서는 3차원 배열을 통해서 풀이를 하였었다. 3차원 배열은 조금 더 연습이 필요할 것 같다..."
      ],
      "metadata": {
        "id": "Nwb70dR35nrk"
      }
    },
    {
      "cell_type": "code",
      "source": [
        "# 가장 작은수를 설정하기위한 최대수\n",
        "INF = int(1e9)\n",
        "\n",
        "# 행,열\n",
        "n,m = map(int,input().split())\n",
        "\n",
        "# 그래프\n",
        "graph = []\n",
        "for _ in range(n):\n",
        "  graph.append(list(map(int,input().split())))\n",
        "\n",
        "# dp테이블\n",
        "dp = [[-INF]*m for _ in range(n)]\n",
        "\n",
        "# 좌에서 오는 경우, 우에서 오는 경우 비교를 위한 기록\n",
        "left =[[-INF]*m for _ in range(n)]\n",
        "right = [[-INF]*m for _ in range(n)]\n",
        "\n",
        "# 첫줄(1,1) 에서 시작하는 경우 작업 처리\n",
        "dp[0][0] = graph[0][0]\n",
        "c = 0 \n",
        "for j in range(1,m):\n",
        "  # 오른쪽으로 이동하면서 더해주기-> 1,1에서 시작하니깐\n",
        "  dp[0][j] = dp[0][j-1]+ graph[0][j]\n",
        "\n",
        "for i in range(1,n):\n",
        "  # 왼쪽에서 오른쪽 진행\n",
        "  # 왼쪽 0 번째 초기화\n",
        "  left[i][0] = dp[i-1][0]+graph[i][0]\n",
        "  # 0번째는 정의를 해줬으니 인덱스 1부터 마지막까지 진행\n",
        "  for j in range(1,m):\n",
        "    # 위에서 내려왔을 경우와 옆에서 왔을 경우 비교\n",
        "    left[i][j]= max(dp[i-1][j]+graph[i][j],left[i][j-1]+graph[i][j])\n",
        "  \n",
        "  # 같은 방식으로 오른쪽도 진행\n",
        "  # 오른쪽 맨끝 초기화\n",
        "  right[i][m-1] = dp[i-1][m-1]+ graph[i][m-1]\n",
        "  # 오른쪽 맨끝 두번째에서 처음까지 거꾸로 진행\n",
        "  for j in range(m-2,-1,-1):\n",
        "    right[i][j]= max(dp[i-1][j]+graph[i][j],right[i][j+1]+graph[i][j])\n",
        "  \n",
        "  # right와 left중 큰값 \n",
        "  for j in range(m):\n",
        "    dp[i][j] = max(right[i][j],left[i][j])\n",
        "  \n",
        "print(dp[n-1][m-1])\n",
        "  \n"
      ],
      "metadata": {
        "id": "pCoJEu7K69JE"
      },
      "execution_count": null,
      "outputs": []
    },
    {
      "cell_type": "markdown",
      "source": [
        "갑자기 헷갈린 인덱스 범위 테스트"
      ],
      "metadata": {
        "id": "FKglwHtt_vfb"
      }
    },
    {
      "cell_type": "code",
      "source": [
        "arr = [1,2,3,4,5]\n",
        "for i in range(5,-1,-1):\n",
        "  print(i)\n",
        "print(arr[3:-1])"
      ],
      "metadata": {
        "colab": {
          "base_uri": "https://localhost:8080/"
        },
        "id": "c1EcvlIL-Pjt",
        "outputId": "49fbbc3c-86fa-4c18-86c4-171c335fc821"
      },
      "execution_count": null,
      "outputs": [
        {
          "output_type": "stream",
          "name": "stdout",
          "text": [
            "5\n",
            "4\n",
            "3\n",
            "2\n",
            "1\n",
            "0\n",
            "[4]\n"
          ]
        }
      ]
    },
    {
      "cell_type": "markdown",
      "source": [
        "1449번 수리공 항승\n",
        "---\n",
        "\n",
        "해당 문제는 정렬을 진행해서 끝점을 지정해 준뒤 그거에 넘칠때 아니면 속해 있을때에 대한 코드를 작성하여 진행하였다."
      ],
      "metadata": {
        "id": "byir0nwu_ze6"
      }
    },
    {
      "cell_type": "code",
      "source": [
        "# 물이 새는 곳, 테이프 길이\n",
        "n ,l = map(int,input().split())\n",
        "\n",
        "# 물이 새는 곳 \n",
        "water = list(map(int,input().split()))\n",
        "\n",
        "# 오름 차순 정렬\n",
        "water.sort()\n",
        "\n",
        "num = 1\n",
        "start = water[0]\n",
        "# 끝점 지정\n",
        "end = start + l -0.5\n",
        "\n",
        "# 검사\n",
        "for i in water:\n",
        "  if end > i:\n",
        "    continue\n",
        "  else:\n",
        "    num += 1\n",
        "    end = i + l -0.5\n",
        "\n",
        "print(num)"
      ],
      "metadata": {
        "id": "4rBmvS-YBGWa"
      },
      "execution_count": null,
      "outputs": []
    },
    {
      "cell_type": "markdown",
      "source": [
        "14838 서강 그라운드 \n",
        "-----\n",
        "\n",
        "양방향 비용 있고 최대 비용을 구하는 문제\n",
        "최대로 갈 수 있는 길을 알아내고 비용을 더해주면 될것 같음\n",
        "다익스트라 알고리즘 + cost 더해주면서 계산 해도 될것 같다.\n",
        "\n",
        "+ 문제를 읽어보다가 생각보다 주어진 수가 크지 않다는 것을 보고\n",
        "다익스트라를 이용하지 않고 플로이드 와샬로 진행할 예정\n",
        "\n"
      ],
      "metadata": {
        "id": "_96vkTlDLTGt"
      }
    },
    {
      "cell_type": "code",
      "source": [
        "INF = int(1e9)\n",
        "# 지역수, 수색범위, 도로\n",
        "n, m , r = map(int,input().split())\n",
        "\n",
        "# 0번 제외\n",
        "items = [0]+list(map(int,input().split()))\n",
        "\n",
        "road = [[INF]*(n+1) for _ in range(n+1)]\n",
        "result = 0\n",
        "# 도로 입력\n",
        "for i in range(r):\n",
        "  a,b, cost = map(int,input().split())\n",
        "  road[a][b]= cost\n",
        "  road[b][a]= cost\n",
        "\n",
        "# 플로이드 워샬\n",
        "for k in range(1,n+1):\n",
        "  for i in range(1,n+1):\n",
        "    for j in range(1,n+1):\n",
        "      road[i][j] = min(road[i][j],road[i][k]+road[k][j])\n",
        "      if i == j:\n",
        "        road[i][j] =0\n",
        "\n",
        "for i in range(1,n+1):\n",
        "  # 비교할 대상\n",
        "  temp= 0\n",
        "  # 한줄씩 확인\n",
        "  for j in range(1,n+1):\n",
        "    if road[i][j] <= m:\n",
        "      temp += items[j]\n",
        "\n",
        "  result = max(result,temp)\n",
        "\n",
        "print(result)"
      ],
      "metadata": {
        "id": "jvCYSEGQLenM"
      },
      "execution_count": null,
      "outputs": []
    },
    {
      "cell_type": "markdown",
      "source": [
        "18223번 민준이와 마산 그리고 건우\n",
        "-----\n",
        "\n",
        "포인트: 양방향,최단 경로를 구한다. 가는길에 건우가 있으면 구해서 SAVE HIM\n",
        "\n",
        "주어진 수가 크기 때문에 플로이드 워샬 불가능 해서 다익스트라 알고리즘으로 접근\n",
        "\n",
        "마지막에 다익스트라를 쌩으로 썼을때 하고 거친걸 서로 합을 했을 때 같게 된다면 데려가도 된다라는 의미로 생각을 했다."
      ],
      "metadata": {
        "id": "g2zHVfKzVdw9"
      }
    },
    {
      "cell_type": "code",
      "source": [
        "import heapq,sys\n",
        "input = sys.stdin.readline\n",
        "INF = int(1e9)\n",
        "# 정점, 간선, 건우의 위치\n",
        "v,e,p = map(int,input().split())\n",
        "\n",
        "# 간선 정보 입력\n",
        "graph = [[]for _ in range(v+1)]\n",
        "for _ in range(e):\n",
        "  a,b,cost = map(int,input().split())\n",
        "  graph[a].append((b,cost))\n",
        "  graph[b].append((a,cost))\n",
        "\n",
        "# 다익스트라 \n",
        "def dijkstra(start,end):\n",
        "  distance = [INF]*(v+1)\n",
        "  q=[]\n",
        "  heapq.heappush(q,(0,start))\n",
        "  distance[start] = 0\n",
        "  while q:\n",
        "    dist,now = heapq.heappop(q)\n",
        "    for i,wei in graph[now]:\n",
        "      if wei+dist<distance[i]:\n",
        "        distance[i]= wei +dist\n",
        "        heapq.heappush(q,(distance[i],i))\n",
        "  # 마지막 거리 반환\n",
        "  return distance[end]\n",
        "       \n",
        "# 건우를 데려갈 수있는가 만약 거쳐서 가도 최단거리가 같다면 데려간다.\n",
        "if dijkstra(1,v) == dijkstra(1,p)+dijkstra(p,v):\n",
        "  print(\"SAVE HIM\")\n",
        "else: \n",
        "  print(\"GOOD BYE\")\n"
      ],
      "metadata": {
        "id": "_ewo-K0TMDgZ"
      },
      "execution_count": null,
      "outputs": []
    },
    {
      "cell_type": "markdown",
      "source": [
        "14888번 연산자 끼워넣기\n",
        "---\n",
        "첫째줄에 숫자 개수 \n",
        "둘째줄에 숫자\n",
        "셋째줄에 각 연산 횟수 해서 최대 최소 구하는 문제이다.\n",
        "\n",
        "재귀함수를 이용해서 접근을 해보았다. 피보나치처럼 하나씩 줄여가면서 마지막에 도달할때 까지 계산을 해주면 되지 않을까라는 생각이 들었다. 주어진 수엔 중요한 제한이 없었다--> 완전탐색이 가능\n"
      ],
      "metadata": {
        "id": "a8lZ5XeRfxR1"
      }
    },
    {
      "cell_type": "code",
      "source": [
        "def cal(cnt,result,add,sub,mul,div):\n",
        "  global max_num, min_num\n",
        "  # 탈출\n",
        "  # 수를 다쓰면\n",
        "  if cnt == n : \n",
        "    max_num = max(max_num,result)\n",
        "    min_num = min(min_num,result)\n",
        "    return\n",
        "  if add >0:\n",
        "    cal(cnt + 1, result + numbers[cnt], add-1, sub, mul, div)\n",
        "  if sub >0:\n",
        "    cal(cnt + 1, result - numbers[cnt], add, sub-1, mul, div)\n",
        "  if mul >0:\n",
        "    cal(cnt + 1, result * numbers[cnt], add, sub, mul-1, div)\n",
        "  if div > 0:\n",
        "    if result < 0:\n",
        "      cal(cnt + 1, -((-result) // (numbers[cnt])),add, sub, mul, div-1)\n",
        "    else:\n",
        "      cal(cnt+1, result // numbers[cnt] , add, sub, mul, div-1)\n",
        "\n",
        "\n",
        "INF = int(1e9)\n",
        "n = int(input())\n",
        "\n",
        "# 수입력\n",
        "numbers = list(map(int,input().split()))\n",
        "\n",
        "# 연산입력\n",
        "add,sub,mul,div = map(int,input().split())\n",
        "# 최대 최소\n",
        "max_num = -INF\n",
        "min_num = INF\n",
        "#재귀함수시행\n",
        "cal(1,numbers[0],add, sub, mul, div)\n",
        "print(max_num)\n",
        "print(min_num)\n"
      ],
      "metadata": {
        "id": "irA7iJqZfwsm"
      },
      "execution_count": null,
      "outputs": []
    }
  ]
}