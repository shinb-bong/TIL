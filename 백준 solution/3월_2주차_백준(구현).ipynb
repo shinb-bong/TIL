{
  "cells": [
    {
      "cell_type": "markdown",
      "metadata": {
        "colab_type": "text",
        "id": "view-in-github"
      },
      "source": [
        "<a href=\"https://colab.research.google.com/github/shinb-bong/TIL/blob/main/3%EC%9B%94_2%EC%A3%BC%EC%B0%A8_%EB%B0%B1%EC%A4%80(%EA%B5%AC%ED%98%84).ipynb\" target=\"_parent\"><img src=\"https://colab.research.google.com/assets/colab-badge.svg\" alt=\"Open In Colab\"/></a>"
      ]
    },
    {
      "cell_type": "markdown",
      "metadata": {
        "id": "nhWPtofgjPLZ"
      },
      "source": [
        "해당 주는 SQLD 자격증 시험 있었음\n",
        "=> 해당 공부에 투자 많이함"
      ]
    },
    {
      "cell_type": "markdown",
      "metadata": {
        "id": "zrV0RA6zjijY"
      },
      "source": [
        "구현 부분이 조금 약한것 같아서 구현 부분을 조금 더 다뤄볼까 한다.\n",
        "\n",
        "2941번 크로티아 알파벳\n",
        "---\n",
        "\n",
        "예제를 보면 ljes=njak 는 lj/e/s=/nj/a/k 총 6개가 나오는 것이다. \n",
        "\n",
        "그리고 표에 해당 글자가 있는데 양이 많지 않으니 단어별로 확인을 해서 한 단어로 치환을 해주면 어떨까? 라는 생각을 하게 되었다.\n",
        "\n"
      ]
    },
    {
      "cell_type": "code",
      "execution_count": null,
      "metadata": {
        "colab": {
          "base_uri": "https://localhost:8080/"
        },
        "id": "lDIPl3I-jNUG",
        "outputId": "0c306a2d-4e29-4d63-d05c-1df32d3a4699"
      },
      "outputs": [
        {
          "name": "stdout",
          "output_type": "stream",
          "text": [
            "ljes=njak\n",
            "6\n"
          ]
        }
      ],
      "source": [
        "# 치환되는 문자열\n",
        "lst = ['c=','c-','dz=','d-','lj','nj','s=','z=']\n",
        "\n",
        "word = input()\n",
        "\n",
        "# 모두 찾아본다.\n",
        "for match in lst:\n",
        "  # 일치하는 것이 있으면 한단어로 줄여준다.\n",
        "  word= word.replace(match,'1')\n",
        "\n",
        "print(len(word))\n"
      ]
    },
    {
      "cell_type": "markdown",
      "metadata": {
        "id": "kkLh0PPnlcmN"
      },
      "source": [
        "8958번 OX 퀴즈\n",
        "---\n",
        "\n",
        "연속되는 수만큼 점수를 더 받는다. \n",
        "\n",
        "결과, 늘어나는 점수 변수 두개를 선언해주고 늘어나는 점수가 만약 X를 만나면 1로 다시 초기화 시켜주는 방법을 시켜줬다."
      ]
    },
    {
      "cell_type": "code",
      "execution_count": null,
      "metadata": {
        "id": "scwOB30Nl-7I"
      },
      "outputs": [],
      "source": [
        "tc = int(input())\n",
        "\n",
        "for _ in range(tc):\n",
        "  # 받아와서 리스트 넣어주기\n",
        "  arr= list(input())\n",
        "\n",
        "  # 증가하는 점수\n",
        "  count = 1\n",
        "  # 결과\n",
        "  result = 0\n",
        "  for i in arr:\n",
        "    if i =='O':\n",
        "      result +=count\n",
        "      count +=1\n",
        "    else:\n",
        "      count = 1\n",
        "  print(result)"
      ]
    },
    {
      "cell_type": "markdown",
      "metadata": {
        "id": "TRVmxdt4oH4v"
      },
      "source": [
        "2675번 문자열 반복\n",
        "---\n",
        "\n",
        "해당 숫자만큼 반복해주는 구현 문제인 것 같다. \n",
        "\n",
        "구현 문제는 풀면서 느끼는 건데 메소드를 몰라서 틀리면 너무 암울한데 또 너무 높은 정답률에선 쉽게 푸는거 같다."
      ]
    },
    {
      "cell_type": "code",
      "execution_count": null,
      "metadata": {
        "colab": {
          "base_uri": "https://localhost:8080/"
        },
        "id": "a2FSKaVPofDC",
        "outputId": "bde56429-20e8-4373-8f19-9fbc3daffcde"
      },
      "outputs": [
        {
          "name": "stdout",
          "output_type": "stream",
          "text": [
            "2\n",
            "3 ABC\n",
            "AAABBBCCC5 /HTP\n",
            "/////HHHHHTTTTTPPPPP"
          ]
        }
      ],
      "source": [
        "n = int(input())\n",
        "\n",
        "for _ in range(n):\n",
        "  a,b = input().split()\n",
        "  text= \"\"\n",
        "  for i in b:\n",
        "    text += int(a)* i\n",
        "  print(text)"
      ]
    },
    {
      "cell_type": "markdown",
      "metadata": {
        "id": "YAyqap7LpmP4"
      },
      "source": [
        "14500번 테트로미노(중요)\n",
        "---\n",
        "\n",
        "완전 탐색으로 해당 블럭들을 구성해준뒤 모두 구해주는 방향으로 생각을 하고 있다.\n",
        "\n",
        "N,M도 500 500으로 가능 할 것 같다고 보이며 수를 입력해서 하나씩 대보는 방식으로 구현을 생각해 보았다.\n",
        "----\n",
        "\n"
      ]
    },
    {
      "cell_type": "code",
      "execution_count": null,
      "metadata": {
        "id": "Es_8Kg7NsvdZ"
      },
      "outputs": [],
      "source": [
        "# 생각했던 방법과 일치하는 코드\n",
        "\n",
        "n, m = map(int, input().split())\n",
        "board = [list(map(int, input().split())) for _ in range(n)]\n",
        "tetromino = [\n",
        "    [(0,0), (0,1), (1,0), (1,1)], # ㅁ\n",
        "    [(0,0), (0,1), (0,2), (0,3)], # ㅡ\n",
        "    [(0,0), (1,0), (2,0), (3,0)], # ㅣ\n",
        "    [(0,0), (0,1), (0,2), (1,0)], \n",
        "    [(1,0), (1,1), (1,2), (0,2)],\n",
        "    [(0,0), (1,0), (1,1), (1,2)], # ㄴ\n",
        "    [(0,0), (0,1), (0,2), (1,2)], # ㄱ\n",
        "    [(0,0), (1,0), (2,0), (2,1)],\n",
        "    [(2,0), (2,1), (1,1), (0,1)],\n",
        "    [(0,0), (0,1), (1,0), (2,0)], \n",
        "    [(0,0), (0,1), (1,1), (2,1)],\n",
        "    [(0,0), (0,1), (0,2), (1,1)], # ㅜ\n",
        "    [(1,0), (1,1), (1,2), (0,1)], # ㅗ\n",
        "    [(0,0), (1,0), (2,0), (1,1)], # ㅏ\n",
        "    [(1,0), (0,1), (1,1), (2,1)], # ㅓ\n",
        "    [(1,0), (2,0), (0,1), (1,1)],\n",
        "    [(0,0), (1,0), (1,1), (2,1)],\n",
        "    [(1,0), (0,1), (1,1), (0,2)],\n",
        "    [(0,0), (0,1), (1,1), (1,2)]\n",
        "]\n",
        "\n",
        "def find(x, y):\n",
        "    global answer\n",
        "    for i in range(19):\n",
        "        result = 0\n",
        "        for j in range(4):\n",
        "            try:\n",
        "                next_x = x+tetromino[i][j][0] # x 좌표\n",
        "                next_y = y+tetromino[i][j][1] # y 좌표\n",
        "                result += board[next_x][next_y]\n",
        "            except IndexError:\n",
        "                continue\n",
        "        answer = max(answer, result)\n",
        "        \n",
        "def solve():\n",
        "    for i in range (n):\n",
        "        for j in range(m):\n",
        "            find(i, j)\n",
        "            \n",
        "answer = 0\n",
        "solve()\n",
        "print(answer)\n",
        "\n",
        "출처: https://jeongchul.tistory.com/670 [Jeongchul]"
      ]
    },
    {
      "cell_type": "markdown",
      "metadata": {
        "id": "YYQviWT9s2wi"
      },
      "source": [
        "이 풀이 말고 다른 풀이가 있을까해서 보다가\n",
        "https://cijbest.tistory.com/87 링크의 풀이를 보게 되었다.\n",
        "\n",
        "그림을 그려보면\n",
        "\n",
        "회전, 대치를 통해 만들수 있는 도형(1)이 있고 ( 해당 말은 그냥 dfs로 4개가 될때까지 이어주면 어떻게든 4개짜리 도형이 만들어 진다는 뜻)\n",
        "\n",
        "하지만 안되는 유일한 도형이 있다. ㅗ\n",
        "\n",
        "아니면 가운데를 중심으로 확인해 주는 도형이 있다(2). 가 핵심인 것 같고 해당 문제는 dfs로 접근을 하였다."
      ]
    },
    {
      "cell_type": "code",
      "execution_count": null,
      "metadata": {
        "id": "CRJ7BCsKqsGc"
      },
      "outputs": [],
      "source": [
        "import sys\n",
        "input = sys.stdin.readline\n",
        "\n",
        "# 상하 좌우\n",
        "dx=[-1,-1,0,0]\n",
        "dy=[0,0,1,-1]\n",
        "# N,M 입력 받기\n",
        "N,M = map(int,input().split())\n",
        "\n",
        "# 그래프 받아오기\n",
        "graph = []\n",
        "for _ in range(N):\n",
        "  graph.append(list(map(int,input().split())))\n",
        "\n",
        "# 방문여부\n",
        "visited=[[False]*M for _ in range(N)]\n",
        "\n",
        "# 최댓값 \n",
        "result = 0\n",
        "\n",
        "# ㅗ,ㅜ,ㅓ,ㅏ 를 제외한 모델(1)\n",
        "\n",
        "def dfs(i,j,dsum,cnt):\n",
        "  global result \n",
        "  # 모양이 완성 되었을때 최대값 계산\n",
        "  if cnt == 4 :\n",
        "    result = max(result,dsum)\n",
        "    return \n",
        "  \n",
        "  # 상 하 좌 우 이동\n",
        "  for n in range(4):\n",
        "    nx = i + dx[i]\n",
        "    ny = i + dy[i]\n",
        "    if 0<= nx< N and 0<=ny <M and not visited[nx][ny]:\n",
        "      # 방문 표시를 해주고 확인을 한뒤 제거\n",
        "      # 이 방법은 dfs를 활용해서 모든 가능한 경우의 수 탐색할 때 자주 나오는 패턴이다.\n",
        "      # 유심히 숙지하자.\n",
        "      visited[nx][ny] = True\n",
        "      # 탐색해주고\n",
        "      dfs(nx,ny,dsum+graph[nx][ny],cnt+1)\n",
        "      # 다시 원상복구\n",
        "      visited[nx][ny] = False\n",
        "\n",
        "# ㅗ,ㅜ,ㅓ,ㅏ 모양의 최댓값 계산\n",
        "def exce(i,j):\n",
        "  global result\n",
        "  for n in range(4):\n",
        "    # 초기값은 시작지점의 값으로 지정\n",
        "    tmp = graph[i][j]\n",
        "    for k in range(3):\n",
        "      # move 배열을 3개씩 사용할 수 있도록 인덱스 계산\n",
        "      # 012,123,230,301\n",
        "      t = (n+k)%4\n",
        "      nx = i + dx[t]\n",
        "      ny = j + dy[t]\n",
        "\n",
        "      if not(0<= nx <n and 0<= ny<m):\n",
        "        tmp = 0\n",
        "      tmp += graph[nx][ny]\n",
        "    # 최대 값 계산\n",
        "    result = max(result,tmp)\n",
        "\n",
        "# 완전탐색\n",
        "for i in range(n):\n",
        "  for j in range(m):\n",
        "    # 시작점 visited 표시\n",
        "    visited[i][j] = True\n",
        "    dfs(i,j,graph[i][j],1)\n",
        "    visited[i][j] = False\n",
        "\n",
        "    exce(i,j)\n",
        "\n",
        "print(result)\n"
      ]
    },
    {
      "cell_type": "markdown",
      "metadata": {
        "id": "QOzfghXfdr_L"
      },
      "source": [
        "1924 2007년\n",
        "---\n",
        "\n",
        "구현 문제이다. 2007년 x월 y일은 무슨 요일인지 맞추는 문제이다.\n",
        "\n",
        "월을 더해주고 일을 더해준뒤 7로 나누어서 나머지에 대한 요일을 출력해주었다."
      ]
    },
    {
      "cell_type": "code",
      "execution_count": null,
      "metadata": {
        "id": "YIyIWRjUxjsa"
      },
      "outputs": [],
      "source": [
        "arr= [31, 28, 31, 30, 31, 30, 31, 31, 30, 31, 30, 31]\n",
        "week = [\"SUN\", \"MON\",\"TUE\", \"WED\", \"THU\", \"FRI\", \"SAT\"]\n",
        "\n",
        "day = 0\n",
        "x, y = map(int,input().split())\n",
        "\n",
        "for i in range(x-1):\n",
        "  day += arr[i] # 월을 일로 치환하는 법\n",
        "\n",
        "day = (day+y) % 7 # 나머지 일을 더해준 후 요일로 나눔\n",
        "print(week[day])\n"
      ]
    },
    {
      "cell_type": "markdown",
      "metadata": {
        "id": "K8kVLOu4jv5s"
      },
      "source": [
        "뭔가 라이브러리로 해당 문제를 풀 수있는 방법이 있을 것 같아 calender이라는 라이브러리를 검색해서 찾아냈다."
      ]
    },
    {
      "cell_type": "code",
      "execution_count": null,
      "metadata": {
        "id": "lsapNmDcjVwW"
      },
      "outputs": [],
      "source": [
        "# 혹은 calender 사용\n",
        "import calendar\n",
        "\n",
        "arrList = [\"MON\", \"TUE\", \"WED\", \"THU\", \"FRI\", \"SAT\", \"SUN\"]\n",
        "x, y = map(int,input().split())\n",
        "\n",
        "Day = calendar.weekday(2007, x, y)\n",
        "print(arrList[Day])"
      ]
    },
    {
      "cell_type": "markdown",
      "metadata": {
        "id": "P0k9kO4cfHox"
      },
      "source": [
        "1475 방번호\n",
        "---\n",
        "\n",
        "구현 문제이고 6,9를 같은 걸로 같이 쓸수 있는 문제이다. \n",
        "\n",
        "쉽게 그냥 9로 나올때랑 6으로 나올때 같은 곳에 값을 저장해주고 나눠주면된다."
      ]
    },
    {
      "cell_type": "code",
      "execution_count": null,
      "metadata": {
        "colab": {
          "base_uri": "https://localhost:8080/"
        },
        "id": "N7KAvJqngo9H",
        "outputId": "2ae5468c-bd33-4073-94da-26ed654b5b22"
      },
      "outputs": [
        {
          "name": "stdout",
          "output_type": "stream",
          "text": [
            "9999\n",
            "2\n"
          ]
        }
      ],
      "source": [
        "n = list(input())\n",
        "\n",
        "a = {'0':0, '1':0, '2':0, '3':0, '4':0, '5':0, '6':0, '7':0, '8':0}\n",
        "\n",
        "for i in range(len(n)):\n",
        "  if n[i] in ['6', '9']:\n",
        "    a['6'] +=1\n",
        "  else:\n",
        "    a[n[i]] +=1   \n",
        "if a['6'] % 2 == 0:\n",
        "    a['6'] = a['6'] // 2\n",
        "else:\n",
        "    a['6'] = a['6'] // 2 + 1\n",
        "print(max(a.values()))\n",
        "  "
      ]
    },
    {
      "cell_type": "markdown",
      "metadata": {
        "id": "O5GuW0k_jtx9"
      },
      "source": [
        "15686 치킨배달 \n",
        "---\n",
        "\n",
        "도시의 치킨 거리는 모든 집의 치킨 거리의 합\n",
        "abs(r1-r2) + abs(c1-c2)\n",
        "\n",
        "또한 모든 치킨집과의 조합을 봐도 무방한 주어진 수이다. 제한 시간안에 할 수 있다.\n",
        "\n",
        "생각해 낸 결론은 조합을 이용한 완전 탐색으로 접근하면 어떨까라는 생각을 하게 되었다.\n"
      ]
    },
    {
      "cell_type": "code",
      "execution_count": null,
      "metadata": {
        "id": "1Hk-0l2bkyOM"
      },
      "outputs": [],
      "source": [
        "from itertools import combinations\n",
        "\n",
        "n,m = map(int,input().split())\n",
        "graph = [list(map(int,input().split())) for _ in range(n)]\n",
        "\n",
        "# 그래프 확인 \n",
        "house = []\n",
        "store = []\n",
        "for i in range(n):\n",
        "  for j in range(n):\n",
        "    if graph[i][j] == 1: \n",
        "      house.append((i,j))\n",
        "    elif graph[i][j] == 2:\n",
        "      store.append((i,j))\n",
        "\n",
        "minv = int(1e9)\n",
        "\n",
        "# 조합 사용\n",
        "for ch in combinations(store,m):\n",
        "  sumv = 0\n",
        "  for home in house:\n",
        "    sum += min([abs(home[0] - i[0])+ abs(home[1]-i[1]) for i in ch]) \n",
        "    # 구하는게 더 크다면\n",
        "    if minv <= sumv : \n",
        "      break\n",
        "  if sumv < minv:\n",
        "     minv = sumv"
      ]
    }
  ],
  "metadata": {
    "colab": {
      "authorship_tag": "ABX9TyNQ7TC3T3arkmxUbO7pSeGi",
      "collapsed_sections": [],
      "include_colab_link": true,
      "name": "3월 2주차 백준(구현).ipynb",
      "provenance": []
    },
    "kernelspec": {
      "display_name": "Python 3",
      "language": "python",
      "name": "python3"
    },
    "language_info": {
      "name": "python",
      "version": "3.8.5"
    },
    "vscode": {
      "interpreter": {
        "hash": "c79f7dff0cf05aaa10b00e3f210c4e94cc49e1f96aa97f90205057359d993211"
      }
    }
  },
  "nbformat": 4,
  "nbformat_minor": 0
}
