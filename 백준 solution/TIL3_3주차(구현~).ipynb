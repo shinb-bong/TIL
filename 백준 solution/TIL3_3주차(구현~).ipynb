{
  "nbformat": 4,
  "nbformat_minor": 0,
  "metadata": {
    "colab": {
      "name": "TIL3-3주차(구현~).ipynb",
      "provenance": [],
      "collapsed_sections": [],
      "authorship_tag": "ABX9TyM6yYbf5G3b7lMr3Ae5U0H0",
      "include_colab_link": true
    },
    "kernelspec": {
      "name": "python3",
      "display_name": "Python 3"
    },
    "language_info": {
      "name": "python"
    }
  },
  "cells": [
    {
      "cell_type": "markdown",
      "metadata": {
        "id": "view-in-github",
        "colab_type": "text"
      },
      "source": [
        "<a href=\"https://colab.research.google.com/github/shinb-bong/TIL/blob/main/TIL3_3%EC%A3%BC%EC%B0%A8(%EA%B5%AC%ED%98%84~).ipynb\" target=\"_parent\"><img src=\"https://colab.research.google.com/assets/colab-badge.svg\" alt=\"Open In Colab\"/></a>"
      ]
    },
    {
      "cell_type": "markdown",
      "source": [
        "3월 3주차 알고리즘 공부 목표\n",
        "---\n",
        "\n",
        "저번주에 이어 구현의 감을 조금 더 아는 것에 초첨을 두고 공부 할 예정이다.\n",
        "\n",
        "추가적으로는 겨우 감을 잡았던 DFS/BFS, 최단 거리 경로에 대한 감도 중요하기 때문에 그에 대한 문제를 다룰 예정인 주다. "
      ],
      "metadata": {
        "id": "KIubhqt_DVAm"
      }
    },
    {
      "cell_type": "markdown",
      "source": [
        "1316번 그룹 단어 체커\n",
        "---\n",
        "\n",
        "그룹 단어를 체크하는 문제인데, 현재 문자열 이후의 문자열과의 비교를 하면서 해결 하면 될 것 같다.\n",
        "\n",
        "이후 문자열을 자르고 지금 글자랑 같은것이 있나 완전 탐색을 진행하는 방법을 생각하였다."
      ],
      "metadata": {
        "id": "f56UmuxhDsHy"
      }
    },
    {
      "cell_type": "code",
      "execution_count": null,
      "metadata": {
        "id": "AENdPiR8DMB_"
      },
      "outputs": [],
      "source": [
        "tc = int(input())\n",
        "result = 0\n",
        "for _ in range(tc):\n",
        "  word = input()\n",
        "  cnt = 0\n",
        "  for i in range(len(word)-1):\n",
        "    if word[i] != word[i+1]: # 다음 숫자랑 같지 않다면\n",
        "      new_word = word[i+1:] # 현재 글자 이후로 새로운 단어를 만든다.\n",
        "      if new_word.count(word[i]) >0 : # 새로 만든 이후 문자열에 현재 글자가 있다면 \n",
        "        cnt += 1\n",
        "  if cnt == 0:\n",
        "    result +=1\n",
        "print(result)\n",
        "\n"
      ]
    },
    {
      "cell_type": "markdown",
      "source": [
        "7586번 덩치\n",
        "---\n",
        "\n",
        "덩칠플 (x,y) 표현해서 둘다 클 경우 순위가 더 높은 쪽으로 결정이 된다. 나오는 그대로 구현을 해준다."
      ],
      "metadata": {
        "id": "s5fzqMRfSgG6"
      }
    },
    {
      "cell_type": "code",
      "source": [
        "n = int(input())\n",
        "\n",
        "people = [] # 사람들 정보\n",
        "arr =[] # 등수 정보를 저장\n",
        "\n",
        "for _ in range(n):\n",
        "  a,b = map(int,input().split())\n",
        "  people.append((a,b)) # 정보 등록\n",
        "\n",
        "for i in range(n):\n",
        "  cnt = 1 # 0등은 없음\n",
        "  for j in range(n):\n",
        "    if people[i][0] < people[j][0] and people[i][1] < people[j][1]: # 둘다 클경우\n",
        "      cnt += 1\n",
        "  arr.append(cnt)\n",
        "\n",
        "for i in arr:\n",
        "  print(i,end=\" \")\n",
        "  "
      ],
      "metadata": {
        "id": "n1bZgHUPTMzT"
      },
      "execution_count": null,
      "outputs": []
    },
    {
      "cell_type": "markdown",
      "source": [
        "2470번 두 용액\n",
        "--- \n",
        "\n",
        "문제: 두 용액을 골라서 합이 0에 가깝게 구하는 것이다. \n",
        "\n",
        "내가 생각하기엔 용액 양을 정렬 시켜서 맨 아래 맨위를 더해가면서 비교를 한뒤 \n",
        "\n",
        "- 음수가 나오면 아래를 줄이고\n",
        "- 양수가 나오면 위를 줄이고\n",
        "- 0이 나오면 제일 베스트 라고 생각이 든다.\n",
        "\n",
        "한번 생각한 것을 바탕으로 구현을 해볼까 한다."
      ],
      "metadata": {
        "id": "VKQ-7baaTLkc"
      }
    },
    {
      "cell_type": "code",
      "source": [
        "n= int(input()) # 개수\n",
        "\n",
        "data = list(map(int,input().split()))\n",
        "\n",
        "data.sort() # 정렬 진행\n",
        "\n",
        "left = 0 \n",
        "right = n-1 # 맨 끝\n",
        "\n",
        "sum = 2e+9+1# 최대 값\n",
        "answer = []\n",
        "\n",
        "while left < right:\n",
        "  al = data[left]\n",
        "  ar = data[right]\n",
        "  tmp = al+ar\n",
        "\n",
        "  if abs(tmp) < sum: # 정답을 위해 절댓값 분석\n",
        "    sum = abs(tmp)\n",
        "    answer = [al,ar]\n",
        "  \n",
        "  if tmp <0: # 0보다 작다면\n",
        "    left +=1\n",
        "  else:\n",
        "    right -=1\n",
        "\n",
        "print(answer[0],answer[1])"
      ],
      "metadata": {
        "colab": {
          "base_uri": "https://localhost:8080/"
        },
        "id": "xGHyYEpUeWk9",
        "outputId": "692c1635-f9c5-4e2e-a75c-4c01b1ebd4d7"
      },
      "execution_count": null,
      "outputs": [
        {
          "output_type": "stream",
          "name": "stdout",
          "text": [
            "5\n",
            "-2 4 -99 -1 98\n",
            "-99 98\n"
          ]
        }
      ]
    },
    {
      "cell_type": "markdown",
      "source": [
        "7576번 토마토 \n",
        "---\n",
        "\n",
        "하루가 지나면 인접한 곳에 있는 익지 않은 토마토가 영향을 받아 익게된다(bfs 고려)\n",
        "\n",
        "대각선은 영향을 주지 못하며 며칠이 지나면 다 익게 되는지 최소 일수를 알고 싶어한다 (BFS로 풀이 확정)\n",
        "\n",
        "0은 익지 않은 토마토 1은 익은 토마토\n",
        "\n",
        "또한 시간에 대한 결과값은 matrix 위에 바로 작성하여 별도의 테이블을 이용하지 않는 방법을 생각했다."
      ],
      "metadata": {
        "id": "u5FnZsJBNAc1"
      }
    },
    {
      "cell_type": "code",
      "source": [
        "from collections import deque\n",
        "\n",
        "m, n = map(int, input().split())\n",
        "matrix = [list(map(int, input().split())) for _ in range(n)]\n",
        "queue = deque([])\n",
        "dx =  [-1, 1, 0, 0]\n",
        "dy =  [0, 0, -1, 1]\n",
        "result = 0\n",
        "\n",
        "for i in range(n):\n",
        "    for j in range(m):\n",
        "        if matrix[i][j] == 1:\n",
        "            queue.append([i, j])\n",
        "\n",
        "def bfs():\n",
        "    while queue:\n",
        "        x, y = queue.popleft()\n",
        "        for i in range(4):\n",
        "            nx, ny = dx[i] + x, dy[i] + y\n",
        "            if 0 <= nx < n and 0 <= ny < m and matrix[nx][ny] == 0:\n",
        "                matrix[nx][ny] = matrix[x][y] + 1 # 1부터 몇번 횟수를 진행했는지 적어준다.\n",
        "                # 마지막엔 -1 을 하여 진행 시간을 구해준다.\n",
        "                queue.append([nx, ny])\n",
        "\n",
        "bfs()\n",
        "\n",
        "for i in matrix:\n",
        "    for j in i:\n",
        "        if j == 0:\n",
        "            print(-1)\n",
        "            exit(0)\n",
        "    result = max(result, max(i))\n",
        "# 제일 큰수 -1\n",
        "print(result -1 )"
      ],
      "metadata": {
        "id": "cx14iDH7NZ1h"
      },
      "execution_count": null,
      "outputs": []
    },
    {
      "cell_type": "markdown",
      "source": [
        "복습할 내용: 여기는 bfs 개념 문제였기 때문에 추가적으로는 없는 것 같고 꾸준하게 기억을 유지해주는 것이 중요할 것 같다."
      ],
      "metadata": {
        "id": "rbEF-tRjbHKB"
      }
    },
    {
      "cell_type": "markdown",
      "source": [
        "1446번 지름길\n",
        "---\n",
        "\n",
        "모든 지름길은 일방통행 및 역주행 불가능 => 단방향\n",
        "\n",
        "또한 길이가 주어진 것을 보아하니 다익스트라 알고리즘으로 최단경로를 구하는 문제일 것 같다는 느낌이 들었습니다. \n",
        "\n",
        "다익스트라 알고리즘으로 접근을 해보겠습니다.\n",
        "\n",
        "==> 하지만 다익스트라로 접근하기에 코드를 쓰다보니 다이나믹 프로그래밍 느낌이 더 강했습니다.\n",
        "\n",
        "왜냐하면 다익스트라 같은 경우 주어진 길로 최소비용을 만드는데 해당 문제는 고속도로라는 메인 길이 있고 추가적으로 도로를 사용하여 더 짧은 길을 만드는 방법을 생각해 내는 문제기때문에 다이나믹 프로그램밍을 섞어서 사용하면 좋을 것 같았습니다.\n",
        "\n",
        "또한 heapq를 사용할 이유가 없던 문제였습니다."
      ],
      "metadata": {
        "id": "bc4NavnubQYs"
      }
    },
    {
      "cell_type": "code",
      "source": [
        "import heapq\n",
        "\n",
        "# 도로 개수, 고속도로 길이\n",
        "n , k = map(int,input().split())\n",
        "\n",
        "# 지름길 정보 입력을 위해 최대값으로 초기화\n",
        "arr = [[] for _ in range(10001)]\n",
        "for _ in range(n):\n",
        "  a,b,c = map(int,input().split())\n",
        "  if a <= k:\n",
        "    # 연결리스트 이어주기\n",
        "    arr[a].append([c,b])\n",
        "\n",
        "# 최단 거리 테이블 \n",
        "distance = [ i for i in range(k+1)]\n",
        "\n",
        "for i in range(k+1):\n",
        "  # 처음이 아니라면\n",
        "  if i != 0:\n",
        "    # 자기 자신과 그전 +1 과 비교해서 작은 것을 고른다.\n",
        "    distance[i] = min(distance[i],distance[i-1]+1)\n",
        "  # 지름길을 이용하는경우\n",
        "  for w,e in arr[i]:\n",
        "    if e <= k and distance[e]> w+distance[i]:\n",
        "      distance[e] = w+ distance[i]\n",
        "\n",
        "print(distance[k])"
      ],
      "metadata": {
        "id": "4CEAZXXWbwFF"
      },
      "execution_count": null,
      "outputs": []
    },
    {
      "cell_type": "code",
      "source": [
        ""
      ],
      "metadata": {
        "id": "Wl7dBcDgg7UB"
      },
      "execution_count": null,
      "outputs": []
    }
  ]
}