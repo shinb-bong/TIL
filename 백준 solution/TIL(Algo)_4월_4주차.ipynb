{
  "nbformat": 4,
  "nbformat_minor": 0,
  "metadata": {
    "colab": {
      "name": "TIL(Algo)-4월 4주차.ipynb",
      "provenance": [],
      "collapsed_sections": [],
      "authorship_tag": "ABX9TyOI/qyMyaMeVn0bQx5LZclN",
      "include_colab_link": true
    },
    "kernelspec": {
      "name": "python3",
      "display_name": "Python 3"
    },
    "language_info": {
      "name": "python"
    }
  },
  "cells": [
    {
      "cell_type": "markdown",
      "metadata": {
        "id": "view-in-github",
        "colab_type": "text"
      },
      "source": [
        "<a href=\"https://colab.research.google.com/github/shinb-bong/TIL/blob/main/TIL(Algo)_4%EC%9B%94_4%EC%A3%BC%EC%B0%A8.ipynb\" target=\"_parent\"><img src=\"https://colab.research.google.com/assets/colab-badge.svg\" alt=\"Open In Colab\"/></a>"
      ]
    },
    {
      "cell_type": "markdown",
      "source": [
        "19236번 청소년 상어\n",
        "---"
      ],
      "metadata": {
        "id": "KoDgRPcpQ53x"
      }
    },
    {
      "cell_type": "code",
      "execution_count": null,
      "metadata": {
        "id": "7ykeI-rFQzX3"
      },
      "outputs": [],
      "source": [
        "import copy\n",
        "\n",
        "# 4x4 \n",
        "array = [[None] * 4 for _ in range(4)]\n",
        "\n",
        "for i in range(4):\n",
        "  data = list(map(int,input().split()))\n",
        "  # 매 줄마다 4마리의 물고기를 하나씩 확인\n",
        "  for j in range(4):\n",
        "  # 정보 저장\n",
        "    array[i][j] = [data[j*2],data[j*2+1]-1]\n",
        "\n",
        "# 8가지 방향 정의 (내 중심으로 모든 방향)\n",
        "dx = [-1,-1,0,1,1,1,0,-1]\n",
        "dy = [0,-1,-1,-1,0,1,1,1]\n",
        "\n",
        "# 현재 위치에서 왼쪽으로 회전된 결과 반환\n",
        "def turn_left(direction):\n",
        "  return (direction+1) % 8\n",
        "\n",
        "result = 0 # 최종 결과\n",
        "\n",
        "def find_fish(array,index):\n",
        "  for i in range(4):\n",
        "    for j in range(4):\n",
        "      if array[i][j][0] == index:\n",
        "        return (i,j)\n",
        "  return None\n",
        "\n",
        "# 모든 물고기를 회전 및 이동\n",
        "def move_all_fishes(array,now_x,now_y):\n",
        "  for i in range(1,17):\n",
        "    # 해당 물고기 찾기\n",
        "    position = find_fish(array,i)\n",
        "    if position != None:\n",
        "      x,y = position[0],position[1]\n",
        "      direction= array[x][y][1]\n",
        "\n",
        "      # 해당 물고기의 방향을 왼쪽으로 회전시키며 이동가능하지\n",
        "      for j in range(8):\n",
        "        nx = x + dx[direction]\n",
        "        ny = y + dy[direction]\n",
        "        # 해당 방향으로 이동이 가능하다면\n",
        "        if 0 <= nx <4 and 0<= ny < 4:\n",
        "          if not (nx == now_x and ny == now_y):\n",
        "            array[x][y][1] = direction\n",
        "            array[x][y] , array[nx][ny] = array[nx][ny],array[x][y]\n",
        "            break\n",
        "        direction = turn_left(direction)\n",
        "\n",
        "\n",
        "# 상어가 현재 위치에서 먹을 수 있는 모든 물고기의 위치를 반환\n",
        "def get_possible_positions(array,now_x,now_y):\n",
        "  positions = []\n",
        "  direction = array[now_x][now_y][1]\n",
        "  # 현재 방향으로 계속이동\n",
        "  for i in range(4):\n",
        "    now_x += dx[direction]\n",
        "    now_y += dy[direction]\n",
        "\n",
        "    # 범위를 벗어나지 않은지 확인하며 \n",
        "    if 0 <= now_x < 4 and 0<= now_y <4:\n",
        "      # 물고기가 존재하면\n",
        "      if array[now_x][now_y][0] != -1:\n",
        "        positions.append((now_x,now_y))\n",
        "  return positions\n",
        "\n",
        "# dfs\n",
        "def dfs(array,now_x,now_y,total):\n",
        "  global result\n",
        "  array = copy.deepcopy(array) # 리스트를 통째로 복사\n",
        "  total += array[now_x][now_y][0] # 현재 위치 먹고 시작\n",
        "  array[now_x][now_y][0] = -1 # 물고기를 먹었으므로 번호 값 -1 설정\n",
        "\n",
        "  move_all_fishes(array,now_x,now_y) # 전체 물고기 이동시키기\n",
        "\n",
        "  # 이제 다시 상어가 이동\n",
        "  positions = get_possible_positions(array,now_x,now_y)\n",
        "  # 이동할 위치가 하나도 없으면\n",
        "  if len(positions) == 0:\n",
        "    result = max(result,total)\n",
        "    return\n",
        "  for next_x, next_y in positions:\n",
        "    dfs(array,next_x,next_y,total)\n",
        "\n",
        "# 청소년 상어 시작 0,0 재귀\n",
        "dfs(array,0,0,0)\n",
        "print(result)\n"
      ]
    },
    {
      "cell_type": "markdown",
      "source": [
        "11724 연결 요수의 개수\n",
        "---\n",
        "왜 틀림으로 되어있는지 모르겠는데 빨간색이 거슬려서 골랐다."
      ],
      "metadata": {
        "id": "pY8izxDIvCGb"
      }
    },
    {
      "cell_type": "code",
      "source": [
        "# 정점, 간선\n",
        "n, m = map(int,input().split())\n",
        "\n",
        "# dfs 생각 이차원 그래프\n",
        "# 연결 정보 받을 그래프\n",
        "graph = [[] for _ in range(n+1)]\n",
        "\n",
        "# 입력받기\n",
        "for i in range(m):\n",
        "  x,y = map(int,input().split())\n",
        "  graph[x].append(y)\n",
        "  graph[y].append(x)\n",
        "\n",
        "result = 0 # 총 갯수\n",
        "visited = [0] *(n+1) #방문 여부\n",
        "\n",
        "# dfs\n",
        "def dfs(n):\n",
        "  # 방문처리\n",
        "  visited[n] =1\n",
        "  for i in graph[n]:\n",
        "    if visited[i] == 0:\n",
        "      dfs(i)\n",
        "\n",
        "answer = 0\n",
        "\n",
        "# 전체적으로 방문여부를 확인하면서 덩이마다 추가해준다.\n",
        "\n",
        "for i in range(1,n+1):\n",
        "  if visited[i] == 0:\n",
        "    dfs(i)\n",
        "    answer +=1\n",
        "\n",
        "print(answer)\n"
      ],
      "metadata": {
        "id": "olg-VM5AvBwP"
      },
      "execution_count": null,
      "outputs": []
    },
    {
      "cell_type": "markdown",
      "source": [
        "성공적이였지만 visited 는 0 예외처리를 안해줘서 나온 오답이였다. 수정해서 올렸다."
      ],
      "metadata": {
        "id": "9fll4J4SxP9L"
      }
    },
    {
      "cell_type": "markdown",
      "source": [
        "13640 구슬 탈출2\n",
        "---\n",
        "\n"
      ],
      "metadata": {
        "id": "VGOW3emUxefy"
      }
    },
    {
      "cell_type": "markdown",
      "source": [
        "조금 생각이 많이 필요했고 도움을 받았다.\n",
        "https://rebas.kr/724 여기의 도움을 받았다.\n",
        "\n",
        "2차원 배열로 낑낑 거리던 나에게 4차원 배열로 접근을 하여 방문처리 하면 쉽게 접근을 할 수 있다는 점을 주었고\n",
        "\n",
        "BFS 에서 결론은 같지만 중간에 for _ in range(4): 이 부분에서 얼마나 방향성을 어렵게 구하는지에 따라서 문제의 난이도가 결정되는 것 같다. 하지만 문제를 천천히 읽으면서 의도하는 바를 구하면 구해지긴하는것 같다.. 어려움을 겪어서 풀뿐이지\n",
        "\n",
        "그래서 위에서 의도한 바인 \n",
        "두 구슬이 겹쳤을때 누굴 빼줄 것인가에 대한 판단 기준인 멀리서 온것을 늦게 왔으니 빼준다가 필요했다.\n",
        "\n",
        "만약 구슬이 겹쳤다면, 굴릴 때 카운트했던 이동 거리가 더 긴 구슬의 위치를 한 칸 이전으로 되돌린다.\n",
        "\n",
        "또한 정답처리 항목을 미리미리 while에 작성하면 끝!"
      ],
      "metadata": {
        "id": "EdHWKfju7tKk"
      }
    },
    {
      "cell_type": "code",
      "source": [
        "from sys import stdin\n",
        "from collections import deque\n",
        "input = stdin.readline\n",
        "\n",
        "n, m = map(int, input().split())\n",
        "graph= [list(input().strip()) for _ in range(n)]\n",
        "check = [[[[False]*m for _ in range(n)] for _ in range(m)] for _ in range(n)]\n",
        "dx = (-1, 0, 1, 0)\n",
        "dy =  (0, 1, 0, -1)\n",
        "q = deque()\n",
        "\n",
        "def init():\n",
        "    _rx, _ry, _bx, _by = 0,0,0,0\n",
        "    for i in range(n):\n",
        "      # 위치찾기\n",
        "        for j in range(m):\n",
        "            if graph[i][j] == 'R':\n",
        "                _rx, _ry = i, j\n",
        "            elif graph[i][j] == 'B':\n",
        "                _bx, _by = i, j\n",
        "    # rx,ry,bx,by,횟수\n",
        "    q.append((_rx, _ry, _bx, _by, 1))\n",
        "    # 방문처리\n",
        "    check[_rx][_ry][_bx][_by] = True\n",
        "\n",
        "def move(x, y, dx, dy):\n",
        "    cnt = 0  # 이동 칸 수\n",
        "    # 다음이 벽이거나 현재가 구멍일 때까지\n",
        "    while graph[x+dx][y+dy] != '#' and graph[x][y] != 'O':\n",
        "        x += dx\n",
        "        y += dy\n",
        "        cnt += 1\n",
        "    return x, y, cnt\n",
        "\n",
        "def solve():\n",
        "    init()  # 시작 조건 준비\n",
        "    # bfs\n",
        "    while q:  \n",
        "        rx, ry, bx, by, depth = q.popleft()\n",
        "        # 실패 조건\n",
        "        if depth > 10:  \n",
        "            break\n",
        "        for i in range(4):  # 4방향 이동 시도\n",
        "            nrx, nry, rcnt = move(rx, ry, dx[i], dy[i])  # Red\n",
        "            nbx, nby, bcnt = move(bx, by, dx[i], dy[i])  # Blue\n",
        "            if graph[nbx][nby] != 'O':  # 실패 조건이 아니면\n",
        "                if graph[nrx][nry] == 'O':  # 성공 조건\n",
        "                    print(depth)\n",
        "                    return\n",
        "                if nrx == nbx and nry == nby:  # 겹쳤을 때 이동거리가 큰것을 한칸뒤로 \n",
        "                    if rcnt > bcnt:  \n",
        "                        nrx -= dx[i] \n",
        "                        nry -= dy[i]\n",
        "                    else:\n",
        "                        nbx -= dx[i]\n",
        "                        nby -= dy[i]\n",
        "                # bfs 끝났으면 갈수 있는지 확인\n",
        "                if not check[nrx][nry][nbx][nby]:\n",
        "                    check[nrx][nry][nbx][nby] = True\n",
        "                    q.append((nrx, nry, nbx, nby, depth+1))\n",
        "    print(-1)  # 실패 시\n",
        "\n",
        "solve()"
      ],
      "metadata": {
        "id": "qBE6u_Hv7sLs"
      },
      "execution_count": null,
      "outputs": []
    },
    {
      "cell_type": "markdown",
      "source": [
        "22116번 창영이와 퇴근\n",
        "---\n",
        "해당 문제는 접근이 매우 쉬워서 한번에 통과했다.\n",
        "\n",
        "다익스트라로 접근을 하였으며 근거는 기본적으로  최단 거리를 구하기때문에였다.\n",
        "또한 높이에 대한 결과 값을 받아와야하므로 높이에 대한 정렬이 필요해서 다익스트라를 골랐다.\n",
        "\n",
        "또한 가장 중요한 핵심 풀이인 높이 값을 처음부터 가져가는 것이 아니라 처음에 값을 기준으로 더 큰 차이만큼을 작성해서 나가는 방식을 사용했다. "
      ],
      "metadata": {
        "id": "2bNNY_7fCYG1"
      }
    },
    {
      "cell_type": "code",
      "source": [
        "import heapq\n",
        "INF = int(1e9)\n",
        "# N 크기 입력\n",
        "n = int(input())\n",
        "graph = []\n",
        "for _ in range(n):\n",
        "  graph.append(list(map(int,input().split())))\n",
        "dp = [[INF]*n for _ in range(n)]\n",
        "\n",
        "# 방향벡터\n",
        "dx = [-1,1,0,0]\n",
        "dy = [0,0,-1,1]\n",
        "\n",
        "q = []\n",
        "heapq.heappush(q,(0,0,0))\n",
        "dp[0][0] = 0\n",
        "while q:\n",
        "  sh,sx,sy = heapq.heappop(q)\n",
        "  # 만약 기록된 높이가 현재 높이보다 작다면 무시\n",
        "  if dp[sx][sy] < sh:\n",
        "    continue\n",
        "  for i in range(4):\n",
        "    nx = sx + dx[i]\n",
        "    ny = sy + dy[i]\n",
        "    if 0 <= nx < n and 0<= ny <n :\n",
        "      # 계산된 높이 , 계산한 높이\n",
        "      nh = max(sh,abs(graph[nx][ny] - graph[sx][sy]))\n",
        "      if dp[nx][ny] > nh:\n",
        "        dp[nx][ny] = nh\n",
        "        heapq.heappush(q,(nh,nx,ny))\n",
        "\n",
        "print(dp[n-1][n-1])\n"
      ],
      "metadata": {
        "id": "7WBQWe0u7sKG"
      },
      "execution_count": null,
      "outputs": []
    },
    {
      "cell_type": "markdown",
      "source": [
        "13305번 주유소 \n",
        "---\n",
        "\n",
        "해당 문제는 그리디 알고리즘으로 접근을 하였다.\n",
        "근거는 문제상 보기에 가장 가성비가 뛰어난 곳에서 충전을 하는게 무조건 이득이기 때문이다.\n",
        "\n",
        "그래서 현재의 주유소와 비교해 가면서 좋은 곳에서 충전을 많이 하는 방법을 사용하였다."
      ],
      "metadata": {
        "id": "z6Br7qXMLwA4"
      }
    },
    {
      "cell_type": "code",
      "source": [
        "# 주유소\n",
        "n = int(input())\n",
        "\n",
        "# 거리 입력\n",
        "dist = list(map(int,input().split()))\n",
        "\n",
        "# 주유소 가성비 입력\n",
        "shop = list(map(int,input().split()))\n",
        "good_shop = int(1e9)\n",
        "result = 0\n",
        "for i in range(n-1):\n",
        "  good_shop = min(shop[i],good_shop)\n",
        "  result += dist[i] * good_shop\n",
        "\n",
        "print(result)"
      ],
      "metadata": {
        "colab": {
          "base_uri": "https://localhost:8080/"
        },
        "id": "B5wbx-raLvpL",
        "outputId": "f38048d1-60bc-4592-ddb6-4fc03eb2fe60"
      },
      "execution_count": 3,
      "outputs": [
        {
          "output_type": "stream",
          "name": "stdout",
          "text": [
            "4\n",
            "2 3 1\n",
            "5 2 4 1\n",
            "18\n"
          ]
        }
      ]
    },
    {
      "cell_type": "markdown",
      "source": [
        "11718번 그대로 출력하기\n",
        "---\n",
        "최근 react 프로젝트에서 가장 많이 사용한 try catch문이다. \n",
        "하지만 파이썬은 try except 다.\n",
        "\n",
        "\n",
        "구현 문제는 다른 유형보다 쉽게 표현이 되지만 막상 적으려하면 막막할 경우가 많다.(거의 검색을 해서 찾아서 써서 그런듯...)"
      ],
      "metadata": {
        "id": "itJQybf8NvD3"
      }
    },
    {
      "cell_type": "code",
      "source": [
        "while True :\n",
        "    try :\n",
        "        print(input())\n",
        "    except EOFError: # 여기 잘 체크 \n",
        "        break"
      ],
      "metadata": {
        "id": "zEGnju5XO_Ke"
      },
      "execution_count": null,
      "outputs": []
    }
  ]
}