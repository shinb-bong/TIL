{
  "nbformat": 4,
  "nbformat_minor": 0,
  "metadata": {
    "colab": {
      "name": "TIL(Algo)-4월 4,5주차.ipynb",
      "provenance": [],
      "collapsed_sections": [],
      "authorship_tag": "ABX9TyNB9bEPJmADusctHyk5Wt+q",
      "include_colab_link": true
    },
    "kernelspec": {
      "name": "python3",
      "display_name": "Python 3"
    },
    "language_info": {
      "name": "python"
    }
  },
  "cells": [
    {
      "cell_type": "markdown",
      "metadata": {
        "id": "view-in-github",
        "colab_type": "text"
      },
      "source": [
        "<a href=\"https://colab.research.google.com/github/shinb-bong/TIL/blob/main/TIL(Algo)_4%EC%9B%94_4%2C5%EC%A3%BC%EC%B0%A8.ipynb\" target=\"_parent\"><img src=\"https://colab.research.google.com/assets/colab-badge.svg\" alt=\"Open In Colab\"/></a>"
      ]
    },
    {
      "cell_type": "markdown",
      "source": [
        "19236번 청소년 상어\n",
        "---"
      ],
      "metadata": {
        "id": "KoDgRPcpQ53x"
      }
    },
    {
      "cell_type": "code",
      "execution_count": null,
      "metadata": {
        "id": "7ykeI-rFQzX3"
      },
      "outputs": [],
      "source": [
        "import copy\n",
        "\n",
        "# 4x4 \n",
        "array = [[None] * 4 for _ in range(4)]\n",
        "\n",
        "for i in range(4):\n",
        "  data = list(map(int,input().split()))\n",
        "  # 매 줄마다 4마리의 물고기를 하나씩 확인\n",
        "  for j in range(4):\n",
        "  # 정보 저장\n",
        "    array[i][j] = [data[j*2],data[j*2+1]-1]\n",
        "\n",
        "# 8가지 방향 정의 (내 중심으로 모든 방향)\n",
        "dx = [-1,-1,0,1,1,1,0,-1]\n",
        "dy = [0,-1,-1,-1,0,1,1,1]\n",
        "\n",
        "# 현재 위치에서 왼쪽으로 회전된 결과 반환\n",
        "def turn_left(direction):\n",
        "  return (direction+1) % 8\n",
        "\n",
        "result = 0 # 최종 결과\n",
        "\n",
        "def find_fish(array,index):\n",
        "  for i in range(4):\n",
        "    for j in range(4):\n",
        "      if array[i][j][0] == index:\n",
        "        return (i,j)\n",
        "  return None\n",
        "\n",
        "# 모든 물고기를 회전 및 이동\n",
        "def move_all_fishes(array,now_x,now_y):\n",
        "  for i in range(1,17):\n",
        "    # 해당 물고기 찾기\n",
        "    position = find_fish(array,i)\n",
        "    if position != None:\n",
        "      x,y = position[0],position[1]\n",
        "      direction= array[x][y][1]\n",
        "\n",
        "      # 해당 물고기의 방향을 왼쪽으로 회전시키며 이동가능하지\n",
        "      for j in range(8):\n",
        "        nx = x + dx[direction]\n",
        "        ny = y + dy[direction]\n",
        "        # 해당 방향으로 이동이 가능하다면\n",
        "        if 0 <= nx <4 and 0<= ny < 4:\n",
        "          if not (nx == now_x and ny == now_y):\n",
        "            array[x][y][1] = direction\n",
        "            array[x][y] , array[nx][ny] = array[nx][ny],array[x][y]\n",
        "            break\n",
        "        direction = turn_left(direction)\n",
        "\n",
        "\n",
        "# 상어가 현재 위치에서 먹을 수 있는 모든 물고기의 위치를 반환\n",
        "def get_possible_positions(array,now_x,now_y):\n",
        "  positions = []\n",
        "  direction = array[now_x][now_y][1]\n",
        "  # 현재 방향으로 계속이동\n",
        "  for i in range(4):\n",
        "    now_x += dx[direction]\n",
        "    now_y += dy[direction]\n",
        "\n",
        "    # 범위를 벗어나지 않은지 확인하며 \n",
        "    if 0 <= now_x < 4 and 0<= now_y <4:\n",
        "      # 물고기가 존재하면\n",
        "      if array[now_x][now_y][0] != -1:\n",
        "        positions.append((now_x,now_y))\n",
        "  return positions\n",
        "\n",
        "# dfs\n",
        "def dfs(array,now_x,now_y,total):\n",
        "  global result\n",
        "  array = copy.deepcopy(array) # 리스트를 통째로 복사\n",
        "  total += array[now_x][now_y][0] # 현재 위치 먹고 시작\n",
        "  array[now_x][now_y][0] = -1 # 물고기를 먹었으므로 번호 값 -1 설정\n",
        "\n",
        "  move_all_fishes(array,now_x,now_y) # 전체 물고기 이동시키기\n",
        "\n",
        "  # 이제 다시 상어가 이동\n",
        "  positions = get_possible_positions(array,now_x,now_y)\n",
        "  # 이동할 위치가 하나도 없으면\n",
        "  if len(positions) == 0:\n",
        "    result = max(result,total)\n",
        "    return\n",
        "  for next_x, next_y in positions:\n",
        "    dfs(array,next_x,next_y,total)\n",
        "\n",
        "# 청소년 상어 시작 0,0 재귀\n",
        "dfs(array,0,0,0)\n",
        "print(result)\n"
      ]
    },
    {
      "cell_type": "markdown",
      "source": [
        "11724 연결 요수의 개수\n",
        "---\n",
        "왜 틀림으로 되어있는지 모르겠는데 빨간색이 거슬려서 골랐다."
      ],
      "metadata": {
        "id": "pY8izxDIvCGb"
      }
    },
    {
      "cell_type": "code",
      "source": [
        "# 정점, 간선\n",
        "n, m = map(int,input().split())\n",
        "\n",
        "# dfs 생각 이차원 그래프\n",
        "# 연결 정보 받을 그래프\n",
        "graph = [[] for _ in range(n+1)]\n",
        "\n",
        "# 입력받기\n",
        "for i in range(m):\n",
        "  x,y = map(int,input().split())\n",
        "  graph[x].append(y)\n",
        "  graph[y].append(x)\n",
        "\n",
        "result = 0 # 총 갯수\n",
        "visited = [0] *(n+1) #방문 여부\n",
        "\n",
        "# dfs\n",
        "def dfs(n):\n",
        "  # 방문처리\n",
        "  visited[n] =1\n",
        "  for i in graph[n]:\n",
        "    if visited[i] == 0:\n",
        "      dfs(i)\n",
        "\n",
        "answer = 0\n",
        "\n",
        "# 전체적으로 방문여부를 확인하면서 덩이마다 추가해준다.\n",
        "\n",
        "for i in range(1,n+1):\n",
        "  if visited[i] == 0:\n",
        "    dfs(i)\n",
        "    answer +=1\n",
        "\n",
        "print(answer)\n"
      ],
      "metadata": {
        "id": "olg-VM5AvBwP"
      },
      "execution_count": null,
      "outputs": []
    },
    {
      "cell_type": "markdown",
      "source": [
        "성공적이였지만 visited 는 0 예외처리를 안해줘서 나온 오답이였다. 수정해서 올렸다."
      ],
      "metadata": {
        "id": "9fll4J4SxP9L"
      }
    },
    {
      "cell_type": "markdown",
      "source": [
        "13640 구슬 탈출2\n",
        "---\n",
        "\n"
      ],
      "metadata": {
        "id": "VGOW3emUxefy"
      }
    },
    {
      "cell_type": "markdown",
      "source": [
        "조금 생각이 많이 필요했고 도움을 받았다.\n",
        "https://rebas.kr/724 여기의 도움을 받았다.\n",
        "\n",
        "2차원 배열로 낑낑 거리던 나에게 4차원 배열로 접근을 하여 방문처리 하면 쉽게 접근을 할 수 있다는 점을 주었고\n",
        "\n",
        "BFS 에서 결론은 같지만 중간에 for _ in range(4): 이 부분에서 얼마나 방향성을 어렵게 구하는지에 따라서 문제의 난이도가 결정되는 것 같다. 하지만 문제를 천천히 읽으면서 의도하는 바를 구하면 구해지긴하는것 같다.. 어려움을 겪어서 풀뿐이지\n",
        "\n",
        "그래서 위에서 의도한 바인 \n",
        "두 구슬이 겹쳤을때 누굴 빼줄 것인가에 대한 판단 기준인 멀리서 온것을 늦게 왔으니 빼준다가 필요했다.\n",
        "\n",
        "만약 구슬이 겹쳤다면, 굴릴 때 카운트했던 이동 거리가 더 긴 구슬의 위치를 한 칸 이전으로 되돌린다.\n",
        "\n",
        "또한 정답처리 항목을 미리미리 while에 작성하면 끝!"
      ],
      "metadata": {
        "id": "EdHWKfju7tKk"
      }
    },
    {
      "cell_type": "code",
      "source": [
        "from sys import stdin\n",
        "from collections import deque\n",
        "input = stdin.readline\n",
        "\n",
        "n, m = map(int, input().split())\n",
        "graph= [list(input().strip()) for _ in range(n)]\n",
        "check = [[[[False]*m for _ in range(n)] for _ in range(m)] for _ in range(n)]\n",
        "dx = (-1, 0, 1, 0)\n",
        "dy =  (0, 1, 0, -1)\n",
        "q = deque()\n",
        "\n",
        "def init():\n",
        "    _rx, _ry, _bx, _by = 0,0,0,0\n",
        "    for i in range(n):\n",
        "      # 위치찾기\n",
        "        for j in range(m):\n",
        "            if graph[i][j] == 'R':\n",
        "                _rx, _ry = i, j\n",
        "            elif graph[i][j] == 'B':\n",
        "                _bx, _by = i, j\n",
        "    # rx,ry,bx,by,횟수\n",
        "    q.append((_rx, _ry, _bx, _by, 1))\n",
        "    # 방문처리\n",
        "    check[_rx][_ry][_bx][_by] = True\n",
        "\n",
        "def move(x, y, dx, dy):\n",
        "    cnt = 0  # 이동 칸 수\n",
        "    # 다음이 벽이거나 현재가 구멍일 때까지\n",
        "    while graph[x+dx][y+dy] != '#' and graph[x][y] != 'O':\n",
        "        x += dx\n",
        "        y += dy\n",
        "        cnt += 1\n",
        "    return x, y, cnt\n",
        "\n",
        "def solve():\n",
        "    init()  # 시작 조건 준비\n",
        "    # bfs\n",
        "    while q:  \n",
        "        rx, ry, bx, by, depth = q.popleft()\n",
        "        # 실패 조건\n",
        "        if depth > 10:  \n",
        "            break\n",
        "        for i in range(4):  # 4방향 이동 시도\n",
        "            nrx, nry, rcnt = move(rx, ry, dx[i], dy[i])  # Red\n",
        "            nbx, nby, bcnt = move(bx, by, dx[i], dy[i])  # Blue\n",
        "            if graph[nbx][nby] != 'O':  # 실패 조건이 아니면\n",
        "                if graph[nrx][nry] == 'O':  # 성공 조건\n",
        "                    print(depth)\n",
        "                    return\n",
        "                if nrx == nbx and nry == nby:  # 겹쳤을 때 이동거리가 큰것을 한칸뒤로 \n",
        "                    if rcnt > bcnt:  \n",
        "                        nrx -= dx[i] \n",
        "                        nry -= dy[i]\n",
        "                    else:\n",
        "                        nbx -= dx[i]\n",
        "                        nby -= dy[i]\n",
        "                # bfs 끝났으면 갈수 있는지 확인\n",
        "                if not check[nrx][nry][nbx][nby]:\n",
        "                    check[nrx][nry][nbx][nby] = True\n",
        "                    q.append((nrx, nry, nbx, nby, depth+1))\n",
        "    print(-1)  # 실패 시\n",
        "\n",
        "solve()"
      ],
      "metadata": {
        "id": "qBE6u_Hv7sLs"
      },
      "execution_count": null,
      "outputs": []
    },
    {
      "cell_type": "markdown",
      "source": [
        "22116번 창영이와 퇴근\n",
        "---\n",
        "해당 문제는 접근이 매우 쉬워서 한번에 통과했다.\n",
        "\n",
        "다익스트라로 접근을 하였으며 근거는 기본적으로  최단 거리를 구하기때문에였다.\n",
        "또한 높이에 대한 결과 값을 받아와야하므로 높이에 대한 정렬이 필요해서 다익스트라를 골랐다.\n",
        "\n",
        "또한 가장 중요한 핵심 풀이인 높이 값을 처음부터 가져가는 것이 아니라 처음에 값을 기준으로 더 큰 차이만큼을 작성해서 나가는 방식을 사용했다. "
      ],
      "metadata": {
        "id": "2bNNY_7fCYG1"
      }
    },
    {
      "cell_type": "code",
      "source": [
        "import heapq\n",
        "INF = int(1e9)\n",
        "# N 크기 입력\n",
        "n = int(input())\n",
        "graph = []\n",
        "for _ in range(n):\n",
        "  graph.append(list(map(int,input().split())))\n",
        "dp = [[INF]*n for _ in range(n)]\n",
        "\n",
        "# 방향벡터\n",
        "dx = [-1,1,0,0]\n",
        "dy = [0,0,-1,1]\n",
        "\n",
        "q = []\n",
        "heapq.heappush(q,(0,0,0))\n",
        "dp[0][0] = 0\n",
        "while q:\n",
        "  sh,sx,sy = heapq.heappop(q)\n",
        "  # 만약 기록된 높이가 현재 높이보다 작다면 무시\n",
        "  if dp[sx][sy] < sh:\n",
        "    continue\n",
        "  for i in range(4):\n",
        "    nx = sx + dx[i]\n",
        "    ny = sy + dy[i]\n",
        "    if 0 <= nx < n and 0<= ny <n :\n",
        "      # 계산된 높이 , 계산한 높이\n",
        "      nh = max(sh,abs(graph[nx][ny] - graph[sx][sy]))\n",
        "      if dp[nx][ny] > nh:\n",
        "        dp[nx][ny] = nh\n",
        "        heapq.heappush(q,(nh,nx,ny))\n",
        "\n",
        "print(dp[n-1][n-1])\n"
      ],
      "metadata": {
        "id": "7WBQWe0u7sKG"
      },
      "execution_count": null,
      "outputs": []
    },
    {
      "cell_type": "markdown",
      "source": [
        "13305번 주유소 \n",
        "---\n",
        "\n",
        "해당 문제는 그리디 알고리즘으로 접근을 하였다.\n",
        "근거는 문제상 보기에 가장 가성비가 뛰어난 곳에서 충전을 하는게 무조건 이득이기 때문이다.\n",
        "\n",
        "그래서 현재의 주유소와 비교해 가면서 좋은 곳에서 충전을 많이 하는 방법을 사용하였다."
      ],
      "metadata": {
        "id": "z6Br7qXMLwA4"
      }
    },
    {
      "cell_type": "code",
      "source": [
        "# 주유소\n",
        "n = int(input())\n",
        "\n",
        "# 거리 입력\n",
        "dist = list(map(int,input().split()))\n",
        "\n",
        "# 주유소 가성비 입력\n",
        "shop = list(map(int,input().split()))\n",
        "good_shop = int(1e9)\n",
        "result = 0\n",
        "for i in range(n-1):\n",
        "  good_shop = min(shop[i],good_shop)\n",
        "  result += dist[i] * good_shop\n",
        "\n",
        "print(result)"
      ],
      "metadata": {
        "colab": {
          "base_uri": "https://localhost:8080/"
        },
        "id": "B5wbx-raLvpL",
        "outputId": "f38048d1-60bc-4592-ddb6-4fc03eb2fe60"
      },
      "execution_count": null,
      "outputs": [
        {
          "output_type": "stream",
          "name": "stdout",
          "text": [
            "4\n",
            "2 3 1\n",
            "5 2 4 1\n",
            "18\n"
          ]
        }
      ]
    },
    {
      "cell_type": "markdown",
      "source": [
        "11718번 그대로 출력하기\n",
        "---\n",
        "최근 react 프로젝트에서 가장 많이 사용한 try catch문이다. \n",
        "하지만 파이썬은 try except 다.\n",
        "\n",
        "\n",
        "구현 문제는 다른 유형보다 쉽게 표현이 되지만 막상 적으려하면 막막할 경우가 많다.(거의 검색을 해서 찾아서 써서 그런듯...)"
      ],
      "metadata": {
        "id": "itJQybf8NvD3"
      }
    },
    {
      "cell_type": "code",
      "source": [
        "while True :\n",
        "    try :\n",
        "        print(input())\n",
        "    except EOFError: # 여기 잘 체크 \n",
        "        break"
      ],
      "metadata": {
        "id": "zEGnju5XO_Ke"
      },
      "execution_count": null,
      "outputs": []
    },
    {
      "cell_type": "markdown",
      "source": [
        "2108 통계학\n",
        "---\n",
        "Counter에 대한 정리를 TIL에 하였습니당"
      ],
      "metadata": {
        "id": "_g2lSkOJ577e"
      }
    },
    {
      "cell_type": "code",
      "source": [
        "# 수의 개수 \n",
        "from collections import Counter\n",
        "\n",
        "n = int(input())\n",
        "# 수의 입력\n",
        "arr = []\n",
        "for _ in range(n):\n",
        "  arr.append( int(input()) )\n",
        "\n",
        "# 산술 평균\n",
        "print(round(sum(arr)/n))\n",
        "\n",
        "# 중앙 값\n",
        "arr.sort()\n",
        "print(arr[n//2])\n",
        "\n",
        "# 최빈값\n",
        "nums = Counter(arr).most_common()\n",
        "if len(nums)> 1:\n",
        "  if nums[0][1] == nums[1][1]:\n",
        "    print(nums[1][0])\n",
        "  else:\n",
        "    print(nums[0][0])\n",
        "else:\n",
        "  print(nums[0][0])\n",
        "\n",
        "print(arr[-1]-arr[0])\n",
        "\n"
      ],
      "metadata": {
        "id": "8yo_ZAeH6Akl"
      },
      "execution_count": null,
      "outputs": []
    },
    {
      "cell_type": "markdown",
      "source": [
        "3190번 뱀\n",
        "---\n",
        "\n",
        "구현의 포인트는 내가 말하는 것을 하나하나 차근 차근 코드로 옮길수 있어? 이기때문에 하나씩 차근 차근 옮겨 보도록한다."
      ],
      "metadata": {
        "id": "mu41t-Go6FGI"
      }
    },
    {
      "cell_type": "markdown",
      "source": [
        "1. 머리 옮기는 메소드를 하나 만들어준다.\n",
        "=> 이부분이 조금 어려웠다.\n",
        "2. 사과 위치를 2로 설정해준다.\n",
        "3. 앞쪽부터 차근차근 해야하니 deque를 선언해준다.\n",
        "4. 사과가 아니라면 queue에서 꼬리를 빼서 없애준다."
      ],
      "metadata": {
        "id": "mvzSz9OFB8ZE"
      }
    },
    {
      "cell_type": "code",
      "source": [
        "from collections import deque\n",
        "\n",
        "# 머리 방향 전환\n",
        "def change(c):\n",
        "  global direction\n",
        "  if c == \"L\":\n",
        "    direction = (direction-1) % 4\n",
        "  else: \n",
        "    direction = (direction+1) % 4\n",
        "\n",
        "\n",
        "#보드의 크기\n",
        "n = int(input())\n",
        "# 사과의 개수\n",
        "k = int(input())\n",
        "\n",
        "# 그래프 초기화\n",
        "graph = [[0] * n for _ in range(n)]\n",
        "# 사과의 위치\n",
        "for _ in range(k):\n",
        "  a,b= map(int,input().split())\n",
        "  graph[a-1][b-1]=2\n",
        "# 방향벡터\n",
        "dx = [0,1,0,-1]\n",
        "dy = [1,0,-1,0]\n",
        "\n",
        "# 뱀 방향 변환 횟수\n",
        "l = int(input())\n",
        "\n",
        "direct = dict()\n",
        "queue = deque()\n",
        "# 처음시작 입력\n",
        "queue.append((0,0))\n",
        " \n",
        "# 뱀 방향 정보 입력\n",
        "for i in range(l):\n",
        "  x,c = input().split()\n",
        "  direct[int(x)] = c\n",
        "\n",
        "x,y = 0,0\n",
        "graph[x][y] =1\n",
        "cnt = 0\n",
        "direction = 0\n",
        "\n",
        "while True:\n",
        "  cnt +=1\n",
        "  x += dx[direction]\n",
        "  y += dy[direction]\n",
        "\n",
        "  if x < 0 or x >= n or y < 0 or y >= n:\n",
        "      break\n",
        "\n",
        "  # 사과를 만났을 경우\n",
        "  if graph[x][y] == 2:\n",
        "    # 한칸을 늘려준다.\n",
        "    graph[x][y] = 1\n",
        "    queue.append((x,y))\n",
        "    # 얼굴방향 변환꿔준다.\n",
        "    if cnt in direct:\n",
        "      change(direct[cnt])\n",
        "\n",
        "  elif graph[x][y] == 0:\n",
        "    graph[x][y] =1\n",
        "    queue.append((x,y))\n",
        "    tx,ty = queue.popleft()\n",
        "    graph[tx][ty] = 0\n",
        "    # 머리를 움직여야 하는 시간이면\n",
        "    if cnt in direct:\n",
        "      change(direct[cnt])\n",
        "  else: \n",
        "    break\n",
        "\n",
        "print(cnt)"
      ],
      "metadata": {
        "id": "SiRR-52kBdWJ"
      },
      "execution_count": null,
      "outputs": []
    },
    {
      "cell_type": "markdown",
      "source": [
        "프로그래머스 소수 테스트\n",
        "---\n",
        "수가 작아서 전부 검사하여 소수를 검증하는 방법을 사용했고 \n",
        "\n",
        "3개씩 구성해서 더해주는 방법은 \n",
        "itertools 에 combinations를 사용해서 구성하였다.\n"
      ],
      "metadata": {
        "id": "M80USDgJFS6I"
      }
    },
    {
      "cell_type": "code",
      "source": [
        "# 소수란 일단 홀수 + 홀수는 만들어 질 수 없다.\n",
        "# 짝수 + 홀수 = 홀수가 기본적 원칙 이며\n",
        "# 순열 선언= 순서 의미 (o)\n",
        "from itertools import combinations\n",
        "\n",
        "def is_prime_number(num):\n",
        "    if num == 0 or num ==1:\n",
        "        return False\n",
        "    else:\n",
        "        for n in range(2,(num//2)+1):\n",
        "            if num%n == 0:\n",
        "                return False\n",
        "        return True\n",
        "\n",
        "def solution(nums):\n",
        "    answer = 0\n",
        "    cmb = list(combinations(nums,3)) # 3개씩  조합후 list 로변경\n",
        "    for arr in cmb:\n",
        "        if is_prime_number(sum(arr)):\n",
        "            answer += 1\n",
        "    return answer"
      ],
      "metadata": {
        "id": "6qsjgNcOFeuM"
      },
      "execution_count": null,
      "outputs": []
    },
    {
      "cell_type": "markdown",
      "source": [
        "1009번 분산처리\n",
        "--- \n",
        "일단 습관적으로 문제의 수를 보았다. \n",
        "\n",
        "백만의 높은 숫자를 가지고 있으며 for 문을 사용했을 경우 무조건적으로 시간 초과가 나올 것이다 라는 생각이 들었다.\n",
        "\n",
        "그러면 어떻게 접근을 해야하나 하다가 결국 알아 내는 수는 마지막 일의 자리고 해당 규칙은 초등학교때 반복이 된다는것을 알고 있었다.\n",
        "\n",
        "그래서 반복되는 값에 대한 다중 if 문을 통해 출력을 하였다.\n"
      ],
      "metadata": {
        "id": "J78Ha6goFjE5"
      }
    },
    {
      "cell_type": "code",
      "source": [
        "t = int(input())\n",
        "\n",
        "for _ in range(t):\n",
        "  a, b = map(int,input().split())\n",
        "  a = a% 10\n",
        "  \n",
        "  # 끝자리가 0이라면 \n",
        "  if a == 0 :\n",
        "    print(10)\n",
        "  # 곱해도 그대로인 수라면?\n",
        "  elif a == 1 or a ==5 or a ==6:\n",
        "    print(a)  \n",
        "  # 마지막수가 반복되는 수라면\n",
        "  elif a ==4 or a ==9:\n",
        "    b = b%2\n",
        "    if b ==1 :\n",
        "      print(a)\n",
        "    else:\n",
        "      print((a*a)%10)\n",
        "\n",
        "  else:\n",
        "    b = b % 4\n",
        "    if b == 0:\n",
        "        print((a**4) % 10 % 10 % 10)\n",
        "    else:\n",
        "        print((a**b) % 10 % 10 % 10)\n",
        "    "
      ],
      "metadata": {
        "id": "3h1MDLa_IhQM"
      },
      "execution_count": null,
      "outputs": []
    },
    {
      "cell_type": "markdown",
      "source": [
        "11723번 집합\n",
        "---"
      ],
      "metadata": {
        "id": "ZBHTUn5pNFP7"
      }
    },
    {
      "cell_type": "code",
      "source": [
        "# 실패한 코드\n",
        "m = int(input())\n",
        "\n",
        "graph = dict()\n",
        "\n",
        "for _ in range(m):\n",
        "  a,b = input().split()\n",
        "  b = int(b)\n",
        "  if a == \"add\":\n",
        "    graph[b] = 1\n",
        "  elif a == \"remove\":\n",
        "    del(graph[b])\n",
        "  elif a == \"check\":\n",
        "    if graph[b] :\n",
        "      print(1)\n",
        "    else: \n",
        "      print(0)\n",
        "  elif a == \"toggle\":\n",
        "    if graph[b] :\n",
        "      del(graph[b])\n",
        "    else:\n",
        "      graph[b] = 1\n",
        "  elif a == \"all\":\n",
        "    for i in range(1,21):\n",
        "      graph[i] = 1\n",
        "  else:\n",
        "    graph= {}"
      ],
      "metadata": {
        "id": "uZfQ55XMNH2x"
      },
      "execution_count": null,
      "outputs": []
    },
    {
      "cell_type": "markdown",
      "source": [
        "사전 자료형 보단 집합 자료형의 구현이 맞는 것 같다. \n",
        "\n",
        "중간에 자리를 이탈했다가 이어 풀어서 생각이 끊겼나보다...\n",
        "\n",
        "그리고 다시 풀다보니 애초에 b값이 없을때 해줘야하는 예외처리를 안해줬다. \n",
        "\n",
        "그냥 생각없이 푼거지.... 주의하자!"
      ],
      "metadata": {
        "id": "e9o9igTwQRGw"
      }
    },
    {
      "cell_type": "code",
      "source": [
        "# 다시 푼 코드\n",
        "\n",
        "import sys\n",
        "input = sys.stdin.readline\n",
        "s = set()\n",
        "n = int(input())\n",
        "\n",
        "for i in range(n):\n",
        "  a = input().strip().split()\n",
        "\n",
        "  # 인자가 하나일 경우\n",
        "  if len(a) ==1: \n",
        "    if a[0] ==\"all\":\n",
        "      s= set([i for i in range(1,21)])\n",
        "    else:\n",
        "      s = set()\n",
        "\n",
        "  command , num = a[0] ,int(a[1])\n",
        "\n",
        "  if command == \"add\":\n",
        "    s.add(num)\n",
        "  elif command == \"check\":\n",
        "    print(1 if num in s else 0)\n",
        "  elif command == \"remove\":\n",
        "    s.discard(num) # 이부분 .discard 기억하자 삭제\n",
        "  elif command == \"toggle\":\n",
        "    if num in s:\n",
        "      s.discard(num)\n",
        "    else:\n",
        "      s.add(num)"
      ],
      "metadata": {
        "id": "QJe990TwQZ8M"
      },
      "execution_count": null,
      "outputs": []
    },
    {
      "cell_type": "markdown",
      "source": [
        ".discard() 메소드를 순간 잊어먹어서 del을 썼었는데 잘 기억하자!\n",
        "\n",
        "```\n",
        "s.discard(num) # s 집합에서 num 삭제\n",
        "```"
      ],
      "metadata": {
        "id": "SWZxabncTWe8"
      }
    },
    {
      "cell_type": "markdown",
      "source": [
        "14499번 주사위 굴리기\n",
        "---\n",
        "\n",
        "문제를 읽으면 이제 대충 어느 유형인지 잡힌다.\n",
        "이 문제는 말이 길고 설명이 자세한 것을 보니 시뮬레이션, 구현일 것이다 라는 생각이 들어서 \n",
        "코드 작성을 시작했다.\n",
        "\n",
        "하지만 구현이 진짜 포괄적이고 이해하기가 어려워서 계속 공부중이지만 구현은 문제에서 제시한대로 차근차근 풀어가면 된다는 생각에 시도해보았다.\n",
        "\n",
        "하지만 중간에 주사위 이동 구현을 짜지 못하여 결국 도움을 받았다.\n",
        "\n",
        "https://jeongchul.tistory.com/669\n",
        "\n",
        "여기에 친절하게 그림으로 설명이 되어있고\n",
        "이해한 내용을 바탕으로 나만의 코드를 다시 짰다."
      ],
      "metadata": {
        "id": "hDp4g6oI91Ie"
      }
    },
    {
      "cell_type": "code",
      "source": [
        "\n",
        "n,m,x,y,k = map(int,input().split())\n",
        "\n",
        "board = [list(map(int,input().split())) for _ in range(n)]\n",
        "commands = list(map(int,input().split()))\n",
        "\n",
        "# 방향 벡터 설정 \n",
        "dx , dy = (0,0,-1,1),(1,-1,0,0)\n",
        "\n",
        "# 주사위의 처음값과 주사위의 임시값\n",
        "dice, temp = [0]*6, [0]*6\n",
        "\n",
        "# 주사위의 현재 인덱스를 정합니다.\n",
        "direction = [\n",
        "    (2, 0, 5, 3, 4, 1), # 동쪽\n",
        "    (1, 5, 0, 3, 4, 2), # 서쪽\n",
        "    (4, 1, 2, 0, 5, 3), # 북쪽\n",
        "    (3, 1, 2, 5, 0, 4) # 남쪽\n",
        "]\n",
        "\n",
        "for command in commands:\n",
        "  command -= 1\n",
        "  x = x+ dx[command]\n",
        "  y = y + dy[command]\n",
        "  # 해당 되는 값이 아니라면 수행하지 않는다.\n",
        "  if x<0 or x >=n or y <0 or y>=m:\n",
        "    # 복구과정\n",
        "    x,y = x- dx[command], y- dy[command]\n",
        "    continue\n",
        "  # 임시 값으로 현재 주사위 값 저장\n",
        "  for i in range(6): \n",
        "    temp[i] = dice[i]\n",
        "  # 회전한 방향에 따른 주사위 값\n",
        "  for i in range(6):\n",
        "    dice[i] = temp[direction[command][i]]\n",
        "  \n",
        "  # 문제의 언급처럼 칸이 있다면\n",
        "  if board[x][y]:\n",
        "    dice[5] = board[x][y] # 바닥면의 칸에 값을 넣고\n",
        "    board[x][y] = 0\n",
        "  else:\n",
        "    board[x][y] = dice[5] #칸이 0이라면 주사위값을 복사\n",
        "  print(dice[0])\n"
      ],
      "metadata": {
        "id": "6XTAY3Bz-Wra"
      },
      "execution_count": null,
      "outputs": []
    },
    {
      "cell_type": "markdown",
      "source": [
        "14891 톱니바퀴\n",
        "---\n",
        "\n",
        "해당 문제는 접근도 잘하고 이해도 잘했지만 큐를 사용하지 않으니 4개를 한꺼번에 돌릴때 문제가 발생하였다.\n",
        "\n",
        "또한 rotate(direct) 라는 메소드를 처음 써보고 습득하는 문제가 되었다.\n",
        "\n",
        "그래서 2번의 시도 끝에 성공을 하였다.\n",
        "살짝 BFS에 DFS를 섞은 느낌이였다.\n",
        "\n",
        "또한 구현같은 경우 가독성과 재사용성을 위해 별도의 메소드를 구현하여 사용하는 패턴이 많이 보이는 것 같다. \n",
        "\n",
        "- 핵심: 끝까지 확인을 해서 하나를 돌릴대 그다음것도 돌릴수 있는 지 확인하며 진행"
      ],
      "metadata": {
        "id": "TpbU-7N-DWBC"
      }
    },
    {
      "cell_type": "code",
      "source": [
        "import sys\n",
        "from collections import deque\n",
        "\n",
        "input = sys.stdin.readline\n",
        "# direct 시계 방향 1 , 반시계 방향 -1\n",
        "# 2번 인덱스와 6번 인덱스 가 핵심\n",
        "\n",
        "# 오른쪽 톱니 체크\n",
        "def check_right(start,direct):\n",
        "  # 안되는 경우는 dfs처럼 return 을 진행해준다.\n",
        "  if start > 4 or graph[start-1][2] == graph[start][6]:\n",
        "    return\n",
        "\n",
        "  # 될경우\n",
        "  if graph[start-1][2] != graph[start][6]:\n",
        "    # 인접한게 회전이 가능한지부터 파악한다.\n",
        "    check_right(start+1,-direct)\n",
        "    # 회전 \n",
        "    graph[start].rotate(direct)\n",
        "# 오른쪽 톱니 체크\n",
        "def check_left(start,direct):\n",
        "  # 안되는 경우는 dfs처럼 return 을 진행해준다.\n",
        "  # 인덱스 일치를 위한 start-1\n",
        "  if start < 1 or graph[start][2] == graph[start+1][6]:\n",
        "    return\n",
        "\n",
        "  # 될경우\n",
        "  if graph[start+1][6] != graph[start][2]:\n",
        "    # 인접한게 회전이 가능한지부터 파악한다.\n",
        "    check_left(start-1,-direct)\n",
        "    # 회전 \n",
        "    graph[start].rotate(direct) # 원하는 방향으로 이동시켜주는 그런 메소드\n",
        "# 톱니 바퀴 4개 입력\n",
        "graph= {}\n",
        "for i in range(1,5):\n",
        "  graph[i] = deque(list(map(int,list(input().replace(\"\\n\",\"\")))))\n",
        "\n",
        "# 회전횟수 \n",
        "num = int(input())\n",
        "\n",
        "for _ in range(num):\n",
        "  n,direct = map(int,input().split())\n",
        "\n",
        "  # 양쪽획인\n",
        "  check_right(n+1,-direct)\n",
        "  check_left(n-1,-direct)\n",
        "  # 기준 톱니 회전\n",
        "  graph[n].rotate(direct)\n",
        "\n",
        "# 결과 출력은 0번 인덱스\n",
        "result = 0\n",
        "for i in range(1,5):\n",
        "  if graph[i][0] == 1:\n",
        "    result += 2**(i-1) \n",
        "print(result)"
      ],
      "metadata": {
        "id": "7aBsq-Q3JXN0"
      },
      "execution_count": null,
      "outputs": []
    },
    {
      "cell_type": "markdown",
      "source": [
        "카드 섞기"
      ],
      "metadata": {
        "id": "jlaCHWhjk-c4"
      }
    },
    {
      "cell_type": "code",
      "source": [
        "# 카드 개수, 합체 횟수\n",
        "n,m = map(int,input().split())\n",
        "\n",
        "# 카드 상태\n",
        "card = list(map(int,input().split()))\n",
        "\n",
        "for _ in range(m):\n",
        "  card.sort()\n",
        "  temp=sum(card[0:2])\n",
        "  card[0] = temp\n",
        "  card[1] = temp\n",
        "\n",
        "print(sum(card))"
      ],
      "metadata": {
        "id": "VVTrAdb_k92t"
      },
      "execution_count": null,
      "outputs": []
    },
    {
      "cell_type": "markdown",
      "source": [
        "8979번 올림픽\n",
        "---\n",
        "```\n",
        "sort(key = lambda x : (-x[1],-x[2],-x[3]))\n",
        "``` \n",
        "를 다시 한번 상기 시키는 문제"
      ],
      "metadata": {
        "id": "NYcCOz0dqx_A"
      }
    },
    {
      "cell_type": "code",
      "source": [
        "import sys\n",
        "input = sys.stdin.readline\n",
        "# 국가의 수, 등수 알고 싶은 나라\n",
        "n,target = map(int,input().split())\n",
        "graph = []\n",
        "\n",
        "for _ in range(n):\n",
        "  graph.append(list(map(int,input().split())))\n",
        "\n",
        "graph.sort(key= lambda x : (-x[1],-x[2],-x[3]))\n",
        "\n",
        "grade, s = 1,0\n",
        "\n",
        "# 등수매기기\n",
        "for i in range(n):\n",
        "  # 0번째 인덱스가 아니라면\n",
        "  if i != 0 :\n",
        "    # 그전과 같다면\n",
        "    if graph[i-1][1:] == graph[i][1:]:\n",
        "      s+=1\n",
        "    else:\n",
        "      if s:\n",
        "        grade += s\n",
        "        s = 0\n",
        "      grade += 1\n",
        "  if graph[i][0] == target:\n",
        "    print(grade)\n",
        "    break"
      ],
      "metadata": {
        "id": "9LBXhW3Aqv_M"
      },
      "execution_count": null,
      "outputs": []
    },
    {
      "cell_type": "markdown",
      "source": [
        "이제 그 다음으로 약한 유형인 \"문자열 유형을 다뤄볼려고한다\""
      ],
      "metadata": {
        "id": "2rNMDZwurEwy"
      }
    },
    {
      "cell_type": "markdown",
      "source": [
        "1157번 단어 공부\n",
        "---\n",
        "\n",
        "진짜 약하다... \n",
        "set()의 활용도 약하고 숫자에서 문자로만 바뀌면 허둥지둥하는 것 같다 BFS가 문자열보다 쉬운것같다... \n",
        "\n",
        "하지만 아래 문제는 유니크한 문자열을 만들어서 갯수를 센뒤 새로운 리스트에 갯수를 넣는다.\n",
        "\n",
        "이제 리스트 갯수를 비교해 많은게 여러개면 ? 아니면 다시 유니크한 문자열에서 찾는다."
      ],
      "metadata": {
        "id": "8_TMhaQ0rzVm"
      }
    },
    {
      "cell_type": "code",
      "source": [
        "words =input().upper()\n",
        "# 유니크하게 만들어준다. 그러면 이제 유니크한 대문자만 남는다.\n",
        "uni_words = list(set(words))\n",
        "\n",
        "cnt_list = []\n",
        "for x in uni_words:\n",
        "  # 각 대문자에 해당하는 갯수 \n",
        "  cnt = words.count(x)\n",
        "  cnt_list.append(cnt) # cnt 센걸 추가\n",
        "\n",
        "# 큰게 중복이 되면\n",
        "if cnt_list.count(max(cnt_list)) > 1:\n",
        "  print(\"?\")\n",
        "\n",
        "else:\n",
        "  max_index = cnt_list.index(max(cnt_list))\n",
        "  print(uni_words[max_index])"
      ],
      "metadata": {
        "id": "jF8dvd0RtzW8"
      },
      "execution_count": null,
      "outputs": []
    },
    {
      "cell_type": "markdown",
      "source": [
        "11720번 숫자의 합\n",
        "---\n",
        "이건 왜 틀려있을까...? 컴파일 오류인거 보니 C에다가 넣고 돌렸나보다.\n",
        "\n",
        "기분좋게 수정완료!"
      ],
      "metadata": {
        "id": "tXlNf2LhvLPk"
      }
    },
    {
      "cell_type": "code",
      "source": [
        "n = int(input())\n",
        "\n",
        "arr = input()\n",
        "sum = 0\n",
        "\n",
        "for i in arr:\n",
        "  sum += int(i)\n",
        "\n",
        "print(sum)\n"
      ],
      "metadata": {
        "id": "ynkrJBxAvLgf"
      },
      "execution_count": null,
      "outputs": []
    },
    {
      "cell_type": "markdown",
      "source": [
        "1764번 듣보잡\n",
        "---\n",
        "\n",
        "위의 1157번을 풀어서 set의 자료형에 대해 다시 공부를 하였었다. \n",
        "\n",
        "그리고 문자열에서는 set 활용도가 높다는걸 알게 되었고 이번 문제에서 활용이 가능하겠다 라는 생각에\n",
        "\n",
        "유니크한 문자열을 만들어주고 해당 집합에 존재하는지 여부를 판별해줬던 문제였다.\n",
        "\n",
        "\n"
      ],
      "metadata": {
        "id": "Mm31RcI_vV58"
      }
    },
    {
      "cell_type": "markdown",
      "source": [
        "\n",
        "set 집합 자료형에 대한 설명\n",
        "---\n",
        "\n",
        "https://blockdmask.tistory.com/451\n",
        "\n",
        "- 중요한 set의 특징을 알려주네요 unordered하고 unique elements하다.\n",
        "순서가 정해져있지 않고, 중복되지 않는 고유한 요소들을 가지고 있는 자료형이다.\n",
        "\n",
        "- 교집합은 &\n",
        "- 합집합 |, 차집합 -\n",
        "- 같은지 == , 아예 다른지 .isdisjoint() 메소드\n",
        "- 추가 add, 한번에 추가 update\n",
        "- 삭제 remove, 있으면 삭제 없으면 그대로 .discard()\n",
        "- 반환후 삭제 pop , 전부 삭제 clear"
      ],
      "metadata": {
        "id": "-ZCD_Htk0Msy"
      }
    },
    {
      "cell_type": "code",
      "source": [
        "# 듣보잡수 n, 보드 못한 m\n",
        "n ,m = map(int,input().split())\n",
        "\n",
        "# 듣보잡 입력\n",
        "noListen,result = set(),[]\n",
        "for _ in range(n):\n",
        "  noListen.add(str(input()))\n",
        "cnt = 0\n",
        "\n",
        "for _ in range(m):\n",
        "  target = str(input())\n",
        "  if target in noListen:\n",
        "    cnt += 1\n",
        "    result.append(target)\n",
        "\n",
        "# 사전정렬\n",
        "result.sort()\n",
        "print(cnt)\n",
        "for i in result:\n",
        "  print(str(i))"
      ],
      "metadata": {
        "id": "Bj42pE3pzHqy"
      },
      "execution_count": null,
      "outputs": []
    },
    {
      "cell_type": "markdown",
      "source": [
        "4949번 균형잡힌 세상\n",
        "---\n",
        "\n",
        "해당 문제는 처음에 () 가 쌍을 이루지 않을때 break를 써서 no를 출력하려했는데 그렇게 되면 ) 가 나오지 않고 ((( 역시 yes가 출력되는 잘못된 문장이 되었다.\n",
        "\n",
        "그래서 stack에 다시 넣어줘서 만약 총 남은것이 0이 아니면 no를 출력해주는 최종 출력 결정을 넣어줬다."
      ],
      "metadata": {
        "id": "qD_LmK_x0h8u"
      }
    },
    {
      "cell_type": "code",
      "source": [
        "while True:\n",
        "  a= input()\n",
        "  stack = []\n",
        "\n",
        "  if a == \".\":\n",
        "    break\n",
        "  for i in a :\n",
        "    if i == '[' or i == '(':\n",
        "      stack.append(i)\n",
        "    elif i == ']':\n",
        "      # 마지막이 [로 끝나면\n",
        "      if len(stack) != 0 and stack[-1] == '[' :\n",
        "        stack.pop() \n",
        "      else:\n",
        "        stack.append(']')\n",
        "        break\n",
        "    \n",
        "    elif i == ')' :\n",
        "      if len(stack) != 0 and stack[-1] == '(' :\n",
        "          stack.pop()\n",
        "      else:\n",
        "        stack.append(')')\n",
        "\n",
        "  if len(stack) == 0 :\n",
        "    print('yes')\n",
        "  else :\n",
        "    print('no')"
      ],
      "metadata": {
        "id": "tPnruuEl4JqP"
      },
      "execution_count": null,
      "outputs": []
    },
    {
      "cell_type": "markdown",
      "source": [
        "10610번 30\n",
        "---\n",
        "\n",
        "초등학교 때 배운 3의 배수가 될려면 총합이 3으로 나뉘어야 한다 + 30의 배수니깐 마지막수가 0으로 끝나야 한다는 포인트를 잡으면 쉽게 풀수있었다.\n"
      ],
      "metadata": {
        "id": "zlQrl9Qz6Cha"
      }
    },
    {
      "cell_type": "code",
      "source": [
        "n = list(map(int,input()))\n",
        "n.sort(reverse=True)\n",
        "\n",
        "if sum(n)%3 !=0 or 0 not in n :\n",
        "  print(-1)\n",
        "else: \n",
        "\n",
        "  for i in n:\n",
        "    print(i,end=\"\")\n"
      ],
      "metadata": {
        "id": "rIDcMHNn8XSM"
      },
      "execution_count": null,
      "outputs": []
    },
    {
      "cell_type": "markdown",
      "source": [
        "1212 이진수\n",
        "---\n",
        "\n",
        "내가 아는 한자리수당 3개씩 짜르는 방법을 사용했는데 오답처리가 났다.\n",
        "\n",
        "맨앞자리는 큐를 이용해서 꺼내서 확인하고 넣는 방식을 사용했다.\n",
        "\n",
        "다른 메소드가 있을 것 같은데 나는 모르니깐 생코딩으로 진행했다."
      ],
      "metadata": {
        "id": "8wwDGO41Dok5"
      }
    },
    {
      "cell_type": "code",
      "source": [
        "# 틀린 코드\n",
        "from collections import deque\n",
        "#  8진수 -> 2진수\n",
        "n = input()\n",
        "result = deque([])\n",
        "for i in n:\n",
        "  i = int(i)\n",
        "  if i // 4 == 1:\n",
        "    result.append(1)\n",
        "    i %= 4\n",
        "  else:\n",
        "    result.append(0)\n",
        "  if i // 2 == 1:\n",
        "    result.append(1)\n",
        "    i %=2\n",
        "  else:\n",
        "    result.append(0)\n",
        "  if i == 1:\n",
        "    result.append(1)\n",
        "  else:\n",
        "    result.append(0)\n",
        "\n",
        "first = result.popleft()\n",
        "if first == 1:\n",
        "  result.appendleft(first)\n",
        "for i in result:\n",
        "  print(i,end=\"\")\n"
      ],
      "metadata": {
        "id": "tHyUsIPcDoWW"
      },
      "execution_count": null,
      "outputs": []
    },
    {
      "cell_type": "markdown",
      "source": [
        "정답코드\n"
      ],
      "metadata": {
        "id": "uTKzhx2LD4KP"
      }
    },
    {
      "cell_type": "code",
      "source": [
        "print(bin(int(input(), 8))[2:])"
      ],
      "metadata": {
        "id": "P0pWtLvgD3oc"
      },
      "execution_count": null,
      "outputs": []
    },
    {
      "cell_type": "markdown",
      "source": [
        "해설: int()에 ,를 찍고 뒤에 숫자를 넣으면 그 진법의 숫자를 받는다는 것이었다. 그리고 oct는 8진법을 의미한다. 8진법으로 숫자를 바꾸면 10진법이 아니기에 8진법을 나타내는 2글자를 숫자 앞에 넣어주는데 답안에서는 숫자만 표현해야 하므로, 앞의 두자리를 없애기 위해서 [2:]를 이용한다."
      ],
      "metadata": {
        "id": "3s9hksDeD3dr"
      }
    },
    {
      "cell_type": "markdown",
      "source": [
        "이진법은 bin 이다.\n",
        "\n",
        "파이썬 내장 메소드는 참 신기하고 편리한 것이 늘 많다는걸 매번 깨우친다."
      ],
      "metadata": {
        "id": "_rMlArCdFXSE"
      }
    },
    {
      "cell_type": "markdown",
      "source": [
        "10820번 문자열 분석\n",
        "---"
      ],
      "metadata": {
        "id": "O-39d3APJAGs"
      }
    },
    {
      "cell_type": "code",
      "source": [
        "while True:\n",
        "  n = input()\n",
        "  if n ==\"\":\n",
        "    break\n",
        "  graph = [[0] for _ in range(4)]\n",
        "  for i in n :\n",
        "    if i.isalnum():\n",
        "      graph[2] += 1\n",
        "    elif i == \" \":\n",
        "      graph[3] += 1\n",
        "    else: \n",
        "      if i.isupper():\n",
        "        graph[0] += 1\n",
        "      elif i.islower():\n",
        "        graph[1] += 1"
      ],
      "metadata": {
        "id": "tYM1NsZfI_DI"
      },
      "execution_count": null,
      "outputs": []
    },
    {
      "cell_type": "markdown",
      "source": [
        "했지만 예외처리가 안되어서 실패 null 처리를 \n",
        "if not n : \n",
        "으로해줬어야했다.\n",
        "\n",
        "아래처럼 graph하나에 직관적으로 변수 4개를 사용하는게 이런 문제를 풀땐 더 좋은 것 같다.\n",
        "\n",
        "또한 예외처리도 해주어서 깔끔한 풀이였지않나 싶다.\n",
        "\n",
        "- 숫자일땐 isdigit()\n",
        "- 문자일땐 isalpha()\n",
        "islower(), isupper()\n",
        "- 공백일땐 isspace()"
      ],
      "metadata": {
        "id": "aLfmBwcSJFfJ"
      }
    },
    {
      "cell_type": "code",
      "source": [
        "import sys\n",
        "\n",
        "while True:\n",
        "    line = sys.stdin.readline().rstrip('\\n')\n",
        "\n",
        "    if not line:\n",
        "        break\n",
        "\n",
        "    # 소문자, 대문자, 숫자, 공백\n",
        "    l, u, d, s = 0, 0, 0, 0\n",
        "    for each in line:\n",
        "        if each.islower():\n",
        "            l += 1\n",
        "        elif each.isupper():\n",
        "            u += 1\n",
        "        elif each.isdigit():\n",
        "            d += 1\n",
        "        elif each.isspace():\n",
        "            s += 1\n",
        "\n",
        "    print(l, u, d, s)\n"
      ],
      "metadata": {
        "id": "Bikt_AwHJam6"
      },
      "execution_count": null,
      "outputs": []
    }
  ]
}