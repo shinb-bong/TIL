{
  "nbformat": 4,
  "nbformat_minor": 0,
  "metadata": {
    "colab": {
      "name": "TIL(Algo)- 5월 1주차.ipynb",
      "provenance": [],
      "collapsed_sections": [],
      "authorship_tag": "ABX9TyMMt0TToBkWy7buqKpQbU4f",
      "include_colab_link": true
    },
    "kernelspec": {
      "name": "python3",
      "display_name": "Python 3"
    },
    "language_info": {
      "name": "python"
    }
  },
  "cells": [
    {
      "cell_type": "markdown",
      "metadata": {
        "id": "view-in-github",
        "colab_type": "text"
      },
      "source": [
        "<a href=\"https://colab.research.google.com/github/shinb-bong/TIL/blob/main/TIL(Algo)_5%EC%9B%94_1%EC%A3%BC%EC%B0%A8.ipynb\" target=\"_parent\"><img src=\"https://colab.research.google.com/assets/colab-badge.svg\" alt=\"Open In Colab\"/></a>"
      ]
    },
    {
      "cell_type": "markdown",
      "source": [
        "7562번 나이트의 이동\n",
        "---"
      ],
      "metadata": {
        "id": "t3R4AX9wsj-s"
      }
    },
    {
      "cell_type": "code",
      "execution_count": null,
      "metadata": {
        "id": "qXwVpKajseSf"
      },
      "outputs": [],
      "source": [
        "from collections import deque\n",
        "INF = int(1e9)\n",
        "tc = int(input())\n",
        "for _ in range(tc):\n",
        "  # 판의 크기 l\n",
        "  l = int(input())\n",
        "  # 말의 출발 start x,y\n",
        "  sx, sy = map(int,input().split())\n",
        "  # 말의 도착 target x,y\n",
        "  tx,ty = map(int,input().split())\n",
        "\n",
        "  # 나이트가 갈수 있는 곳 단위 벡터\n",
        "  dx = [-1,-1,1,1,2,2,-2,-2]\n",
        "  dy = [2,-2,2,-2,1,-1,1,-1]\n",
        "  graph =[[INF for _ in range(l)] for _ in range(l)]\n",
        "  \n",
        "  # bfs 진행\n",
        "  def bfs():\n",
        "    q = deque()\n",
        "    q.append((sx,sy))\n",
        "\n",
        "    graph[sx][sy] = 0\n",
        "    while q:\n",
        "      x,y = q.popleft()\n",
        "      for i in range(8):\n",
        "        nx = x + dx[i]\n",
        "        ny = y + dy[i]\n",
        "        if x== tx and y == ty :\n",
        "          break\n",
        "        if nx <0 or nx >=l or ny <0 or ny>=l :\n",
        "          continue\n",
        "        else:\n",
        "          if graph[nx][ny] > graph[x][y]+1:\n",
        "            graph[nx][ny] = graph[x][y]+1\n",
        "            q.append((nx,ny))\n",
        "  bfs()\n",
        "  print(graph[tx][ty])\n"
      ]
    },
    {
      "cell_type": "markdown",
      "source": [
        "해당 문제는 BFS 에서 나이트가 1칸 + 2칸으로 움직인다는 것만 다르게 방향벡터 기본값을 8개로 조정하면 쉽게 풀리는 문제였다.\n",
        "\n",
        "그리고 메모리의 사용성을 위해 이동하는 칸이 도착하는 칸과 일치했을때 while 문을 멈추는 것이  좋으니 예외처리문을 필수적으로 작성해주자!"
      ],
      "metadata": {
        "id": "TE4UKcbIxob8"
      }
    },
    {
      "cell_type": "markdown",
      "source": [
        "5622번 다이얼\n",
        "---\n",
        "\n",
        "\n"
      ],
      "metadata": {
        "id": "k4kDi2B-6QRL"
      }
    },
    {
      "cell_type": "code",
      "source": [
        "dial = ['ABC', 'DEF', 'GHI', 'JKL', 'MNO', 'PQRS', 'TUV', 'WXYZ']\n",
        "a = input()\n",
        "ret = 0\n",
        "for j in range(len(a)):\n",
        "    for i in dial:\n",
        "        if a[j] in i:\n",
        "            ret += dial.index(i)+3\n",
        "print(ret)\n"
      ],
      "metadata": {
        "id": "YYPAmkUF6UXM"
      },
      "execution_count": null,
      "outputs": []
    },
    {
      "cell_type": "markdown",
      "source": [
        "in을 사용할수 있는지 물어보는 간단한 문제였다."
      ],
      "metadata": {
        "id": "IqtrP69I7A2m"
      }
    },
    {
      "cell_type": "markdown",
      "source": [
        "1049번 기타줄 \n",
        "---"
      ],
      "metadata": {
        "id": "IyqZpQo07HUZ"
      }
    },
    {
      "cell_type": "code",
      "source": [
        "# 끊어진 기타줄 N, 기타줄 브랜드 M\n",
        "n, m = map(int,input().split())\n",
        "\n",
        "# 브랜드 패키지 가격 낱개 가격\n",
        "arr1 = []\n",
        "arr2 = []\n",
        "for _ in range(m):\n",
        "  a,b = map(int,input().split())\n",
        "  arr1.append(a)\n",
        "  arr2.append(b)\n",
        "\n",
        "a = min(arr1)\n",
        "b= min(arr2)\n",
        "\n",
        "pack = n //6\n",
        "each = n%6\n",
        "\n",
        "if a < b*6:\n",
        "  if a < each * b:\n",
        "    print((pack+1)*a)\n",
        "  else:\n",
        "    print(pack*a+ b*each)\n",
        "else:\n",
        "  print(n*b)"
      ],
      "metadata": {
        "id": "Uz1jt9ra7AYO"
      },
      "execution_count": null,
      "outputs": []
    },
    {
      "cell_type": "markdown",
      "source": [
        "해당 문제는 3가지 경우를 생각해야한다. (현실이 아니니깐...)\n",
        "\n",
        "정렬은 기본이고\n",
        "- 패키지로 다 샀을때 (남더라도)\n",
        "- 딱맞게 샀을때 (패키지 + 개별)\n",
        "- 딱맞게 샀을때 (개별로 싹다)\n",
        "\n",
        "이렇게 세가지 경우를 모두 적어줘야 정답 처리가 완료되었다.\n"
      ],
      "metadata": {
        "id": "WAjWZ8MF_YN1"
      }
    },
    {
      "cell_type": "code",
      "source": [
        ""
      ],
      "metadata": {
        "id": "C7o2QsU9_XtX"
      },
      "execution_count": null,
      "outputs": []
    }
  ]
}