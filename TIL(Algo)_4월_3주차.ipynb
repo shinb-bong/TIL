{
  "nbformat": 4,
  "nbformat_minor": 0,
  "metadata": {
    "colab": {
      "name": "TIL(Algo)-4월 3주차.ipynb",
      "provenance": [],
      "collapsed_sections": [],
      "authorship_tag": "ABX9TyMXbzByeb1sTBjAXdRLUkFv",
      "include_colab_link": true
    },
    "kernelspec": {
      "name": "python3",
      "display_name": "Python 3"
    },
    "language_info": {
      "name": "python"
    }
  },
  "cells": [
    {
      "cell_type": "markdown",
      "metadata": {
        "id": "view-in-github",
        "colab_type": "text"
      },
      "source": [
        "<a href=\"https://colab.research.google.com/github/shinb-bong/TIL/blob/main/TIL(Algo)_4%EC%9B%94_3%EC%A3%BC%EC%B0%A8.ipynb\" target=\"_parent\"><img src=\"https://colab.research.google.com/assets/colab-badge.svg\" alt=\"Open In Colab\"/></a>"
      ]
    },
    {
      "cell_type": "markdown",
      "source": [
        "19236번 청소년 상어\n",
        "---"
      ],
      "metadata": {
        "id": "KoDgRPcpQ53x"
      }
    },
    {
      "cell_type": "code",
      "execution_count": null,
      "metadata": {
        "id": "7ykeI-rFQzX3"
      },
      "outputs": [],
      "source": [
        "import copy\n",
        "\n",
        "# 4x4 \n",
        "array = [[None] * 4 for _ in range(4)]\n",
        "\n",
        "for i in range(4):\n",
        "  data = list(map(int,input().split()))\n",
        "  # 매 줄마다 4마리의 물고기를 하나씩 확인\n",
        "  for j in range(4):\n",
        "  # 정보 저장\n",
        "    array[i][j] = [data[j*2],data[j*2+1]-1]\n",
        "\n",
        "# 8가지 방향 정의 (내 중심으로 모든 방향)\n",
        "dx = [-1,-1,0,1,1,1,0,-1]\n",
        "dy = [0,-1,-1,-1,0,1,1,1]\n",
        "\n",
        "# 현재 위치에서 왼쪽으로 회전된 결과 반환\n",
        "def turn_left(direction):\n",
        "  return (direction+1) % 8\n",
        "\n",
        "result = 0 # 최종 결과\n",
        "\n",
        "def find_fish(array,index):\n",
        "  for i in range(4):\n",
        "    for j in range(4):\n",
        "      if array[i][j][0] == index:\n",
        "        return (i,j)\n",
        "  return None\n",
        "\n",
        "# 모든 물고기를 회전 및 이동\n",
        "def move_all_fishes(array,now_x,now_y):\n",
        "  for i in range(1,17):\n",
        "    # 해당 물고기 찾기\n",
        "    position = find_fish(array,i)\n",
        "    if position != None:\n",
        "      x,y = position[0],position[1]\n",
        "      direction= array[x][y][1]\n",
        "\n",
        "      # 해당 물고기의 방향을 왼쪽으로 회전시키며 이동가능하지\n",
        "      for j in range(8):\n",
        "        nx = x + dx[direction]\n",
        "        ny = y + dy[direction]\n",
        "        # 해당 방향으로 이동이 가능하다면\n",
        "        if 0 <= nx <4 and 0<= ny < 4:\n",
        "          if not (nx == now_x and ny == now_y):\n",
        "            array[x][y][1] = direction\n",
        "            array[x][y] , array[nx][ny] = array[nx][ny],array[x][y]\n",
        "            break\n",
        "        direction = turn_left(direction)\n",
        "\n",
        "\n",
        "# 상어가 현재 위치에서 먹을 수 있는 모든 물고기의 위치를 반환\n",
        "def get_possible_positions(array,now_x,now_y):\n",
        "  positions = []\n",
        "  direction = array[now_x][now_y][1]\n",
        "  # 현재 방향으로 계속이동\n",
        "  for i in range(4):\n",
        "    now_x += dx[direction]\n",
        "    now_y += dy[direction]\n",
        "\n",
        "    # 범위를 벗어나지 않은지 확인하며 \n",
        "    if 0 <= now_x < 4 and 0<= now_y <4:\n",
        "      # 물고기가 존재하면\n",
        "      if array[now_x][now_y][0] != -1:\n",
        "        positions.append((now_x,now_y))\n",
        "  return positions\n",
        "\n",
        "# dfs\n",
        "def dfs(array,now_x,now_y,total):\n",
        "  global result\n",
        "  array = copy.deepcopy(array) # 리스트를 통째로 복사\n",
        "  total += array[now_x][now_y][0] # 현재 위치 먹고 시작\n",
        "  array[now_x][now_y][0] = -1 # 물고기를 먹었으므로 번호 값 -1 설정\n",
        "\n",
        "  move_all_fishes(array,now_x,now_y) # 전체 물고기 이동시키기\n",
        "\n",
        "  # 이제 다시 상어가 이동\n",
        "  positions = get_possible_positions(array,now_x,now_y)\n",
        "  # 이동할 위치가 하나도 없으면\n",
        "  if len(positions) == 0:\n",
        "    result = max(result,total)\n",
        "    return\n",
        "  for next_x, next_y in positions:\n",
        "    dfs(array,next_x,next_y,total)\n",
        "\n",
        "# 청소년 상어 시작 0,0 재귀\n",
        "dfs(array,0,0,0)\n",
        "print(result)\n"
      ]
    }
  ]
}