{
  "nbformat": 4,
  "nbformat_minor": 0,
  "metadata": {
    "colab": {
      "name": "TIL(Algo)-4월 2주차.ipynb",
      "provenance": [],
      "collapsed_sections": [],
      "authorship_tag": "ABX9TyND8cPW4OnqomebtjeLA8gT",
      "include_colab_link": true
    },
    "kernelspec": {
      "name": "python3",
      "display_name": "Python 3"
    },
    "language_info": {
      "name": "python"
    }
  },
  "cells": [
    {
      "cell_type": "markdown",
      "metadata": {
        "id": "view-in-github",
        "colab_type": "text"
      },
      "source": [
        "<a href=\"https://colab.research.google.com/github/shinb-bong/TIL/blob/main/TIL(Algo)_4%EC%9B%94_2%EC%A3%BC%EC%B0%A8.ipynb\" target=\"_parent\"><img src=\"https://colab.research.google.com/assets/colab-badge.svg\" alt=\"Open In Colab\"/></a>"
      ]
    },
    {
      "cell_type": "markdown",
      "source": [
        "Review\n",
        "===\n",
        "\n",
        "저번 주는 PHP와 REACT를 하다보니 CSS 파트가 학과 수업을 들은지 오래된 파트다 보니 기억이 애매해서 자꾸 원하는 방향으로 나오지 않았다.\n",
        "\n",
        "그래서 HTML과 CSS파트의 부족한 부분을 보완을 하다보니 알고리즘에 소홀히한 주였다. 물론SQLD 합격에 기분이 좋아서 놀았던것도 있다... ㅠㅠ\n",
        "\n",
        "대신 TIL에 HTML/CSS 파트를 추가하였다.\n",
        "\n",
        "그리고 방향성을 너무 한쪽으로만 치중하지 않는 쪽으로 잘 분배해서 해가려고 한다."
      ],
      "metadata": {
        "id": "XZhW2uvzdedG"
      }
    },
    {
      "cell_type": "markdown",
      "source": [
        "16953번 A->B\n",
        "---\n",
        "\n",
        "코드 풀이:\n",
        "\n",
        "일단 b가 a로 안될경우 안될경우 -1 을 출력하니깐 a==b 가 같을 경우만 해결을 해줬다.\n",
        "\n",
        "b가 a보다 기본적으로 큰데 작아졌을 경우나 혹은 더이상 진행을 할 수 없을때 -1 로 만들어주었다.\n",
        "\n",
        "그리고 아래에는 진행이 가능한 경우 문제의 풀이에 따라 greedy 방식으로 10을 나누어 주는 경우를 정했다. \n",
        "\n"
      ],
      "metadata": {
        "id": "iwK0at-1eTKE"
      }
    },
    {
      "cell_type": "code",
      "source": [
        "a,b = map(int,input().split())\n",
        "result = 1\n",
        "\n",
        "while True:\n",
        "  if a==b :\n",
        "    break\n",
        "  elif (b%2 != 0 and b%10 !=1) or (b < a):\n",
        "    result = -1\n",
        "    break\n",
        "  else: \n",
        "    if b % 10 ==1:\n",
        "      b//=10\n",
        "      result +=1\n",
        "    else:\n",
        "      b //= 2\n",
        "      result += 1\n",
        "\n",
        "print(result)"
      ],
      "metadata": {
        "colab": {
          "base_uri": "https://localhost:8080/"
        },
        "id": "Z0_xZWfleSAQ",
        "outputId": "b295165c-ce7f-4052-98f6-febc8083ed48"
      },
      "execution_count": null,
      "outputs": [
        {
          "name": "stdout",
          "output_type": "stream",
          "text": [
            "4 42\n"
          ]
        }
      ]
    },
    {
      "cell_type": "markdown",
      "source": [
        "정답이지만 아래에 알고리즘 란을 눌러보니\n",
        "bfs로도 해당 문제를 접근 할 수 있다는 힌트를 보게 되었다.\n",
        "\n",
        "그래서 BFS방식으로도 풀어 볼까 한다. "
      ],
      "metadata": {
        "id": "5CMswfBekvSl"
      }
    },
    {
      "cell_type": "code",
      "source": [
        "from collections import deque \n",
        "\n",
        "a,b = map(int,input().split())\n",
        "result = -1\n",
        "que = deque([(a,1)])\n",
        "while que:\n",
        "  i,cnt  = que.popleft()\n",
        "  #  a==b 가 되는 시점이라면\n",
        "  if i == b:\n",
        "    result = cnt\n",
        "    break\n",
        "  # 역시 2를 곱해줘도 b보다는 작아야한다.\n",
        "  if i*2 <= b:\n",
        "    que.append((i*2,cnt+1))\n",
        "  # 1을 더해주는 것 b보다 작아야한다.\n",
        "  if (i*10 +1) <= b: \n",
        "    que.append((i*10+1,cnt+1))\n",
        "\n",
        "print(result)"
      ],
      "metadata": {
        "colab": {
          "base_uri": "https://localhost:8080/"
        },
        "id": "doc6quPClRj9",
        "outputId": "0999940a-a3c0-4989-fe50-4b69f2ecb86d"
      },
      "execution_count": null,
      "outputs": [
        {
          "output_type": "stream",
          "name": "stdout",
          "text": [
            "2 162\n",
            "5\n"
          ]
        }
      ]
    },
    {
      "cell_type": "markdown",
      "source": [
        "잘 해결이 된 것 같다. 이렇게 카운트를 뒤에 같이 적어주는 방식은 굉장히 자주 나오는 방식이여서 쉽게 접근을 하였다."
      ],
      "metadata": {
        "id": "fMerAHYrmxo_"
      }
    },
    {
      "cell_type": "markdown",
      "source": [
        "2437번 저울 \n",
        "---\n",
        "\n",
        "시간 제한 1초 무게는 1,000,000까지\n",
        "\n",
        "포인트는 \n",
        "오름차순 + 여태까지의 배열의 합 +1 이 다음 추보다 크면 그 다음 추를 이용해서 구현을 하지 못한다.\n",
        "\n",
        "어디선가 한번 보았던 문제 같다."
      ],
      "metadata": {
        "id": "xbs9_EMFm3F6"
      }
    },
    {
      "cell_type": "code",
      "source": [
        "n = int(input())\n",
        "\n",
        "arr = list(map(int,input().split()))\n",
        "arr.sort()\n",
        "\n",
        "result = 1\n",
        "for i in arr:\n",
        "  if result <i :\n",
        "    break\n",
        "  result += i\n",
        "\n",
        "print(result)"
      ],
      "metadata": {
        "id": "TyfjSyCZnJUR"
      },
      "execution_count": null,
      "outputs": []
    },
    {
      "cell_type": "code",
      "source": [
        "https://www.acmicpc.net/problem/7569"
      ],
      "metadata": {
        "id": "BvnJRPUosI7P"
      },
      "execution_count": null,
      "outputs": []
    },
    {
      "cell_type": "markdown",
      "source": [
        "2096번 내려가기\n",
        "----\n",
        "\n",
        "해당 문제는 비슷한 문제를 DP에서 풀어본것 같다.\n",
        "\n",
        "포인트는 아래로 진행을 할때 아래나 아래에 붙어있는 수로만 이동이 가능하다는 것이며\n",
        "\n",
        "최종 결과 값은 최대 점수와 최소 점수를 구하는것이고 DP 테이블을 이용하면 될 것같다."
      ],
      "metadata": {
        "id": "m_wPxTACaVmy"
      }
    },
    {
      "cell_type": "code",
      "source": [
        "n = int(input())\n",
        "\n",
        "# 그래프 삽입\n",
        "graph = []\n",
        "for _ in range(n):\n",
        "  graph.append(list(map(int,input().split())))\n",
        "\n",
        "# 방향 벡터\n",
        "dx = [-1,1,0,0]\n",
        "dy = [0,0,1,-1]\n",
        "\n",
        "# 최대 값을 구하는 메소드\n",
        "def max_graph(graph):\n",
        "  dp = [[0]*3 for _ in range(n) ]\n",
        "  dp[0] = graph[0]\n",
        "  for i in range(1,n):\n",
        "    for j in range(0,3):\n",
        "      if j == 0:\n",
        "        dp[i][j] = graph[i][j]+ max(dp[i-1][j],dp[i-1][j+1])\n",
        "      elif  j == 1:\n",
        "        dp[i][j] = graph[i][j]+ max(dp[i-1][j],dp[i-1][j+1],dp[i-1][j-1])\n",
        "      else:\n",
        "        dp[i][j] = graph[i][j]+ max(dp[i-1][j],dp[i-1][j-1])\n",
        "  \n",
        "  return max(dp[n-1])\n",
        "\n",
        "# 최소값\n",
        "def min_graph(graph):\n",
        "  dp = [[0]*3 for _ in range(n) ]\n",
        "  dp[0] = graph[0]\n",
        "  for i in range(1,n):\n",
        "    for j in range(0,3):\n",
        "      if j == 0:\n",
        "        dp[i][j] = graph[i][j]+ min(dp[i-1][j],dp[i-1][j+1])\n",
        "      elif  j == 1:\n",
        "        dp[i][j] = graph[i][j]+ min(dp[i-1][j],dp[i-1][j+1],dp[i-1][j-1])\n",
        "      else:\n",
        "        dp[i][j] = graph[i][j]+ min(dp[i-1][j],dp[i-1][j-1])\n",
        "  \n",
        "  return min(dp[n-1])\n",
        "print(max_graph(graph), end = \" \")\n",
        "print(min_graph(graph))"
      ],
      "metadata": {
        "colab": {
          "base_uri": "https://localhost:8080/"
        },
        "id": "yH9uB5m9cHrx",
        "outputId": "c57f0df0-c2ca-4ffc-94c2-451a47c34b85"
      },
      "execution_count": 3,
      "outputs": [
        {
          "output_type": "stream",
          "name": "stdout",
          "text": [
            "3\n",
            "1 2 3\n",
            "4 5 6\n",
            "4 9 0\n",
            "18 6\n"
          ]
        }
      ]
    },
    {
      "cell_type": "markdown",
      "source": [
        "메모리 제한에 걸렸다. 입출력에서 문제였을까 한번 sys를 사용해보겠다."
      ],
      "metadata": {
        "id": "CAx-j6zCfXkT"
      }
    },
    {
      "cell_type": "code",
      "source": [
        "import sys\n",
        "input = sys.stdin.readline\n",
        "\n",
        "n = int(input())\n",
        "\n",
        "# 그래프 삽입\n",
        "graph = []\n",
        "for _ in range(n):\n",
        "  graph.append(list(map(int,input().split())))\n",
        "  \n",
        "# 최대 값을 구하는 메소드\n",
        "def max_graph(graph):\n",
        "  dp = [[0]*3 for _ in range(n) ]\n",
        "  dp[0] = graph[0]\n",
        "  for i in range(1,n):\n",
        "    for j in range(0,3):\n",
        "      if j == 0:\n",
        "        dp[i][j] = graph[i][j]+ max(dp[i-1][j],dp[i-1][j+1])\n",
        "      elif  j == 1:\n",
        "        dp[i][j] = graph[i][j]+ max(dp[i-1][j],dp[i-1][j+1],dp[i-1][j-1])\n",
        "      else:\n",
        "        dp[i][j] = graph[i][j]+ max(dp[i-1][j],dp[i-1][j-1])\n",
        "  \n",
        "  return max(dp[n-1])\n",
        "\n",
        "# 최소값\n",
        "def min_graph(graph):\n",
        "  dp = [[0]*3 for _ in range(n) ]\n",
        "  dp[0] = graph[0]\n",
        "  for i in range(1,n):\n",
        "    for j in range(0,3):\n",
        "      if j == 0:\n",
        "        dp[i][j] = graph[i][j]+ min(dp[i-1][j],dp[i-1][j+1])\n",
        "      elif  j == 1:\n",
        "        dp[i][j] = graph[i][j]+ min(dp[i-1][j],dp[i-1][j+1],dp[i-1][j-1])\n",
        "      else:\n",
        "        dp[i][j] = graph[i][j]+ min(dp[i-1][j],dp[i-1][j-1])\n",
        "  \n",
        "  return min(dp[n-1])\n",
        "  \n",
        "print(max_graph(graph), end = \" \")\n",
        "print(min_graph(graph))"
      ],
      "metadata": {
        "id": "OZxpH01bfV-B"
      },
      "execution_count": null,
      "outputs": []
    },
    {
      "cell_type": "markdown",
      "source": [
        "다른 부분을 생각해보니 dp를 두개를 선언해서 그런건가 싶어서 코드를 조금 수정해 보았다.\n",
        "\n",
        "dp 테이블 선언 graph선언 등 너무 많은 메모리를 사용하는 것이 문제인것 같아서 \n",
        "새로운 방식을 택하였다.\n",
        "\n",
        "각줄마다 임시로 저장해가면서 내려가는 방식을 사용했다."
      ],
      "metadata": {
        "id": "FNrVsPIXgGbD"
      }
    },
    {
      "cell_type": "code",
      "source": [
        "import sys\n",
        "\n",
        "input = sys.stdin.readline\n",
        "\n",
        "n =  int(input())\n",
        "\n",
        "# 이전까지의 계산된 한줄의 dp\n",
        "max_dp = [0] *3\n",
        "min_dp = [0] *3\n",
        "\n",
        "# 한줄씩 계산한 임시 값 저장할 리스트\n",
        "max_temp = [0] * 3\n",
        "min_temp = [0] * 3\n",
        "\n",
        "# 아래 방식은 위의 방식과 동일하다.\n",
        "for i in range(n):\n",
        "    a, b, c = map(int, input().split())\n",
        "    for j in range(3):\n",
        "        if j == 0:\n",
        "            max_temp[j] = a + max(max_dp[j], max_dp[j + 1])\n",
        "            min_temp[j] = a + min(min_dp[j], min_dp[j + 1])\n",
        "        elif j == 1:\n",
        "            max_temp[j] = b + max(max_dp[j - 1], max_dp[j], max_dp[j + 1])\n",
        "            min_temp[j] = b + min(min_dp[j - 1], min_dp[j], min_dp[j + 1])\n",
        "        else:\n",
        "            max_temp[j] = c + max(max_dp[j], max_dp[j - 1])\n",
        "            min_temp[j] = c + min(min_dp[j], min_dp[j - 1])\n",
        "\n",
        "    for j in range(3):\n",
        "        max_dp[j] = max_temp[j]\n",
        "        min_dp[j] = min_temp[j]\n",
        "\n",
        "print(max(max_dp), min(min_dp))\n"
      ],
      "metadata": {
        "id": "gSKy2y2ygvQg"
      },
      "execution_count": null,
      "outputs": []
    },
    {
      "cell_type": "markdown",
      "source": [
        "이렇게 전형적인 DP 문제이지만 주어진 수의 크기와 같이 메모리 부분에서도 제한사항을 주어서 오답을 유발할 수 있는 요소가 있다는 것을 보여준 문제였다. 수행시간 이외에도 메모리 역시 한번씩 확인해주는 습관이 필요할 것 같다."
      ],
      "metadata": {
        "id": "EwCQ_q6qirJc"
      }
    },
    {
      "cell_type": "markdown",
      "source": [
        "7579번 앱\n",
        "---\n",
        "\n",
        "냅색 알고리즘 문제로 해당 문제를 풀면서 다시 개념을 정리하였다.(내가 개념으로만 배워서 약한 부분이기도하고)\n",
        "\n",
        "보통 냅색 알고리즘은 표를 통해서 접근을 한다.\n",
        "\n",
        "가로줄엔 하나씩 담을 수 있는 무게\n",
        "세로줄엔 각 앱을 담아서 표를 그려봐야한다.\n",
        "\n",
        "1. 현재 앱의 cost가 j보다 크면 끄지못한다.\n",
        "  dp[i][j] = do[i-1][j]\n",
        "\n",
        "2. 현재 앱을 끈뒤 메모리와 그렇지 않을 경우 메모리 중 큰값을 dp에 입력\n",
        "  dp[i][j] = max(byte+ dp[i-1][j-cost],dp[i-1][j])\n",
        "\n",
        "3. dp[i][j]가 원하는 값 이상이라면 현재 cost와 result 중 작은 값을 가져온다.\n",
        "  result = min(result,j)\n",
        "\n",
        "** 냅색 문제에는 두가지가 있는데\n",
        "1. 담을 수 있는 물건이 나누어 질때 \n",
        "2. 담을 수 있는 물건이 나누어 질 수 없을때\n",
        "\n",
        "인데\n",
        "해당 문제는 2번이다.\n"
      ],
      "metadata": {
        "id": "Rf6ZxLYhi3Av"
      }
    },
    {
      "cell_type": "code",
      "source": [
        "import sys \n",
        "input = sys.stdin.readline\n",
        "\n",
        "n, m = map(int, input().split())\n",
        "mem = [0] + list(map(int, input().split())) \n",
        "cost_lst = [0] + list(map(int, input().split())) \n",
        "# dp 선언\n",
        "dp = [[0 for _ in range(sum(cost_lst)+1)] for _ in range(n+1)] \n",
        "result = sum(cost_lst) #최댓값\n",
        "\n",
        "for i in range(1, n+1):\n",
        "    byte = mem[i]\n",
        "    cost = cost_lst[i]\n",
        "    \n",
        "    for j in range(1, sum(cost_lst) + 1):\n",
        "       # 1번상황\n",
        "        if j < cost: \n",
        "            dp[i][j] = dp[i-1][j]\n",
        "        # 2번상황\n",
        "        else:\n",
        "            dp[i][j] = max(byte + dp[i-1][j-cost], dp[i-1][j])\n",
        "        # 3번 상황    \n",
        "        if dp[i][j] >= m: \n",
        "            result = min(result, j) \n",
        "if m != 0:\n",
        "    print(result)\n",
        "else:\n",
        "    print(0)"
      ],
      "metadata": {
        "id": "l74ZBNj7lPJG"
      },
      "execution_count": null,
      "outputs": []
    },
    {
      "cell_type": "markdown",
      "source": [
        "냅색 문제의 부족함을 알았으니 다음 알고리즘때는 냅색 문제를 몇개 더 풀어봐야겠다."
      ],
      "metadata": {
        "id": "iwYb9ITLtl8q"
      }
    }
  ]
}