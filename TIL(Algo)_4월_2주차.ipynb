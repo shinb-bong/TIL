{
  "nbformat": 4,
  "nbformat_minor": 0,
  "metadata": {
    "colab": {
      "name": "TIL(Algo)-4월 2주차.ipynb",
      "provenance": [],
      "collapsed_sections": [],
      "authorship_tag": "ABX9TyP+bFrmeYZCa69KnsVtoF+U",
      "include_colab_link": true
    },
    "kernelspec": {
      "name": "python3",
      "display_name": "Python 3"
    },
    "language_info": {
      "name": "python"
    }
  },
  "cells": [
    {
      "cell_type": "markdown",
      "metadata": {
        "id": "view-in-github",
        "colab_type": "text"
      },
      "source": [
        "<a href=\"https://colab.research.google.com/github/shinb-bong/TIL/blob/main/TIL(Algo)_4%EC%9B%94_2%EC%A3%BC%EC%B0%A8.ipynb\" target=\"_parent\"><img src=\"https://colab.research.google.com/assets/colab-badge.svg\" alt=\"Open In Colab\"/></a>"
      ]
    },
    {
      "cell_type": "markdown",
      "source": [
        "Review\n",
        "===\n",
        "\n",
        "저번 주는 PHP와 REACT를 하다보니 CSS 파트가 학과 수업을 들은지 오래된 파트다 보니 기억이 애매해서 자꾸 원하는 방향으로 나오지 않았다.\n",
        "\n",
        "그래서 HTML과 CSS파트의 부족한 부분을 보완을 하다보니 알고리즘에 소홀히한 주였다. 물론SQLD 합격에 기분이 좋아서 놀았던것도 있다... ㅠㅠ\n",
        "\n",
        "대신 TIL에 HTML/CSS 파트를 추가하였다.\n",
        "\n",
        "그리고 방향성을 너무 한쪽으로만 치중하지 않는 쪽으로 잘 분배해서 해가려고 한다."
      ],
      "metadata": {
        "id": "XZhW2uvzdedG"
      }
    },
    {
      "cell_type": "markdown",
      "source": [
        "16953번 A->B\n",
        "---\n",
        "\n",
        "코드 풀이:\n",
        "\n",
        "일단 b가 a로 안될경우 안될경우 -1 을 출력하니깐 a==b 가 같을 경우만 해결을 해줬다.\n",
        "\n",
        "b가 a보다 기본적으로 큰데 작아졌을 경우나 혹은 더이상 진행을 할 수 없을때 -1 로 만들어주었다.\n",
        "\n",
        "그리고 아래에는 진행이 가능한 경우 문제의 풀이에 따라 greedy 방식으로 10을 나누어 주는 경우를 정했다. \n",
        "\n"
      ],
      "metadata": {
        "id": "iwK0at-1eTKE"
      }
    },
    {
      "cell_type": "code",
      "source": [
        "a,b = map(int,input().split())\n",
        "result = 1\n",
        "\n",
        "while True:\n",
        "  if a==b :\n",
        "    break\n",
        "  elif (b%2 != 0 and b%10 !=1) or (b < a):\n",
        "    result = -1\n",
        "    break\n",
        "  else: \n",
        "    if b % 10 ==1:\n",
        "      b//=10\n",
        "      result +=1\n",
        "    else:\n",
        "      b //= 2\n",
        "      result += 1\n",
        "\n",
        "print(result)"
      ],
      "metadata": {
        "colab": {
          "base_uri": "https://localhost:8080/"
        },
        "id": "Z0_xZWfleSAQ",
        "outputId": "b295165c-ce7f-4052-98f6-febc8083ed48"
      },
      "execution_count": 7,
      "outputs": [
        {
          "name": "stdout",
          "output_type": "stream",
          "text": [
            "4 42\n"
          ]
        }
      ]
    },
    {
      "cell_type": "markdown",
      "source": [
        "정답이지만 아래에 알고리즘 란을 눌러보니\n",
        "bfs로도 해당 문제를 접근 할 수 있다는 힌트를 보게 되었다.\n",
        "\n",
        "그래서 BFS방식으로도 풀어 볼까 한다. "
      ],
      "metadata": {
        "id": "5CMswfBekvSl"
      }
    },
    {
      "cell_type": "code",
      "source": [
        "from collections import deque \n",
        "\n",
        "a,b = map(int,input().split())\n",
        "result = -1\n",
        "que = deque([(a,1)])\n",
        "while que:\n",
        "  i,cnt  = que.popleft()\n",
        "  #  a==b 가 되는 시점이라면\n",
        "  if i == b:\n",
        "    result = cnt\n",
        "    break\n",
        "  # 역시 2를 곱해줘도 b보다는 작아야한다.\n",
        "  if i*2 <= b:\n",
        "    que.append((i*2,cnt+1))\n",
        "  # 1을 더해주는 것 b보다 작아야한다.\n",
        "  if (i*10 +1) <= b: \n",
        "    que.append((i*10+1,cnt+1))\n",
        "\n",
        "print(result)"
      ],
      "metadata": {
        "colab": {
          "base_uri": "https://localhost:8080/"
        },
        "id": "doc6quPClRj9",
        "outputId": "0999940a-a3c0-4989-fe50-4b69f2ecb86d"
      },
      "execution_count": 9,
      "outputs": [
        {
          "output_type": "stream",
          "name": "stdout",
          "text": [
            "2 162\n",
            "5\n"
          ]
        }
      ]
    },
    {
      "cell_type": "markdown",
      "source": [
        "잘 해결이 된 것 같다. 이렇게 카운트를 뒤에 같이 적어주는 방식은 굉장히 자주 나오는 방식이여서 쉽게 접근을 하였다."
      ],
      "metadata": {
        "id": "fMerAHYrmxo_"
      }
    },
    {
      "cell_type": "markdown",
      "source": [
        "2437번 저울 \n",
        "---\n",
        "\n",
        "시간 제한 1초 무게는 1,000,000까지\n",
        "\n",
        "포인트는 \n",
        "오름차순 + 여태까지의 배열의 합 +1 이 다음 추보다 크면 그 다음 추를 이용해서 구현을 하지 못한다.\n",
        "\n",
        "어디선가 한번 보았던 문제 같다."
      ],
      "metadata": {
        "id": "xbs9_EMFm3F6"
      }
    },
    {
      "cell_type": "code",
      "source": [
        "n = int(input())\n",
        "\n",
        "arr = list(map(int,input().split()))\n",
        "arr.sort()\n",
        "\n",
        "result = 1\n",
        "for i in arr:\n",
        "  if result <i :\n",
        "    break\n",
        "  result += i\n",
        "\n",
        "print(result)"
      ],
      "metadata": {
        "id": "TyfjSyCZnJUR"
      },
      "execution_count": null,
      "outputs": []
    }
  ]
}