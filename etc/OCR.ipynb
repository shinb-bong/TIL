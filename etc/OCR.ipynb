{
  "nbformat": 4,
  "nbformat_minor": 0,
  "metadata": {
    "colab": {
      "name": "OCR",
      "provenance": [],
      "collapsed_sections": [],
      "authorship_tag": "ABX9TyMSC0FDQyDMiyntM4FKdZIC",
      "include_colab_link": true
    },
    "kernelspec": {
      "name": "python3",
      "display_name": "Python 3"
    },
    "language_info": {
      "name": "python"
    }
  },
  "cells": [
    {
      "cell_type": "markdown",
      "metadata": {
        "id": "view-in-github",
        "colab_type": "text"
      },
      "source": [
        "<a href=\"https://colab.research.google.com/github/shinb-bong/TIL/blob/main/OCR.ipynb\" target=\"_parent\"><img src=\"https://colab.research.google.com/assets/colab-badge.svg\" alt=\"Open In Colab\"/></a>"
      ]
    },
    {
      "cell_type": "code",
      "metadata": {
        "id": "h4nNkGI9dAyr"
      },
      "source": [
        "# 요즘 개발 메타 : 구글 적용\n",
        "\n",
        "# 사진 판독기\n",
        "# pip install Pillow \n",
        "# pip install pytesseract\n",
        "\n",
        "import pytesseract\n",
        "from PIL import Image\n",
        "\n",
        "pytesseract.pytesseract.tesseract_cmd = r'tesseract.exe 실행 파일 적혀있는 주소'\n",
        "\n",
        "a = Image.open('영수증.jpg')\n",
        "\n",
        "result = pytesseract.image_to_string(a, lang= 'kor')\n",
        "\n",
        "print(result)\n",
        "\n"
      ],
      "execution_count": null,
      "outputs": []
    }
  ]
}