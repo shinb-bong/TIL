{
  "nbformat": 4,
  "nbformat_minor": 0,
  "metadata": {
    "colab": {
      "name": "CNN.ipynb",
      "provenance": [],
      "collapsed_sections": [],
      "authorship_tag": "ABX9TyPJIu8OANqEQdMYiqKY3w3V",
      "include_colab_link": true
    },
    "kernelspec": {
      "name": "python3",
      "display_name": "Python 3"
    },
    "language_info": {
      "name": "python"
    }
  },
  "cells": [
    {
      "cell_type": "markdown",
      "metadata": {
        "id": "view-in-github",
        "colab_type": "text"
      },
      "source": [
        "<a href=\"https://colab.research.google.com/github/shinb-bong/TIL/blob/main/CNN.ipynb\" target=\"_parent\"><img src=\"https://colab.research.google.com/assets/colab-badge.svg\" alt=\"Open In Colab\"/></a>"
      ]
    },
    {
      "cell_type": "markdown",
      "source": [
        "activation = \"relu\" \n",
        "- 음의 값은 0으로 처리\n",
        "\n",
        "sigmoid: 결과를 0~1 로 압축\n",
        "- binary 예측 문제에서 사용 (0/1)\n",
        "- 마지막 노드 갯수 1개\n",
        "\n",
        "softmax: 결과를 0~1 로 압축\n",
        "- 카테고리 예측 문제에 사용\n",
        "\n"
      ],
      "metadata": {
        "id": "zlM-MBH-H9NI"
      }
    },
    {
      "cell_type": "markdown",
      "source": [
        "model.summary()\n",
        "\n",
        "- 모델의 아웃라인 출력해보기\n",
        "- input_shape=() 있어야함\n",
        "\n",
        "\n",
        "tf.keras.layers.Flatten()\n",
        "- 3dim이 된 레이어를 1dim으로 압축 "
      ],
      "metadata": {
        "id": "Cwkxpmr9Ir7d"
      }
    },
    {
      "cell_type": "markdown",
      "source": [
        "이미지 데이터를 Flatten 해버리면 문제점들이 생김\n",
        "1. 조금만 움직여도 적용이 안되는 긴 1 dimension이 계속 누적됨\n",
        "\n",
        "해결책: convolution layer\n",
        "\n",
        "feature extraction\n",
        "1. 이미지 중요한 정보를 추려서 복사본 20장을 만듬\n",
        "2. 이미지의 중요한 feature, 특성이 담겨있다.\n",
        "3. 이것을 통해 학습 진행  \n",
        "\n",
        "\n",
        "==> 디지털 영상처리때 배운 내용\n",
        "\n",
        "하지만 이것 역시 문제점이 있다.\n",
        "feature의 위치에 따라 오류 발생\n",
        "\n",
        "해결책: Pooling layer  ==> 디지털 영상처리에서 이것도 배움\n",
        "translation invariance\n",
        "\n",
        "\n",
        "Input - filters - convoultion - pooling - flatten"
      ],
      "metadata": {
        "id": "BXYmiXVAJ8W7"
      }
    },
    {
      "cell_type": "code",
      "execution_count": null,
      "metadata": {
        "id": "X9FahUVSHqWQ"
      },
      "outputs": [],
      "source": [
        "import tensorflow as tf\n",
        "import numpy as np \n",
        "\n",
        "trainX.reshape((trainX.shape[0],28,28,1))\n",
        "\n",
        "model = tf.kears.layers.Conv2D([\n",
        "                                # 이미지는 - 가 없다, Conv2D는 4차원의 데이터가 필요함\n",
        "                                tf.keras.layers.Conv2D(32,(3,3),padding=\"same\",activaition=\"relu\", input_shape=(28,28,1)),\n",
        "                                tf.keras.layers.MaxPooling2D((2,2))\n",
        "])"
      ]
    },
    {
      "cell_type": "markdown",
      "source": [
        "이미지 데이터 전처리\n",
        "---\n",
        "\n",
        "보통 0~1로 압축해서 넣는다.\n",
        "\n",
        "model.evaluate(testX, testY)\n",
        "- 학습후 모델 평가하기\n",
        "첫번째는 loss , accuracy\n",
        "\n",
        "근데 가끔 evaluate가 낮을 경우가 있음 => overfitting\n",
        "- 학습할때 학습데이터를 컴퓨터가 외워서 그렇다.\n",
        "\n",
        "\n"
      ],
      "metadata": {
        "id": "YeXUEcRYNANX"
      }
    },
    {
      "cell_type": "code",
      "source": [
        ""
      ],
      "metadata": {
        "id": "75DKUpmGN-3u"
      },
      "execution_count": null,
      "outputs": []
    }
  ]
}