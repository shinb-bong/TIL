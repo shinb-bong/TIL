{
  "nbformat": 4,
  "nbformat_minor": 0,
  "metadata": {
    "colab": {
      "name": "TIL 3월 4주차의 기록.ipynb",
      "provenance": [],
      "collapsed_sections": [],
      "authorship_tag": "ABX9TyOnPsUUnAhbpRHWJdECK3Cz",
      "include_colab_link": true
    },
    "kernelspec": {
      "name": "python3",
      "display_name": "Python 3"
    },
    "language_info": {
      "name": "python"
    }
  },
  "cells": [
    {
      "cell_type": "markdown",
      "metadata": {
        "id": "view-in-github",
        "colab_type": "text"
      },
      "source": [
        "<a href=\"https://colab.research.google.com/github/shinb-bong/TIL/blob/main/TIL_3%EC%9B%94_4%EC%A3%BC%EC%B0%A8%EC%9D%98_%EA%B8%B0%EB%A1%9D.ipynb\" target=\"_parent\"><img src=\"https://colab.research.google.com/assets/colab-badge.svg\" alt=\"Open In Colab\"/></a>"
      ]
    },
    {
      "cell_type": "markdown",
      "source": [
        "해당 주차는 PHP+MySQL 공부에 투자를 많이하는 주였다.\n",
        "회원기능과 DB를 연결하는 과정의 클론 프로젝트를 하였다.\n",
        "\n",
        "하지만 알고리즘은 꾸준하게 해야하기 때문에 틈틈히 하려고 한다."
      ],
      "metadata": {
        "id": "3teptgZktVVk"
      }
    },
    {
      "cell_type": "markdown",
      "source": [
        "2352번 반도체 설계\n",
        "----\n",
        "https://www.acmicpc.net/problem/2352\n",
        "\n",
        "주어진 수가 40,000으로 N^2 만해도 1초가 넘어간다. 그러면 이분 탐색으로 진행을 해야 할 것 같다.\n",
        "\n",
        "서로 겹치면 안되는 걸로 보아 LIS로 접근을 해야하면 좋을 것 같다.\n",
        "\n",
        "하지만 LIS 개념만 기억이 나고 어떻게 구현을 했는지 기억이 나질않는다.\n",
        "\n",
        "그래서 해당 \n",
        "https://seungkwan.tistory.com/8 블로그를 참고했다.\n",
        "\n",
        "또한 lower upper은 bisect로 구현을 하면될 것 같아서 bisect로 구현하였다.\n"
      ],
      "metadata": {
        "id": "t5UHCi0bt1Tl"
      }
    },
    {
      "cell_type": "code",
      "source": [
        "// LIS\n",
        "\n",
        "import sys\n",
        "import bisect\n",
        "input = sys.stdin.readline\n",
        "\n",
        "N = int(input())\n",
        "port = list(map(int, input().split()))\n",
        "\n",
        "result = [port[0]] # 처음에는 하나를 담아준다.\n",
        "\n",
        "for x in range(1, N): # 모든 경우를 살펴본다.\n",
        "    if port[x] > result[-1]: # 만약 지금 가지고 있는 수보다 큰 수가 들어온다면\n",
        "        result.append(port[x])\n",
        "    else:\n",
        "        index = bisect.bisect_left(result, port[x]) # 아니라면 비교해 준뒤 그 자리를 가져간다.\n",
        "        result[index] = port[x]\n",
        "\n",
        "print(len(result))"
      ],
      "metadata": {
        "id": "-ocLmHB-thqv"
      },
      "execution_count": null,
      "outputs": []
    },
    {
      "cell_type": "markdown",
      "source": [
        "11721번 열개씩 끊어 출력하기\n",
        "---\n",
        "\n",
        "10개씩 끊어서 출력하는 문제이다."
      ],
      "metadata": {
        "id": "DjIevnlzf8fl"
      }
    },
    {
      "cell_type": "code",
      "source": [
        "n = input()\n",
        "\n",
        "length = len(n)\n",
        "\n",
        "for i in range(0,length,10):\n",
        "  print(n[i:i+10])"
      ],
      "metadata": {
        "id": "inJprx92gDhy"
      },
      "execution_count": null,
      "outputs": []
    },
    {
      "cell_type": "markdown",
      "source": [
        "1365번 꼬인 전깃줄\n",
        "--\n",
        "\n",
        "이건 LIS 문제인데 잘라내야하는 전선의 최소 개수를 구하는 문제이다.\n",
        "\n"
      ],
      "metadata": {
        "id": "PHwnrMG8UwaU"
      }
    },
    {
      "cell_type": "code",
      "source": [
        "from bisect import bisect_left\n",
        "n = int(input())\n",
        "\n",
        "arr = list(map(int,input().split()))\n",
        "# LIS 구현 \n",
        "\n",
        "dp= [arr[0]]\n",
        "for i  in range(n):\n",
        "  if arr[i] > dp[-1]:\n",
        "    dp.append(arr[i])\n",
        "  else:\n",
        "    idx = bisect_left(dp,arr[i]) # 자리를 찾아준뒤 넣어준다.\n",
        "    dp[idx] = arr[i]\n",
        "\n",
        "print(n - len(dp))"
      ],
      "metadata": {
        "colab": {
          "base_uri": "https://localhost:8080/"
        },
        "id": "MRQVj13sU59C",
        "outputId": "e5ab1da8-b6d0-44c8-894e-fe791c645e0b"
      },
      "execution_count": 3,
      "outputs": [
        {
          "output_type": "stream",
          "name": "stdout",
          "text": [
            "4\n",
            "2 3 4 1\n",
            "1\n"
          ]
        }
      ]
    },
    {
      "cell_type": "markdown",
      "source": [
        "2589번 보물섬\n",
        "---\n",
        "\n",
        "BFS/DFS 문제이다. + 1,0 이 아닌 문자로 이루어 져있다. 또한 보물은 서로간에 최단 거리로 이동하는데 있어 가장 긴 시간이 걸리는 육지 두곳에 나뉘어저 있다.=> 최단거리 테이블중 가장 먼곳 \n"
      ],
      "metadata": {
        "id": "S-gcuPPtWSpm"
      }
    },
    {
      "cell_type": "code",
      "source": [
        "from collections import deque\n",
        "# 행, 열\n",
        "n,m = map(int,input().split())\n",
        "\n",
        "# 그래프 입력\n",
        "graph= []\n",
        "for _ in range(n):\n",
        "  graph.append(list(input()))\n",
        "\n",
        "# 방향 벡터 작성\n",
        "dx =[-1,1,0,0]\n",
        "dy =[0,0,1,-1]\n",
        "# 결과\n",
        "result = 0\n",
        "\n",
        "# BFS 시작\n",
        "def bfs(a,b):\n",
        "  visited = [[0]*m for _ in range(n)  ]\n",
        "  max_n = 0\n",
        "  q = deque()\n",
        "  q.append((a,b))\n",
        "  visited[a][b] = 1\n",
        "  while q:\n",
        "    x,y = q.popleft()\n",
        "    for i in range(4):\n",
        "      nx = x + dx[i]\n",
        "      ny = y + dy[i]\n",
        "      if 0<= nx < n and 0<= ny <m:\n",
        "        if graph[nx][ny] == \"L\" and visited[nx][ny] == 0:\n",
        "          visited[nx][ny] = visited[x][y]+1\n",
        "          max_n = max(max_n,visited[nx][ny])\n",
        "          q.append((nx,ny))\n",
        "          \n",
        "  return max_n-1\n",
        "\n",
        "for i in range(n):\n",
        "  for j in range(m):\n",
        "    if graph[i][j]==\"L\":\n",
        "      result = max(result,bfs(i,j)) \n",
        "print(result)\n"
      ],
      "metadata": {
        "id": "awVZmcEZXBuO"
      },
      "execution_count": null,
      "outputs": []
    },
    {
      "cell_type": "markdown",
      "source": [
        "\n",
        "풀이방식 접근 방식 다맞았으나 처음에 방향벡터를 잘못 적어줘서 계속해서 오답이 나왔다. 이러한 잔실수를 줄여야겠다."
      ],
      "metadata": {
        "id": "J3wHsRs5gjkr"
      }
    },
    {
      "cell_type": "markdown",
      "source": [
        "이분탐색 문제하나 더 \n",
        "\n",
        "3745번 오름세\n",
        "---\n",
        "\n",
        "음 내용만 읽어봤을땐 이것도 LIS 같은데 한번 LIS로 풀어보도록하겠다.\n",
        "\n"
      ],
      "metadata": {
        "id": "HvvyP1TMWWbr"
      }
    },
    {
      "cell_type": "code",
      "source": [
        "from bisect import bisect_left\n",
        "\n",
        "while input():\n",
        "  arr =list(map(int,input().split()))\n",
        "  dp = [arr[0]]\n",
        "  for i in range(len(arr)):\n",
        "    if arr[i] > dp[-1]:\n",
        "      dp.append(arr[i])\n",
        "    else:\n",
        "      idx = bisect_left(dp,arr[i])\n",
        "      dp[idx] = arr[i]\n",
        "  print(len(dp))"
      ],
      "metadata": {
        "id": "XMi2N5gakA91"
      },
      "execution_count": null,
      "outputs": []
    },
    {
      "cell_type": "markdown",
      "source": [
        "EOFError 가 떴다.\n",
        "\n",
        "해결 방법을 찾아보니 try catch문을 사용하여 EOF를 exit해야한다고 한다."
      ],
      "metadata": {
        "id": "fN-I40pmmAfU"
      }
    },
    {
      "cell_type": "code",
      "source": [
        "from bisect import bisect_left\n",
        "\n",
        "try:\n",
        "  while input():\n",
        "    arr =list(map(int,input().split()))\n",
        "    dp = [arr[0]]\n",
        "    for i in range(len(arr)):\n",
        "      if arr[i] > dp[-1]:\n",
        "        dp.append(arr[i])\n",
        "      else:\n",
        "        idx = bisect_left(dp,arr[i])\n",
        "        dp[idx] = arr[i]\n",
        "    print(len(dp))\n",
        "except:\n",
        "  exit()"
      ],
      "metadata": {
        "id": "yrqBCqOHmLsU"
      },
      "execution_count": null,
      "outputs": []
    },
    {
      "cell_type": "markdown",
      "source": [
        "17140번 이차원 배열과 연산\n",
        "---\n",
        "\n",
        "1. 수의 등장횟수가 커지는 순 => 수가 커지는 순으로 정렬\n",
        "\n",
        "2. 그 다음에는 다시 배열 A에 정렬된 결과를 넣어야함."
      ],
      "metadata": {
        "id": "pp6C6A7Lmi8c"
      }
    },
    {
      "cell_type": "code",
      "source": [
        "# A[r][c] = k 가 되는 값 \n",
        "r,c, k = map(int,input().split())\n",
        "\n",
        "# 3x3\n",
        "arr = []\n",
        "for _ in range(3):\n",
        "  arr.append(list(map,input().split()))\n",
        "\n",
        "\n",
        "def checkoperator(a): ## R연산이면 True C연산이면 False\n",
        "    row = len(a)\n",
        "    col = len(a[0])\n",
        "    if row >= col:\n",
        "        return True\n",
        "    else:\n",
        "        return False\n",
        "\n",
        "def sorting(board):\n",
        "  rtn = []\n",
        "  cnt = 0\n",
        "  for row in board:\n",
        "    d = {}\n",
        "    for e in row:\n",
        "      if e == 0: #0 은 취급하지 않는다.\n",
        "        continue\n",
        "      if e in d : # 이미나왔던 것이라면\n",
        "        d[e] += 1\n",
        "      else:\n",
        "        d[e] = 1\n",
        "      \n",
        "    t = list(zip(d.keys(),d.values()))\n",
        "    t.sort(key = lambda x : (x[1],x[0]))\n",
        "    if len(t) >= 100:\n",
        "      t = t[0:100]\n",
        "      tmp = []\n",
        "      for x in t:\n",
        "          tmp.append(x[0])\n",
        "          tmp.append(x[1])\n",
        "      cnt = max(cnt, len(tmp))\n",
        "      rtn.append(tmp)\n",
        "  for i in range(len(rtn)):\n",
        "      while len(rtn[i]) != cnt:\n",
        "          rtn[i].append(0)\n",
        "  return rtn\n",
        "\n",
        "time = 0\n",
        "while time <= 100:\n",
        "    if len(a) >= r and len(a[0]) >= c:\n",
        "        if a[r-1][c-1] == k:\n",
        "            break\n",
        "\n",
        "    if checkoperator(a): ## R연산인경우\n",
        "        a = sorting(a)\n",
        "    else:\n",
        "        a = list(map(list,zip(*a)))\n",
        "        a = sorting(a)\n",
        "        a = list(map(list,zip(*a)))\n",
        "    time += 1\n",
        "\n",
        "if time == 101:\n",
        "    time = -1\n",
        "print(time)"
      ],
      "metadata": {
        "id": "aaooZsF1pbn6"
      },
      "execution_count": null,
      "outputs": []
    },
    {
      "cell_type": "markdown",
      "source": [
        "구현파트, 정렬의 총 집합인 문제였다...\n",
        "\n",
        "https://velog.io/@wook2pp/%EB%B0%B1%EC%A4%80-17140-%EC%9D%B4%EC%B0%A8%EC%9B%90-%EB%B0%B0%EC%97%B4%EA%B3%BC-%EC%97%B0%EC%82%B0 를 참고하였다.\n",
        "\n",
        "또한 zip함수에 관한 내용은\n",
        "https://www.daleseo.com/python-zip/ 를 참고하였다."
      ],
      "metadata": {
        "id": "5ObXeM51qTHe"
      }
    },
    {
      "cell_type": "markdown",
      "source": [
        "추가 검사\n",
        "---"
      ],
      "metadata": {
        "id": "4Um-IYAskBPG"
      }
    },
    {
      "cell_type": "code",
      "source": [
        "print(list(input()))"
      ],
      "metadata": {
        "colab": {
          "base_uri": "https://localhost:8080/"
        },
        "id": "eCm34aUUX8nn",
        "outputId": "f44db566-f61c-4ed7-903f-c3e6dcbd57bc"
      },
      "execution_count": 6,
      "outputs": [
        {
          "output_type": "stream",
          "name": "stdout",
          "text": [
            "WLLWWWL\n",
            "['W', 'L', 'L', 'W', 'W', 'W', 'L']\n"
          ]
        }
      ]
    }
  ]
}