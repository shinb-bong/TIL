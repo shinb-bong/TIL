{
  "nbformat": 4,
  "nbformat_minor": 0,
  "metadata": {
    "colab": {
      "name": "TIL 3월 4주차의 기록.ipynb",
      "provenance": [],
      "collapsed_sections": [],
      "authorship_tag": "ABX9TyPztDq5FkK8Ms8Cps+dUMa8",
      "include_colab_link": true
    },
    "kernelspec": {
      "name": "python3",
      "display_name": "Python 3"
    },
    "language_info": {
      "name": "python"
    }
  },
  "cells": [
    {
      "cell_type": "markdown",
      "metadata": {
        "id": "view-in-github",
        "colab_type": "text"
      },
      "source": [
        "<a href=\"https://colab.research.google.com/github/shinb-bong/TIL/blob/main/TIL_3%EC%9B%94_4%EC%A3%BC%EC%B0%A8%EC%9D%98_%EA%B8%B0%EB%A1%9D.ipynb\" target=\"_parent\"><img src=\"https://colab.research.google.com/assets/colab-badge.svg\" alt=\"Open In Colab\"/></a>"
      ]
    },
    {
      "cell_type": "markdown",
      "source": [
        "해당 주차는 PHP+MySQL 공부에 투자를 많이하는 주였다.\n",
        "\n",
        "하지만 알고리즘은 꾸준하게 해야하기 때문에 틈틈히 하려고 한다."
      ],
      "metadata": {
        "id": "3teptgZktVVk"
      }
    },
    {
      "cell_type": "markdown",
      "source": [
        "2352번 반도체 설계\n",
        "----\n",
        "https://www.acmicpc.net/problem/2352\n",
        "\n",
        "주어진 수가 40,000으로 N^2 만해도 1초가 넘어간다. 그러면 이분 탐색으로 진행을 해야 할 것 같다.\n",
        "\n",
        "서로 겹치면 안되는 걸로 보아 LIS로 접근을 해야하면 좋을 것 같다.\n",
        "\n",
        "하지만 LIS 개념만 기억이 나고 어떻게 구현을 했는지 기억이 나질않는다.\n",
        "\n",
        "그래서 해당 \n",
        "https://seungkwan.tistory.com/8 블로그를 참고했다.\n",
        "\n",
        "또한 lower upper은 bisect로 구현을 하면될 것 같아서 bisect로 구현하였다.\n"
      ],
      "metadata": {
        "id": "t5UHCi0bt1Tl"
      }
    },
    {
      "cell_type": "code",
      "source": [
        "// LIS\n",
        "\n",
        "import sys\n",
        "import bisect\n",
        "input = sys.stdin.readline\n",
        "\n",
        "N = int(input())\n",
        "port = list(map(int, input().split()))\n",
        "\n",
        "result = [port[0]] # 처음에는 하나를 담아준다.\n",
        "\n",
        "for x in range(1, N): # 모든 경우를 살펴본다.\n",
        "    if port[x] > result[-1]: # 만약 지금 가지고 있는 수보다 큰 수가 들어온다면\n",
        "        result.append(port[x])\n",
        "    else:\n",
        "        index = bisect.bisect_left(result, port[x]) # 아니라면 비교해 준뒤 그 자리를 가져간다.\n",
        "        result[index] = port[x]\n",
        "\n",
        "print(len(result))"
      ],
      "metadata": {
        "id": "-ocLmHB-thqv"
      },
      "execution_count": null,
      "outputs": []
    }
  ]
}