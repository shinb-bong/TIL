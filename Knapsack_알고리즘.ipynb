{
  "nbformat": 4,
  "nbformat_minor": 0,
  "metadata": {
    "colab": {
      "name": "Knapsack 알고리즘.ipynb",
      "provenance": [],
      "collapsed_sections": [],
      "authorship_tag": "ABX9TyOtMMBOp9cx75gFRU3RKjrr",
      "include_colab_link": true
    },
    "kernelspec": {
      "name": "python3",
      "display_name": "Python 3"
    },
    "language_info": {
      "name": "python"
    }
  },
  "cells": [
    {
      "cell_type": "markdown",
      "metadata": {
        "id": "view-in-github",
        "colab_type": "text"
      },
      "source": [
        "<a href=\"https://colab.research.google.com/github/shinb-bong/TIL/blob/main/Knapsack_%EC%95%8C%EA%B3%A0%EB%A6%AC%EC%A6%98.ipynb\" target=\"_parent\"><img src=\"https://colab.research.google.com/assets/colab-badge.svg\" alt=\"Open In Colab\"/></a>"
      ]
    },
    {
      "cell_type": "markdown",
      "source": [
        "Knapsack 알고리즘에는 두가지 유형이 존재한다.\n",
        "\n",
        "1. Fraction Knapsack\n",
        "\n",
        "2. 0-1 Knapsack\n",
        "\n",
        "1번 같은 경우\n",
        "\n",
        "Fraction Knapsack 문제는 물건의 가격을 무게로 나누어 무게 대비 가격이 비싼 순서로 물건을 정렬해서 넣으면 쉽게 해결할 수 있다.\n",
        "남은 배낭이 감당할 수 있는 무게보다 물건의 무게가 많이 나가면 잘라서 넣으면 된다.\n",
        "= greedy로 해결 가능!\n",
        "\n",
        "\n",
        "2번 같은 경우 \n",
        "\n",
        "0-1 Knapsack 문제는 물건을 자를 수 없기 때문에 물건, 물건의 무게, 물건의 가격, 배낭의 남은 용량을 모두 고려해야 한다.\n",
        "= dp로 해결 가능!\n",
        "\n",
        "\n",
        "하지만 2번 문제의 경우에서 어려움을 느꼈기에 2번 항목에 대해 다룰려고 한다."
      ],
      "metadata": {
        "id": "JZe2vB3tSuiJ"
      }
    },
    {
      "cell_type": "markdown",
      "source": [
        "0-1 Knapsack\n",
        "---\n",
        "\n",
        "오히려 특정 물건을 담지 않았을 때가 최선의 선택일 수 있음을 고려\n",
        "\n",
        "또한 풀이는 dp를 사용해서 접근을 해야한다.\n",
        "\n",
        "\n",
        "\n",
        "-  i가 현재 물건의 무게 w보다 작을 때\n",
        "\n",
        ">> 현재 물건을 담을 수 없으므로 이전의 값을 복사한다.\n",
        "dp[i][j] = dp[i][j-1]\n",
        "\n",
        "- 2) i가 현재 물건의 무게 w와 같거나 클 때\n",
        "\n",
        ">> 현재 물건을 담을 수 있다.\n",
        "물건을 담았을 때와 담지 않았을 때의 가치를 비교해준 뒤 더 큰 값을 할당해준다.\n",
        "현재 물건의 가치는 v 이다.\n",
        "dp[i][j] = max( dp[i][j-1] , dp[i-w][j-1] + v)"
      ],
      "metadata": {
        "id": "PjyIVaBpTTX5"
      }
    },
    {
      "cell_type": "markdown",
      "source": [
        "내가 헷갈렸던 포인트는 DP는 사용했지만 점화식 2번을 제대로 못 구해냈다는 점이다.\n",
        "\n",
        "이전 값을 복사하거나 혹은 지금 물건을 넣었을때 DP를 구하는 식이 해당 문제를 푸는 정답이다."
      ],
      "metadata": {
        "id": "v1bOYdHST9Hv"
      }
    },
    {
      "cell_type": "code",
      "source": [
        "def knapsack(W, wt, val, n):  # W: 배낭의 무게한도, wt: 각 보석의 무게, val: 각 보석의 가격, n: 보석의 수\n",
        "    K = [[0 for x in range(W+1)] for x in range(n+1)]  # DP를 위한 2차원 리스트 초기화\n",
        "    for i in range(n+1):\n",
        "        for w in range(W+1):  # 각 칸을 돌면서\n",
        "            if i==0 or w==0:  # 0번째 행/열은 0으로 세팅\n",
        "                K[i][w] = 0\n",
        "            elif wt[i-1] <= w:  # 점화식을 그대로 프로그램으로\n",
        "                K[i][w] = max(val[i-1]+K[i-1][w-wt[i-1]], K[i-1][w])  # max 함수 사용하여 큰 것 선택\n",
        "            else:\n",
        "                K[i][w] = K[i-1][w]\n",
        "    return K[n][W]\n",
        "\n",
        "출처: https://gsmesie692.tistory.com/113 [환상빛 별하늘: Reb∞t]"
      ],
      "metadata": {
        "id": "QD0uTEUKUawl"
      },
      "execution_count": null,
      "outputs": []
    },
    {
      "cell_type": "markdown",
      "source": [
        "Fraction Knapsack  \n",
        "---\n",
        "\n",
        "해당 문제는 가볍게 다시 상기시키고 가면\n",
        "결국 무게당 가격이 가장 좋은 물건으로 채워 넣은뒤 부족한 부분은 잘라서 넣어주는 Greedy 방식을 사용한다.\n",
        "\n",
        "구현이 0-1보다 쉽게 다가온다."
      ],
      "metadata": {
        "id": "FH_fUFqsUdrS"
      }
    }
  ]
}