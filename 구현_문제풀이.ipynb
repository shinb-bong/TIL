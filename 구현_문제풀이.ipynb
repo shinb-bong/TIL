{
  "nbformat": 4,
  "nbformat_minor": 0,
  "metadata": {
    "colab": {
      "name": "구현 문제풀이.ipynb",
      "provenance": [],
      "collapsed_sections": [],
      "authorship_tag": "ABX9TyNGMdGTp1CcVvsl5kdpeBzZ",
      "include_colab_link": true
    },
    "kernelspec": {
      "name": "python3",
      "display_name": "Python 3"
    },
    "language_info": {
      "name": "python"
    }
  },
  "cells": [
    {
      "cell_type": "markdown",
      "metadata": {
        "id": "view-in-github",
        "colab_type": "text"
      },
      "source": [
        "<a href=\"https://colab.research.google.com/github/shinb-bong/TIL/blob/main/%EA%B5%AC%ED%98%84_%EB%AC%B8%EC%A0%9C%ED%92%80%EC%9D%B4.ipynb\" target=\"_parent\"><img src=\"https://colab.research.google.com/assets/colab-badge.svg\" alt=\"Open In Colab\"/></a>"
      ]
    },
    {
      "cell_type": "markdown",
      "source": [
        "파이썬은 1초에 2000만 번 연산 수행 가정\n",
        "\n",
        "따라서 시간제한이 1초고 데이터 개수가 100만 개인 문제면 \n",
        "\n",
        "O(NlogN) 알고리즘을 이용해야함."
      ],
      "metadata": {
        "id": "kC_PwEbKkunl"
      }
    },
    {
      "cell_type": "markdown",
      "source": [
        "상하좌우 문제"
      ],
      "metadata": {
        "id": "zpTdDL-Klern"
      }
    },
    {
      "cell_type": "code",
      "execution_count": null,
      "metadata": {
        "id": "SUxl1sqjjztN"
      },
      "outputs": [],
      "source": [
        "n = int(input())\n",
        "x,y = 1,1\n",
        "array = input().split()\n",
        "\n",
        "dx = [0,0,1,-1]\n",
        "dy = [1,-1,0,0]\n",
        "# 행끼리가 위니깐 헷갈리지말자\n",
        "m_type = ['R','L','U','D']\n",
        "\n",
        "for arr in array :\n",
        "  \n",
        "  for i in range(len(m_type)):\n",
        "    if arr = m_type[i]:\n",
        "      nx = x+dx[i]\n",
        "      ny = y+dy[i]\n",
        "\n",
        "    if nx <1 or ny<1 or nx>n or ny>n:\n",
        "      continue\n",
        "    x, y = nx,ny\n",
        "print(x,y)\n",
        "\n"
      ]
    },
    {
      "cell_type": "markdown",
      "source": [
        "풀이: 미리 방향벡터를 지정해 놓고 이때 행끼리가 위니깐 헷갈리지 말자\n",
        "또한 벽에 막히거나 밖으로 나가는 경우는 무시해야한다."
      ],
      "metadata": {
        "id": "yaOQmmJzoEDk"
      }
    },
    {
      "cell_type": "markdown",
      "source": [
        "시각문제"
      ],
      "metadata": {
        "id": "IW4EeATmoP1_"
      }
    },
    {
      "cell_type": "code",
      "source": [
        "h = int(input())\n",
        "\n",
        "count = 0\n",
        "for i in range(h+1):\n",
        "  for j in range(60):\n",
        "    for k in range(60):\n",
        "\n",
        "      if '3' in str(i)+str(j)+str(k):\n",
        "        count +=1\n",
        "\n",
        "print(count)"
      ],
      "metadata": {
        "id": "naHc5bhgoWB0"
      },
      "execution_count": null,
      "outputs": []
    }
  ]
}