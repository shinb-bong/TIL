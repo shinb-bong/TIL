{
  "nbformat": 4,
  "nbformat_minor": 0,
  "metadata": {
    "colab": {
      "name": "SW마에스트로 코딩테스트 후기.ipynb",
      "provenance": [],
      "collapsed_sections": [],
      "authorship_tag": "ABX9TyP5ihlK/+1KHsMIaYDiMXLT",
      "include_colab_link": true
    },
    "kernelspec": {
      "name": "python3",
      "display_name": "Python 3"
    },
    "language_info": {
      "name": "python"
    }
  },
  "cells": [
    {
      "cell_type": "markdown",
      "metadata": {
        "id": "view-in-github",
        "colab_type": "text"
      },
      "source": [
        "<a href=\"https://colab.research.google.com/github/shinb-bong/TIL/blob/main/SW%EB%A7%88%EC%97%90%EC%8A%A4%ED%8A%B8%EB%A1%9C_%EC%BD%94%EB%94%A9%ED%85%8C%EC%8A%A4%ED%8A%B8_%ED%9B%84%EA%B8%B0.ipynb\" target=\"_parent\"><img src=\"https://colab.research.google.com/assets/colab-badge.svg\" alt=\"Open In Colab\"/></a>"
      ]
    },
    {
      "cell_type": "markdown",
      "source": [
        "후기는 조금있다가 다시 적어야지"
      ],
      "metadata": {
        "id": "vREhAB9H2lfX"
      }
    },
    {
      "cell_type": "markdown",
      "source": [
        "sw 마에스트로 1차 코딩 1번문제\n",
        "---\n",
        "\n",
        "내가 문자열에 약하다는 점,구현을 힘들어 한다는 점 다시한번 느끼게 된 문제였다.\n",
        "\n",
        "해당 문제는 구현 문제로 파이썬 메소드중 \n",
        "\n",
        "- starts.with(접두사,start) 를 해주면 되는 문제였다.\n",
        "\n",
        "해당 메소드에 대한 자료는 \n",
        "https://wikidocs.net/32946\n",
        "에서 참고를 하였다.\n",
        "\n",
        "- 같은 방법으로 endswith라는 메소드를 통해 원하는 접미사로 시작하는 단어를 찾을 수도 있다.\n",
        "\n",
        "\n",
        "실패한점: 문자열에 겁을 먹은것이 일단 제일 큰 문제였다. \n",
        "\n",
        "이후 방향: 문자열에 대한 문제를 더 풀어서 좋은 방향으로 나아가야겠다."
      ],
      "metadata": {
        "id": "D64Wz-hb0jaS"
      }
    },
    {
      "cell_type": "code",
      "execution_count": null,
      "metadata": {
        "id": "GtmIZ21J0Smd"
      },
      "outputs": [],
      "source": [
        "# 주어진 문자열\n",
        "n = int(input())\n",
        "\n",
        "# 키워드 입력\n",
        "keywords = []\n",
        "for _ in range(n):\n",
        "  keywords.append(str(input())) # 문자열로 받아준다.\n",
        "\n",
        "tc = int(input())\n",
        "testwords = []\n",
        "for _ in range(tc):\n",
        "  testwords.append(str(input()))\n",
        "\n",
        "# 검사\n",
        "for i in testwords:\n",
        "  result = 0\n",
        "  for j in keywords:\n",
        "    if j.startswith(i):\n",
        "      result +=1\n",
        "  print(result)"
      ]
    },
    {
      "cell_type": "markdown",
      "source": [
        "SQL 문제\n",
        "--- \n",
        "\n",
        "해당 문제는 이론적인 것을 물어봐서 생각보다 쉽게 해결하였으나 디테일적인 부분에서 내가 헷갈려한다는걸 알게 되었다.\n",
        "\n",
        "문제는 BETWEEN 이나 >= <= 에 대해서 물어볼려한 것으로 기억이 나는데 처음에 BETWEEN 다음에 AND 안 요소의 '' 에 대해 오류가 몇번 떴었다. \n",
        "\n",
        "이러한 SQL 실습부분을 조금 더 확인하면서 다음주 SQLD 시험을 준비해야겠다."
      ],
      "metadata": {
        "id": "ux1KgC7Y2r5Z"
      }
    },
    {
      "cell_type": "markdown",
      "source": [
        "html/css문제\n",
        "---\n",
        "\n",
        "해당 문제는 html은 건들지 안되, css로만 해결하는 문제였다. \n",
        "\n",
        "css로 주어진 조건을 만족 시키는 것이였다.\n",
        "\n",
        "1번과 2번이 있는데\n",
        "\n",
        "1번 같은 경우 css에다가 React에 하듯이 태그를 적고 해당 태그를 주어진 css문서로 작성해 주면 되는 것이였다.\n",
        "\n",
        "하지만 2번 같은 경우 label을 누를경우 색을 해당 부모 id값의 색으로 바꾸고 한번 더 클릭할 경우 다시 원색인 회색으로 돌아와야한다.\n",
        "\n",
        "이 경우 onClick 메소드로만 진행해봤지 css로 하는법을 아예 몰라서 당황했던 문제였다. \n",
        "\n",
        "더 배우고 나아가고자 지금 알아보려고 한다.\n",
        "\n",
        "```\n",
        "sidebar {\n",
        "    // 체크되지 않았을 때 css\n",
        "}\n",
        "\n",
        "//체크가 되었을 때 그 이웃하는 .sidebar를 지정해서 side effect 방지\n",
        "#sidebar:checked ~ .sidebar {\n",
        "    // 체크되었을 때 css\n",
        "}\n",
        "```"
      ],
      "metadata": {
        "id": "_AmKT_H33Jlf"
      }
    },
    {
      "cell_type": "code",
      "source": [
        ""
      ],
      "metadata": {
        "id": "LQHZLEOe40jF"
      },
      "execution_count": null,
      "outputs": []
    }
  ]
}