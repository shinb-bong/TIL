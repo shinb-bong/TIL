{
  "nbformat": 4,
  "nbformat_minor": 0,
  "metadata": {
    "colab": {
      "name": "서버,클라이언트,REST API.ipynb",
      "provenance": [],
      "collapsed_sections": [],
      "authorship_tag": "ABX9TyPkd57ZVdpyG/km58QEXkA1",
      "include_colab_link": true
    },
    "kernelspec": {
      "name": "python3",
      "display_name": "Python 3"
    },
    "language_info": {
      "name": "python"
    }
  },
  "cells": [
    {
      "cell_type": "markdown",
      "metadata": {
        "id": "view-in-github",
        "colab_type": "text"
      },
      "source": [
        "<a href=\"https://colab.research.google.com/github/shinb-bong/TIL/blob/main/%EC%84%9C%EB%B2%84%2C%ED%81%B4%EB%9D%BC%EC%9D%B4%EC%96%B8%ED%8A%B8%2CREST_API.ipynb\" target=\"_parent\"><img src=\"https://colab.research.google.com/assets/colab-badge.svg\" alt=\"Open In Colab\"/></a>"
      ]
    },
    {
      "cell_type": "markdown",
      "source": [
        "클라이언트\n",
        "---\n",
        "\n",
        "서버측에 정보를 요청하는 주체\n",
        "\n",
        "서버\n",
        "---\n",
        "\n",
        "클라이언트에 서비스를 제공해주는 컴퓨터를 의미한다.\n",
        "\n",
        "HTTP\n",
        "--- \n",
        "웹상에서 데이터를 주고 받기 위한 프로토콜\n",
        "\n",
        "+ GET, POST, PUT, DELETE\n",
        "\n",
        "REST API\n",
        "---\n",
        "\n",
        "REST\n",
        "\n",
        "+ 각 자원에 대하여 자원의 상태에 대한 정보를 주고받는 개발 방식\n",
        ">+ 자원: URL를 이용하여 표현\n",
        ">+ 행위: HTTP 메서드를 이용하여 표현\n",
        ">+ 표현\n",
        "\n",
        "API\n",
        "\n",
        "+ 프로그램이 상호작용하기 위한 인터페이스\n",
        "\n",
        "REST API\n",
        "\n",
        "+ REST 아키텍처를 따르는  API\n",
        "+ REST 방식을 따르고 있는 서버에 특정한 요청을 보내서 데이터를 가져오는 것\n",
        "\n",
        "\n",
        "JSON\n",
        "---\n",
        "\n",
        "데이터를 주고받는 데 사용하는 경량의 데이터 형식\n",
        "\n",
        "+ 키-값 쌍으로 이루어진 데이터 객체\n",
        "\n",
        "```\n",
        "{\n",
        "  \"id\":0,\n",
        "  \"age\",30,\n",
        "}\n",
        "\n",
        "```\n",
        "json 라이브러리를 사용하여 인코딩가능\n",
        "```\n",
        "import json\n",
        "\n",
        "# dict 자료형 선언\n",
        "\n",
        "json_data = json.dumps(user,indent =4)\n",
        "```\n",
        "\n",
        "디코딩도 가능\n",
        "```\n",
        "json_decoding = json.loads(json_data)\n",
        "\n",
        "```\n",
        "---\n",
        "Parsing(파싱)\n",
        "---\n",
        "\n",
        "특정한 형식으로 저장된 데이터에 접근하여 원하는 정보만 찾아서 가공하는 작업"
      ],
      "metadata": {
        "id": "gxRwzGHk9wSS"
      }
    }
  ]
}