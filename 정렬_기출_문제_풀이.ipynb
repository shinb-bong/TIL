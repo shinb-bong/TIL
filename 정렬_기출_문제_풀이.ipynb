{
  "nbformat": 4,
  "nbformat_minor": 0,
  "metadata": {
    "colab": {
      "name": "정렬 기출 문제 풀이.ipynb",
      "provenance": [],
      "collapsed_sections": [],
      "authorship_tag": "ABX9TyOUKhI/9MfTC+KGIyM7H5Xp",
      "include_colab_link": true
    },
    "kernelspec": {
      "name": "python3",
      "display_name": "Python 3"
    },
    "language_info": {
      "name": "python"
    }
  },
  "cells": [
    {
      "cell_type": "markdown",
      "metadata": {
        "id": "view-in-github",
        "colab_type": "text"
      },
      "source": [
        "<a href=\"https://colab.research.google.com/github/shinb-bong/TIL/blob/main/%EC%A0%95%EB%A0%AC_%EA%B8%B0%EC%B6%9C_%EB%AC%B8%EC%A0%9C_%ED%92%80%EC%9D%B4.ipynb\" target=\"_parent\"><img src=\"https://colab.research.google.com/assets/colab-badge.svg\" alt=\"Open In Colab\"/></a>"
      ]
    },
    {
      "cell_type": "markdown",
      "source": [
        "국영수 \n",
        "---\n",
        "\n",
        "그저 정렬"
      ],
      "metadata": {
        "id": "CdyjnZBIGAf9"
      }
    },
    {
      "cell_type": "code",
      "execution_count": null,
      "metadata": {
        "id": "pQ73iMuuF4Dm"
      },
      "outputs": [],
      "source": [
        "n = int(input())\n",
        "students = []\n",
        "for i in range(n):\n",
        "  students.append(input().split())\n",
        "\n",
        "students.sort(key = lambda x : ( -int(x[1]), int(x[2]), -int(x[3]), x[0]  ))\n",
        "\n",
        "for student in students:\n",
        "  print(student[0])"
      ]
    }
  ]
}