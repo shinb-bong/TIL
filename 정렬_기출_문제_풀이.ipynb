{
  "nbformat": 4,
  "nbformat_minor": 0,
  "metadata": {
    "colab": {
      "name": "정렬 기출 문제 풀이.ipynb",
      "provenance": [],
      "collapsed_sections": [],
      "authorship_tag": "ABX9TyOcm4RlIT5PyYs+PsF3sQGf",
      "include_colab_link": true
    },
    "kernelspec": {
      "name": "python3",
      "display_name": "Python 3"
    },
    "language_info": {
      "name": "python"
    }
  },
  "cells": [
    {
      "cell_type": "markdown",
      "metadata": {
        "id": "view-in-github",
        "colab_type": "text"
      },
      "source": [
        "<a href=\"https://colab.research.google.com/github/shinb-bong/TIL/blob/main/%EC%A0%95%EB%A0%AC_%EA%B8%B0%EC%B6%9C_%EB%AC%B8%EC%A0%9C_%ED%92%80%EC%9D%B4.ipynb\" target=\"_parent\"><img src=\"https://colab.research.google.com/assets/colab-badge.svg\" alt=\"Open In Colab\"/></a>"
      ]
    },
    {
      "cell_type": "markdown",
      "source": [
        "국영수 \n",
        "---\n",
        "\n",
        "그저 정렬"
      ],
      "metadata": {
        "id": "CdyjnZBIGAf9"
      }
    },
    {
      "cell_type": "code",
      "execution_count": null,
      "metadata": {
        "id": "pQ73iMuuF4Dm"
      },
      "outputs": [],
      "source": [
        "n = int(input())\n",
        "students = []\n",
        "for i in range(n):\n",
        "  students.append(input().split())\n",
        "\n",
        "students.sort(key = lambda x : ( -int(x[1]), int(x[2]), -int(x[3]), x[0]  ))\n",
        "\n",
        "for student in students:\n",
        "  print(student[0])"
      ]
    },
    {
      "cell_type": "markdown",
      "source": [
        "안테나\n",
        "---\n",
        "\n",
        "포인트 (가운데 집에 안테나를 세우는것)를 잡는것이 중요"
      ],
      "metadata": {
        "id": "A9HveJJlo-BI"
      }
    },
    {
      "cell_type": "code",
      "source": [
        "n = int(input())\n",
        "\n",
        "arr = list(map(int,input().split()))\n",
        "\n",
        "\n",
        "arr.sort()\n",
        "\n",
        "print(arr[(n-1)//2])"
      ],
      "metadata": {
        "colab": {
          "base_uri": "https://localhost:8080/"
        },
        "id": "k0Im62PPpEG6",
        "outputId": "e11c4e61-b563-41ea-c0f6-673725a6cef1"
      },
      "execution_count": 5,
      "outputs": [
        {
          "output_type": "stream",
          "name": "stdout",
          "text": [
            "4\n",
            "5 1 7 9\n",
            "5\n"
          ]
        }
      ]
    },
    {
      "cell_type": "markdown",
      "source": [
        "실패율 \n",
        "--- \n",
        "sorted와 lambda 의 활용을 물어보는 문제였다. 위의 국영수에서 한번 해서 쉽게 접근할 수 있었다."
      ],
      "metadata": {
        "id": "UVh5G9F-ttHg"
      }
    },
    {
      "cell_type": "code",
      "source": [
        "# 계수 정렬 사용하면 될 것 같음\n",
        "\n",
        "def solution(N, stages):\n",
        "    answer = []\n",
        "    length = len(stages)\n",
        "    \n",
        "    for i in range(1,N+1):\n",
        "        # 해당 스테이지에 머물러 있는 사람 계산\n",
        "        count = stages.count(i)\n",
        "        \n",
        "        # 실패율 계산\n",
        "        if length == 0:\n",
        "            fail = 0\n",
        "        else:\n",
        "            fail = count /length\n",
        "        \n",
        "        # 리스트에 (스테이지 번호, 실패율)\n",
        "        answer.append((i,fail))\n",
        "        length -= count\n",
        "    \n",
        "    # 실패율을 기준으로 각 스테이지 내림차순\n",
        "    answer = sorted(answer,key = lambda t : t[1], reverse = True)\n",
        "    \n",
        "    # 리스트 컴프리헨션\n",
        "    answer = [i[0] for i in answer]\n",
        "    \n",
        "    return answer"
      ],
      "metadata": {
        "id": "oQQujJOatrdZ"
      },
      "execution_count": null,
      "outputs": []
    },
    {
      "cell_type": "markdown",
      "source": [
        "카드 정렬하기\n",
        "---\n",
        "\n",
        "최소 힙을 물어보는 간단한 기출문제였다\n",
        "\n",
        "최소힙` import heapq`\n",
        "\n",
        "큐 `  from collections import deque `"
      ],
      "metadata": {
        "id": "laanaJqvt1h3"
      }
    },
    {
      "cell_type": "code",
      "source": [
        "import heapq \n",
        "\n",
        "n = int(input())\n",
        "\n",
        "arr = []\n",
        "\n",
        "for i in range(n):\n",
        "  data = int(input())\n",
        "  heapq.heappush(arr,data)\n",
        "\n",
        "result = 0\n",
        "\n",
        "# 마지막 원소가 남을때까지\n",
        "while len(arr) !=1 :\n",
        "\n",
        "  a = heapq.heappop(arr)\n",
        "  b= heapq.heappop(arr)\n",
        "\n",
        "  # 합치고 다시 넣는다\n",
        "\n",
        "  sum = a+b \n",
        "  result += sum\n",
        "  heapq.heappush(arr,sum)\n",
        "\n",
        "print(result)\n"
      ],
      "metadata": {
        "colab": {
          "base_uri": "https://localhost:8080/"
        },
        "id": "tC8RBHCzue3x",
        "outputId": "959cfd70-91c6-41e0-b02f-8f64bdc7187f"
      },
      "execution_count": 8,
      "outputs": [
        {
          "output_type": "stream",
          "name": "stdout",
          "text": [
            "3\n",
            "10\n",
            "20\n",
            "40\n",
            "100\n"
          ]
        }
      ]
    }
  ]
}