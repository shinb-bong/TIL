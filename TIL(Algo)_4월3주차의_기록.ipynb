{
  "nbformat": 4,
  "nbformat_minor": 0,
  "metadata": {
    "colab": {
      "name": "TIL(Algo)-4월3주차의 기록",
      "provenance": [],
      "collapsed_sections": [],
      "authorship_tag": "ABX9TyP4m9qP7r9pK6659VfZmDz3",
      "include_colab_link": true
    },
    "kernelspec": {
      "name": "python3",
      "display_name": "Python 3"
    },
    "language_info": {
      "name": "python"
    }
  },
  "cells": [
    {
      "cell_type": "markdown",
      "metadata": {
        "id": "view-in-github",
        "colab_type": "text"
      },
      "source": [
        "<a href=\"https://colab.research.google.com/github/shinb-bong/TIL/blob/main/TIL(Algo)_4%EC%9B%943%EC%A3%BC%EC%B0%A8%EC%9D%98_%EA%B8%B0%EB%A1%9D.ipynb\" target=\"_parent\"><img src=\"https://colab.research.google.com/assets/colab-badge.svg\" alt=\"Open In Colab\"/></a>"
      ]
    },
    {
      "cell_type": "markdown",
      "source": [
        "2022 4월 3주차\n",
        "---\n",
        "\n",
        "이번주는 knapsack을 시작으로 다양한 알고리즘 유형들을 풀어볼 예정이다. 저번주는 본가에 다녀와서 꾸준하게 풀진 못했던것 같다."
      ],
      "metadata": {
        "id": "7Kh2uhoSGlKR"
      }
    },
    {
      "cell_type": "markdown",
      "source": [
        "14728 벼락치기\n",
        "---\n",
        "\n"
      ],
      "metadata": {
        "id": "ILaPx45gG2Aq"
      }
    },
    {
      "cell_type": "code",
      "execution_count": null,
      "metadata": {
        "colab": {
          "base_uri": "https://localhost:8080/"
        },
        "id": "8wgelmulGbhL",
        "outputId": "eeeedb6a-61ef-48c9-ff83-4a74a2a46331"
      },
      "outputs": [
        {
          "output_type": "stream",
          "name": "stdout",
          "text": [
            "3 310\n",
            "50 40\n",
            "100 70\n",
            "200 150\n",
            "220\n"
          ]
        }
      ],
      "source": [
        "# n = 단원 개수 t = 공부할시간\n",
        "n,t = map(int,input().split())\n",
        "\n",
        "# 공부시간, 배점 index 0은 사용 x\n",
        "stime = [[0]]\n",
        "cost = [[0]]\n",
        "for _ in range(n):\n",
        "  a,b = map(int,input().split())\n",
        "  stime.append(a)\n",
        "  cost.append(b)\n",
        "\n",
        "dp = [[0 for _ in range(t+1)] for _ in range(n+1)]\n",
        "\n",
        "# knapsack\n",
        "for i in range(1,n+1):\n",
        "  for j in range(1,t+1):\n",
        "    if stime[i] <= j:\n",
        "      dp[i][j] = max(dp[i-1][j],dp[i-1][j-stime[i]]+cost[i])\n",
        "    else :\n",
        "      dp[i][j] = dp[i-1][j]\n",
        "\n",
        "print(dp[n][t])\n"
      ]
    },
    {
      "cell_type": "markdown",
      "source": [
        "위의 문제는 저번주에 마지막으로 푼 문제와 흡사했으며 0-1 knacksnap의 감을 거의 잡은것 같다.\n",
        "\n",
        "내가 생각하는 0-1 knacksnap특징:\n",
        "- 나눌수 없다.\n",
        "- 점화식은 한줄씩 진행이 되면서 최종적으로 업데이트하는 방향으로 간다. \n",
        "- 그전 값을 그대로 쓸지 혹은 새로운 값을 했을때 더 좋은 방안인지를 결정하게 된다.\n",
        "\n",
        "- 문제의 특징은 나눌수 없다는 특징을 주며 값어치를 따지기 위해 걸리는 시간, 얻는 비용이 주어지는 것 같다. 그리고 최대 효율을 따지는 듯한 문장의 표현이 많다. => 두가지 리스트를 사용해서 풀어야함."
      ],
      "metadata": {
        "id": "IP-Ws-3MJsFL"
      }
    },
    {
      "cell_type": "markdown",
      "source": [
        "14676번 영우는 사기꾼?\n",
        "---\n",
        "\n",
        "해당 첫문단(건물을 짓는 순서)과 그래프를 보아 선수의 관계를 가지는 것을 확인하였다. 그래서 대충 위상정렬이 아닐까 라는 생각을 하게 되었다."
      ],
      "metadata": {
        "id": "kTbf0O-8KaE9"
      }
    },
    {
      "cell_type": "code",
      "source": [
        "# n,m,k (개수, 관계개수, 게임정보의 개수)\n",
        "n,m,k = map(int,input().split())\n",
        "\n",
        "# 건물 관계 리스트\n",
        "graph = [[] for _ in range(n+1)]\n",
        "# 진입차수 \n",
        "indegree = [0] *(n+1)\n",
        "# 현재 건물\n",
        "now = [0] *(n+1)\n",
        "# 진위여부\n",
        "flag = False\n",
        "\n",
        "# 건설정보 입력\n",
        "for _ in range(m):\n",
        "  a, b = map(int,input().split())\n",
        "  graph[a].append(b)\n",
        "  indegree[b] +=1\n",
        "\n",
        "# 게임 정보\n",
        "for _ in range(k):\n",
        "  # 입력, 건물\n",
        "  a,b = map(int,input().split())\n",
        "  if a == 1 :\n",
        "    # 진입차수가 있으면 세우지 못하므로 거짓말이다.\n",
        "    if indegree[b]:\n",
        "      flag = True\n",
        "      break\n",
        "\n",
        "    # 건물 제작\n",
        "    now[b] += 1\n",
        "    # 만약 새로 지은 건물이라면?\n",
        "    if now[b] == 1:\n",
        "      # 관련된 진입차수들 제거\n",
        "      for i in graph[b]:\n",
        "        indegree[i] -=1\n",
        "\n",
        "  else:\n",
        "    # 설치되지 않은 것을 없애려면 \n",
        "    if now[b] <= 0:\n",
        "      flag = True\n",
        "      break\n",
        "\n",
        "    now[b] -=1\n",
        "    # 거꾸로 없앴으니깐 해당 연결되는 진입차수들을 하나씩 증가\n",
        "    if not now[b]:\n",
        "      for i in graph[b]:\n",
        "        indegree[i] +=1\n",
        "\n",
        "if flag:\n",
        "  print(\"Lier!\")\n",
        "else:\n",
        "  print(\"King-God-Emperor\")"
      ],
      "metadata": {
        "colab": {
          "base_uri": "https://localhost:8080/"
        },
        "id": "eMFeu2s2MhVQ",
        "outputId": "9b4cdd6a-3592-4fe9-ce67-cacb044f001a"
      },
      "execution_count": null,
      "outputs": [
        {
          "output_type": "stream",
          "name": "stdout",
          "text": [
            "3 2 2 \n",
            "1 2\n",
            "2 3\n",
            "1 1\n",
            "2 2\n",
            "King-God-Emperor\n"
          ]
        }
      ]
    },
    {
      "cell_type": "markdown",
      "source": [
        "위상정렬 관해서는 접근하여 풀었지만\n",
        "삭제를 틀린 부분에 대해서 try expect를 사용해야하나 고민을 하다가 \n",
        "배열을 하나 더 선언하고 True False로 풀이가 가능하다는 점을 배웠다.\n",
        "\n",
        "특히 이번 문제는 위상정렬에 대한 문제 + 삭제연산 까지 있어서 살짝 꼬아져있어서 공책을 사용하여 차근차근 이해하지 않았다면 어려웠을듯싶다...\n",
        "\n",
        "참고) https://tooo1.tistory.com/421"
      ],
      "metadata": {
        "id": "71qjTTNQUDep"
      }
    },
    {
      "cell_type": "markdown",
      "source": [
        "1613번 역사\n",
        "---\n",
        "\n",
        "일단 주어진 수가 커도 5000 이여서 작은 수가 주어졌다.\n",
        "그래서 플로이드 워셜로 접근을 하였다.\n",
        "\n",
        "플로이드 워셜\n",
        "- INF 초기화\n",
        "- 자기 자신 초기화\n",
        "- 점화식 주의\n",
        "\n"
      ],
      "metadata": {
        "id": "K7LFSMXkIFZY"
      }
    },
    {
      "cell_type": "code",
      "source": [
        "INF = int(1e9)\n",
        "# 사건의 개수, 사건의 전후 관계\n",
        "n,k = map(int,input().split())\n",
        "\n",
        "\n",
        "# 전후 관계를 알고 있는 사건\n",
        "graph = [[INF]*(n+1) for _ in range(n+1)]\n",
        "\n",
        "for a in range(1,n+1):\n",
        "  for b in range(1,n+1):\n",
        "    if a == b :\n",
        "      graph[a][b] = 0\n",
        "\n",
        "for _ in range(k):\n",
        "  pre,post = map(int,input().split())\n",
        "  graph[pre][post] = 1\n",
        "\n",
        "# 플로이드 워셜\n",
        "for k in range(1,n+1):\n",
        "  for a in range(1,n+1):\n",
        "    for b in range(1,n+1):\n",
        "      graph[a][b] = min(graph[a][b],graph[a][k]+graph[k][b])\n",
        "\n",
        "# 검사할 개수\n",
        "tc = int(input())\n",
        "\n",
        "for _ in range(tc):\n",
        "  a,b = map(int,input().split())\n",
        "  if graph[a][b] > graph[b][a] :\n",
        "    print(1)\n",
        "  elif graph[a][b] < graph[b][a] :\n",
        "    print(-1)\n",
        "  else:\n",
        "    print(0)"
      ],
      "metadata": {
        "id": "5hfVY95IIJss"
      },
      "execution_count": null,
      "outputs": []
    },
    {
      "cell_type": "markdown",
      "source": [
        "정답이다. \n",
        "\n",
        "반복적으로 공부했던 위의 플로이드 워셜 아이디어를 사용했고 \n",
        "\n",
        "마지막에 출력 결과에 대한 조건문을  *해당 문제에서 명시된 형태* 로 작성을 해주었더니 쉽게 통과가 되었다."
      ],
      "metadata": {
        "id": "2aeUpWuROKSI"
      }
    },
    {
      "cell_type": "markdown",
      "source": [
        "13308번 주유소\n",
        "---\n",
        "\n",
        "https://www.acmicpc.net/problem/13308"
      ],
      "metadata": {
        "id": "ZgOctyObOjMb"
      }
    },
    {
      "cell_type": "code",
      "source": [
        "import sys\n",
        "import heapq\n",
        "\n",
        "input = sys.stdin.readline\n",
        "INF = int(1e9)\n",
        "\n",
        "# 도시의 수, 도로의 수\n",
        "n, m = map(int,input().split())\n",
        "\n",
        "# 도시당 주유소의 리터당 가격수\n",
        "cost = [INF] + list(map(int,input().split()))\n",
        "\n",
        "# 도시 정보 입력\n",
        "cities = [[] for _ in range(n+1)]\n",
        "\n",
        "for _ in range(m):\n",
        "  start,end,c = map(int,input().split())\n",
        "  cities[start].append((end,c))\n",
        "  cities[end].append((start,c))\n",
        "\n",
        "# 결과 정보\n",
        "result = [INF] * (n+1)\n",
        "\n",
        "def dijkstra(start):\n",
        "  q = []\n",
        "  global result\n",
        "  global cost\n",
        "  # 시작 노드\n",
        "  heapq.heappush(q,(0,start))\n",
        "  min_cost = cost[start]\n",
        "  while q :\n",
        "    dist,now  = heapq.heappop(q)\n",
        "    min_cost = min(min_cost, cost[now] )\n",
        "    if now == n:\n",
        "      break\n",
        "\n",
        "    if result[now] < dist:\n",
        "      continue\n",
        "\n",
        "    else:\n",
        "      for i in cities[now]:\n",
        "        new_cost = dist + min_cost * i[1]\n",
        "        if new_cost < result[i[0]]:\n",
        "          result[i[0]] = new_cost\n",
        "          heapq.heappush(q,(new_cost,i[0]))\n",
        "\n",
        "dijkstra(1)\n",
        "print(result[n])"
      ],
      "metadata": {
        "id": "gohIJ93vPKLt"
      },
      "execution_count": null,
      "outputs": []
    },
    {
      "cell_type": "markdown",
      "source": [
        "어딘가에서 계속 막히고 수정을 하는데도 정답이 틀리는것을 보니 문제 접근을 잘못했나..싶다. \n",
        "\n",
        "...\n",
        "\n",
        "그래서 https://peisea0830.tistory.com/127 참고를 하였다.\n",
        "\n",
        "비슷하지만 result 를 이차원 리스트로 구현을 하였다. 또한 같을경우 now_dist를 반환하여 result[n] 이 아닌 해당 완료된 변수를 바로 반환 하는 방식을 사용하였다. \n"
      ],
      "metadata": {
        "id": "iPuCb3Iydjt2"
      }
    },
    {
      "cell_type": "code",
      "source": [
        "import sys, heapq\n",
        "INF = int(1e9)\n",
        "\n",
        "# 도시의 수, 도로의 수\n",
        "n, m = map(int,input().split())\n",
        "\n",
        "# 도시당 주유소의 리터당 가격수\n",
        "cost = [-1] + list(map(int,input().split()))\n",
        "\n",
        "# 도시 정보 입력\n",
        "cities = [[] for _ in range(n+1)]\n",
        "\n",
        "for _ in range(m):\n",
        "  start,end,c = map(int,input().split())\n",
        "  cities[start].append((end,c))\n",
        "  cities[end].append((start,c))\n",
        "\n",
        "def dijkstra():\n",
        "    d = [[INF] * (max(cost)+1) for _ in range(n+1)]\n",
        "    q = []\n",
        "    d[1][cost[1]] = 0\n",
        "    heapq.heappush(q,(0,cost[1],1))\n",
        "\n",
        "    while q:\n",
        "      now_dist,now_cost,now = heapq.heappop(q)\n",
        "      # 도착시 정답 리턴\n",
        "      if now == n:\n",
        "        return now_dist\n",
        "      if d[now][now_cost] < now_dist:\n",
        "        continue\n",
        "      for (next, next_dist) in cities[now]:\n",
        "        next_cost = min(cost[next],now_cost)\n",
        "        t_cost=  now_dist + now_cost * next_dist\n",
        "        if d[next][now_cost] > t_cost:\n",
        "          d[next][now_cost] = t_cost\n",
        "          heapq.heappush(q,(t_cost,next_cost,next))\n",
        "\n",
        "print(dijkstra())"
      ],
      "metadata": {
        "id": "BKNwtZxsdwo5"
      },
      "execution_count": null,
      "outputs": []
    },
    {
      "cell_type": "markdown",
      "source": [
        "heap에 최소비용까지 넣는 3차원 배열은 생각지도 못하였기에 이 풀이에 대해서 새로운 것을 배워간다.\n",
        "\n",
        "- (추가 정보가 있으면 차원을 늘리고 정보를 추가 저장해주는 것도 좋다)\n",
        " => 과거에도 3차원 배열을 생각을 못해서 틀렸던 문제가 있었던 것 같다."
      ],
      "metadata": {
        "id": "d4jLp436gSF4"
      }
    },
    {
      "cell_type": "markdown",
      "source": [
        ""
      ],
      "metadata": {
        "id": "2rMU2mVoWoWE"
      }
    }
  ]
}