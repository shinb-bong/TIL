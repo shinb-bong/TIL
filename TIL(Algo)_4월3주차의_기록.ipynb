{
  "nbformat": 4,
  "nbformat_minor": 0,
  "metadata": {
    "colab": {
      "name": "TIL(Algo)-4월3주차의 기록",
      "provenance": [],
      "collapsed_sections": [],
      "authorship_tag": "ABX9TyOpnpRMDisuF0BQOrbTQ2zC",
      "include_colab_link": true
    },
    "kernelspec": {
      "name": "python3",
      "display_name": "Python 3"
    },
    "language_info": {
      "name": "python"
    }
  },
  "cells": [
    {
      "cell_type": "markdown",
      "metadata": {
        "id": "view-in-github",
        "colab_type": "text"
      },
      "source": [
        "<a href=\"https://colab.research.google.com/github/shinb-bong/TIL/blob/main/TIL(Algo)_4%EC%9B%943%EC%A3%BC%EC%B0%A8%EC%9D%98_%EA%B8%B0%EB%A1%9D.ipynb\" target=\"_parent\"><img src=\"https://colab.research.google.com/assets/colab-badge.svg\" alt=\"Open In Colab\"/></a>"
      ]
    },
    {
      "cell_type": "markdown",
      "source": [
        "2022 4월 3주차\n",
        "---\n",
        "\n",
        "이번주는 knapsack을 시작으로 다양한 알고리즘 유형들을 풀어볼 예정이다. 저번주는 본가에 다녀와서 꾸준하게 풀진 못했던것 같다."
      ],
      "metadata": {
        "id": "7Kh2uhoSGlKR"
      }
    },
    {
      "cell_type": "markdown",
      "source": [
        "14728 벼락치기\n",
        "---\n",
        "\n"
      ],
      "metadata": {
        "id": "ILaPx45gG2Aq"
      }
    },
    {
      "cell_type": "code",
      "execution_count": 3,
      "metadata": {
        "colab": {
          "base_uri": "https://localhost:8080/"
        },
        "id": "8wgelmulGbhL",
        "outputId": "eeeedb6a-61ef-48c9-ff83-4a74a2a46331"
      },
      "outputs": [
        {
          "output_type": "stream",
          "name": "stdout",
          "text": [
            "3 310\n",
            "50 40\n",
            "100 70\n",
            "200 150\n",
            "220\n"
          ]
        }
      ],
      "source": [
        "# n = 단원 개수 t = 공부할시간\n",
        "n,t = map(int,input().split())\n",
        "\n",
        "# 공부시간, 배점 index 0은 사용 x\n",
        "stime = [[0]]\n",
        "cost = [[0]]\n",
        "for _ in range(n):\n",
        "  a,b = map(int,input().split())\n",
        "  stime.append(a)\n",
        "  cost.append(b)\n",
        "\n",
        "dp = [[0 for _ in range(t+1)] for _ in range(n+1)]\n",
        "\n",
        "# knapsack\n",
        "for i in range(1,n+1):\n",
        "  for j in range(1,t+1):\n",
        "    if stime[i] <= j:\n",
        "      dp[i][j] = max(dp[i-1][j],dp[i-1][j-stime[i]]+cost[i])\n",
        "    else :\n",
        "      dp[i][j] = dp[i-1][j]\n",
        "\n",
        "print(dp[n][t])\n"
      ]
    },
    {
      "cell_type": "markdown",
      "source": [
        "위의 문제는 저번주에 마지막으로 푼 문제와 흡사했으며 0-1 knacksnap의 감을 거의 잡은것 같다.\n",
        "\n",
        "내가 생각하는 0-1 knacksnap특징:\n",
        "- 나눌수 없다.\n",
        "- 점화식은 한줄씩 진행이 되면서 최종적으로 업데이트하는 방향으로 간다. \n",
        "- 그전 값을 그대로 쓸지 혹은 새로운 값을 했을때 더 좋은 방안인지를 결정하게 된다.\n",
        "\n",
        "- 문제의 특징은 나눌수 없다는 특징을 주며 값어치를 따지기 위해 걸리는 시간, 얻는 비용이 주어지는 것 같다. 그리고 최대 효율을 따지는 듯한 문장의 표현이 많다. => 두가지 리스트를 사용해서 풀어야함."
      ],
      "metadata": {
        "id": "IP-Ws-3MJsFL"
      }
    },
    {
      "cell_type": "markdown",
      "source": [
        "14676번 영우는 사기꾼?\n",
        "---\n",
        "\n",
        "해당 첫문단(건물을 짓는 순서)과 그래프를 보아 선수의 관계를 가지는 것을 확인하였다. 그래서 대충 위상정렬이 아닐까 라는 생각을 하게 되었다."
      ],
      "metadata": {
        "id": "kTbf0O-8KaE9"
      }
    },
    {
      "cell_type": "code",
      "source": [
        "# n,m,k (개수, 관계개수, 게임정보의 개수)\n",
        "n,m,k = map(int,input().split())\n",
        "\n",
        "# 건물 관계 리스트\n",
        "graph = [[] for _ in range(n+1)]\n",
        "# 진입차수 \n",
        "indegree = [0] *(n+1)\n",
        "# 현재 건물\n",
        "now = [0] *(n+1)\n",
        "# 진위여부\n",
        "flag = False\n",
        "\n",
        "# 건설정보 입력\n",
        "for _ in range(m):\n",
        "  a, b = map(int,input().split())\n",
        "  graph[a].append(b)\n",
        "  indegree[b] +=1\n",
        "\n",
        "# 게임 정보\n",
        "for _ in range(k):\n",
        "  # 입력, 건물\n",
        "  a,b = map(int,input().split())\n",
        "  if a == 1 :\n",
        "    # 진입차수가 있으면 세우지 못하므로 거짓말이다.\n",
        "    if indegree[b]:\n",
        "      flag = True\n",
        "      break\n",
        "\n",
        "    # 건물 제작\n",
        "    now[b] += 1\n",
        "    # 만약 새로 지은 건물이라면?\n",
        "    if now[b] == 1:\n",
        "      # 관련된 진입차수들 제거\n",
        "      for i in graph[b]:\n",
        "        indegree[i] -=1\n",
        "\n",
        "  else:\n",
        "    # 설치되지 않은 것을 없애려면 \n",
        "    if now[b] <= 0:\n",
        "      flag = True\n",
        "      break\n",
        "\n",
        "    now[b] -=1\n",
        "    # 거꾸로 없앴으니깐 해당 연결되는 진입차수들을 하나씩 증가\n",
        "    if not now[b]:\n",
        "      for i in graph[b]:\n",
        "        indegree[i] +=1\n",
        "\n",
        "if flag:\n",
        "  print(\"Lier!\")\n",
        "else:\n",
        "  print(\"King-God-Emperor\")"
      ],
      "metadata": {
        "colab": {
          "base_uri": "https://localhost:8080/"
        },
        "id": "eMFeu2s2MhVQ",
        "outputId": "9b4cdd6a-3592-4fe9-ce67-cacb044f001a"
      },
      "execution_count": 5,
      "outputs": [
        {
          "output_type": "stream",
          "name": "stdout",
          "text": [
            "3 2 2 \n",
            "1 2\n",
            "2 3\n",
            "1 1\n",
            "2 2\n",
            "King-God-Emperor\n"
          ]
        }
      ]
    },
    {
      "cell_type": "markdown",
      "source": [
        "위상정렬 관해서는 접근하여 풀었지만\n",
        "삭제를 틀린 부분에 대해서 try expect를 사용해야하나 고민을 하다가 \n",
        "배열을 하나 더 선언하고 True False로 풀이가 가능하다는 점을 배웠다.\n",
        "\n",
        "특히 이번 문제는 위상정렬에 대한 문제 + 삭제연산 까지 있어서 살짝 꼬아져있어서 공책을 사용하여 차근차근 이해하지 않았다면 어려웠을듯싶다...\n",
        "\n",
        "참고) https://tooo1.tistory.com/421"
      ],
      "metadata": {
        "id": "71qjTTNQUDep"
      }
    }
  ]
}