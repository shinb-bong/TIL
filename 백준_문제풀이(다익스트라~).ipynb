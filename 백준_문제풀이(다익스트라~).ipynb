{
  "nbformat": 4,
  "nbformat_minor": 0,
  "metadata": {
    "colab": {
      "name": "백준 문제풀이(다익스트라~).ipynb",
      "provenance": [],
      "collapsed_sections": [],
      "authorship_tag": "ABX9TyMD7GTf6yLaP2HEKxK7RpbQ",
      "include_colab_link": true
    },
    "kernelspec": {
      "name": "python3",
      "display_name": "Python 3"
    },
    "language_info": {
      "name": "python"
    }
  },
  "cells": [
    {
      "cell_type": "markdown",
      "metadata": {
        "id": "view-in-github",
        "colab_type": "text"
      },
      "source": [
        "<a href=\"https://colab.research.google.com/github/shinb-bong/TIL/blob/main/%EB%B0%B1%EC%A4%80_%EB%AC%B8%EC%A0%9C%ED%92%80%EC%9D%B4(%EB%8B%A4%EC%9D%B5%EC%8A%A4%ED%8A%B8%EB%9D%BC~).ipynb\" target=\"_parent\"><img src=\"https://colab.research.google.com/assets/colab-badge.svg\" alt=\"Open In Colab\"/></a>"
      ]
    },
    {
      "cell_type": "markdown",
      "source": [
        "1753번\n",
        "\n",
        "최단 경로\n",
        "--- \n",
        "\n",
        "최단 경로 하기전에 최단 경로에 대해서 다시 복습하고 싶어 하는 문제\n",
        "\n",
        "힙 자료 구조 사용\n",
        "\n",
        "무한한 거리 이용 \n",
        "\n"
      ],
      "metadata": {
        "id": "M3UG7V66ttM-"
      }
    },
    {
      "cell_type": "code",
      "execution_count": null,
      "metadata": {
        "id": "YoyQdRQxtpm7"
      },
      "outputs": [],
      "source": [
        "import sys\n",
        "import heapq\n",
        "\n",
        "INF = int(1e9)\n",
        "input = sys.stdin.readline\n",
        "\n",
        "n, m = map(int, input().split())\n",
        "\n",
        "# 시작 노드 번호 입력\n",
        "start = int(input())\n",
        "\n",
        "# 각 노드에 연결된 정보를 담을 리스트 준비 n+1 까지해서 각 인덱스를 해당 노드로 사용 할 수 있게한다.\n",
        "graph=[ [] for _ in range(n+1) ]\n",
        "\n",
        "# 방문 처리 진행할 리스트 이것 역시 n+1로 하여금 갯수만큼 만들어준다.\n",
        "vistied = [False] * (n+1)\n",
        "\n",
        "# distance 최단 경로리스트\n",
        "distance = [INF] *(n+1)\n",
        "\n",
        "for _ in range(m):\n",
        "  a,b,c = map(int,input().split())\n",
        "  # a번 노드에서 b번 노드로 가는 비용이 c\n",
        "  graph[a].append((b,c))\n",
        "\n",
        "# 다익스트라 알고리즘 작성 시작\n",
        "def dijkstra(start):\n",
        "  q =[]\n",
        "  # 처음 힙에 삽입되는 시작 노드와 최단 경로는 0으로 처리 와 비용 역시 0으로 처리\n",
        "  heapq.heappush(q,(0,start))\n",
        "  distance[start] = 0\n",
        "\n",
        "  while q: # 큐가 비어 있지 않다면\n",
        "    dist,now = heapq.heappop(q)\n",
        "\n",
        "    # 만약 이미 처리가 된 노드라면 무시\n",
        "    if distance[now] < dist:\n",
        "      continue\n",
        "    \n",
        "    # 현재와 연결된 노드를 확인 (확인 후 힙 삽입 후 방문처리)\n",
        "    for i in graph[now]:\n",
        "      # 비용 계산\n",
        "      cost = dist + i[1]\n",
        "      # 만약 계산된 비용이 더 적다면? \n",
        "      if cost < distance[i[0]]:\n",
        "        distance[i[0]] = cost\n",
        "        heapq.heappush(q,(cost,i[0]))\n",
        "\n",
        "dijkstra(start)\n",
        "\n",
        "# 모든 노드로 가기 위한 최단 거리 출력\n",
        "for i in range(1,n+1):\n",
        "  # 도달할 수 없는 경우 무한\n",
        "  if distance[i] == INF:\n",
        "    print(\"INF\")\n",
        "  else:\n",
        "    print(distance[i])"
      ]
    },
    {
      "cell_type": "markdown",
      "source": [
        "11404번\n",
        "플로이드 워셜 복습\n",
        "----\n",
        "\n",
        "key point 주어진 수가 적은가?(모든 경우를 그래프화)-> k를 거쳐서 진행이 더짧은가?를 고려해야한다. INF 를 사용"
      ],
      "metadata": {
        "id": "LibS9NN0zDkW"
      }
    },
    {
      "cell_type": "code",
      "source": [
        "INF = int(1e9)\n",
        "\n",
        "n = int(input())\n",
        "m = int(input())\n",
        "\n",
        "# 최단 거리 그래프 초기화 \n",
        "graph = [[INF]*(n+1) for _ in range(n+1)]\n",
        "\n",
        "# 자기 자신을 가는 거리는 0으로 초기화\n",
        "for i in range(1,n+1):\n",
        "  for j in range(1,n+1):\n",
        "    if i == j:\n",
        "      graph[i][j] = 0\n",
        "\n",
        "# 그래프 입력 받기\n",
        "for _ in range(m):\n",
        "  a,b,cost = map(int,input().split())\n",
        "  if cost < graph[a][b]:\n",
        "    graph[a][b] = cost\n",
        "\n",
        "# 플로이드 워셜\n",
        "for k in range(1,n+1): # k가 제알 먼저\n",
        "  for i in range(1,n+1):\n",
        "    for j in range(1,n+1):\n",
        "      graph[i][j] = min(graph[i][j],graph[i][k]+graph[k][j])\n",
        "\n",
        "# 출력\n",
        "for a in range(1,n+1):\n",
        "  for b in range(1,n+1):\n",
        "\n",
        "    if graph[a][b] == INF :\n",
        "      print(0, end = ' ')\n",
        "    else: \n",
        "      print(graph[a][b], end = ' ')\n",
        "\n",
        "  print()"
      ],
      "metadata": {
        "id": "fTiM3DXvzHUL"
      },
      "execution_count": null,
      "outputs": []
    },
    {
      "cell_type": "markdown",
      "source": [
        "1916번\n",
        "최소비용\n",
        "---- \n",
        "\n",
        "해당 문제는 주어진 값이 크므로 플로이드 워셜로는 불가하고 최소비용에 초점을 맞춰서 다익스트라 알고리즘으로 접근을 하려고한다. 다익스트라는 위에 언급한것 처럼\n",
        "힙, 무한한거리, 최단 거리 테이블을 사용한다."
      ],
      "metadata": {
        "id": "IwgQHNnm5Yqs"
      }
    },
    {
      "cell_type": "code",
      "source": [
        "import heapq\n",
        "import sys\n",
        "input = sys.stdin.readline\n",
        "INF = int(1e9)\n",
        "\n",
        "n = int(input())\n",
        "m = int(input())\n",
        "\n",
        "# 연결리스트 생성\n",
        "graph=[ [] for _ in range(n+1) ]\n",
        "\n",
        "# 최단거리 테이블\n",
        "distance = [INF] *(n+1)\n",
        "\n",
        "# 그래프 입력받기\n",
        "for _ in range(m):\n",
        "  a,b,c = map(int,input().split())\n",
        "  graph[a].append((b,c))\n",
        "\n",
        "# 시작점과 도착점 구하기\n",
        "start , end = map(int,input().split())\n",
        "\n",
        "# 다익스트라 진행\n",
        "def dijkstra(start):\n",
        "  q = []\n",
        "  # 자기로 하는 거리는 0\n",
        "  heapq.heappush(q,(0,start))\n",
        "  distance[start] =0\n",
        "  while q:\n",
        "    dist, now = heapq.heappop(q)\n",
        "    # 방문 한적 있는 노드라면\n",
        "    if distance[now] < dist:\n",
        "      continue\n",
        "    \n",
        "    # 연결된 노드 확인\n",
        "    for i in graph[now]:\n",
        "      # 만약 방문이 안된 노드라면\n",
        "      cost = dist + i[1]\n",
        "      # 만약 계산된 비용이 작다면\n",
        "      if cost < distance[i[0]]:\n",
        "        distance[i[0]] = cost\n",
        "        heapq.heappush(q,(cost,i[0]))\n",
        "\n",
        "dijkstra(start)\n",
        "\n",
        "# 출력\n",
        "print(distance[end])"
      ],
      "metadata": {
        "id": "Z7mVmhBv2Cfs"
      },
      "execution_count": null,
      "outputs": []
    },
    {
      "cell_type": "markdown",
      "source": [
        "1261번\n",
        "알고스팟\n",
        "---\n",
        "\n",
        "최소 비용으로 가는 법을 찾아야하니깐 다익스트라 알고리즘을 사용해 보려고 한다."
      ],
      "metadata": {
        "id": "Pn-qxYF1QToV"
      }
    },
    {
      "cell_type": "code",
      "source": [
        "import sys\n",
        "import heapq\n",
        "INF = int(1e9)\n",
        "input = sys.stdin.readline\n",
        "\n",
        "# 행 열 입력 받기\n",
        "m, n = map(int,input().split())\n",
        "\n",
        "# graph 생성\n",
        "graph = []\n",
        "\n",
        "# 방향 벡터 \n",
        "dx=[-1,1,0,0]\n",
        "dy=[0,0,1,-1]\n",
        "\n",
        "# 최단 거리 테이블 생성 \n",
        "distance = [[INF] *(m) for _ in range(n)] \n",
        "\n",
        "# graph입력 받기\n",
        "for _ in range(n):\n",
        "  graph.append(list(map(int,input().rstrip())))\n",
        "\n",
        "\n",
        "def dijkstra():\n",
        "  q = []\n",
        "  heapq.heappush(q,(0,0,0))\n",
        "  distance[0][0] = 0\n",
        "\n",
        "  while q:\n",
        "    dist, now_x,now_y = heapq.heappop(q)\n",
        "    if now_x == n-1 and now_y == m-1:\n",
        "      print(distance[n-1][m-1])\n",
        "      return\n",
        "\n",
        "    for i in range(4):\n",
        "      nx = now_x + dx[i]\n",
        "      ny = now_y + dy[i]\n",
        "\n",
        "      if nx<0 or nx>= n or ny <0 or ny>= m:\n",
        "        continue\n",
        "\n",
        "      cost = dist + graph[nx][ny]\n",
        "      if cost < distance[nx][ny]:\n",
        "        distance[nx][ny] = cost\n",
        "        heapq.heappush(q,(cost,nx,ny))  \n",
        "\n",
        "dijkstra()\n",
        "\n"
      ],
      "metadata": {
        "id": "WO3U9wtTQf2h"
      },
      "execution_count": null,
      "outputs": []
    },
    {
      "cell_type": "markdown",
      "source": [
        "또한 bfs로도 풀수 있을 것같다. \n",
        "\n",
        "dist = [[-1] * m for _ in range(n)]  를 가중치로 주고 만약 0을 만나면 그대로 가중치를 들고가고 아니면 +1 을 해서 벽을 부서줘서 전체적으로 살펴 보는 방법도 있을 것 같다."
      ],
      "metadata": {
        "id": "PnvFQZIDZzA5"
      }
    },
    {
      "cell_type": "code",
      "source": [
        "from collections import deque\n",
        "dx = [-1,1,0,0]\n",
        "dy = [0,0,-1,1]\n",
        "\n",
        "m,n = map(int, input().split())\n",
        "\n",
        "# 받아오기\n",
        "arr = [ list(map(int, input())) for _ in range(n)]\n",
        "\n",
        "# 거리그래프\n",
        "dist = [[-1] * m for _ in range(n)]  \n",
        "\n",
        "# 큐 삽입\n",
        "q = deque()\n",
        "q.append((0,0))\n",
        "dist[0][0] = 0\n",
        "\n",
        "# 큐 빌때까지\n",
        "while q:\n",
        "    x,y = q.popleft()\n",
        "    for k in range(4):\n",
        "        nx = x + dx[k]\n",
        "        ny = y + dy[k]\n",
        "        # 범위안이라면\n",
        "        if 0 <= nx < n and 0 <= ny < m:\n",
        "\n",
        "          # 아직 방문하지 않았는지\n",
        "            if dist[nx][ny] == -1:\n",
        "              # 빈방이라면\n",
        "                if arr[nx][ny] == 0:\n",
        "                    dist[nx][ny] = dist[x][y]\n",
        "                    q.appendleft((nx, ny))\n",
        "\n",
        "                # 아니고 벽이라면\n",
        "                else:\n",
        "                    dist[nx][ny] = dist[x][y] + 1\n",
        "                    q.append((nx, ny))\n",
        "print(dist[n-1][m-1])"
      ],
      "metadata": {
        "colab": {
          "base_uri": "https://localhost:8080/",
          "height": 245
        },
        "id": "vhxMtwA1aAHC",
        "outputId": "acdec37e-7aa5-48eb-b2bb-9dc37104f01b"
      },
      "execution_count": null,
      "outputs": [
        {
          "output_type": "error",
          "ename": "ValueError",
          "evalue": "ignored",
          "traceback": [
            "\u001b[0;31m---------------------------------------------------------------------------\u001b[0m",
            "\u001b[0;31mValueError\u001b[0m                                Traceback (most recent call last)",
            "\u001b[0;32m<ipython-input-12-02ee0ba81782>\u001b[0m in \u001b[0;36m<module>\u001b[0;34m()\u001b[0m\n\u001b[1;32m      3\u001b[0m \u001b[0mdy\u001b[0m \u001b[0;34m=\u001b[0m \u001b[0;34m[\u001b[0m\u001b[0;36m0\u001b[0m\u001b[0;34m,\u001b[0m\u001b[0;36m0\u001b[0m\u001b[0;34m,\u001b[0m\u001b[0;34m-\u001b[0m\u001b[0;36m1\u001b[0m\u001b[0;34m,\u001b[0m\u001b[0;36m1\u001b[0m\u001b[0;34m]\u001b[0m\u001b[0;34m\u001b[0m\u001b[0;34m\u001b[0m\u001b[0m\n\u001b[1;32m      4\u001b[0m \u001b[0;34m\u001b[0m\u001b[0m\n\u001b[0;32m----> 5\u001b[0;31m \u001b[0mm\u001b[0m\u001b[0;34m,\u001b[0m\u001b[0mn\u001b[0m \u001b[0;34m=\u001b[0m \u001b[0mmap\u001b[0m\u001b[0;34m(\u001b[0m\u001b[0mint\u001b[0m\u001b[0;34m,\u001b[0m \u001b[0minput\u001b[0m\u001b[0;34m(\u001b[0m\u001b[0;34m)\u001b[0m\u001b[0;34m.\u001b[0m\u001b[0msplit\u001b[0m\u001b[0;34m(\u001b[0m\u001b[0;34m)\u001b[0m\u001b[0;34m)\u001b[0m\u001b[0;34m\u001b[0m\u001b[0;34m\u001b[0m\u001b[0m\n\u001b[0m\u001b[1;32m      6\u001b[0m \u001b[0;34m\u001b[0m\u001b[0m\n\u001b[1;32m      7\u001b[0m \u001b[0;31m# 받아오기\u001b[0m\u001b[0;34m\u001b[0m\u001b[0;34m\u001b[0m\u001b[0;34m\u001b[0m\u001b[0m\n",
            "\u001b[0;31mValueError\u001b[0m: not enough values to unpack (expected 2, got 0)"
          ]
        }
      ]
    },
    {
      "cell_type": "markdown",
      "source": [
        "1504번\n",
        "\n",
        "특정한 최단 경로\n",
        "---\n",
        "\n",
        "예전 어렸을때 문제해결 방법에서 웅덩이 문제 같다. A까지 최소로 가는 방법 + A에서 출발해서 B까지 최소가는 방법 B에서 마지막으로 가는방법으로 따질려고한다.\n",
        "\n",
        "수가 크므로 플로이드 워셜 보단 다익스트라 알고리즘에 적합할 것으로 보인다.\n",
        "\n",
        "해당 알고리즘을 수행한후 끝나면 원하는 최단거리에 대한 정보를 들고오고 \n",
        "\n",
        "stop1을 먼저 들리고 갈경우\n",
        "stop2를 먼저 들리고 갈경우를 고려하여 두개를 비교하여 더 작은 최단 경로를 정답으로 입력한다."
      ],
      "metadata": {
        "id": "Wp4Ib2Ovccro"
      }
    },
    {
      "cell_type": "code",
      "source": [
        "import heapq\n",
        "INF = int(1e9)\n",
        "n, m = map(int,input().split())\n",
        "\n",
        "# 연결 리스트 생성\n",
        "graph = [[]*(n+1) for _ in range(n+1)]\n",
        "\n",
        "# 연결 리스트 받아오기\n",
        "for i in range(m):\n",
        "  a,b,dist = map(int,input().split())\n",
        "  graph[a].append((b,dist))\n",
        "  graph[b].append((a,dist))\n",
        "\n",
        "# 다익스트라 알고리즘 작성 시작\n",
        "def dijkstra(start,end): #  끝나는 지점의 최단경로를 알고 싶은것\n",
        "  # 최단거리 리스트 \n",
        "  distance = [INF]*(n+1)\n",
        "  q =[]\n",
        "  # 처음 힙에 삽입되는 시작 노드와 최단 경로는 0으로 처리 와 비용 역시 0으로 처리\n",
        "  heapq.heappush(q,(0,start))\n",
        "  distance[start] = 0\n",
        "\n",
        "  while q: # 큐가 비어 있지 않다면\n",
        "    dist,now = heapq.heappop(q)\n",
        "\n",
        "    # 만약 이미 처리가 된 노드라면 무시\n",
        "    if dist>distance[now]:\n",
        "      continue\n",
        "    \n",
        "    # 현재와 연결된 노드를 확인 (확인 후 힙 삽입 후 방문처리)\n",
        "    for i in graph[now]:\n",
        "      # 비용 계산\n",
        "      cost = dist + i[1]\n",
        "      # 만약 계산된 비용이 더 적다면? \n",
        "      if cost < distance[i[0]]:\n",
        "        distance[i[0]] = cost\n",
        "        heapq.heappush(q,(cost,i[0]))\n",
        "\n",
        "\n",
        "  return distance[end]\n",
        "\n",
        "stop1,stop2 = map(int,input().split())\n",
        "\n",
        "path1 = dijkstra(1, stop1) + dijkstra(stop1, stop2) + dijkstra(stop2, n)\n",
        "path2 = dijkstra(1, stop2) + dijkstra(stop2, stop1) + dijkstra(stop1, n)\n",
        "\n",
        "if path1 < INF or path2 < INF:\n",
        "    print(min(path1, path2))\n",
        "else:\n",
        "    print(-1)\n"
      ],
      "metadata": {
        "id": "LqxBaaE2ccUg"
      },
      "execution_count": null,
      "outputs": []
    },
    {
      "cell_type": "markdown",
      "source": [
        "13549번\n",
        "숨바꼭질3 \n",
        "---- \n",
        "\n",
        "비용을 찾아야하고 최단 거리를 찾아야하므로 최단 거리 알고리즘으로 보인다.\n",
        "\n",
        "주어진 수가 둘다 10만으로 크기 때문에 플로이드 워셜은 불가능 할것 으로 보이며 \n",
        "다익스트라로 진행을 하려고 한다.\n"
      ],
      "metadata": {
        "id": "iISjXkoSIpVx"
      }
    },
    {
      "cell_type": "code",
      "source": [
        "import heapq\n",
        "import sys\n",
        "INF = int(1e9)\n",
        "input = sys.stdin.readline\n",
        "MAX = 100001\n",
        "\n",
        "n , k = map(int,input().split())\n",
        "\n",
        "\n",
        "# 다익스트라 알고리즘 진행\n",
        "def dijkstra(n,k):\n",
        "  # 해당 최소 거리 테이블을 생성\n",
        "  distance = [INF] * MAX\n",
        "\n",
        "  q= []\n",
        "  # 처음점 0 을 추가\n",
        "  heapq.heappush(q,(0,n))\n",
        "  distance[n] = 0\n",
        "\n",
        "  while q:\n",
        "    # 현재 정보\n",
        "    dist, now = heapq.heappop(q)\n",
        "\n",
        "    if now == k:\n",
        "      return distance[now]\n",
        "    # 이미 수행된 노드라면\n",
        "    if dist > distance[now]:\n",
        "      continue\n",
        "    \n",
        "    for i in range(3):\n",
        "      if i == 0: \n",
        "       nx = now -1\n",
        "      elif i == 1:\n",
        "        nx = now +1\n",
        "      else: \n",
        "        nx = now *2\n",
        "      \n",
        "      # 범위를 벗어가는 경우나 혹은 이미 더하기전부터 작을경우\n",
        "      if not 0<= nx < MAX or distance[nx]<=distance[now]:\n",
        "        continue\n",
        "      \n",
        "      if i < 2:\t\t\t# 한 칸씩 이동한 경우 1초\n",
        "        heapq.heappush(q, (dist + 1, nx))\n",
        "        distance[nx] = dist + 1\n",
        "      else:\t\t\t# 순간이동한 경우 0초\n",
        "        heapq.heappush(q, (dist, nx))\n",
        "        distance[nx] = dist\n",
        "\n",
        "\n",
        "print(dijkstra(n,k))   "
      ],
      "metadata": {
        "colab": {
          "base_uri": "https://localhost:8080/",
          "height": 245
        },
        "id": "ioMdi05GI2W-",
        "outputId": "eafffb8c-2219-4b52-98f8-431d382ac02d"
      },
      "execution_count": 7,
      "outputs": [
        {
          "output_type": "error",
          "ename": "ValueError",
          "evalue": "ignored",
          "traceback": [
            "\u001b[0;31m---------------------------------------------------------------------------\u001b[0m",
            "\u001b[0;31mValueError\u001b[0m                                Traceback (most recent call last)",
            "\u001b[0;32m<ipython-input-7-f88c076403a7>\u001b[0m in \u001b[0;36m<module>\u001b[0;34m()\u001b[0m\n\u001b[1;32m      4\u001b[0m \u001b[0;34m\u001b[0m\u001b[0m\n\u001b[1;32m      5\u001b[0m \u001b[0;34m\u001b[0m\u001b[0m\n\u001b[0;32m----> 6\u001b[0;31m \u001b[0mn\u001b[0m \u001b[0;34m,\u001b[0m \u001b[0mk\u001b[0m \u001b[0;34m=\u001b[0m \u001b[0mmap\u001b[0m\u001b[0;34m(\u001b[0m\u001b[0mint\u001b[0m\u001b[0;34m,\u001b[0m\u001b[0minput\u001b[0m\u001b[0;34m(\u001b[0m\u001b[0;34m)\u001b[0m\u001b[0;34m.\u001b[0m\u001b[0msplit\u001b[0m\u001b[0;34m(\u001b[0m\u001b[0;34m)\u001b[0m\u001b[0;34m)\u001b[0m\u001b[0;34m\u001b[0m\u001b[0;34m\u001b[0m\u001b[0m\n\u001b[0m\u001b[1;32m      7\u001b[0m \u001b[0;34m\u001b[0m\u001b[0m\n\u001b[1;32m      8\u001b[0m \u001b[0;31m# 해당 최소 거리 테이블을 생성\u001b[0m\u001b[0;34m\u001b[0m\u001b[0;34m\u001b[0m\u001b[0;34m\u001b[0m\u001b[0m\n",
            "\u001b[0;31mValueError\u001b[0m: not enough values to unpack (expected 2, got 0)"
          ]
        }
      ]
    },
    {
      "cell_type": "markdown",
      "source": [
        "bfs로도 풀수 있다."
      ],
      "metadata": {
        "id": "kVshUm9EPwed"
      }
    },
    {
      "cell_type": "markdown",
      "source": [
        "18352번\n",
        "특정 거리의 도시 찾기\n",
        "----\n",
        "\n",
        "해당 문제는 다익스트라나 bfs로 거리비용을 구해서 원하는 값만큼을 보여주면 될 것 같다. \n",
        "\n",
        "주어진 수가 상당히 크기때문에 다익스트라나 bfs로 접근을 한다는 발상을 했다."
      ],
      "metadata": {
        "id": "RzxeSQjQQH9S"
      }
    },
    {
      "cell_type": "code",
      "source": [
        "# bfs 로 해볼까?\n",
        "from collections import deque\n",
        "# 노드, 간선, 원하는 비용, 시작 노드\n",
        "n, m , k, x = map(int,input().split())\n",
        "\n",
        "# 그래프 정보 입력받을 곳\n",
        "graph = [[] for _ in range(n+1)]\n",
        "\n",
        "# k에 관한 그래프 비용 저장할곳 \n",
        "cost = [-1] * (n+1)\n",
        "\n",
        "# 그래프 입력\n",
        "for i in range(m):\n",
        "  a, b = map(int,input().split())\n",
        "  graph[a].append(b)\n",
        "\n",
        "# bfs 시작\n",
        "def bfs(x):\n",
        "  # 큐 선언\n",
        "  q = deque([x])\n",
        "  # 자기 자신은 0으로 설정\n",
        "  cost[x] = 0\n",
        "  # 큐가 빌때까지\n",
        "  while q: \n",
        "    now = q.popleft()\n",
        "    # 해당 노드와 연결 되어있는 모든 노드 확인\n",
        "    for i in graph[now]:\n",
        "      # 만약 방문이 안되어 있다면?\n",
        "      if cost[i] == -1 :\n",
        "        cost[i] = cost[now] + 1\n",
        "        q.append(i)\n",
        "\n",
        "bfs(x)\n",
        "# 출력이 되었는지 보기 위한 것\n",
        "cnt = True\n",
        "for i in range(n+1):\n",
        "  if cost[i] == k:\n",
        "    print(i)\n",
        "    cnt = False\n",
        "\n",
        "if cnt== True :\n",
        "  print(-1)"
      ],
      "metadata": {
        "id": "x8cVlq4DQUxc"
      },
      "execution_count": null,
      "outputs": []
    },
    {
      "cell_type": "markdown",
      "source": [
        "2458번\n",
        "키순서\n",
        "---\n",
        "\n",
        "최단 경로 알고리즘 인데 자신이 몇번째 인지 알아야하니 주어진 수가 위에 문제에 비해 엄청 줄어든 것 을 확인 할 수 있다. 500정도면...\n",
        "\n",
        "그래서 플로이드 워셜로 진행을 해볼까 한다."
      ],
      "metadata": {
        "id": "5PY3BIcVXEfr"
      }
    },
    {
      "cell_type": "code",
      "source": [
        "# 학생 수, 비교 횟수\n",
        "INF = int(1e9)\n",
        "n , m = map(int,input().split())\n",
        "\n",
        "# 그래프 정보를 입력 받을 곳\n",
        "graph = [[0]*(n+1) for _ in range(n+1) ]\n",
        "\n",
        "# 입력 받고 값은 1 로 친다\n",
        "for i in range(m):\n",
        "  a, b = map(int,input().split())\n",
        "  graph[a][b] = 1\n",
        "\n",
        "# 자기 자신으로 가는거 0\n",
        "for i in range(n):\n",
        "  for j in range(n):\n",
        "    if i == j:\n",
        "      graph[i][j] = 0\n",
        "\n",
        "# 플로이드 워셜 진행\n",
        "for k in range(1,n+1):\n",
        "  for i in range(1,n+1):\n",
        "    for j in range(1,n+1):\n",
        "      # 만약 k를 거칠때 연결이 된다면?\n",
        "      if graph[i][k] == 1 and graph[k][j] ==1:\n",
        "        graph[i][j] =1\n",
        "\n",
        "# 순서를 알 수 있는 사람\n",
        "result = 0\n",
        "for i in range(1,n+1):\n",
        "  cnt = 0\n",
        "  for j in range(1,n+1):\n",
        "    # 자신(i)하고 모든 사람이 연결이 되었는가 에 대해 확인\n",
        "    cnt += graph[i][j]+ graph[j][i]\n",
        "    \n",
        "  # 자신을 제외하고 만약 같다면?\n",
        "  if cnt == n-1:\n",
        "    result +=1\n",
        "\n",
        "# 결과\n",
        "print(result)"
      ],
      "metadata": {
        "id": "JuHTb1crYx2k"
      },
      "execution_count": null,
      "outputs": []
    },
    {
      "cell_type": "markdown",
      "source": [
        "1956번\n",
        "운동 \n",
        "---\n",
        "\n",
        "최소한의 비용으로 가는 그래프를 찾고 싶어하며 주어진 수가 400으로 굉장히 적은 수 이므로 플로이드 워셜이 가능하다.\n",
        "\n",
        "합이 가장 작은 사이클을 찾으면 되는 플로이드 워셜 문제이다.\n",
        "\n"
      ],
      "metadata": {
        "id": "VDPi89isiAjl"
      }
    },
    {
      "cell_type": "code",
      "source": [
        "INF = int(1e9)\n",
        "v, e = map(int,input().split())\n",
        "\n",
        "graph = [[INF]*(v+1) for _ in range(v+1)]\n",
        "\n",
        "for _ in range(e):\n",
        "  a, b, cost = map(int,input().split())\n",
        "  graph[a][b] = cost\n",
        "\n",
        "for k in range(1,v+1):\n",
        "  for i in range(1,v+1):\n",
        "    for j in range(1,v+1):\n",
        "      # 최소 코스트 출력\n",
        "      graph[i][j] = min(graph[i][j], graph[i][k]+graph[k][j])\n",
        "# 최소 사이클 찾기\n",
        "result = INF\n",
        "\n",
        "# 하나씩 돌아가면서 최소사이클 확인\n",
        "for i in range(1, v+1):\n",
        "    result = min(result, graph[i][i])\n",
        "    \n",
        "if result == INF: #사이클이 없을 경우\n",
        "    print(-1)\n",
        "else:\n",
        "    print(result)\n",
        "\n"
      ],
      "metadata": {
        "id": "uqakvl0RiPtJ"
      },
      "execution_count": null,
      "outputs": []
    }
  ]
}