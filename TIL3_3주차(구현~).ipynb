{
  "nbformat": 4,
  "nbformat_minor": 0,
  "metadata": {
    "colab": {
      "name": "TIL3-3주차(구현~).ipynb",
      "provenance": [],
      "collapsed_sections": [],
      "authorship_tag": "ABX9TyNqs9e03AqM68RxAaS2QC12",
      "include_colab_link": true
    },
    "kernelspec": {
      "name": "python3",
      "display_name": "Python 3"
    },
    "language_info": {
      "name": "python"
    }
  },
  "cells": [
    {
      "cell_type": "markdown",
      "metadata": {
        "id": "view-in-github",
        "colab_type": "text"
      },
      "source": [
        "<a href=\"https://colab.research.google.com/github/shinb-bong/TIL/blob/main/TIL3_3%EC%A3%BC%EC%B0%A8(%EA%B5%AC%ED%98%84~).ipynb\" target=\"_parent\"><img src=\"https://colab.research.google.com/assets/colab-badge.svg\" alt=\"Open In Colab\"/></a>"
      ]
    },
    {
      "cell_type": "markdown",
      "source": [
        "3월 3주차 알고리즘 공부 목표\n",
        "---\n",
        "\n",
        "저번주에 이어 구현의 감을 조금 더 아는 것에 초첨을 두고 공부 할 예정이다.\n",
        "\n",
        "추가적으로는 겨우 감을 잡았던 DFS/BFS, 최단 거리 경로에 대한 감도 중요하기 때문에 그에 대한 문제를 다룰 예정인 주다. "
      ],
      "metadata": {
        "id": "KIubhqt_DVAm"
      }
    },
    {
      "cell_type": "markdown",
      "source": [
        "1316번 그룹 단어 체커\n",
        "---\n",
        "\n",
        "그룹 단어를 체크하는 문제인데, 현재 문자열 이후의 문자열과의 비교를 하면서 해결 하면 될 것 같다.\n",
        "\n",
        "이후 문자열을 자르고 지금 글자랑 같은것이 있나 완전 탐색을 진행하는 방법을 생각하였다."
      ],
      "metadata": {
        "id": "f56UmuxhDsHy"
      }
    },
    {
      "cell_type": "code",
      "execution_count": null,
      "metadata": {
        "id": "AENdPiR8DMB_"
      },
      "outputs": [],
      "source": [
        "tc = int(input())\n",
        "result = 0\n",
        "for _ in range(tc):\n",
        "  word = input()\n",
        "  cnt = 0\n",
        "  for i in range(len(word)-1):\n",
        "    if word[i] != word[i+1]: # 다음 숫자랑 같지 않다면\n",
        "      new_word = word[i+1:] # 현재 글자 이후로 새로운 단어를 만든다.\n",
        "      if new_word.count(word[i]) >0 : # 새로 만든 이후 문자열에 현재 글자가 있다면 \n",
        "        cnt += 1\n",
        "  if cnt == 0:\n",
        "    result +=1\n",
        "print(result)\n",
        "\n"
      ]
    },
    {
      "cell_type": "markdown",
      "source": [
        "7586번 덩치\n",
        "---\n",
        "\n",
        "덩칠플 (x,y) 표현해서 둘다 클 경우 순위가 더 높은 쪽으로 결정이 된다. 나오는 그대로 구현을 해준다."
      ],
      "metadata": {
        "id": "s5fzqMRfSgG6"
      }
    },
    {
      "cell_type": "code",
      "source": [
        "n = int(input())\n",
        "\n",
        "people = [] # 사람들 정보\n",
        "arr =[] # 등수 정보를 저장\n",
        "\n",
        "for _ in range(n):\n",
        "  a,b = map(int,input().split())\n",
        "  people.append((a,b)) # 정보 등록\n",
        "\n",
        "for i in range(n):\n",
        "  cnt = 1 # 0등은 없음\n",
        "  for j in range(n):\n",
        "    if people[i][0] < people[j][0] and people[i][1] < people[j][1]: # 둘다 클경우\n",
        "      cnt += 1\n",
        "  arr.append(cnt)\n",
        "\n",
        "for i in arr:\n",
        "  print(i,end=\" \")\n",
        "  "
      ],
      "metadata": {
        "id": "n1bZgHUPTMzT"
      },
      "execution_count": null,
      "outputs": []
    },
    {
      "cell_type": "markdown",
      "source": [
        "2470번 두 용액\n",
        "--- \n",
        "\n",
        "문제: 두 용액을 골라서 합이 0에 가깝게 구하는 것이다. \n",
        "\n",
        "내가 생각하기엔 용액 양을 정렬 시켜서 맨 아래 맨위를 더해가면서 비교를 한뒤 \n",
        "\n",
        "- 음수가 나오면 아래를 줄이고\n",
        "- 양수가 나오면 위를 줄이고\n",
        "- 0이 나오면 제일 베스트 라고 생각이 든다.\n",
        "\n",
        "한번 생각한 것을 바탕으로 구현을 해볼까 한다."
      ],
      "metadata": {
        "id": "VKQ-7baaTLkc"
      }
    },
    {
      "cell_type": "code",
      "source": [
        "n= int(input()) # 개수\n",
        "\n",
        "data = list(map(int,input().split()))\n",
        "\n",
        "data.sort() # 정렬 진행\n",
        "\n",
        "left = 0 \n",
        "right = n-1 # 맨 끝\n",
        "\n",
        "sum = 2e+9+1# 최대 값\n",
        "answer = []\n",
        "\n",
        "while left < right:\n",
        "  al = data[left]\n",
        "  ar = data[right]\n",
        "  tmp = al+ar\n",
        "\n",
        "  if abs(tmp) < sum: # 정답을 위해 절댓값 분석\n",
        "    sum = abs(tmp)\n",
        "    answer = [al,ar]\n",
        "  \n",
        "  if tmp <0: # 0보다 작다면\n",
        "    left +=1\n",
        "  else:\n",
        "    right -=1\n",
        "\n",
        "print(answer[0],answer[1])"
      ],
      "metadata": {
        "colab": {
          "base_uri": "https://localhost:8080/"
        },
        "id": "xGHyYEpUeWk9",
        "outputId": "692c1635-f9c5-4e2e-a75c-4c01b1ebd4d7"
      },
      "execution_count": 7,
      "outputs": [
        {
          "output_type": "stream",
          "name": "stdout",
          "text": [
            "5\n",
            "-2 4 -99 -1 98\n",
            "-99 98\n"
          ]
        }
      ]
    }
  ]
}