{
  "nbformat": 4,
  "nbformat_minor": 0,
  "metadata": {
    "colab": {
      "name": "기타그래프이론 개념 및 문제.ipynb",
      "provenance": [],
      "collapsed_sections": [],
      "authorship_tag": "ABX9TyMFL53iMzjkgyIA6ciApgyi",
      "include_colab_link": true
    },
    "kernelspec": {
      "name": "python3",
      "display_name": "Python 3"
    },
    "language_info": {
      "name": "python"
    }
  },
  "cells": [
    {
      "cell_type": "markdown",
      "metadata": {
        "id": "view-in-github",
        "colab_type": "text"
      },
      "source": [
        "<a href=\"https://colab.research.google.com/github/shinb-bong/TIL/blob/main/%EA%B8%B0%ED%83%80%EA%B7%B8%EB%9E%98%ED%94%84%EC%9D%B4%EB%A1%A0_%EA%B0%9C%EB%85%90_%EB%B0%8F_%EB%AC%B8%EC%A0%9C.ipynb\" target=\"_parent\"><img src=\"https://colab.research.google.com/assets/colab-badge.svg\" alt=\"Open In Colab\"/></a>"
      ]
    },
    {
      "cell_type": "markdown",
      "source": [
        "기타 그래프 이론\n",
        "---\n",
        "\n",
        "그래프 이론 같은 경우 \"서로 다른 개체가 연결 되어있다.\"\n",
        "\"여러개의 도시가 연결 되어 있다\" 같을 경우 의심해본다.\n",
        "\n",
        "트리는 자주 사용됨\n",
        "\n",
        "+ 인접행렬 : 2차원 배열을 사용 (플로이드 워셜) 노드작을때 유리\n",
        "\n",
        "+ 인접리스트: 리스트를 사용하는 방식(다익스트라) 노드클때 유리\n"
      ],
      "metadata": {
        "id": "QHlXaCi4Jr-U"
      }
    },
    {
      "cell_type": "markdown",
      "source": [
        "서로소 집합\n",
        "---\n",
        "\n",
        "서로소 자료구조: 서로소 부분 집합들로 나누어진 원소들의 데이터를 처리하기 위한 도구\n",
        "\n",
        "+ union, find\n",
        "\n",
        "> - union은 2개의 원소가 포함된 집합을 하나의 집합으로 합쳐줌\n",
        "\n",
        "> - find는 특정한 원소가 속한 집합이 어떤 집합인지 알려줌\n",
        "\n",
        "+ 트리 자료 구조 이용\n",
        "\n",
        "+ 방식\n",
        "\n",
        ">1. union 연산을 확인하여, 서로 연결된 두 A,B를 확인한다.\n",
        "\n",
        ">> 1. A와 B의 루트 노드 'A','B'를 각각 찾는다.\n",
        ">> 2. A를 B의 부모 노드로 설정한다. (작은원소가 부모 노드가 되도록 설정)\n",
        "\n",
        "2. 모든 union 연산 할때 까지 위의 과정 반복\n",
        "\n",
        "\n",
        "+ union은 간선으로 표현된다. 번호가 큰 노드가 번호가 작은 노드를 가르키게 되는 모양\n",
        "\n",
        "작동\n",
        "\n",
        "1. 노드의 부모 테이블 초기화 ( 노드의 갯수만큼 테이블 생성)\n",
        "2. 첫번째 union 연산을 확인하면 큰 노드의 부모를 작은 노드로 설정한다.\n",
        "\n",
        "주의할점\n",
        "\n",
        "+ 부모 테이블을 항상 가지고 있어야 한다.\n",
        "\n",
        "+ 루트 노드를 찾기 위해서 재귀적으로 부모를 거슬러 올라간다.\n",
        "\n",
        "시간 복잡도: O(V+M(1+log(2-M/v) V) // 경로압축 적용"
      ],
      "metadata": {
        "id": "DWgnoZRmLB08"
      }
    },
    {
      "cell_type": "code",
      "execution_count": null,
      "metadata": {
        "id": "jvz6xgusJpGH"
      },
      "outputs": [],
      "source": [
        "# 특정 원소가 속한 집합을 찾기\n",
        "\n",
        "def find_parent(parent,x):\n",
        "  if parent[x] != x:\n",
        "    parent[x] = find_parent(parent,parent[x])\n",
        "  return parent[x]\n",
        "\n",
        "# 두 원소가 속한 집합을 합치기\n",
        "\n",
        "def union_parent(parent,a,b):\n",
        "  # 부모 노드 찾기\n",
        "  a = find_parent(parent,a)\n",
        "  b = find_parent(parent,b)\n",
        "\n",
        "  if a<b: \n",
        "    parent[b] = a\n",
        "\n",
        "  else: \n",
        "    parent[a] =b\n",
        "\n",
        "# 노드의 개수와 간선 입력받기\n",
        "v,e = map(int,input().split())\n",
        "parent = [0] * (v+1) # 부모 테이블 초기화\n",
        "\n",
        "# 부모 테이블 자기 자신으로 초기화\n",
        "for i in range(1,v+1):\n",
        "  parent[i] = i\n",
        "# union 연산을 각각 수행\n",
        "for i in range(e):\n",
        "  a,b = map(int,input().split())\n",
        "  union_parent(parent,a,b)\n",
        "\n",
        "# 각 원소가 속한 집합 출력\n",
        "\n",
        "for i in range(1,v+1):\n",
        "  print(find_parent(parent,i),end = ' ')\n",
        "\n",
        "# 부모 테이블 내용 출력\n",
        "\n",
        "for i in range(1,v+1):\n",
        "  print(parent[i], end = \" \")"
      ]
    },
    {
      "cell_type": "markdown",
      "source": [
        "서로소 집합을 활용한 사이클 판별\n",
        "---\n",
        "1. 각 간선을 확인하면서 두 노드의 루트 노드를 확인\n",
        "> 1. 루트 노드가 서로 다르면 두 노드에 대해 union\n",
        "> 2. 루트 노드가 서로 같다면 사이클 발생\n",
        "2. 1번 모든 간선에 함\n",
        "\n",
        "***주의: 간선에 방향성이 없는 무향 그래프에서만 적용 가능***\n",
        "\n",
        "\n",
        "   ``` \n",
        "   if find_parent(parent,a) == find_parent(parent,b):\n",
        "    cycle = True\n",
        "    break\n",
        "    else: \n",
        "    union_parent(parent,a,b) \n",
        "  ```"
      ],
      "metadata": {
        "id": "c2gZn3M8QJFk"
      }
    },
    {
      "cell_type": "markdown",
      "source": [
        "신장트리 \n",
        "---\n",
        "\n",
        "하나의 그래프가 있을 때 모든 노드를 포함하면서 사이클이 존재하지 않는 부분 그래프\n",
        "\n",
        "크루스칼 알고리즘 (최소 신장 트리 알고리즘)\n",
        "---"
      ],
      "metadata": {
        "id": "tfThocAsSIm3"
      }
    }
  ]
}