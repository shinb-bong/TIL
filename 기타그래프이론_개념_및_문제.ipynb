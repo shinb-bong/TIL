{
  "nbformat": 4,
  "nbformat_minor": 0,
  "metadata": {
    "colab": {
      "name": "기타그래프이론 개념 및 문제.ipynb",
      "provenance": [],
      "collapsed_sections": [],
      "authorship_tag": "ABX9TyPjZ98VDpkEkT7ZtJmsiWHL",
      "include_colab_link": true
    },
    "kernelspec": {
      "name": "python3",
      "display_name": "Python 3"
    },
    "language_info": {
      "name": "python"
    }
  },
  "cells": [
    {
      "cell_type": "markdown",
      "metadata": {
        "id": "view-in-github",
        "colab_type": "text"
      },
      "source": [
        "<a href=\"https://colab.research.google.com/github/shinb-bong/TIL/blob/main/%EA%B8%B0%ED%83%80%EA%B7%B8%EB%9E%98%ED%94%84%EC%9D%B4%EB%A1%A0_%EA%B0%9C%EB%85%90_%EB%B0%8F_%EB%AC%B8%EC%A0%9C.ipynb\" target=\"_parent\"><img src=\"https://colab.research.google.com/assets/colab-badge.svg\" alt=\"Open In Colab\"/></a>"
      ]
    },
    {
      "cell_type": "markdown",
      "source": [
        "기타 그래프 이론\n",
        "---\n",
        "\n",
        "그래프 이론 같은 경우 \"서로 다른 개체가 연결 되어있다.\"\n",
        "\"여러개의 도시가 연결 되어 있다\" 같을 경우 의심해본다.\n",
        "\n",
        "트리는 자주 사용됨\n",
        "\n",
        "+ 인접행렬 : 2차원 배열을 사용 (플로이드 워셜) 노드작을때 유리\n",
        "\n",
        "+ 인접리스트: 리스트를 사용하는 방식(다익스트라) 노드클때 유리\n"
      ],
      "metadata": {
        "id": "QHlXaCi4Jr-U"
      }
    },
    {
      "cell_type": "markdown",
      "source": [
        "서로소 집합\n",
        "---\n",
        "\n",
        "서로소 자료구조: 서로소 부분 집합들로 나누어진 원소들의 데이터를 처리하기 위한 도구\n",
        "\n",
        "+ union, find\n",
        "\n",
        "> - union은 2개의 원소가 포함된 집합을 하나의 집합으로 합쳐줌\n",
        "\n",
        "> - find는 특정한 원소가 속한 집합이 어떤 집합인지 알려줌\n",
        "\n",
        "+ 트리 자료 구조 이용\n",
        "\n",
        "+ 방식\n",
        "\n",
        ">1. union 연산을 확인하여, 서로 연결된 두 A,B를 확인한다.\n",
        "\n",
        ">> 1. A와 B의 루트 노드 'A','B'를 각각 찾는다.\n",
        ">> 2. A를 B의 부모 노드로 설정한다. (작은원소가 부모 노드가 되도록 설정)\n",
        "\n",
        "2. 모든 union 연산 할때 까지 위의 과정 반복\n",
        "\n",
        "\n",
        "+ union은 간선으로 표현된다. 번호가 큰 노드가 번호가 작은 노드를 가르키게 되는 모양\n",
        "\n",
        "작동\n",
        "\n",
        "1. 노드의 부모 테이블 초기화 ( 노드의 갯수만큼 테이블 생성)\n",
        "2. 첫번째 union 연산을 확인하면 큰 노드의 부모를 작은 노드로 설정한다.\n",
        "\n",
        "주의할점\n",
        "\n",
        "+ 부모 테이블을 항상 가지고 있어야 한다.\n",
        "\n",
        "+ 루트 노드를 찾기 위해서 재귀적으로 부모를 거슬러 올라간다.\n",
        "\n",
        "시간 복잡도: O(V+M(1+log(2-M/v) V) // 경로압축 적용"
      ],
      "metadata": {
        "id": "DWgnoZRmLB08"
      }
    },
    {
      "cell_type": "code",
      "execution_count": null,
      "metadata": {
        "id": "jvz6xgusJpGH"
      },
      "outputs": [],
      "source": [
        "# 특정 원소가 속한 집합을 찾기\n",
        "\n",
        "def find_parent(parent,x):\n",
        "  if parent[x] != x:\n",
        "    parent[x] = find_parent(parent,parent[x])\n",
        "  return parent[x]\n",
        "\n",
        "# 두 원소가 속한 집합을 합치기\n",
        "\n",
        "def union_parent(parent,a,b):\n",
        "  # 부모 노드 찾기\n",
        "  a = find_parent(parent,a)\n",
        "  b = find_parent(parent,b)\n",
        "\n",
        "  if a<b: \n",
        "    parent[b] = a\n",
        "\n",
        "  else: \n",
        "    parent[a] =b\n",
        "\n",
        "# 노드의 개수와 간선 입력받기\n",
        "v,e = map(int,input().split())\n",
        "parent = [0] * (v+1) # 부모 테이블 초기화\n",
        "\n",
        "# 부모 테이블 자기 자신으로 초기화\n",
        "for i in range(1,v+1):\n",
        "  parent[i] = i\n",
        "# union 연산을 각각 수행\n",
        "for i in range(e):\n",
        "  a,b = map(int,input().split())\n",
        "  union_parent(parent,a,b)\n",
        "\n",
        "# 각 원소가 속한 집합 출력\n",
        "\n",
        "for i in range(1,v+1):\n",
        "  print(find_parent(parent,i),end = ' ')\n",
        "\n",
        "# 부모 테이블 내용 출력\n",
        "\n",
        "for i in range(1,v+1):\n",
        "  print(parent[i], end = \" \")"
      ]
    },
    {
      "cell_type": "markdown",
      "source": [
        "서로소 집합을 활용한 사이클 판별\n",
        "---\n",
        "1. 각 간선을 확인하면서 두 노드의 루트 노드를 확인\n",
        "> 1. 루트 노드가 서로 다르면 두 노드에 대해 union\n",
        "> 2. 루트 노드가 서로 같다면 사이클 발생\n",
        "2. 1번 모든 간선에 함\n",
        "\n",
        "***주의: 간선에 방향성이 없는 무향 그래프에서만 적용 가능***\n",
        "\n",
        "\n",
        "   ``` \n",
        "   if find_parent(parent,a) == find_parent(parent,b):\n",
        "    cycle = True\n",
        "    break\n",
        "    else: \n",
        "    union_parent(parent,a,b) \n",
        "  ```"
      ],
      "metadata": {
        "id": "c2gZn3M8QJFk"
      }
    },
    {
      "cell_type": "markdown",
      "source": [
        "신장트리 \n",
        "---\n",
        "\n",
        "하나의 그래프가 있을 때 모든 노드를 포함하면서 사이클이 존재하지 않는 부분 그래프\n",
        "\n",
        "크루스칼 알고리즘 (최소 신장 트리 알고리즘)\n",
        "---\n",
        "\n",
        "가장 적은 비용으로 모든 노드를 연결 할 수 있다.\n",
        "\n",
        "1. 간선 데이터를 비용에 따라 오름차순 진행(가장 짧은것 부터)\n",
        "2. 간선을 하나씩 확인하며 현재의 간선이 사이클을 발생시키는지 확인한다.\n",
        "> 1. 사이클이 발생하지 않으면 최소 신장트리에 포함(union 함수 실행)\n",
        "> 2. 사이클이 발생하면 최소 신장 트리에 포함하지 않는다.\n",
        "\n",
        "특징\n",
        "\n",
        "+ 간선의 갯수는 노드-1 \n",
        "\n",
        "+ 시간 복잡도: O(ElogE) // sort 때문에"
      ],
      "metadata": {
        "id": "tfThocAsSIm3"
      }
    },
    {
      "cell_type": "code",
      "source": [
        "# 특정 원소가 속한 집합을 찾기\n",
        "\n",
        "def find_parent(parent,x):\n",
        "  if parent[x] != x:\n",
        "    parent[x] = find_parent(parent,parent[x])\n",
        "  return parent[x]\n",
        "\n",
        "def union_parent(parent,a,b):\n",
        "  # 부모 노드 찾기\n",
        "  a = find_parent(parent,a)\n",
        "  b = find_parent(parent,b)\n",
        "\n",
        "  if a<b: \n",
        "    parent[b] = a\n",
        "\n",
        "  else: \n",
        "    parent[a] =b\n",
        "\n",
        "# 노드의 개수와 간선 입력받기\n",
        "v,e = map(int,input().split())\n",
        "parent = [0] * (v+1) # 부모 테이블 초기화\n",
        "\n",
        "\n",
        "# 모든 간선을 담을 리스트와 최종 비용을 담을 변수\n",
        "edges = []\n",
        "result = 0\n",
        "\n",
        "# 부모 테이블상에서, 부모를 자기 자신으로 초기화\n",
        "for i in range(1,v+1):\n",
        "  parent[i] = i\n",
        "\n",
        "# 모든 간선에 대한 정보를 입력받기\n",
        "for _ in range(e):\n",
        "  a,b,cost = map(int,input().split())\n",
        "  # 비용순으로 정렬하기 위해서 튜플의 첫 번째 원소를 비용으로 설정\n",
        "  edges.append((cost,a,b))\n",
        "\n",
        "# 간선을 비용순으로 정렬\n",
        "edges.sort()\n",
        "\n",
        "# 간선을 하나씩 확인하며 \n",
        "for edge in edges:\n",
        "  cost,a,b = edge\n",
        "  # 사이클이 발생하지 않는 경우에만 집합에 포함\n",
        "  if find_parent(parent,a) != find_parent(parent,b):\n",
        "    union_parent(parent,a,b)\n",
        "    result += cost\n",
        "print(result)\n",
        "\n"
      ],
      "metadata": {
        "id": "EFkVU5DWTnEo"
      },
      "execution_count": null,
      "outputs": []
    },
    {
      "cell_type": "markdown",
      "source": [
        "위상 정렬\n",
        "---\n",
        "\n",
        "방향 그래프의 모든 노드를 \"방향성에 거스르지 않도록 순서대로 나열하는 것\"\n",
        "\n",
        "ex) 대학교 선수과목 순서 \n",
        "\n",
        "+ 진입차수(Indegree)\n",
        "> 특정한 노드로 들어오는 간선의 개수\n",
        "\n",
        "\n",
        "1. 진입차수가 0인 노드를 큐에 넣는다.\n",
        "2. 큐가 빌때까지 다음의 과정을 반복한다.\n",
        "> 1. 큐에서 원소를 꺼내 해당 노드에서 출발하는 간선을 그래프에서 제거한다.\n",
        "> 2. 새롭게 진입차수가 0이 된 노드를 ***큐***에 넣는다.\n",
        "\n",
        "> + 모든 원소를 방문하기 전에 큐가 빈다면 사이클이 존재하는 것\n",
        "> + But, 위상 정렬 문제에서는 사이클이 발생하지 않는다고 명시해주는 경우가 많음\n",
        "> + 답이 여러개 나올 수도 있음\n",
        "\n",
        "특징\n",
        "+ 시간복잡도: O(V+E)// 간선과 노드 모두 확인해서"
      ],
      "metadata": {
        "id": "2ZYe7HNiVRxK"
      }
    },
    {
      "cell_type": "code",
      "source": [
        "from collections import deque\n",
        "\n",
        "# 노드의 개수와 간선의 개수를 입력받기\n",
        "v,e = map(int,input().split())\n",
        "\n",
        "# 모든 노드에 대한 진입 차수는 0으로 초기화\n",
        "indegree = [0]*(v+1)\n",
        "\n",
        "# 각 노드에 연결된 간선 정보를 알기 위한 연결리스트(그래프) 초기화\n",
        "graph = [[]for _ in range(v+1)]\n",
        "\n",
        "# 방향 그래프의 모든 간선 정보 읽기\n",
        "for _ in range(e):\n",
        "  a,b = map(int,input().split())\n",
        "  graph[a].append(b) # 정점 A에서 B로 이동가능\n",
        "  \n",
        "  # 진입차수를 1증가\n",
        "  indegree[b] +=1\n",
        "\n",
        "# 위상 정렬 함수\n",
        "def topology_sort():\n",
        "  result =[] # 알고리즘 수행 결과 리스트\n",
        "  q = deque() # 큐 기능을 위한 deque 라이브러리 사용\n",
        "\n",
        "  # 처음 시작할때 진입차수 0인 노드 큐에 삽입\n",
        "  for i in range(1,v+1):\n",
        "    if indegree[i] == 0:\n",
        "      q.append(i)\n",
        "\n",
        "  # 큐가 빌때까지 반복\n",
        "  while q:\n",
        "    \n",
        "    now = q.popleft()\n",
        "    result.append(now)\n",
        "    # 해당 원소와 연결된 노드들의 진입차수에서 1빼기\n",
        "\n",
        "    for i in graph[now]:\n",
        "      indegree[i] -=1\n",
        "      # 새롭게 진입차수가 0이 되는 노드를 큐에 삽입\n",
        "      if indegree[i] == 0:\n",
        "          q.append(i)\n",
        "\n",
        "  # 위상 정렬 수행한 결과 출력\n",
        "  for i in result :\n",
        "    print(i, end = ' ')\n",
        "\n",
        "topology_sort()"
      ],
      "metadata": {
        "id": "jN3dDdbMXgPY"
      },
      "execution_count": null,
      "outputs": []
    },
    {
      "cell_type": "markdown",
      "source": [
        "문제\n",
        "---\n",
        "\n",
        "팀결성\n",
        "\n",
        "풀이: 서로소 집합문제를 물어보는 문제이다. 범위가 크므로 경로 압축을 통한 문제 해결을 하도록 한다.\n",
        "\n",
        "+ 범위부터 확인해서 수행시간 대략 예측하는거 필수"
      ],
      "metadata": {
        "id": "VHw4lQTLalEY"
      }
    },
    {
      "cell_type": "code",
      "source": [
        "def find_parent(parent,x):\n",
        "  # 경로 압축\n",
        "  if parent[x] != x:\n",
        "    parent[x]= find_parent(parent,parent[x])\n",
        "  return parent[x]\n",
        "\n",
        "def union_parent(parent,a,b):\n",
        "  a = find_parent(parent,a)\n",
        "  b = find_parent(parent,b)\n",
        "\n",
        "  if a<b : \n",
        "    parent[b] = a\n",
        "  else: \n",
        "    parent[a] = b\n",
        "n,m = map(int,input().split())\n",
        "parent = [0] * (n+1) # 부모 노드 테이블 초기화\n",
        "\n",
        "# 부모 테이블을 자기 자신으로 초기화\n",
        "for i in range(0,n+1):\n",
        "  parent[i] = i\n",
        "  \n",
        "# 각 연산을 한번씩 확인\n",
        "for i in range(m):\n",
        "  op, a , b = map(int,input().split())\n",
        "\n",
        "  if op == 0 :\n",
        "    union_parent(parent,a,b)\n",
        "  elif op == 1:\n",
        "    if find_parent(parent,a) == find_parent(parent,b):\n",
        "      print(\"Yes\")\n",
        "    else: \n",
        "      print(\"NO\")\n",
        "  "
      ],
      "metadata": {
        "colab": {
          "base_uri": "https://localhost:8080/"
        },
        "id": "4-pj0RLna6yg",
        "outputId": "0984e23e-2aa3-4215-9bce-a95c1c1d9382"
      },
      "execution_count": null,
      "outputs": [
        {
          "output_type": "stream",
          "name": "stdout",
          "text": [
            "7 8\n",
            "0 1 3\n",
            "1 1 7\n",
            "NO\n",
            "0 7 6\n",
            "1 7 1\n",
            "NO\n",
            "0 3 7\n",
            "0 4 2\n",
            "0 1 1\n",
            "1 1 1\n",
            "Yes\n"
          ]
        }
      ]
    },
    {
      "cell_type": "markdown",
      "source": [
        "도시 분할 문제 \n",
        "---\n",
        "\n",
        "문제 분석: 최소 신장트리를 만들고 싶지만 그중 가장 큰 간선을 없애서 두개의 독립된 마을로 만들고 싶은것 같음."
      ],
      "metadata": {
        "id": "1E9NEWfJfE_k"
      }
    },
    {
      "cell_type": "code",
      "source": [
        "def find_parent(parent,x):\n",
        "  # 경로 압축\n",
        "  if parent[x] != x:\n",
        "    parent[x]= find_parent(parent,parent[x])\n",
        "  return parent[x]\n",
        "\n",
        "def union_parent(parent,a,b):\n",
        "  a = find_parent(parent,a)\n",
        "  b = find_parent(parent,b)\n",
        "\n",
        "  if a<b : \n",
        "    parent[b] = a\n",
        "  else: \n",
        "    parent[a] = b\n",
        "\n",
        "n , m = map(int,input().split())\n",
        "\n",
        "# 부모테이블 초기화\n",
        "parent = [0]*(n+1)\n",
        "\n",
        "# 모든 간선을 담을 리스트와 부모를 자기 자신으로 초기화\n",
        "for i in range(1,n+1):\n",
        "  parent[i] = i\n",
        "# 모든 간선을 담을 리스트\n",
        "edges =[]\n",
        "result = 0\n",
        "for _ in range(m):\n",
        "  a,b, cost = map(int,input().split())\n",
        "  edges.append((cost,a,b))\n",
        "\n",
        "# 간선 비용순으로 정렬\n",
        "edges.sort()\n",
        "large = 0 # 신장 트리에 포함되는 가장 큰 간선\n",
        "\n",
        "for egde in edges:\n",
        "  cost,a,b = edge\n",
        "  # 사이클이 발생하지 않는 경우에만 집합에 포함\n",
        "  if find_parent(parent,a) != find_parent(parent,b):\n",
        "    union_parent(parent,a,b)\n",
        "    result += cost\n",
        "\n",
        "    # 당연히 가장 마지막에 있는게 제일 비용이 큰 간선\n",
        "    large = cost\n",
        "\n",
        "print(result- cost)"
      ],
      "metadata": {
        "id": "jyT_YTFlfxtH"
      },
      "execution_count": null,
      "outputs": []
    },
    {
      "cell_type": "markdown",
      "source": [
        "커리 큘럼 문제\n",
        "\n",
        "풀이: 방향성이 있는 그래프 순서를 지켜야 하므로 위상정렬로 풀어봐야겠다.\n",
        "\n",
        "많이 어렵다...\n",
        "\n",
        "리스트 값을 복제해야 할때는 이러한 라이브러리를 응용한다.\n",
        "  ```\n",
        "  import copy\n",
        "\n",
        "  copy.deepcopy()\n",
        "  ```\n",
        "인접 리스트: 리스트로 그래프의 연결관계를 표현하는 방법\n",
        "\n",
        "```\n",
        "graph =[[]for _in range(3)]\n",
        "\n",
        "# 0과 연결된 정보 저장 (노드, 거리)\n",
        "graph[0].append((1,7))\n",
        "```"
      ],
      "metadata": {
        "id": "EbudlbT4iqb0"
      }
    },
    {
      "cell_type": "code",
      "source": [
        "from collections import deque\n",
        "import copy\n",
        "\n",
        "v = int(input())\n",
        "# 모든 노드 진입차수 0\n",
        "indegree = [0] *(v+1)\n",
        "# 각노드 연결된 간선의 정보를 담기 위한 연결리스트(그래프) 초기화\n",
        "graph = [[] for i in range(v+1)]\n",
        "# 각 강의 시간을 0으로 초기화\n",
        "time = [0] *(v+1)\n",
        "\n",
        "# 방향 그래프의 모든 간선 정보 받기\n",
        "for i in range(1,v+1):\n",
        "  data = list(map(int,input().split()))\n",
        "  time[i] = data[0] # 첫번째 수가 시간이니깐\n",
        "\n",
        "  for x in data[1:-1]:\n",
        "    # 진입 차수니깐 i지\n",
        "    indegree[i] +=1\n",
        "    graph[x].append(i)\n",
        "# 위상 정렬 함수 \n",
        "def topology_sort():\n",
        "  result = copy.deepcopy(time) # 알고리즘 수행결과 담을 리스트\n",
        "  q = deque()\n",
        "\n",
        "  # 처음 시작할때 진입차수 0인거 넣고함\n",
        "  for i in range(1,v+1):\n",
        "    if indegree[i] == 0:\n",
        "      q.append(i)\n",
        "\n",
        "  # 큐가 빌때까지 반복\n",
        "  while q:\n",
        "    now = q.popleft()\n",
        "    for i in graph[now]:\n",
        "      result[i] = max(result[i],result[now]+time[i])\n",
        "      indegree[i] -=1\n",
        "      # 새롭게 진입차수가 0이 되는 노드를 삽입\n",
        "      if indegree[i] == 0:\n",
        "        q.append(i)\n",
        "  for i in range(1,v+1) :\n",
        "    print(result[i])\n",
        "    \n",
        "topology_sort()\n"
      ],
      "metadata": {
        "colab": {
          "base_uri": "https://localhost:8080/"
        },
        "id": "SVcCTxrgid6e",
        "outputId": "3ca162af-a1e5-4ea1-cd54-d145cbb79cf6"
      },
      "execution_count": null,
      "outputs": [
        {
          "name": "stdout",
          "output_type": "stream",
          "text": [
            "1\n"
          ]
        }
      ]
    }
  ]
}