{
  "nbformat": 4,
  "nbformat_minor": 0,
  "metadata": {
    "colab": {
      "name": "기타 그래프 이론 기출 문제.ipynb",
      "provenance": [],
      "collapsed_sections": [],
      "authorship_tag": "ABX9TyOALT40tOkI3bmY9TSwy7bk",
      "include_colab_link": true
    },
    "kernelspec": {
      "name": "python3",
      "display_name": "Python 3"
    },
    "language_info": {
      "name": "python"
    }
  },
  "cells": [
    {
      "cell_type": "markdown",
      "metadata": {
        "id": "view-in-github",
        "colab_type": "text"
      },
      "source": [
        "<a href=\"https://colab.research.google.com/github/shinb-bong/TIL/blob/main/%EA%B8%B0%ED%83%80_%EA%B7%B8%EB%9E%98%ED%94%84_%EC%9D%B4%EB%A1%A0_%EA%B8%B0%EC%B6%9C_%EB%AC%B8%EC%A0%9C.ipynb\" target=\"_parent\"><img src=\"https://colab.research.google.com/assets/colab-badge.svg\" alt=\"Open In Colab\"/></a>"
      ]
    },
    {
      "cell_type": "markdown",
      "source": [
        "여행 계획\n",
        "----\n",
        "\n",
        "서로소 문제로 접근을 하여야한다.\n"
      ],
      "metadata": {
        "id": "HhYMwWZWfHSc"
      }
    },
    {
      "cell_type": "code",
      "execution_count": null,
      "metadata": {
        "id": "mXaFdl_Cev8k"
      },
      "outputs": [],
      "source": [
        "# 파인드\n",
        "def find_parent(parent,x):\n",
        "  if parent[x] != x:\n",
        "    parent[x] = find_parent(parent,parent[x])\n",
        "  return parent[x]\n",
        "\n",
        "# union\n",
        "def union_parent(parent,a,b):\n",
        "  a = find_parent(parent,a)\n",
        "  b = find_parent(parent,b)\n",
        "\n",
        "  if a < b:\n",
        "    parent[b] = a\n",
        "  else:\n",
        "    parent[a] = b\n",
        "\n",
        "\n",
        "n , m = map(int,input().split())\n",
        "parent = [0] * (n+1)\n",
        "# 부모 테이블 초기화\n",
        "for i in range(1,n+1):\n",
        "  parent[i] = i\n",
        "\n",
        "for i in range(n):\n",
        "  data = list(map(int,input().split()))\n",
        "  for j in range(n):\n",
        "    if data[j] == 1: #연결된 경우라면\n",
        "      union_parent(parent,i+1,j+1)\n",
        "\n",
        "cities = list(map(int,input().split()))\n",
        "\n",
        "# 만약 된다고 치자~\n",
        "result = True\n",
        "\n",
        "# 비교해본다 다음거랑 만약에 부모가 다르면 연결 안되어있는거니깐\n",
        "for i in range(m-1):\n",
        "  if find_parent(parent,cities[i]) != find_parent(parent,cities[i+1]):\n",
        "    result = False\n",
        "\n",
        "# 여행 계획에 속하는 모든 노드가 서로 연결 되어있는지 확인 \n",
        "if result:\n",
        "  print(\"Yes\")\n",
        "else:\n",
        "  print(\"No\")"
      ]
    },
    {
      "cell_type": "markdown",
      "source": [
        "탑승구\n",
        "---\n",
        "\n",
        "그림을 풀어서 만약 해당 정거장이 선택이 되면 옆 정거장과 부모 노드를 일치 시키면서 만약 최종 부모 노드가 0일 경우 종료  \n",
        "\n",
        "\n",
        "서로소 집합은 부모 테이블 첫 초기화를 자기자신으로 한다는 점을 기억하자"
      ],
      "metadata": {
        "id": "TlLDaUFf86go"
      }
    },
    {
      "cell_type": "code",
      "source": [
        "# 파인드\n",
        "def find_parent(parent,x):\n",
        "  if parent[x] != x:\n",
        "    parent[x] = find_parent(parent,parent[x])\n",
        "  return parent[x]\n",
        "\n",
        "# union\n",
        "def union_parent(parent,a,b):\n",
        "  a = find_parent(parent,a)\n",
        "  b = find_parent(parent,b)\n",
        "\n",
        "  if a < b:\n",
        "    parent[b] = a\n",
        "  else:\n",
        "    parent[a] = b\n",
        "# 탑승구 개수\n",
        "g = int(input())\n",
        "# 비행기의 개수 \n",
        "p = int(input())\n",
        "\n",
        "parent = [0] *(g+1)\n",
        "\n",
        "# 자기 자신으로 초기화\n",
        "for i range(1,g+1):\n",
        "  parent[i] = i\n",
        "\n",
        "result = 0\n",
        "for _ in range(p):\n",
        "  data = find_parent(parent,int(input()))\n",
        "  # 현재 루트가 0이라면\n",
        "  if data == 0:\n",
        "    break\n",
        "  union_parent(parent,data,data-1)\n",
        "  result += 1\n",
        "print(result)\n",
        "  "
      ],
      "metadata": {
        "id": "qBOV3UwU9H5x"
      },
      "execution_count": null,
      "outputs": []
    },
    {
      "cell_type": "markdown",
      "source": [
        "어두운길 \n",
        "---\n",
        "\n",
        "접근: 가장 적은 비용을 사용하여 모든 집을 잇는 문제이다.\n",
        "\n",
        "최소신장트리를 구하는 문제 같으므로 크루스칼 알고리즘을 접근하여 문제를 풀어보려고 한다.\n",
        "\n",
        "위의 서로소와 다른점은 sort를 사용한 최소부터 판별하는점이 조금 다르다."
      ],
      "metadata": {
        "id": "XdxIORVlpHrl"
      }
    },
    {
      "cell_type": "code",
      "source": [
        "\n",
        "def find_parent(parent, x):\n",
        "  if parent[x] != x :\n",
        "    parent[x] = find_parent(parent,x)\n",
        "  return paret[x]\n",
        "\n",
        "def union_parent(parent,a,b):\n",
        "  a = find_parent(parent,a)\n",
        "  b = find_parent(parent,b)\n",
        "\n",
        "  if a <b:\n",
        "    parent[b] =a\n",
        "  else:\n",
        "    parent[a] =b\n",
        "\n",
        "n , m = int(input())\n",
        "parent = [0] * (n+1)\n",
        "# 자기 자신으로 초기화\n",
        "for i in range(1,n+1):\n",
        "  p[i] = i\n",
        "\n",
        "result = 0 # 뽑힌 그래프의 cost\n",
        "total = 0 # 전체 cost\n",
        "edeges = []\n",
        "for _ in range(m):\n",
        "  x,y,z = map(int,input().split())\n",
        "  edeges.append((z,x,y))\n",
        "\n",
        "# \"최소\" 신장트리니깐 최소인 항목부터 살펴본다.\n",
        "edeges.sort()\n",
        "\n",
        "for edege in edeges :\n",
        "  cost, a,b = edege\n",
        "  total += cost\n",
        "  if find_parent(parent,a) != find_parent(parent,b):\n",
        "    union_parent(parent,a,b)\n",
        "    result += cost  "
      ],
      "metadata": {
        "id": "VQlHceODpJYr"
      },
      "execution_count": null,
      "outputs": []
    },
    {
      "cell_type": "markdown",
      "source": [
        "행성 터널\n",
        "----\n",
        "\n",
        "풀이: 최소신장트리인데 코스트를 내가 따로 계산해야하는 그런느낌이지 않을까 라는 생각\n",
        "\n",
        "그리고 일단 수가 엄청 커서 다 확인하는 방법으로는 무리일것 같다."
      ],
      "metadata": {
        "id": "A7AxbQ4nHpE_"
      }
    },
    {
      "cell_type": "code",
      "source": [
        "def find_parent(parent,x):\n",
        "  if parent[x] != x:\n",
        "    parent[x] = find_parent(parent,parent[x])\n",
        "  return parent[x]\n",
        "\n",
        "\n",
        "def union_parent(parent,a,b):\n",
        "  a = find_parent(parent,a)\n",
        "  b = find_parent(parent,b)\n",
        "\n",
        "  if a<b:\n",
        "    parent[b] =a\n",
        "  else:\n",
        "    parent[a] =b\n",
        "\n",
        "n = int(input())\n",
        "parent [0] *(n+1)\n",
        "\n",
        "# 모든 간선을 담을 최종 변수\n",
        "edeges = []\n",
        "result = 0\n",
        "\n",
        "# 부모 테이블 자기 자신 초기화\n",
        "for i in range(1,n+1):\n",
        "  parent[i] = i\n",
        "\n",
        "# x,y,z 좌표받기\n",
        "x = []\n",
        "y = []\n",
        "z = []\n",
        "\n",
        "for i in range(1,n+1):\n",
        "  data = map(int,input().split())\n",
        "  x.append((data[0],i))\n",
        "  y.append((data[1],i))\n",
        "  z.append((data[2],i))\n",
        "\n",
        "# 각각에 대하여 최소 정렬\n",
        "x.sort()\n",
        "y.sort()\n",
        "z.sort()\n",
        "\n",
        "# 인접한 노드들부터 간선 정보를 추출하여 처리\n",
        "for i in range(n-1):\n",
        "  # 비용순으로 정렬하기 위해서 (비용,시작,도착)\n",
        "  edeges.append((x[i+1][0]-x[i][0],x[i][1],x[i+1][1]))\n",
        "  edeges.append((y[i+1][0]-y[i][0],y[i][1],y[i+1][1]))\n",
        "  edeges.append((z[i+1][0]-z[i][0],z[i][1],z[i+1][1]))\n",
        "\n",
        "edeges.sort()\n",
        "\n",
        "for edege in edeges:\n",
        "  cost,a,b = edege\n",
        "  # 사이클 없을 경우 포함\n",
        "  if find_parent(parent,a) != find_parent(parent,b):\n",
        "    union_parent(parent,a,b)\n",
        "    result += cost\n",
        "print(result)\n",
        "\n",
        "\n",
        "\n"
      ],
      "metadata": {
        "id": "ploq1xjVIDzq"
      },
      "execution_count": null,
      "outputs": []
    },
    {
      "cell_type": "markdown",
      "source": [
        ""
      ],
      "metadata": {
        "id": "L_jpNoHEMeCd"
      }
    }
  ]
}