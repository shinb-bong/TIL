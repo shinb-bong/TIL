{
  "nbformat": 4,
  "nbformat_minor": 0,
  "metadata": {
    "colab": {
      "name": "TIL(Algo)- 5월 1주차.ipynb",
      "provenance": [],
      "collapsed_sections": [],
      "authorship_tag": "ABX9TyMTtShbEyKTzfkXM5Sinv+G",
      "include_colab_link": true
    },
    "kernelspec": {
      "name": "python3",
      "display_name": "Python 3"
    },
    "language_info": {
      "name": "python"
    }
  },
  "cells": [
    {
      "cell_type": "markdown",
      "metadata": {
        "id": "view-in-github",
        "colab_type": "text"
      },
      "source": [
        "<a href=\"https://colab.research.google.com/github/shinb-bong/TIL/blob/main/TIL(Algo)_5%EC%9B%94_1%EC%A3%BC%EC%B0%A8.ipynb\" target=\"_parent\"><img src=\"https://colab.research.google.com/assets/colab-badge.svg\" alt=\"Open In Colab\"/></a>"
      ]
    },
    {
      "cell_type": "markdown",
      "source": [
        "7562번 나이트의 이동\n",
        "---"
      ],
      "metadata": {
        "id": "t3R4AX9wsj-s"
      }
    },
    {
      "cell_type": "code",
      "execution_count": null,
      "metadata": {
        "id": "qXwVpKajseSf"
      },
      "outputs": [],
      "source": [
        "from collections import deque\n",
        "INF = int(1e9)\n",
        "tc = int(input())\n",
        "for _ in range(tc):\n",
        "  # 판의 크기 l\n",
        "  l = int(input())\n",
        "  # 말의 출발 start x,y\n",
        "  sx, sy = map(int,input().split())\n",
        "  # 말의 도착 target x,y\n",
        "  tx,ty = map(int,input().split())\n",
        "\n",
        "  # 나이트가 갈수 있는 곳 단위 벡터\n",
        "  dx = [-1,-1,1,1,2,2,-2,-2]\n",
        "  dy = [2,-2,2,-2,1,-1,1,-1]\n",
        "  graph =[[INF for _ in range(l)] for _ in range(l)]\n",
        "  \n",
        "  # bfs 진행\n",
        "  def bfs():\n",
        "    q = deque()\n",
        "    q.append((sx,sy))\n",
        "\n",
        "    graph[sx][sy] = 0\n",
        "    while q:\n",
        "      x,y = q.popleft()\n",
        "      for i in range(8):\n",
        "        nx = x + dx[i]\n",
        "        ny = y + dy[i]\n",
        "        if x== tx and y == ty :\n",
        "          break\n",
        "        if nx <0 or nx >=l or ny <0 or ny>=l :\n",
        "          continue\n",
        "        else:\n",
        "          if graph[nx][ny] > graph[x][y]+1:\n",
        "            graph[nx][ny] = graph[x][y]+1\n",
        "            q.append((nx,ny))\n",
        "  bfs()\n",
        "  print(graph[tx][ty])\n"
      ]
    },
    {
      "cell_type": "markdown",
      "source": [
        "해당 문제는 BFS 에서 나이트가 1칸 + 2칸으로 움직인다는 것만 다르게 방향벡터 기본값을 8개로 조정하면 쉽게 풀리는 문제였다.\n",
        "\n",
        "그리고 메모리의 사용성을 위해 이동하는 칸이 도착하는 칸과 일치했을때 while 문을 멈추는 것이  좋으니 예외처리문을 필수적으로 작성해주자!"
      ],
      "metadata": {
        "id": "TE4UKcbIxob8"
      }
    },
    {
      "cell_type": "markdown",
      "source": [
        "5622번 다이얼\n",
        "---\n",
        "\n",
        "\n"
      ],
      "metadata": {
        "id": "k4kDi2B-6QRL"
      }
    },
    {
      "cell_type": "code",
      "source": [
        "dial = ['ABC', 'DEF', 'GHI', 'JKL', 'MNO', 'PQRS', 'TUV', 'WXYZ']\n",
        "a = input()\n",
        "ret = 0\n",
        "for j in range(len(a)):\n",
        "    for i in dial:\n",
        "        if a[j] in i:\n",
        "            ret += dial.index(i)+3\n",
        "print(ret)\n"
      ],
      "metadata": {
        "id": "YYPAmkUF6UXM"
      },
      "execution_count": null,
      "outputs": []
    },
    {
      "cell_type": "markdown",
      "source": [
        "in을 사용할수 있는지 물어보는 간단한 문제였다."
      ],
      "metadata": {
        "id": "IqtrP69I7A2m"
      }
    },
    {
      "cell_type": "markdown",
      "source": [
        "1049번 기타줄 \n",
        "---"
      ],
      "metadata": {
        "id": "IyqZpQo07HUZ"
      }
    },
    {
      "cell_type": "code",
      "source": [
        "# 끊어진 기타줄 N, 기타줄 브랜드 M\n",
        "n, m = map(int,input().split())\n",
        "\n",
        "# 브랜드 패키지 가격 낱개 가격\n",
        "arr1 = []\n",
        "arr2 = []\n",
        "for _ in range(m):\n",
        "  a,b = map(int,input().split())\n",
        "  arr1.append(a)\n",
        "  arr2.append(b)\n",
        "\n",
        "a = min(arr1)\n",
        "b= min(arr2)\n",
        "\n",
        "pack = n //6\n",
        "each = n%6\n",
        "\n",
        "if a < b*6:\n",
        "  if a < each * b:\n",
        "    print((pack+1)*a)\n",
        "  else:\n",
        "    print(pack*a+ b*each)\n",
        "else:\n",
        "  print(n*b)"
      ],
      "metadata": {
        "id": "Uz1jt9ra7AYO"
      },
      "execution_count": null,
      "outputs": []
    },
    {
      "cell_type": "markdown",
      "source": [
        "해당 문제는 3가지 경우를 생각해야한다. (현실이 아니니깐...)\n",
        "\n",
        "정렬은 기본이고\n",
        "- 패키지로 다 샀을때 (남더라도)\n",
        "- 딱맞게 샀을때 (패키지 + 개별)\n",
        "- 딱맞게 샀을때 (개별로 싹다)\n",
        "\n",
        "이렇게 세가지 경우를 모두 적어줘야 정답 처리가 완료되었다.\n"
      ],
      "metadata": {
        "id": "WAjWZ8MF_YN1"
      }
    },
    {
      "cell_type": "markdown",
      "source": [
        "1543 문서 검색\n",
        "---\n",
        "\n",
        "해당 문제는 앞에서부터 차근 차근 검사해주는 방식을 사용했으며\n",
        "\n",
        "index > i 는  혹시 중복된 것을 검사하게 되면 패쓰한다는 뜻이다."
      ],
      "metadata": {
        "id": "mmJK7iegS8uQ"
      }
    },
    {
      "cell_type": "code",
      "source": [
        "# 문자열 입력\n",
        "arr = input()\n",
        "\n",
        "# 알아내야하는 문자열\n",
        "target = input()\n",
        "\n",
        "# 결과값\n",
        "res = 0\n",
        "# 현재 인덱스 \n",
        "index = 0\n",
        "for i in range(len(arr)):\n",
        "  if index > i :\n",
        "    continue\n",
        "  # 찾는 단어가 문서 단어가 같을때\n",
        "  if target == arr[i:i+len(target)]:\n",
        "    res += 1\n",
        "    index = i + len(target)\n",
        "\n",
        "print(res)"
      ],
      "metadata": {
        "id": "C7o2QsU9_XtX"
      },
      "execution_count": null,
      "outputs": []
    },
    {
      "cell_type": "markdown",
      "source": [
        "파이썬은 이러한 메소드에 특화되어있기 때문에 \n",
        "이러한 코딩 말고 메소드를 이용해서 코드를 짤수 있을 것 같아 찾아보았다.\n"
      ],
      "metadata": {
        "id": "GHXvBJQlTKya"
      }
    },
    {
      "cell_type": "code",
      "source": [
        "arr = input()\n",
        "target = input()\n",
        "res = 0\n",
        "\n",
        "while True:\n",
        "  # find 메소드 => 만약 일치하는 값이 있으면 처음 나온 위치를 반환 없으면 -1 반환\n",
        "  idx = arr.find(target)\n",
        "  # 탈출문(없을경우)\n",
        "  if idx == -1:\n",
        "    break\n",
        "  res += 1\n",
        "  arr = arr[idx+len(target)] # 새로운 문자열로 바꿔줌\n",
        "\n",
        "print(res)"
      ],
      "metadata": {
        "id": "2ISG7GgQTVU7"
      },
      "execution_count": null,
      "outputs": []
    },
    {
      "cell_type": "markdown",
      "source": [
        "혹은"
      ],
      "metadata": {
        "id": "CoN85U7KTzNz"
      }
    },
    {
      "cell_type": "code",
      "source": [
        "doc = input()\n",
        "word = input()\n",
        "print(doc.count(word))"
      ],
      "metadata": {
        "id": "umbK6M88T0Xy"
      },
      "execution_count": null,
      "outputs": []
    },
    {
      "cell_type": "markdown",
      "source": [
        "1652번 누울 자리를 찾아라\n",
        "----\n"
      ],
      "metadata": {
        "id": "MoA60u63Us1R"
      }
    },
    {
      "cell_type": "code",
      "source": [
        "n = int(input())\n",
        "s = []\n",
        "# 2개 이상인지 기록\n",
        "cnt_w = 0\n",
        "cnt_h = 0\n",
        "\n",
        "# 결과\n",
        "position_w = 0\n",
        "position_h = 0\n",
        "# 그래프 입력\n",
        "for i in range(n):\n",
        "    s.append(input())\n",
        "# 가로구하기\n",
        "for i in s:\n",
        "    for j in i:\n",
        "        if j == '.':\n",
        "            cnt_w += 1\n",
        "        else:\n",
        "            if cnt_w > 1:\n",
        "                position_w += 1\n",
        "            cnt_w = 0\n",
        "    if cnt_w > 1:\n",
        "        position_w += 1\n",
        "    cnt_w = 0\n",
        "\n",
        "# 세로 구하기\n",
        "for i in range(n):\n",
        "    for j in range(n):\n",
        "        if s[j][i] == '.':\n",
        "            cnt_h += 1\n",
        "        else:\n",
        "            if cnt_h > 1:\n",
        "                position_h += 1\n",
        "            cnt_h = 0\n",
        "    if cnt_h > 1:\n",
        "        position_h += 1\n",
        "    cnt_h = 0\n",
        "\n",
        "\n",
        "print(position_w, position_h)"
      ],
      "metadata": {
        "id": "bYpsWZYjUshY"
      },
      "execution_count": null,
      "outputs": []
    },
    {
      "cell_type": "markdown",
      "source": [
        "해당 문제는 모든 분기를 다 적어줘서 해당하는 값에 대해 처리하는 방식을 사용했다.\n",
        "\n",
        "특히 cnt 가 2이상이 되고 다른것을 만나게 되는 순간 1개로 처리했다."
      ],
      "metadata": {
        "id": "LHoKocXEYn6X"
      }
    },
    {
      "cell_type": "markdown",
      "source": [
        "15683번 감시\n",
        "---"
      ],
      "metadata": {
        "id": "F0XQ_DwOY9km"
      }
    },
    {
      "cell_type": "code",
      "source": [
        "import sys\n",
        "from collections import deque\n",
        "input = sys.stdin.readline\n",
        "\n",
        "dx = [0,1,0,-1]\n",
        "dy = [1,0,-1,0]\n",
        "def solution(cnt):\n",
        "  global visited, res\n",
        "  if cnt == cctv_n: # 모든 CCTV 탐색 완료라면 사각지대 세주기\n",
        "    tmp = 0\n",
        "    for i in range(n):\n",
        "      for j in range(m):\n",
        "        if not graph[i][j] and not visited[i][j]:\n",
        "          tmp += 1\n",
        "        \n",
        "    return tmp\n",
        "\n",
        "  # 첫 cctv 부터 확인\n",
        "  x,y = cctv[cnt][0], cctv[cnt][1]\n",
        "  for k in range(4): # CCTV 4방향 확인\n",
        "    new_dir = []\n",
        "    # 어떤 cctv인지 식별\n",
        "    if graph[x][y] == 1: # 1번 현재 방향 \n",
        "      new_dir.append(k)\n",
        "    elif graph[x][y] ==2:# 현재 + 반대\n",
        "      new_dir.append(k)\n",
        "      new_dir.append((k+2)%4) \n",
        "    elif graph[x][y] == 3: # 3번 CCTV : 현재 방향 + 왼쪽 90도 방향\n",
        "      new_dir.append(k)\n",
        "      new_dir.append((k - 1) % 4)\n",
        "    elif graph[x][y] == 4: # 4번 CCTV : 현재 방향 + 반대 방향 + 왼쪽 90도 방향\n",
        "      new_dir.append(k)\n",
        "      new_dir.append((k - 1) % 4)\n",
        "      new_dir.append((k + 2) % 4)\n",
        "    elif graph[x][y] == 5: # 5번 CCTV : 4방향\n",
        "      new_dir.append(k)\n",
        "      new_dir.append((k - 1) % 4)\n",
        "      new_dir.append((k + 1) % 4)\n",
        "      new_dir.append((k + 2) % 4)\n",
        "\n",
        "    # bfs\n",
        "    q= deque()\n",
        "    for d in new_dir: # CCTV 방향 개수 만큼 이동\n",
        "      nx , ny = x+ dx[d],y+dy[d]\n",
        "      # 특정 방향 끝까지 이동\n",
        "      while 0<= nx < n and 0<= ny <m:\n",
        "        if not graph[nx][ny] and graph[nx][ny] !=6 :\n",
        "          visited[nx][ny] = True # 방문\n",
        "          q.append((nx,ny))\n",
        "        elif graph[nx][ny] == 6: # 벽만나면\n",
        "          break\n",
        "        nx += dx[d]\n",
        "        ny += dy[d]\n",
        "    # 다음 cctv 호출\n",
        "    res = min(res,solution(cnt+1))\n",
        "\n",
        "    while q:\n",
        "      qx,qy = q.popleft()\n",
        "      if not graph[qx][qy]:\n",
        "        visited[qx][qy] = False\n",
        "\n",
        "    if graph[x][y] == 5:\n",
        "      break\n",
        "  return res\n",
        "    \n",
        "\n",
        "# 세로 크기와 가로 크기\n",
        "n , m = map(int,input().split())\n",
        "graph = []\n",
        "for _ in range(n):\n",
        "  graph.append(list(map(int,input().split())))\n",
        "\n",
        "cctv = []\n",
        "cctv_n = 0 # 전체 CCTV 개수\n",
        "res = 0 # 사각지대\n",
        "visited = [[False]*m for _ in range(n)] # 방문 여부\n",
        "\n",
        "for i in range(n):\n",
        "  for j in range(m):\n",
        "    # cctv 존재하는 칸 찾아주기\n",
        "    if graph[i][j] and graph[i][j] != 6:\n",
        "      cctv.append((i,j))\n",
        "      visited[i][j] = True\n",
        "      cctv_n += 1\n",
        "    if not graph[i][j]:\n",
        "      res += 1 # 최대 사각 지대 구하기\n",
        "\n",
        "solution(0)\n",
        "print(res)\n"
      ],
      "metadata": {
        "id": "Izi0m2k2YnVv"
      },
      "execution_count": null,
      "outputs": []
    },
    {
      "cell_type": "markdown",
      "source": [
        "BFS + 각 CCTV의 방향을 직접 정하고 계속적으로 확인해서 가장 좋은 방향으로 생각했는데 오류가 났다.\n",
        "\n",
        "그리고 굉장히 어려웠다... 생각해 내는 과정도 까다로웠다.\n",
        "\n",
        "처음에는 방향벡터를 dx = 각 원하는 방향으로 설정을 하려했는데 생각만 가능하고 구현이 불가능해서 해당 방식으로 푼 사람들이 있을까 하고 찾아보다가\n",
        "\n",
        "결국 못풀어서 참고하였다.\n",
        "https://webcache.googleusercontent.com/search?q=cache:yKKqWI2qVeQJ:https://soohyun6879.tistory.com/241+&cd=8&hl=ko&ct=clnk&gl=kr"
      ],
      "metadata": {
        "id": "N_2asU_0hx61"
      }
    },
    {
      "cell_type": "code",
      "source": [
        "import copy\n",
        "\n",
        "N, M = map(int, input().split())\n",
        "graph = [list(map(int, input().split())) for _ in range(N)]\n",
        "dx = [-1, 0, 1, 0]\n",
        "dy = [0, 1, 0, -1]\n",
        "direction = {\n",
        "    1: [[0], [1], [2], [3]],\n",
        "    2: [[0, 2], [1, 3]],\n",
        "    3: [[0, 1], [1, 2], [2, 3], [3, 0]],\n",
        "    4: [[0, 1, 2], [1, 2, 3], [2, 3, 0], [3, 0, 1]],\n",
        "    5: [[0, 1, 2, 3]]\n",
        "} # cctv 종류에 따른 감시 방향\n",
        "\n",
        "def watch(x, y, direction, tmp):\n",
        "    for d in direction:\n",
        "        nx, ny = x, y\n",
        "        # 이동할 수 없을 때까지 이동하면서 '#'으로 변경\n",
        "        while True:\n",
        "            nx += dx[d]\n",
        "            ny += dy[d]\n",
        "            if nx < 0 or nx >= N or ny < 0 or ny >= M or tmp[nx][ny] == 6: # 이동 가능한 범위를 벗어나거나 벽이면 break\n",
        "                break\n",
        "            elif tmp[nx][ny] == 0: # 빈칸이면 감시 구역으로 변경\n",
        "                tmp[nx][ny] = '#'\n",
        "\n",
        "def dfs(n, graph):\n",
        "    global ans\n",
        "    tmp = copy.deepcopy(graph)\n",
        "    \n",
        "    if n == len(cctv):\n",
        "        count = 0 # 빈칸 개수\n",
        "        for t in tmp:\n",
        "            count += t.count(0)\n",
        "        ans = min(ans, count) # 사각지대 최소 크기를 구한다\n",
        "        return\n",
        "\n",
        "    x, y, c = cctv[n]\n",
        "    # 해당 cctv의 종류에 따른 감시 구역을 구한다\n",
        "    for d in direction[c]:\n",
        "        watch(x, y, d, tmp)\n",
        "        dfs(n+1, tmp)\n",
        "        tmp = copy.deepcopy(graph)\n",
        "\n",
        "cctv = [] # cctv 리스트\n",
        "ans = 1e9 # 사각지대 크기\n",
        "\n",
        "# cctv 찾기\n",
        "for i in range(N):\n",
        "    for j in range(M):\n",
        "        if graph[i][j] != 0 and graph[i][j] != 6:\n",
        "            cctv.append([i, j, graph[i][j]]) # x위치, y위치, cctv 종류\n",
        "\n",
        "dfs(0, graph)\n",
        "print(ans)"
      ],
      "metadata": {
        "id": "qaEuVjcGhw00"
      },
      "execution_count": null,
      "outputs": []
    },
    {
      "cell_type": "markdown",
      "source": [
        "진짜 깔끔하고 잘짠거 같다.\n",
        "\n",
        "나의 풀이와 다른점은 \n",
        "\n",
        "1. cctv를 (x,y,종류) 로 한번에 잡았다. => 이해하기가 쉬웠다.\n",
        "\n",
        "2. 메소드를 두개로 나눠서 \n",
        "- 끝까지가는것 \n",
        "- dfs 두가지로 분해를 추가적으로해서 가독성을 높였다.\n",
        "\n",
        "3. 내가 생각하고 구현하지 못한 각각의 direction을 {} 을 통해 깔끔하게 구현했다.\n",
        "\n",
        "4. count() 함수를 통하여 빈칸 구할때 손쉽게 구했다.\n",
        "\n",
        "5. dfs를 사용했으므로 계속 graph를 복사해서 이용했다."
      ],
      "metadata": {
        "id": "dVcqipSgit0I"
      }
    },
    {
      "cell_type": "markdown",
      "source": [
        "2875번 대회 or 인턴\n",
        "---"
      ],
      "metadata": {
        "id": "ZSD23I_QkiMU"
      }
    },
    {
      "cell_type": "code",
      "source": [
        "# 여,남,인턴\n",
        "n,m,k = map(int,input().split())\n",
        "\n",
        "result = 0\n",
        "\n",
        "while n >= 2 and m >= 1 and n+m >= k+3:\n",
        "  n -=2\n",
        "  m -=1\n",
        "  result +=1\n",
        "print(result)"
      ],
      "metadata": {
        "id": "Zqf782bpnEHY"
      },
      "execution_count": null,
      "outputs": []
    },
    {
      "cell_type": "markdown",
      "source": [
        "문제가 너무 애매모호했지만 구현자체는 어렵지 않았다."
      ],
      "metadata": {
        "id": "MUP9eFdFoLjH"
      }
    },
    {
      "cell_type": "markdown",
      "source": [
        "2638 치즈\n",
        "---"
      ],
      "metadata": {
        "id": "lGZQ_8SaoUUC"
      }
    },
    {
      "cell_type": "code",
      "source": [
        "from collections import deque\n",
        "\n",
        "# 가로 세로\n",
        "n,m = map(int,input().split())\n",
        "# 방향 벡터\n",
        "dx = [-1,1,0,0]\n",
        "dy = [0,0,1,-1]\n",
        "\n",
        "# 그래프 입력\n",
        "graph = []\n",
        "# 치즈 개수\n",
        "cheese = 0\n",
        "# 정답 초\n",
        "ans = 0\n",
        "\n",
        "# 그래프 입력\n",
        "for _ in range(n):\n",
        "  arr = list(map(int,input().split()))\n",
        "  # 치즈 개수 확인\n",
        "  cheese += arr.count(1)\n",
        "  graph.append(arr)\n",
        "  \n",
        "\n",
        "# 일단 bfs 를 통한 막힌 공간 찾기 마지막에 False가 남으면 내부\n",
        "def check_inner():\n",
        "  q =  deque()\n",
        "  q.append((0,0))\n",
        "  check = [[False]* m for _ in range(n)]\n",
        "  check[0][0] = True\n",
        "  while q:\n",
        "    x,y = q.popleft()\n",
        "    if graph[x][y] :\n",
        "      continue\n",
        "    for i in range(4):\n",
        "      nx = x +dx[i]\n",
        "      ny = y+ dy[i]\n",
        "      if 0<= nx < n and 0<= ny <m :\n",
        "        if not graph[nx][ny]:\n",
        "          graph[nx][ny] = True \n",
        "          q.append((nx,ny))\n",
        "  return check\n",
        "\n",
        "\n",
        "def melt():\n",
        "  global ans, cheese\n",
        "  while True :\n",
        "    # 치즈 공간 체크\n",
        "    check = check_inner()\n",
        "\n",
        "    for i in range(n):\n",
        "      for j in range(m):\n",
        "        if graph[i][j] ==1 :\n",
        "          cnt =0\n",
        "          for k in range(4):\n",
        "            nx = i + dx[k]\n",
        "            ny = j + dy[k]\n",
        "            if 0<= nx< n and 0<=ny< m :\n",
        "              if graph[nx][ny] == 0 and check[nx][ny] == True:\n",
        "                cnt += 1\n",
        "            \n",
        "            if cnt >1 :\n",
        "              graph[i][j] == 0\n",
        "              cheese -=1\n",
        "              \n",
        "\n",
        "    ans += 1\n",
        "    if cheese <= 0:\n",
        "      break\n",
        "\n",
        "\n",
        "melt()\n",
        "print(ans)"
      ],
      "metadata": {
        "id": "FZuyUZE2oUEP"
      },
      "execution_count": null,
      "outputs": []
    },
    {
      "cell_type": "markdown",
      "source": [
        "내가 처음 적은 코드이다.\n",
        "\n",
        "1. 빈공간을 찾는 bfs를 한번한다.\n",
        "2. 이제 본격적으로 bfs를 하면서 1 인요소를 찾는다.\n",
        "3. 해당 요소에 대해서 빈공간이 아니면서 근처에 0 인 요소가 있다면 해당 치즈를 0으로 만들면서 치즈 를 줄인다.\n",
        "\n",
        "근데 무한 루프에서 나오질 않는다....\n",
        "\n",
        "탈출문역시 한바퀴 = 1초 일때 탈출하도록 했는데 탈출도 안한다.\n",
        "\n",
        "왜일까...."
      ],
      "metadata": {
        "id": "RmATFaX8xXFZ"
      }
    },
    {
      "cell_type": "markdown",
      "source": [
        "친구에게 코드 리뷰를 부탁했다.\n",
        "- 추후 작성"
      ],
      "metadata": {
        "id": "92e-Do6xzZ9g"
      }
    },
    {
      "cell_type": "markdown",
      "source": [
        "일단 궁금하니깐!\n",
        "\n",
        "https://paris-in-the-rain.tistory.com/89 을 참고하였다.\n",
        "\n",
        "차이점을 보고 분석을 해보려고 한다."
      ],
      "metadata": {
        "id": "8M_ABMHI0W34"
      }
    },
    {
      "cell_type": "code",
      "source": [
        "import sys\n",
        "from collections import deque\n",
        "input = sys.stdin.readline\n",
        "dx = [0,0,1,-1]\n",
        "dy = [-1,1,0,0]\n",
        "n,m = map(int,input().split())\n",
        "visited = [[False]*m for _ in range(n)]\n",
        "board = [list(map(int,input().split()))for _ in range(n)]\n",
        "answer = 0\n",
        "\n",
        "# 바깥공기 -1 초기화 => 나랑 아이디어가 비슷하지만 아예 -1 로 차별화\n",
        "def outside():\n",
        "  dp = deque()\n",
        "  out_visited = [[False]*m for _ in range(n)]\n",
        "  dp.append((0,0))\n",
        "  out_visited[0][0] = True\n",
        "  board[0][0] = -1\n",
        "  while dp:\n",
        "    x,y = dp.popleft()\n",
        "    for i in range(4):\n",
        "      nx = x + dx[i]\n",
        "      ny = y + dy[i]\n",
        "      if 0<= nx < n and 0<= ny < m:\n",
        "        # 벽이거나 방문한 적이 있으면\n",
        "        if board[nx][ny] == 1 or out_visited[nx][ny]:\n",
        "          continue\n",
        "        dp.append((nx,ny))\n",
        "        board[nx][ny] = -1\n",
        "        out_visited[nx][ny] = True\n",
        "\n",
        "\n",
        "# 치즈가 다 녹았는지 확인  => 이부분을 나와 다르게 count로 사용하지 않고 함수로 구현했다.\n",
        "# 이부분에서 차이가 나서 무한루프인가 좋은 코드인가 차이가 난거 같다.\n",
        "def isMelt():\n",
        "  for i in range(n):\n",
        "    for j in range(m):\n",
        "      if board[i][j] ==1:\n",
        "        return False\n",
        "  return True\n",
        "\n",
        "\n",
        "# 이부분도 같은 아이디어이다.\n",
        "while not isMelt(): # 여기에 함수를 사용한 부분 좋았음\n",
        "  outside() # 바깥 공기 초기화 \n",
        "  check = [] # 바깥 공기와 맞닿은 칸을 저장\n",
        "  # 외부 공기와 접촉한 치즈 녹음\n",
        "  for i in range(n):\n",
        "    for j in range(m):\n",
        "      if board[i][j] == 1:\n",
        "        cnt = 0 # 바깥공기랑 닿은 개수\n",
        "        for k in range(4):\n",
        "          nx = dx[k] + i\n",
        "          ny = dy[k] + j\n",
        "          if 0<=nx<n and 0<=ny <m:\n",
        "            if board[nx][ny] == -1:\n",
        "              cnt += 1\n",
        "        if cnt >= 2: # 2칸이상 녹았을때\n",
        "          check.append([i,j])\n",
        "  # 또한 이부분이 check라는 리스트를 만들어서 전체적으로 끝나고\n",
        "  # 1시간에 한번씩 업데이트를 해주게 구현하는 부분이 달랐다. => 부분이 다른게 무한루프 원인인거 같다.\n",
        "  for x,y in check :\n",
        "    board[x][y] = 0\n",
        "  answer += 1 # 한턴에 한시간\n",
        "\n",
        "print(answer)"
      ],
      "metadata": {
        "id": "8VdIHnr80RC6"
      },
      "execution_count": null,
      "outputs": []
    },
    {
      "cell_type": "markdown",
      "source": [
        "전체 for 문에 따른 시간만 한시간당 1개씩 더해준것이 문제였다.\n",
        "\n",
        "check 라는 별도의 리스트를 만들어서 한번에 적용을 해줬으면 문제가 표현하는 그대로였을텐데 나는 그 즉시 변경을 해서 다른 치즈에 문제가 생겼다.\n",
        "\n",
        "- 저렇게 while 에 들어갈 함수를 따로 구현해서 검사해주는 것도 좋은 코드라는것을 한번더 알아간다."
      ],
      "metadata": {
        "id": "mNfvuoCC_KTs"
      }
    },
    {
      "cell_type": "markdown",
      "source": [
        "17780번 새로운 게임\n",
        "---\n"
      ],
      "metadata": {
        "id": "XrxXjIbwCqx2"
      }
    },
    {
      "cell_type": "code",
      "source": [
        "import sys\n",
        "input = sys.stdin.readline\n",
        "\n",
        "dx =[0,0,-1,1]\n",
        "dy = [1,-1,0,0]\n",
        "\n",
        "def move(chess_num):\n",
        "  # 몇번째 체스인지 정보확인 => chess_num\n",
        "  x,y,z = chess[chess_num]\n",
        "  # 정보가 일치하지 않으면 \n",
        "  if chess_num != chess_map[x][y][0]:\n",
        "    return 0  \n",
        "  \n",
        "  # 방향대로 이동\n",
        "  nx= x + dx[z]\n",
        "  ny = y + dy[z] \n",
        "  # 파란장판 과 벽은 같은 취급\n",
        "  if not 0<= nx < n or not 0<= ny <n or a[nx][ny] ==2:\n",
        "    # 방향변경\n",
        "    if 0<= z <=1:\n",
        "      nz = (z+1) %2\n",
        "    else:\n",
        "      nz = (z-1)%2 +2\n",
        "    \n",
        "    # 체스 정보에 입력\n",
        "    chess[chess_num][2] = nz\n",
        "    nx = x+ dx[nz]\n",
        "    ny = y + dy[nz]\n",
        "    # 갔는데도 또 파란장판이거나 벽이면 오류라서 -1 출력\n",
        "    if not 0<= nx < n or not 0<= ny <n or a[nx][ny] ==2:\n",
        "      return 0\n",
        "\n",
        "  chess_set = []\n",
        "  # 새로운거에 잠시 보관\n",
        "  chess_set.extend(chess_map[x][y])\n",
        "  # 옮겨줌\n",
        "  chess_map[x][y] = []\n",
        "\n",
        "  # 도착한 곳이 빨간 장판\n",
        "  if a[nx][ny] == 1:\n",
        "      chess_set = chess_set[-1::-1]\n",
        "  # 임시 보관한걸 이제 확정지어준다. \n",
        "  # 또한 체스정보도 새로 갱신한다.\n",
        "  for i in chess_set:\n",
        "      chess_map[nx][ny].append(i)\n",
        "      chess[i][:2] = [nx, ny]\n",
        "  # 만약 4개 다쌓이면 성공\n",
        "  if len(chess_map[nx][ny]) >= 4:\n",
        "      return 1\n",
        "  return 0\n",
        "\n",
        "n,k = map(int,input().split())\n",
        "\n",
        "# graph\n",
        "a = []\n",
        "for _ in range(n):\n",
        "  a.append(list(map(int,input().split())))\n",
        "\n",
        "chess_map = [[[]for _ in range(n)] for _ in range(n)]\n",
        "chess = [0 for _ in range(k)]\n",
        "\n",
        "# 말 정보 입력\n",
        "for i in range(k):\n",
        "    x, y, z = map(int, input().split())\n",
        "    # 연결리스트 느낌 3차원 배열 x-1, y-1 에 뭐가있는지~\n",
        "    chess_map[x-1][y-1].append(i)\n",
        "    # 체스말 정보\n",
        "    chess[i] = [x-1, y-1, z-1]\n",
        "\n",
        "cnt = 1 \n",
        "# 연산 횟수까진 가능\n",
        "while cnt <= 1000:\n",
        "  for i in range(k):\n",
        "    flag = move(i)\n",
        "    # 4개가 한꺼번에 쌓였을때\n",
        "    if flag:\n",
        "      print(cnt)\n",
        "      sys.exit()\n",
        "  cnt += 1\n",
        "print(-1)"
      ],
      "metadata": {
        "id": "DGtKthp3CqmN"
      },
      "execution_count": null,
      "outputs": []
    },
    {
      "cell_type": "markdown",
      "source": [
        "해당 문제를 보고 같은 칸에 여러개 쌓여있다..?\n",
        "\n",
        "맵을 3차원 연결리스트로 [x][y][연결된거] 이렇게 짜면되겠다. 라는 생각까지 한게\n",
        "발전이 보였다.\n",
        "\n",
        "결론적으로는 도움을 받았지만..\n",
        "\n",
        "return을 통한 분기 결정을 해주는 것이 좋았다.\n",
        "예외가 되는 상황은 0을 리턴해주고 정답이 될때만 1을 리턴해서 if 문으로 처리해주는 것이 바로 위 문제와 비슷했다.\n",
        "\n",
        "또한 맵은 해당 말들이 어디에 위치 되어있는지만 적혀있으니 체스에 대한 정보 리스트를 새롭게 파서 방향성을 다시 명시해주는 것이 의외의 발상이였다.\n",
        "\n",
        "마지막으로 extend() 사용법\n",
        "\n",
        "```\n",
        ">>> nums = [1, 2, 3]\n",
        ">>> nums.extend([4, 5])\n",
        "[1, 2, 3, 4, 5]  #리스트로 주어진 [4, 5]의 요소가 각각 추가 되었음\n",
        "\n",
        ">>> a = [10]\n",
        ">>> nums.extend(a) \n",
        "[1, 2, 3, 4, 5, 10]\n",
        "\n",
        "\n",
        "```\n",
        "\n",
        "괄호 안에 iterable 자료형만 입력할 수 있기 때문에 요소 하나를 추가하려면 리스트와 같은 iterable 자료형으로 변환하여 입력해야 한다.\n",
        "\n",
        "https://ooyoung.tistory.com/117 \n",
        "도하나 배워간다."
      ],
      "metadata": {
        "id": "4YdlahpxKGY8"
      }
    },
    {
      "cell_type": "markdown",
      "source": [
        "1018번 체스판 다시칠하기\n",
        "---\n",
        "https://www.acmicpc.net/status?user_id=daoh98&problem_id=1018&from_mine=1"
      ],
      "metadata": {
        "id": "xXaf1RjUmi9f"
      }
    },
    {
      "cell_type": "code",
      "source": [
        "# MxN \n",
        "n,m = map(int,input().split())\n",
        "arr = []\n",
        "res = []\n",
        "for _ in range(n):\n",
        "  arr.append(input())\n",
        "\n",
        "# 시작점을 잡기 위한 반복문\n",
        "for a in range(n-7):\n",
        "  for b in range(m-7):\n",
        "    index1 = 0\n",
        "    index2 = 0\n",
        "    for i in range(a,a+8):\n",
        "      for j in range(b,b+8):\n",
        "        # 시작점에 따라\n",
        "        if (i+j) % 2 == 0:\n",
        "          if arr[i][j] != 'W':\n",
        "            index1 += 1 \n",
        "          if arr[i][j] != 'B':\n",
        "            index2 += 1\n",
        "        else:\n",
        "          if arr[i][j] != 'B':\n",
        "            index1 += 1\n",
        "          if arr[i][j] != 'W':\n",
        "            index2 += 1 \n",
        "\n",
        "    res.append(min(index1,index2))\n",
        "\n",
        "print(min(res))\n",
        "\n",
        "\n",
        "\n"
      ],
      "metadata": {
        "id": "V7VYSaTBKFup"
      },
      "execution_count": null,
      "outputs": []
    },
    {
      "cell_type": "markdown",
      "source": [
        "이 문제가 범위가 작아서 하나하나 전부 검사를 해서 가장 좋은 방안을 찾아가는 브루트포스의 가장 대표적인 예가 아닐까 싶다. \n",
        "시작점을 하나씩 옮겨가고 그에대한 8x8을 전부 검사한다."
      ],
      "metadata": {
        "id": "oTw_KIGhMF1O"
      }
    },
    {
      "cell_type": "markdown",
      "source": [
        "1436번 영화감독 숌\n",
        "---"
      ],
      "metadata": {
        "id": "9HNWr9RUmwqR"
      }
    },
    {
      "cell_type": "code",
      "source": [
        ""
      ],
      "metadata": {
        "id": "bAD2Xo8yMQmc"
      },
      "execution_count": null,
      "outputs": []
    },
    {
      "cell_type": "code",
      "source": [
        "n = int(input())\n",
        "\n",
        "number = 666\n",
        "\n",
        "cnt = 0\n",
        "\n",
        "while True:\n",
        "  if \"666\" in str(number):\n",
        "    cnt += 1\n",
        "    # 탈출문\n",
        "    if cnt == n :\n",
        "      print(number)\n",
        "      break\n",
        "  number += 1"
      ],
      "metadata": {
        "id": "pn4AW3S1pJaZ"
      },
      "execution_count": null,
      "outputs": []
    },
    {
      "cell_type": "markdown",
      "source": [
        "해당 문제는 브루트포스로 그냥 하나씩 올려가면서 검사하며 내가 원하는 번째의 숫자가 나오면 탈출을 해주는 기법으로 풀었다."
      ],
      "metadata": {
        "id": "3Kd1ZLIMpKUK"
      }
    },
    {
      "cell_type": "markdown",
      "source": [
        "2798번 블랙잭\n",
        "---\n",
        "해당 문제는 카드중 3장을 뽑아 합을 원하는 숫자 근처로 만든다 라는 말을 듣자마자 조합이 생각나서 바로 조합라이브러리를 사용하였다."
      ],
      "metadata": {
        "id": "Hg9ny0tqrAaI"
      }
    },
    {
      "cell_type": "code",
      "source": [
        "from itertools import combinations\n",
        "\n",
        "n , target = map(int,input().split())\n",
        "arrays= list(map(int,input().split()))\n",
        "res = 0\n",
        "for arr in combinations(arrays,3):\n",
        "  temp = sum(arr)\n",
        "  if res < temp <= target:\n",
        "    res = temp\n",
        "print(res)"
      ],
      "metadata": {
        "id": "e3IoqbBlmzZf"
      },
      "execution_count": null,
      "outputs": []
    },
    {
      "cell_type": "markdown",
      "source": [
        "1697번 숨바꼭질\n",
        "---\n"
      ],
      "metadata": {
        "id": "TI3pp3vfwijn"
      }
    },
    {
      "cell_type": "code",
      "source": [
        "from collections import deque\n",
        "# 위치 , 도착\n",
        "start , target = map(int,input().split())\n",
        "max_value = 100000\n",
        "\n",
        "dist = [0] * (max_value+1)\n",
        "\n",
        "\n",
        "def bfs():\n",
        "  q= deque()\n",
        "  q.append(start)\n",
        "  while q:\n",
        "    x = q.popleft()\n",
        "    # 탈출문\n",
        "    if x == target:\n",
        "      print(dist[x])\n",
        "      break\n",
        "    for nx in (x-1,x+1,2*x):\n",
        "      # 방문전이라면\n",
        "      if 0<= nx <= max_value and not dist[nx]:\n",
        "        dist[nx] = dist[x] + 1\n",
        "        q.append(nx)\n",
        "\n",
        "bfs()"
      ],
      "metadata": {
        "id": "OM0vVH2lwlYt"
      },
      "execution_count": null,
      "outputs": []
    },
    {
      "cell_type": "markdown",
      "source": [
        "평소에 쓰는 방향벡터 대신 옮길수 있는 1차원 공간의 수들에 방문하지 않았다면 새로운 값을 넣어주는 형태를 사용하였다."
      ],
      "metadata": {
        "id": "55IoRMXzwos1"
      }
    },
    {
      "cell_type": "markdown",
      "source": [
        "7569번 토마토\n",
        "----\n"
      ],
      "metadata": {
        "id": "z-oYYMwVFxD2"
      }
    },
    {
      "cell_type": "code",
      "source": [
        "from collections import deque\n",
        "# 가로 세로 높이\n",
        "m,n,h = map(int,input().split())\n",
        "\n",
        "# graph = [][][]\n",
        "# 그래프 입력\n",
        "graph = [ [[0 for _ in range(m)] for _ in range(n)]for _ in range(h)]\n",
        "for k in range(h):\n",
        "  for i in range(n):\n",
        "    arr = list(map(int,input().split()))\n",
        "    for j in range(m):\n",
        "      graph[k][i][j] = arr[j]\n",
        "\n",
        "# 상하좌우 + 3차원 위 아래\n",
        "dx = [0,0,1,-1,0,0]\n",
        "dy = [1,-1,0,0,0,0]\n",
        "dz = [0,0,0,0,1,-1]\n",
        "\n",
        "def bfs():\n",
        "\n",
        "  while q: \n",
        "    z,x,y = q.popleft()\n",
        "    for i in range(6):\n",
        "      nx = x+ dx[i]\n",
        "      ny = y+ dy[i]\n",
        "      nz = z+ dz[i] \n",
        "      if 0<= nx < n and 0<= ny < m and 0<= nz < h :\n",
        "        if graph[nz][nx][ny] == 0 :\n",
        "          graph[nz][nx][ny] = graph[z][x][y]+ 1\n",
        "          q.append((nz,nx,ny))\n",
        "q = deque()\n",
        "for i in range(h):\n",
        "  for j in range(n):\n",
        "    for k in range(m):\n",
        "      if graph[i][j][k] == 1 :\n",
        "        q.append((i,j,k))\n",
        "\n",
        "\n",
        "bfs()\n",
        "\n",
        "z = 1\n",
        "res = -1\n",
        "\n",
        "# 익은거 검사\n",
        "for i in graph:\n",
        "  for j in i:\n",
        "    for k in j:\n",
        "      if k ==0:\n",
        "        z= 0\n",
        "      res = max(res,k)\n",
        "\n",
        "if z == 0: \n",
        "  print(-1)\n",
        "elif res == 1:\n",
        "  print(0)\n",
        "else:\n",
        "  print(res-1)\n"
      ],
      "metadata": {
        "id": "3XaMGDxVF00h"
      },
      "execution_count": null,
      "outputs": []
    },
    {
      "cell_type": "markdown",
      "source": [
        "해당 문제는 BFS를 3차원으로 하는 문제였다. \n",
        "\n",
        "최근 알고리즘 문제로 3차원 형태를 자주 접해서 그런지 예전보다 쉽게 접근하고 생각하게 되었다.\n",
        "\n",
        "dx,dy,dz 방향벡터를 세개를 만들어주고 BFS를 세방향에 대해서 진행해 주었다."
      ],
      "metadata": {
        "id": "F4j8XWF9F1aG"
      }
    },
    {
      "cell_type": "markdown",
      "source": [
        "10814번 나이순 정렬\n",
        "---\n",
        "\n"
      ],
      "metadata": {
        "id": "w7w8QbqaGMLY"
      }
    },
    {
      "cell_type": "code",
      "source": [
        "# 나이순 정렬\n",
        "\n",
        "n = int(input())\n",
        "\n",
        "arr = [input().split() for _ in range(n)]\n",
        "\n",
        "arr.sort(key= lambda x: int(x[0]))\n",
        "\n",
        "for i ,j in arr :\n",
        "  print(i, end= \" \")\n",
        "  print(j)\n"
      ],
      "metadata": {
        "id": "43fIuX8DHfR8"
      },
      "execution_count": null,
      "outputs": []
    },
    {
      "cell_type": "markdown",
      "source": [
        "lambda 식으로 쉽게 정렬을 진행하였다."
      ],
      "metadata": {
        "id": "SjE7xHSiHgDs"
      }
    },
    {
      "cell_type": "markdown",
      "source": [
        "# 백트래킹 (퇴각 검색)\n",
        "- 길을 가다가 이 길이 아닌 것 같으면 왔던 길로 되돌아가 다른 경로로 진행\n",
        "\n",
        "- 보통 재귀로 구현하며 조건이 맞지 않으면 종료한다.\n",
        "\n",
        "- DFS(깊이 우선 탐색) 기반"
      ],
      "metadata": {
        "id": "HOChtZcrBOGb"
      }
    },
    {
      "cell_type": "code",
      "source": [
        "n,m = list(map(int,input().split()))\n",
        " \n",
        "s = []\n",
        " \n",
        "def dfs():\n",
        "    if len(s)==m:\n",
        "        print(' '.join(map(str,s))) # 해당 되는 결과 값이면 출력하고 돌아가기\n",
        "        return\n",
        "    \n",
        "    for i in range(1,n+1):\n",
        "        if i not in s:\n",
        "            s.append(i) # 없으면 넣어본다. \n",
        "            dfs() # 그 후 dfs진행\n",
        "            s.pop() # 해가 되는 것 같으면 진행에서 빼준다.\n",
        " \n",
        "dfs()\n"
      ],
      "metadata": {
        "id": "Gdv40vJnBdD2"
      },
      "execution_count": null,
      "outputs": []
    },
    {
      "cell_type": "markdown",
      "source": [
        "1707번 이분 그래프\n",
        "---\n",
        "\n",
        "bfs로 해서 방문하지 않은 노드라면 추가를 해주고 이 노드가 만약 방문된 노드인데 같은 그룹이라면 이분이 안되니깐 No를 출력해준다."
      ],
      "metadata": {
        "id": "hihjLYtCP2-t"
      }
    },
    {
      "cell_type": "code",
      "source": [
        "import sys\n",
        "from collections import deque\n",
        "input = sys.stdin.readline\n",
        "\n",
        "def bfs(start,group):\n",
        "  q = deque([start])\n",
        "  # 방문 처리\n",
        "  visited[start] = group\n",
        "  while q:\n",
        "    a = q.popleft()\n",
        "\n",
        "    for i in graph[a]:\n",
        "      if not visited[i]:\n",
        "        q.append(i)\n",
        "        visited[i] = -1*visited[a] # 다른 그룹\n",
        "        \n",
        "      elif visited[i] == visited[a]: # 방문했는데 같은 그룹이라면?\n",
        "        return False   \n",
        "\n",
        "  return True # 다 성공적이라면\n",
        "\n",
        "# test case\n",
        "tc = int(input())\n",
        "# 연결 리스트로 할까?\n",
        "for _ in range(tc):\n",
        "  v,e = map(int,input().split())\n",
        "  graph = [[] for _ in range(v+1)]\n",
        "\n",
        "  for _ in range(e):\n",
        "    a,b = map(int,input().split())\n",
        "    graph[a].append(b)\n",
        "    graph[b].append(a)\n",
        "  \n",
        "  visited = [False] * (v + 1)  # 방문한 정점 체크\n",
        "  \n",
        "  # 하나하나씩 인접 정접과 맞 닿아 있는지 확인\n",
        "  # 주어진 수가 충분히 가능\n",
        "  for i in range(1,v+1):\n",
        "    if not visited[i]:\n",
        "      result = bfs(i,1)\n",
        "      if not result:\n",
        "        break\n",
        "\n",
        "  print('Yes' if result else 'No')"
      ],
      "metadata": {
        "id": "e2EbZJfQP2Wd"
      },
      "execution_count": null,
      "outputs": []
    },
    {
      "cell_type": "markdown",
      "source": [
        "또한 연결그래프 일 경우 한번의 BFS를 수행하면 되지만 연결 리스트는 모든 정점을 탐색해야한다."
      ],
      "metadata": {
        "id": "aIubnxVrBOmC"
      }
    },
    {
      "cell_type": "markdown",
      "source": [
        "9370번 미확인 도착지\n",
        "---"
      ],
      "metadata": {
        "id": "kzkne5thTIic"
      }
    },
    {
      "cell_type": "markdown",
      "source": [
        "s지점에서 출발했다는 것, 최단거리,g와 h 교차로 사이에 있는 도로를 지나갔다는 것을"
      ],
      "metadata": {
        "id": "atKZpISnTNa0"
      }
    },
    {
      "cell_type": "code",
      "source": [
        "import heapq\n",
        "import sys\n",
        "input = sys.stdin.readline\n",
        "INF = int(1e9)\n",
        "\n",
        "def dijkstra(start,graph):\n",
        "  q = []\n",
        "  heapq.heappush(q,(0,start))\n",
        "  visited = [INF for _ in range(n+1)]\n",
        "  visited[start] = 0\n",
        "  while q:\n",
        "    dist, node = heapq.heappop(q)\n",
        "    if visited[node] < dist:\n",
        "      continue\n",
        "    for ndist , nnode in graph[node]:\n",
        "      if visited[nnode] > dist + ndist :\n",
        "        visited[nnode] = dist+ ndist\n",
        "        heapq.heappush(q,(dist+ndist,nnode))\n",
        "  \n",
        "  return visited\n",
        "\n",
        "tc = int(input())\n",
        "\n",
        "for _ in range(tc):\n",
        "  # 교차로 , 도로 , 목적지\n",
        "  n,m,t = map(int,input().split())\n",
        "  # 출발지, g와 h 교차로 사이 \n",
        "  s,g,h = map(int,input().split())\n",
        "  \n",
        "  # m개의 줄 a b 사이에 길이 d만큼 도로\n",
        "  graph = [[] for _ in range(n+1)]\n",
        "  for _ in range(m):\n",
        "    a,b,d = map(int,input().split())\n",
        "    graph[a].append((d,b))\n",
        "    graph[b].append((d,a))\n",
        "\n",
        "  target = []\n",
        "  for _ in range(t):\n",
        "    target.append(int(input()))\n",
        "\n",
        "  start = dijkstra(s,graph)\n",
        "  m1 = dijkstra(g,graph)\n",
        "  m2 = dijkstra(h,graph)\n",
        "\n",
        "  result = []\n",
        "  for k in target:\n",
        "    # 만약 start -> arr == start ->x->y->arr 가 같다면 통과\n",
        "    # 아니면 y->x 순\n",
        "    if start[g]+m1[h]+m2[k]==start[k] or start[h]+m2[g]+m1[k] ==start[k]:\n",
        "      result.append(k)\n",
        "  result.sort()\n",
        "  for i in result:\n",
        "    print(i,end =\" \")\n",
        "  print()"
      ],
      "metadata": {
        "id": "3KFL1Pq0TMlo"
      },
      "execution_count": null,
      "outputs": []
    },
    {
      "cell_type": "markdown",
      "source": [
        "이 문제의 핵심 포인트는 \n",
        "\n",
        "s->k 로 갈때와 필수적으로 들려야하는 두점을 들렸을때 최소거리가 같은가 에 대해 물어보는 문제였다.\n",
        "\n",
        "마지막에 출력 주의까지만 해주면 되는 문제였다."
      ],
      "metadata": {
        "id": "bBFGNGTDe19h"
      }
    },
    {
      "cell_type": "markdown",
      "source": [
        "11657번 타임머신\n",
        "---"
      ],
      "metadata": {
        "id": "Ae_uNjPNgrDd"
      }
    },
    {
      "cell_type": "markdown",
      "source": [
        "벨만-포드 알고리즘 관련 개념\n",
        "\n",
        "----\n",
        "# 작동 원리\n",
        "시작 노드에 대해서 거리를 0으로 초기화, 나머지 노드는 거리를 무한으로 설정\n",
        "\n",
        "정점 수(n) -1 만큼 다음 과정을 반복\n",
        "매 반복 마다 모든 간선 확인\n",
        "\n",
        "현재 간선을 거쳐서 다른 노드로 이동하는 거리가 더 짧은 경우, 거리 정보 갱신\n",
        "\n",
        "** n-1번 반복 이후, n번째 반복에서도 거리 값이 갱신된다면 음수 순환이 존재**\n",
        "\n",
        "** 다익스트라와의 차이점은 매 반복마다 모든 간선을 확인한다는 것입니다.**\n",
        "\n",
        "다익스트라는 방문하지 않는 노드 중에서 최단 거리가 가장 가까운 노드만을 방문했습니다."
      ],
      "metadata": {
        "id": "QxlFdpepiC4L"
      }
    },
    {
      "cell_type": "code",
      "source": [
        "import sys\n",
        "import collections\n",
        "input = sys.stdin.readline\n",
        "INF = int(1e9)\n",
        "\n",
        "n, m = map(int, input().split()) # 노드 수, 간선 수 입력 받기\n",
        "edges = [] # 모든 간선에 대한 정보를 담는 리스트 생성\n",
        "dist = [INF] * (n+1) # 최단 거리 테이블을 모두 무한으로 초기화\n",
        "\n",
        "# 그래프 생성\n",
        "for _ in range(m):\n",
        "    u, v, w = map(int, input().split()) # 노드, 인접 노드, 가중치\n",
        "    edges.append((u, v, w))\n",
        "\n",
        "# 벨만 포드 알고리즘\n",
        "def bf(start):\n",
        "    dist[start] = 0 # 시작 노드에 대해서 거리를 0으로 초기화\n",
        "    for i in range(n): # 정점 수만큼 반복\n",
        "        for j in range(m): # 매 반복 마다 모든 간선 확인\n",
        "            node = edges[j][0] # 현재 노드 받아오기\n",
        "            next_node = edges[j][1] # 다음 노드 받아오기\n",
        "            cost = edges[j][2] # 가중치 받아오기\n",
        "            # 현재 간선을 거려서 다른 노드로 이동하는 거리가 더 짧은 경우\n",
        "            if dist[node] != INF and dist[next_node] > dist[node] + cost:\n",
        "                dist[next_node] = dist[node] + cost\n",
        "                # n번째 라운드에서도 값이 갱신된다면 음수 순환이 존재\n",
        "                if i == n-1: # n-1번 이후 반복에도 값이 갱신되면 음수 순환 존재\n",
        "                    return True\n",
        "    return False\n",
        "\n",
        "# 벨만 포드 알고리즘 수행\n",
        "negative_cycle = bf(1)\n",
        "\n",
        "if negative_cycle:\n",
        "    print('-1')\n",
        "else:\n",
        "    # 1번 노드를 제외한 다른 모든 노드로 가기 위한 최단 거리 출력\n",
        "    for i in range(2, n+1):\n",
        "        if dist[i] == INF: # 도달할 수 없는 경우 -1 출력\n",
        "            print('-1')\n",
        "        else: # 도달할 수 있는 겨우 거리를 출력\n",
        "            print(dist[i])"
      ],
      "metadata": {
        "id": "gp9R_TbRgu2L"
      },
      "execution_count": null,
      "outputs": []
    },
    {
      "cell_type": "markdown",
      "source": [
        "해당 문제는 벨만- 포드 첫 연습으로\n",
        "\n",
        "```\n",
        "dist[start] = 0 # 시작 노드에 대해서 거리를 0으로 초기화\n",
        "    for i in range(n): # 정점 수만큼 반복\n",
        "        for j in range(m): # 매 반복 마다 모든 간선 확인\n",
        "```\n",
        "\n",
        "이부분이 다익스트라랑 다르다는 것을 알 수 있다.\n",
        "\n",
        "또한 마지막 판별할때\n",
        "\n",
        "```\n",
        "if i == n-1: # n-1번 이후 반복에도 값이 갱신되면 음수 순환 존재\n",
        "                    return True\n",
        "```\n",
        "\n",
        "만약에 값이 갱신되면 음수 순환이 존재한다는 것으로 알 수있다."
      ],
      "metadata": {
        "id": "UZ2lXS4FjJl2"
      }
    }
  ]
}