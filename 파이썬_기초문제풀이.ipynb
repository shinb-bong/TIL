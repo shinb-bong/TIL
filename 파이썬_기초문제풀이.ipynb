{
  "nbformat": 4,
  "nbformat_minor": 0,
  "metadata": {
    "colab": {
      "name": "파이썬 기초문제풀이.ipynb",
      "provenance": [],
      "collapsed_sections": [],
      "authorship_tag": "ABX9TyPVeN873p0MjSTrIBfJnxX+",
      "include_colab_link": true
    },
    "kernelspec": {
      "name": "python3",
      "display_name": "Python 3"
    },
    "language_info": {
      "name": "python"
    }
  },
  "cells": [
    {
      "cell_type": "markdown",
      "metadata": {
        "id": "view-in-github",
        "colab_type": "text"
      },
      "source": [
        "<a href=\"https://colab.research.google.com/github/shinb-bong/TIL/blob/main/%ED%8C%8C%EC%9D%B4%EC%8D%AC_%EA%B8%B0%EC%B4%88%EB%AC%B8%EC%A0%9C%ED%92%80%EC%9D%B4.ipynb\" target=\"_parent\"><img src=\"https://colab.research.google.com/assets/colab-badge.svg\" alt=\"Open In Colab\"/></a>"
      ]
    },
    {
      "cell_type": "markdown",
      "source": [
        "6097 설탕과자뽑기\n",
        "---\n",
        "\n",
        "해결 : 리스트 컴프리헨션을 사용하여 미리 테이블을 만들어 놓고 그에 맞게 위치를 시킨다. 이때 처음 시작점 부터 방향을 맞춰준뒤 길이만큼 반복문을 돌려 1로 길이를 표현하게 해준다."
      ],
      "metadata": {
        "id": "LZv5xpm1MLKx"
      }
    },
    {
      "cell_type": "code",
      "source": [
        "h, w = map(int,input().split())\n",
        "num = int(input())\n",
        "\n",
        "dp = [[0] * w for _ in range(h)]\n",
        "\n",
        "for i in range(num):\n",
        "    a,b,x,y = map(int,input().split())\n",
        "    \n",
        "    for j in range(a):\n",
        "        if b == 0 :\n",
        "            dp[x-1][y-1+j] = 1\n",
        "        else:\n",
        "            dp[x-1+j][y-1] = 1\n",
        "\n",
        "for i in range(h):\n",
        "    for j in range(w):\n",
        "        print(dp[i][j], end =\" \")\n",
        "    print()"
      ],
      "metadata": {
        "id": "_SqOwIn7Md7H"
      },
      "execution_count": null,
      "outputs": []
    },
    {
      "cell_type": "markdown",
      "source": [
        "6098 성실한 개미문제\n",
        "---\n",
        "\n",
        "풀이 : 이차원 리스트를 만들어서 저장을 해준뒤 해당 장소에 일단 발자취를 남긴다. 그후 만약 앞과 아래가 모두 벽이면 반복문을 탈출하고 아니게 될경우 오른쪽으로 이동하는것이 선행되어야 하므로 y+1을 해주도록한다. "
      ],
      "metadata": {
        "id": "HP0cdC5kLt-V"
      }
    },
    {
      "cell_type": "code",
      "execution_count": 5,
      "metadata": {
        "colab": {
          "base_uri": "https://localhost:8080/"
        },
        "id": "iNoIjF1hKlwj",
        "outputId": "7f6490c9-c527-43ea-ac69-59b6be000d28"
      },
      "outputs": [
        {
          "output_type": "stream",
          "name": "stdout",
          "text": [
            "1 1 1 1 1 1 1 1 1 1\n",
            "1 0 0 1 0 0 0 0 0 1\n",
            "1 0 0 1 1 1 0 0 0 1\n",
            "1 0 0 0 0 0 0 1 0 1\n",
            "1 0 0 0 0 0 0 1 0 1\n",
            "1 0 0 0 0 1 0 1 0 1\n",
            "1 0 0 0 0 1 2 1 0 1\n",
            "1 0 0 0 0 1 0 0 0 1\n",
            "1 0 0 0 0 0 0 0 0 1\n",
            "1 1 1 1 1 1 1 1 1 1\n",
            "1 1 1 1 1 1 1 1 1 1 \n",
            "1 9 0 1 0 0 0 0 0 1 \n",
            "1 9 0 1 1 1 0 0 0 1 \n",
            "1 9 0 0 0 0 0 1 0 1 \n",
            "1 9 0 0 0 0 0 1 0 1 \n",
            "1 9 0 0 0 1 0 1 0 1 \n",
            "1 9 0 0 0 1 2 1 0 1 \n",
            "1 9 0 0 0 1 0 0 0 1 \n",
            "1 9 9 9 9 9 9 9 9 1 \n",
            "1 1 1 1 1 1 1 1 1 1 \n"
          ]
        }
      ],
      "source": [
        "dp = []\n",
        "for i in range(10):\n",
        "   dp.append(list(map(int,input().split())))\n",
        "\n",
        "x,y = 1,1\n",
        "\n",
        "while True:\n",
        "    if (dp[x][y]==0):\n",
        "        dp[x][y]= 9\n",
        "    elif (dp[x][y]==2):\n",
        "        dp[x][y] = 9\n",
        "        break\n",
        "\n",
        "    if((dp[x][y+1]==1 and dp[x+1][y]==1)):\n",
        "        break\n",
        "\n",
        "    if (dp[x][y+1] != 1):\n",
        "        y = y+1 \n",
        "    elif (dp[x+1][y] != 1):\n",
        "        x= x+1\n",
        "    \n",
        "for i in range(10):\n",
        "    for j in range(10):\n",
        "        print(dp[i][j],end=' ')\n",
        "    print()\n"
      ]
    }
  ]
}