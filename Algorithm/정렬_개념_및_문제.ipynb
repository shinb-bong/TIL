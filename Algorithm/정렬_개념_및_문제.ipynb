{
  "nbformat": 4,
  "nbformat_minor": 0,
  "metadata": {
    "colab": {
      "name": "정렬 개념 및 문제.ipynb",
      "provenance": [],
      "collapsed_sections": [],
      "authorship_tag": "ABX9TyNA+Kzv0D5OX3QtJqS4GLlP",
      "include_colab_link": true
    },
    "kernelspec": {
      "name": "python3",
      "display_name": "Python 3"
    },
    "language_info": {
      "name": "python"
    }
  },
  "cells": [
    {
      "cell_type": "markdown",
      "metadata": {
        "id": "view-in-github",
        "colab_type": "text"
      },
      "source": [
        "<a href=\"https://colab.research.google.com/github/shinb-bong/TIL/blob/main/%EC%A0%95%EB%A0%AC_%EA%B0%9C%EB%85%90_%EB%B0%8F_%EB%AC%B8%EC%A0%9C.ipynb\" target=\"_parent\"><img src=\"https://colab.research.google.com/assets/colab-badge.svg\" alt=\"Open In Colab\"/></a>"
      ]
    },
    {
      "cell_type": "markdown",
      "source": [
        "선택 정렬\n",
        "---\n",
        "\n",
        "가장 데이터를 선택해 맨앞에 있는 데이터와 바꾸고 그 다음 작은 데이터를 선택해 앞에서 두번째 데이터와 바꾸는 과정 반복\n",
        "\n",
        "복잡도 : O(N^2)"
      ],
      "metadata": {
        "id": "DltDx92rrxZT"
      }
    },
    {
      "cell_type": "code",
      "execution_count": 1,
      "metadata": {
        "colab": {
          "base_uri": "https://localhost:8080/"
        },
        "id": "WLoBX8xbrtnl",
        "outputId": "6ae7b156-1edf-4024-e3d5-72cbd51f5b57"
      },
      "outputs": [
        {
          "output_type": "stream",
          "name": "stdout",
          "text": [
            "[0, 1, 2, 3, 5, 6, 7, 8, 4, 9]\n"
          ]
        }
      ],
      "source": [
        "array = [7,5,9,0,3,1,6,2,4,8]\n",
        "\n",
        "for i in range(len(array)):\n",
        "  min_index = i # 가장 작은 원소의 인덱스\n",
        "\n",
        "  for j in range(i+1, len(array)):\n",
        "    if array[min_index] > array[j]:\n",
        "      min_index =  j\n",
        "    array[i], array[min_index]= array[min_index], array[i] #스왑\n",
        "    \n",
        "print(array)"
      ]
    },
    {
      "cell_type": "markdown",
      "source": [
        "삽입 정렬\n",
        "---\n",
        "\n",
        "정렬되어 있는 데이터 리스트에서 적절한 위치를 찾은뒤에 그 위치에 삽입\n",
        "\n",
        "  + \n",
        "   데이터가 거의 정렬 되어 있을 때 효율 \n",
        "\n",
        "  + 특정한 데이터가 적절한 위치에 들어가기 이전에 그 앞까지의 데이터는 이미 정렬 되어 있음\n",
        " \n",
        "\n",
        "  + 처음 하나는 정렬 되어 있다고 가정\n",
        "\n",
        "  + 항상 오름차순 유지로 자기보다 작은 데이터를 만나면 멈추면 된다.\n",
        "\n",
        "시간 복잡도: O(N^2)\n",
        "+ 최선일 경우 O(N)"
      ],
      "metadata": {
        "id": "eYaSjn_jtjUF"
      }
    },
    {
      "cell_type": "code",
      "source": [
        "array = [7,5,9,0,3,1,6,2,4,8]\n",
        "\n",
        "for i in range(1,len(array)):\n",
        "  for  j in range(i,0,-1): # i부터 시작하여 1씩 감소하면서 반복\n",
        "    if array[j]<array[j-1]: # 한 칸씩 왼쪽으로 이동\n",
        "      array[j],array[j-1] = array[j-1],array[j] \n",
        "    else : # 자기보다 작은 데이터를 만났을 경우\n",
        "     break\n",
        "print(array)"
      ],
      "metadata": {
        "colab": {
          "base_uri": "https://localhost:8080/"
        },
        "id": "XS4Q1QcMt_-V",
        "outputId": "a1f48677-558f-447d-d573-4fa6835f6844"
      },
      "execution_count": 2,
      "outputs": [
        {
          "output_type": "stream",
          "name": "stdout",
          "text": [
            "[0, 1, 2, 3, 4, 5, 6, 7, 8, 9]\n"
          ]
        }
      ]
    },
    {
      "cell_type": "markdown",
      "source": [
        "퀵정렬\n",
        "---\n",
        "\n",
        "기준데이터(***Pivot***)을 설정하고 그 기준보다 큰 데이터와 작은 데이터의 위치를 바꾸자\n",
        "+ 처음 기준 데이터는 리스트의 첫번째 데이터\n",
        "\n",
        "1. 왼쪽부터 피벗보다 큰 데이터를 찾고 오른쪽부턴 피벗보다 작은 데이터를 찾는다.\n",
        "\n",
        "2. 그 후 두개 다 찾으면 교환을 해준다.\n",
        "\n",
        "3. 찾다가 두개가 엇갈린 경우 *** 작은 데이터*** 와 피벗을 교환해준다.\n",
        "\n",
        "+ 만약 리스트가 하나의 원소가 남는다면 그건 종료\n",
        "\n",
        "시간 복잡도 : O(NlogN)\n",
        "+ 하지만 정렬되어있는 경우 O(N^2)로 길어진다."
      ],
      "metadata": {
        "id": "jNgiAYTzvJv7"
      }
    },
    {
      "cell_type": "code",
      "source": [
        "# 파이썬 장점을 살린 퀵정렬, 보편적 퀵정렬은 책에 있음(이해 완료)-> 좀 더 직관적인걸 적어 놨음 \n",
        "\n",
        "array = [7,5,9,0,3,1,6,2,4,8]\n",
        "\n",
        "def quick_sort(array):\n",
        "  # 리스트 하나 이하의 원소만을 담고 있다면 종료\n",
        "  if len(array) <= 1:\n",
        "    return array\n",
        "\n",
        "  pivot = array[0] # 첫번째 데이터를 피벗 설정\n",
        "  tail = array[1:] # 피벗을 제외한 리스트\n",
        "\n",
        "  left_side = [x for x in tail if x<= pivot] # 피벗보다 작은 원소들(왼쪽 리스트가 된다)\n",
        "  right_side = [x for x in tail if x> pivot] # 피벗보다 큰 원소들(오른쪽 리스트가 된다)\n",
        "\n",
        "  # 분할 이후 왼쪽과 오른쪽에 대해 다시 퀵정렬을 수행하고 리스트를 합쳐주게 되는 과정\n",
        "  return quick_sort(left_side) + [pivot] + quick_sort(right_side)\n",
        "print(quick_sort(array))"
      ],
      "metadata": {
        "colab": {
          "base_uri": "https://localhost:8080/"
        },
        "id": "cOpIE8dpwx6R",
        "outputId": "dc7a0b8c-9e6d-4e17-fe1e-055e70c84d4b"
      },
      "execution_count": 3,
      "outputs": [
        {
          "output_type": "stream",
          "name": "stdout",
          "text": [
            "[0, 1, 2, 3, 4, 5, 6, 7, 8, 9]\n"
          ]
        }
      ]
    },
    {
      "cell_type": "markdown",
      "source": [
        "계수 정렬\n",
        "--- \n",
        "\n",
        "데이터 크기 범위가 제한되어 정수 형태로 표현할 수 있을 때 사용가능한 빠른 정렬 알고리즘 \n",
        "\n",
        "+ 가장 큰 데이터와 가장 작은 데이터 차이가 1,000,000을 넘지 않을 때 사용\n",
        "\n",
        "+ 모든 범위를 담을 수 있는 크기의 리스트(배열)을 선언\n",
        "\n",
        "시간 복잡도: 최악일때 포함 O(N+K)\n",
        "\n",
        "공간 복잡도: 전체를 포함하는 배열을 만들기 때문에 중복이 많으면 효과가 좋다"
      ],
      "metadata": {
        "id": "WcGlY81Vyoz4"
      }
    },
    {
      "cell_type": "code",
      "source": [
        "array=[7,5,9,0,3,1,6,2,9,1,4,8,0,5,2]\n",
        "# 모든 범위를 포함하는 리스트 선언\n",
        "count = [0] * (max(array)+1)\n",
        "\n",
        "for i in range(len(array)):\n",
        "  count[array[i]] += 1 # 각데이터에 해당하는 값 증가\n",
        "\n",
        "for i in range(len(count)): # 리스트 해당하는 정렬 정보 확인\n",
        "   for j in range(count[i]):\n",
        "     print(i , end = \" \")"
      ],
      "metadata": {
        "colab": {
          "base_uri": "https://localhost:8080/"
        },
        "id": "maIzbQFPz9fB",
        "outputId": "9bb37626-0cdd-451e-c0b8-3f1cc53e892a"
      },
      "execution_count": 4,
      "outputs": [
        {
          "output_type": "stream",
          "name": "stdout",
          "text": [
            "0 0 1 1 2 2 3 4 5 5 6 7 8 9 9 "
          ]
        }
      ]
    },
    {
      "cell_type": "markdown",
      "source": [
        "파이썬 정렬 라이브러리\n",
        "---\n",
        "\n",
        "sorted() \n",
        "\n",
        "+ O(NlogN)\n",
        "+ result = sorted(array)\n",
        "+ 별도의 리스트 반환\n",
        "\n",
        "sort()\n",
        "+ array.sort()\n",
        "+ 별도의 리스트 반환 없음"
      ],
      "metadata": {
        "id": "r-21b6o304k7"
      }
    },
    {
      "cell_type": "markdown",
      "source": [
        "문제\n",
        "---\n",
        "위에서 아래로\n",
        "\n",
        "풀이: 기본 라이브러리 사용법"
      ],
      "metadata": {
        "id": "pK_Tccs61iNi"
      }
    },
    {
      "cell_type": "code",
      "source": [
        "n = int(input())\n",
        "\n",
        "arr = []\n",
        "for i in range(n):\n",
        "  arr.append(int(input()))\n",
        "\n",
        "arr.sort(reverse=True)\n",
        "\n",
        "print(arr)"
      ],
      "metadata": {
        "colab": {
          "base_uri": "https://localhost:8080/"
        },
        "id": "TGPYSLKm1kiv",
        "outputId": "44bf7e80-693c-4b0b-a1a7-7a0305316187"
      },
      "execution_count": 6,
      "outputs": [
        {
          "output_type": "stream",
          "name": "stdout",
          "text": [
            "3\n",
            "15\n",
            "27\n",
            "12\n",
            "[27, 15, 12]\n"
          ]
        }
      ]
    },
    {
      "cell_type": "markdown",
      "source": [
        "성적이 낮은 순서로 학생 출력\n",
        "\n",
        "풀이: 람다함수 사용"
      ],
      "metadata": {
        "id": "IGs4mcr61-vw"
      }
    },
    {
      "cell_type": "code",
      "source": [
        "n = int(input())\n",
        "arr=[]\n",
        "for i in range(n):\n",
        "  k = input().split()\n",
        "  arr.append((k[0],int(k[1])))\n",
        "\n",
        "# key를 사용하여 점수를 기준으로 정렬(람다 함수식)-> 람다 함수식 한번 더 공부\n",
        "arr = sorted(arr,key= lambda student : student[1])\n",
        "\n",
        "for student in arr:\n",
        "  print(student[0], end = \" \")"
      ],
      "metadata": {
        "colab": {
          "base_uri": "https://localhost:8080/"
        },
        "id": "n2epSiZf2RWy",
        "outputId": "322169c4-fe57-4cd2-c3c3-7ed4899d0c6a"
      },
      "execution_count": 7,
      "outputs": [
        {
          "output_type": "stream",
          "name": "stdout",
          "text": [
            "2\n",
            "홍길동 95\n",
            "이순신 77\n",
            "이순신 홍길동 "
          ]
        }
      ]
    },
    {
      "cell_type": "markdown",
      "source": [
        "두 배열의 원소 교체\n",
        "\n",
        "N이 100.000까지 가능하므로 O(NlogN) 알고리즘 사용 \n",
        "오름차순 내림차순으로 정렬하여서 하나씩 비교했음"
      ],
      "metadata": {
        "id": "RXzSyod830tX"
      }
    },
    {
      "cell_type": "code",
      "source": [
        "n,m = map(int,input().split())\n",
        "\n",
        "a = list(map(int,input().split()))\n",
        "b = list(map(int,input().split()))\n",
        "\n",
        "a.sort() # A 오름차순 정렬\n",
        "b.sort(reverse= True) # b 내림차순 정렬\n",
        "\n",
        "# 첫번째 인덱스부터 확인하면서 교환 \n",
        "\n",
        "for i in range(m):\n",
        "  # A의 원소가 B의 원소보다 작은경우\n",
        "  if a[i]<b[i]:\n",
        "    # 두 원소를 교체 \n",
        "    a[i],b[i]=b[i],a[i]\n",
        "  else: # A의 원소보다 크거나 같을 때 \n",
        "   break\n",
        "print(sum(a))"
      ],
      "metadata": {
        "id": "_A8FqUDw3-xZ"
      },
      "execution_count": null,
      "outputs": []
    }
  ]
}