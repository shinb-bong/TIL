{
  "nbformat": 4,
  "nbformat_minor": 0,
  "metadata": {
    "colab": {
      "name": "소수,투포인터,구간합.ipynb",
      "provenance": [],
      "collapsed_sections": [],
      "authorship_tag": "ABX9TyMqy55zQZ84k0h147wgFdy/",
      "include_colab_link": true
    },
    "kernelspec": {
      "name": "python3",
      "display_name": "Python 3"
    },
    "language_info": {
      "name": "python"
    }
  },
  "cells": [
    {
      "cell_type": "markdown",
      "metadata": {
        "id": "view-in-github",
        "colab_type": "text"
      },
      "source": [
        "<a href=\"https://colab.research.google.com/github/shinb-bong/TIL/blob/main/%EC%86%8C%EC%88%98%2C%ED%88%AC%ED%8F%AC%EC%9D%B8%ED%84%B0%2C%EA%B5%AC%EA%B0%84%ED%95%A9.ipynb\" target=\"_parent\"><img src=\"https://colab.research.google.com/assets/colab-badge.svg\" alt=\"Open In Colab\"/></a>"
      ]
    },
    {
      "cell_type": "markdown",
      "source": [
        "소수 판별 \n",
        "---\n",
        "\n",
        "시간 복잡도 O(X)"
      ],
      "metadata": {
        "id": "EjBzf67iR2Js"
      }
    },
    {
      "cell_type": "code",
      "execution_count": null,
      "metadata": {
        "id": "XycRLsppR0fo"
      },
      "outputs": [],
      "source": [
        "# 소수 판별 함수\n",
        "def is_prime_number(x):\n",
        "  for i in range(2,x):\n",
        "    # 해당 수로 나누어 떨어진다면 \n",
        "    if x % i ==0:\n",
        "      return False # 소수가 아님\n",
        "  \n",
        "  return True # 소수임"
      ]
    },
    {
      "cell_type": "markdown",
      "source": [
        "시간 복잡도 O(X^1/2)\n"
      ],
      "metadata": {
        "id": "q9FiCvaRTP91"
      }
    },
    {
      "cell_type": "code",
      "source": [
        "import math\n",
        "\n",
        "def is_prime_number(x):\n",
        "  # 2부터 x의 제곱근 까지 모든수를 확인\n",
        "  for i in range(2,int(math.sqrt(x))+1):\n",
        "    if x % i == 0:\n",
        "      return False\n",
        "  return True"
      ],
      "metadata": {
        "id": "iBAp6NFXTTJ1"
      },
      "execution_count": null,
      "outputs": []
    },
    {
      "cell_type": "markdown",
      "source": [
        "투포인터 \n",
        "---\n",
        "리스트에 순차적으로 접근해야 할 때 2개의 점의 위치를 기록하면서 처리\n",
        "\n",
        "1. start 와 end가 첫번째 원소의 인덱스 0을 가리키도록 한다.\n",
        "\n",
        "2. 현재 부분합이 M과 같다면 카운트 한다.\n",
        "\n",
        "3. 현재 부분합이 M보다 작으면 end 를 +1\n",
        "\n",
        "4. 현재 부분합이 M보다 크거나 같으면 start 를 +1\n",
        "\n",
        "5. 모든 경우를 확인할 때 까지 2번~4번 과정 반복"
      ],
      "metadata": {
        "id": "sHHUsxTWTstL"
      }
    },
    {
      "cell_type": "code",
      "source": [
        "n = 5 # 데이터의 수\n",
        "m = 5 # 찾고자 하는 부분합 M\n",
        "data = [1,2,3,2,5] # 전체 수열\n",
        "\n",
        "count = 0\n",
        "interval_sum = 0\n",
        "end = 0\n",
        "\n",
        "# start를 차례로 증가시키며 반복\n",
        "for start in range(n):\n",
        "  # end를 가능한 만큼 이동 시키기\n",
        "  while interval_sum < m and end <n :\n",
        "    interval_sum += data[end]\n",
        "    end +=1\n",
        "  if interval_sum == m:\n",
        "    count += 1\n",
        "  interval_sum -= data[start]\n",
        "print(count)"
      ],
      "metadata": {
        "colab": {
          "base_uri": "https://localhost:8080/"
        },
        "id": "LDVyrAgITuIZ",
        "outputId": "6859bc1a-d637-4bd9-ab5a-b4b236678248"
      },
      "execution_count": 3,
      "outputs": [
        {
          "output_type": "stream",
          "name": "stdout",
          "text": [
            "3\n"
          ]
        }
      ]
    },
    {
      "cell_type": "markdown",
      "source": [
        "투포인터 알고리즘은 \"정렬되어 있는 두 리스트의 합집합\" 같은 문제에 효과적으로 사용 \n",
        "\n",
        "1. 정렬된 리스트 A와 B를 받는다.\n",
        "2. 리스트 A에서 처리 되지않은 가장 작은 원소i를 고른다.\n",
        "3. 리스트 B에서도 그렇게한다.j\n",
        "4. 비교해서 가장 작은걸 넣고 모든 집합이 빌때까지 한다.\n",
        "\n",
        "시간복잡도는 O(N+M) 이다.\n"
      ],
      "metadata": {
        "id": "vBadErM0VYbz"
      }
    },
    {
      "cell_type": "code",
      "source": [
        "# 사전에 정렬된 A,B 선언\n",
        "n,m = 3,4\n",
        "a = [1,3,5]\n",
        "b = [2,4,6,8]\n",
        "\n",
        "# 리스트 A와 B의 모든 원소를 담을 수 있는 리스트 선언\n",
        "result = [0]* (n+m)\n",
        "i = 0\n",
        "j = 0\n",
        "k = 0\n",
        "\n",
        "# 모든 원소가 결과 리스트에 담길 때까지 반복\n",
        "while i < n or j<m: \n",
        "  #리스트 B의 모든 원소가 처리 되었거나 A의 원소가 더 적을 때\n",
        "  if j>=m or (i<n and a[i]<=b[j]):\n",
        "    # 리스트 A의 원소를 결과 리스트로 옮기기\n",
        "    result[k] = a [i]\n",
        "    i += 1\n",
        "  # 역으로 B의 원소가 더 적을때\n",
        "  else:\n",
        "    result[k]=b[j]\n",
        "    j += 1\n",
        "  k += 1\n",
        "\n",
        "# 결과 리스트 출력\n",
        "for i in result:\n",
        "  print(i, end = ' ')"
      ],
      "metadata": {
        "id": "r7MnTW5eV-Aw"
      },
      "execution_count": null,
      "outputs": []
    },
    {
      "cell_type": "markdown",
      "source": [
        "구간합\n",
        "---\n",
        "그냥 짜면 O(NM) 시간 복잡도\n",
        "\n",
        "구간합을 사용하면 O(N+M)의 시간복잡도\n",
        "\n",
        "1. N개의 수에 대하여 접두사합(Prefix Sum)을 계산하여 배열 P에 저장한다.\n",
        "2. 매 M개의 쿼리 정보 [L,R] 을 확인 할때 구간 합은 P[R]-P[L-1]\n",
        "\n",
        "\n",
        "**접두사합이 뭘까?**\n",
        "\n",
        "앞에서부터 더해준 수들을 말한다. 그렇게 되면 P[3]-P[0]을 빼주게 되면 [1,3] 까지 더한 수가 되게 되는 것이다."
      ],
      "metadata": {
        "id": "R1Ka5YDGXLSD"
      }
    },
    {
      "cell_type": "code",
      "source": [
        "# 데이터 개수 N과 전체 데이터 선언\n",
        "n = 5 \n",
        "data = [10,20,30,40,50]\n",
        "\n",
        "# 접두사합 선언 \n",
        "sum_value = 0\n",
        "# 첫합은 0\n",
        "prefix_sum = [0]\n",
        "for i in data:\n",
        "  sum_value += i \n",
        "  prefix_sum.append(sum_value)\n",
        "\n",
        "# 구간 합 계산 (3번부터 4번까지)\n",
        "left = 3\n",
        "right = 4\n",
        "print(prefix_sum[right]-prefix_sum[left-1])"
      ],
      "metadata": {
        "id": "swu5f6iVXK7_"
      },
      "execution_count": null,
      "outputs": []
    },
    {
      "cell_type": "markdown",
      "source": [
        "순열 사용\n",
        "---\n",
        "\n",
        "순열이란 서로다른 n개에서 r를 선택하여 일렬로 나열 하는 것을 이야기 한다.\n"
      ],
      "metadata": {
        "id": "PGK3oCfGYytn"
      }
    },
    {
      "cell_type": "code",
      "source": [
        "import itertools\n",
        "\n",
        "data = [1,2,3]\n",
        "\n",
        "for x in itertools.permutations(data,3):\n",
        "  print(list(x))"
      ],
      "metadata": {
        "colab": {
          "base_uri": "https://localhost:8080/"
        },
        "id": "wupP6dt0Y4IH",
        "outputId": "d02ca71d-fd3f-4373-ed8f-0eacf45f02c2"
      },
      "execution_count": 5,
      "outputs": [
        {
          "output_type": "stream",
          "name": "stdout",
          "text": [
            "[1, 2, 3]\n",
            "[1, 3, 2]\n",
            "[2, 1, 3]\n",
            "[2, 3, 1]\n",
            "[3, 1, 2]\n",
            "[3, 2, 1]\n"
          ]
        }
      ]
    }
  ]
}