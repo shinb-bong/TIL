{
  "cells": [
    {
      "cell_type": "markdown",
      "metadata": {
        "colab_type": "text",
        "id": "view-in-github"
      },
      "source": [
        "<a href=\"https://colab.research.google.com/github/shinb-bong/TIL/blob/main/Greedy%EB%AC%B8%EC%A0%9C_%ED%92%80%EC%9D%B4.ipynb\" target=\"_parent\"><img src=\"https://colab.research.google.com/assets/colab-badge.svg\" alt=\"Open In Colab\"/></a>"
      ]
    },
    {
      "cell_type": "markdown",
      "metadata": {
        "id": "jEnZV-9TZ1-g"
      },
      "source": [
        "큰 수의 법칙"
      ]
    },
    {
      "cell_type": "code",
      "execution_count": 9,
      "metadata": {
        "colab": {
          "base_uri": "https://localhost:8080/"
        },
        "id": "UsaTvnAnZzU5",
        "outputId": "2a596699-44de-4366-f562-0dba8a644155"
      },
      "outputs": [
        {
          "name": "stdout",
          "output_type": "stream",
          "text": [
            "5 8 3\n",
            "2 4 5 4 6\n",
            "46\n"
          ]
        }
      ],
      "source": [
        "n,m,k = map(int,input().split())\n",
        "\n",
        "arr = []\n",
        "arr = list(map(int,input().split()))\n",
        "\n",
        "arr.sort()\n",
        "\n",
        "sum = 0\n",
        "index = 0\n",
        "while True:\n",
        "  for i in range(k):\n",
        "    if m == 0:\n",
        "      break\n",
        "    sum += arr[n-1]\n",
        "    m -=1\n",
        "  if m == 0:\n",
        "      break\n",
        "  sum += arr[n-2]\n",
        "  m -=1\n",
        "  \n",
        "print(sum)"
      ]
    },
    {
      "cell_type": "markdown",
      "metadata": {
        "id": "toYoKosJc3zK"
      },
      "source": [
        "풀이: 가장 높은 수로 더해주면서 연속된 K만큼이 끝났을때 그다음 큰수를 한번만 넣어주고 다시 연속적으로 더해주는 형식으로 진행해준다.\n",
        "\n",
        "두번째 풀이"
      ]
    },
    {
      "cell_type": "code",
      "execution_count": 11,
      "metadata": {
        "colab": {
          "base_uri": "https://localhost:8080/"
        },
        "id": "3LGLiwJreu8E",
        "outputId": "e54d27c6-cd9f-4b03-86fc-0e6ca09cf5dd"
      },
      "outputs": [
        {
          "name": "stdout",
          "output_type": "stream",
          "text": [
            "5 8 3\n",
            "2 4 5 4 6\n",
            "46\n"
          ]
        }
      ],
      "source": [
        "n,m,k = map(int,input().split())\n",
        "\n",
        "arr = []\n",
        "arr = list(map(int,input().split()))\n",
        "\n",
        "arr.sort()\n",
        "\n",
        "# 여기는 가장 큰수의 갯수를 구해서 진행하는 버전\n",
        "count = (m//(k+1)) * k\n",
        "count += m%(k+1)\n",
        "\n",
        "result = 0\n",
        "result += count * arr[n-1]\n",
        "result += (m-count) * arr[n-2]\n",
        "print(result)"
      ]
    },
    {
      "cell_type": "markdown",
      "metadata": {
        "id": "8cXCB74zfOL0"
      },
      "source": [
        "풀이: M이 만개 이하면 상관없겠지만 그 이상이면 이렇게 큰수의 갯수를 구해서 합을 해주는 경우를 만들었다. 연속된 큰수 m개와 하나의 그다음 큰수로 구성된 세트를 K+1로 정의하여 안나눠지는 경우는 다 큰수로 넣게 만들었다."
      ]
    },
    {
      "cell_type": "markdown",
      "metadata": {
        "id": "QWbSmso7dAU-"
      },
      "source": [
        "숫자 카드 게임"
      ]
    },
    {
      "cell_type": "code",
      "execution_count": 14,
      "metadata": {
        "colab": {
          "base_uri": "https://localhost:8080/"
        },
        "id": "VYitym86f1QV",
        "outputId": "4d702b39-b57d-43dc-fc2b-8434960424fe"
      },
      "outputs": [
        {
          "name": "stdout",
          "output_type": "stream",
          "text": [
            "3 3 \n",
            "3 1 2\n",
            "4 1 4\n",
            "2 2 2 \n",
            "2\n"
          ]
        }
      ],
      "source": [
        "n, m = map(int, input().split())\n",
        "result = 0\n",
        "for i in range(n):\n",
        "  num = min(list(map(int,input().split())))\n",
        "  result = max(result,num)\n",
        "\n",
        "print(result)"
      ]
    },
    {
      "cell_type": "markdown",
      "metadata": {
        "id": "bQiMIucQg-a2"
      },
      "source": [
        "풀이 : 각 행에서 가장 작은 값을 받아와서 그중 가장 큰값으로 비교를 해준다."
      ]
    },
    {
      "cell_type": "markdown",
      "metadata": {
        "id": "UYekWIVNhUmp"
      },
      "source": [
        "1이 될때까지"
      ]
    },
    {
      "cell_type": "code",
      "execution_count": 18,
      "metadata": {
        "colab": {
          "base_uri": "https://localhost:8080/"
        },
        "id": "qJukCYm7hWkJ",
        "outputId": "ec1dab85-bb45-4f4d-ebd1-7c677a512eb7"
      },
      "outputs": [
        {
          "name": "stdout",
          "output_type": "stream",
          "text": [
            "24 4\n",
            "4\n"
          ]
        }
      ],
      "source": [
        "n,k = map(int,input().split())\n",
        "result =0\n",
        "while True:\n",
        "  if n == 1:\n",
        "    break\n",
        "  if n%k == 0:\n",
        "    n = n//k\n",
        "    result +=1\n",
        "  else:\n",
        "    n -=1\n",
        "    result +=1\n",
        "\n",
        "print(result)"
      ]
    },
    {
      "cell_type": "markdown",
      "metadata": {
        "id": "hDsTGxyWijXz"
      },
      "source": [
        "하지만 100억 이상이라면"
      ]
    },
    {
      "cell_type": "code",
      "execution_count": null,
      "metadata": {
        "id": "4WFPYDZ8inKS"
      },
      "outputs": [],
      "source": [
        "n,k = map(int,input().split())\n",
        "result =0\n",
        "\n",
        "while True:\n",
        "  # k로 나누어지는 수가 될때까지 한번에 빼버리기\n",
        "  target = (n//k) *k\n",
        "  result += (n-target)\n",
        "  n = target\n",
        "\n",
        "  if n<k: \n",
        "    break\n",
        "  \n",
        "  result += 1\n",
        "  n//=k\n",
        "\n",
        "result +=(n-1)\n",
        "print(result)"
      ]
    },
    {
      "cell_type": "markdown",
      "metadata": {
        "id": "Dfd0ZKp5ijRU"
      },
      "source": [
        "풀이 : 한번씩 과정을 거치지말고 한번에 몇개를 빼야 나누어 질 수 있는 수가 되는지 검사를 하여 처리를 한다."
      ]
    }
  ],
  "metadata": {
    "colab": {
      "authorship_tag": "ABX9TyMX+zxsHhwdfKi4y2AZYgVQ",
      "collapsed_sections": [],
      "include_colab_link": true,
      "name": "Greedy문제 풀이.ipynb",
      "provenance": []
    },
    "kernelspec": {
      "display_name": "Python 3",
      "name": "python3"
    },
    "language_info": {
      "name": "python"
    }
  },
  "nbformat": 4,
  "nbformat_minor": 0
}
