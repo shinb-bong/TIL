{
  "cells": [
    {
      "cell_type": "markdown",
      "metadata": {
        "colab_type": "text",
        "id": "view-in-github"
      },
      "source": [
        "<a href=\"https://colab.research.google.com/github/shinb-bong/TIL/blob/main/Bubble_sort.ipynb\" target=\"_parent\"><img src=\"https://colab.research.google.com/assets/colab-badge.svg\" alt=\"Open In Colab\"/></a>"
      ]
    },
    {
      "cell_type": "markdown",
      "metadata": {
        "id": "OBBAiM_eAibv"
      },
      "source": [
        "버블 정렬\n",
        "-----\n",
        "\n",
        "인접한 것끼리 비교해가면서 정렬을 하는법\n"
      ]
    },
    {
      "cell_type": "code",
      "execution_count": null,
      "metadata": {
        "id": "mulsOtPUAhv1"
      },
      "outputs": [],
      "source": [
        "# 코드 구현 \n",
        "\n",
        "def bubbleSort(arr):\n",
        "  n = len(arr) # 배열의 크기\n",
        "  for i in range(n):\n",
        "    # 배열의 총 크기에서 i의 값과 1을 뺀 만큼 반복 (자기자신과 비교할 +1 하나 제외)\n",
        "    for j in range(0,n-i-1):\n",
        "      if arr[j] > arr[j+1]:\n",
        "        arr[j],arr[j+1]= arr[j+1], arr[j] #swap\n",
        "\n"
      ]
    }
  ],
  "metadata": {
    "colab": {
      "authorship_tag": "ABX9TyOgX2eka30s0diLEcy7xq0/",
      "collapsed_sections": [],
      "include_colab_link": true,
      "name": "Bubble sort.ipynb",
      "provenance": []
    },
    "kernelspec": {
      "display_name": "Python 3",
      "language": "python",
      "name": "python3"
    },
    "language_info": {
      "name": "python",
      "version": "3.8.5"
    },
    "vscode": {
      "interpreter": {
        "hash": "c79f7dff0cf05aaa10b00e3f210c4e94cc49e1f96aa97f90205057359d993211"
      }
    }
  },
  "nbformat": 4,
  "nbformat_minor": 0
}
