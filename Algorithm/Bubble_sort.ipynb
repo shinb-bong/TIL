{
  "cells": [
    {
      "cell_type": "markdown",
      "metadata": {
        "colab_type": "text",
        "id": "view-in-github"
      },
      "source": [
        "<a href=\"https://colab.research.google.com/github/shinb-bong/TIL/blob/main/Bubble_sort.ipynb\" target=\"_parent\"><img src=\"https://colab.research.google.com/assets/colab-badge.svg\" alt=\"Open In Colab\"/></a>"
      ]
    },
    {
      "cell_type": "markdown",
      "metadata": {
        "id": "OBBAiM_eAibv"
      },
      "source": [
        "버블 정렬\n",
        "-----\n",
        "\n",
        "인접한 것끼리 비교해가면서 정렬을 하는법\n"
      ]
    },
    {
      "cell_type": "code",
      "execution_count": null,
      "metadata": {
        "id": "mulsOtPUAhv1"
      },
      "outputs": [],
      "source": [
        "# 코드 구현 \n",
        "\n",
        "def bubbleSort(arr):\n",
        "  n = len(arr) # 배열의 크기\n",
        "\n",
        "  for i in range(n):\n",
        "\n",
        "    # 배열의 총 크기에서 i의 값과 1을 뺀 만큼 반복 (확정된것 + 자기자신인듯?)\n",
        "    for j in range(0,n-i-1):\n",
        "      if arr[j] > arr[j+1]:\n",
        "        arr[j],arr[j+1]= arr[j+1], arr[j] #swap\n",
        "\n"
      ]
    },
    {
      "cell_type": "markdown",
      "metadata": {},
      "source": [
        "하지만 너무 많은 수행시간을 요구하며 만약 수행시간이 커서 시간복잡도가 충족이 안될 경우 \n",
        "이분 탐색을 통해 버블 정렬을 진행하도록 하여야한다."
      ]
    }
  ],
  "metadata": {
    "colab": {
      "authorship_tag": "ABX9TyOgX2eka30s0diLEcy7xq0/",
      "collapsed_sections": [],
      "include_colab_link": true,
      "name": "Bubble sort.ipynb",
      "provenance": []
    },
    "kernelspec": {
      "display_name": "Python 3",
      "name": "python3"
    },
    "language_info": {
      "name": "python"
    }
  },
  "nbformat": 4,
  "nbformat_minor": 0
}
