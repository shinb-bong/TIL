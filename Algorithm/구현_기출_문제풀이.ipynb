{
  "nbformat": 4,
  "nbformat_minor": 0,
  "metadata": {
    "colab": {
      "name": "구현 기출 문제풀이.ipynb",
      "provenance": [],
      "collapsed_sections": [],
      "authorship_tag": "ABX9TyP68tHLjrE/PmGoPMRSAZBs",
      "include_colab_link": true
    },
    "kernelspec": {
      "name": "python3",
      "display_name": "Python 3"
    },
    "language_info": {
      "name": "python"
    }
  },
  "cells": [
    {
      "cell_type": "markdown",
      "metadata": {
        "id": "view-in-github",
        "colab_type": "text"
      },
      "source": [
        "<a href=\"https://colab.research.google.com/github/shinb-bong/TIL/blob/main/%EA%B5%AC%ED%98%84_%EA%B8%B0%EC%B6%9C_%EB%AC%B8%EC%A0%9C%ED%92%80%EC%9D%B4.ipynb\" target=\"_parent\"><img src=\"https://colab.research.google.com/assets/colab-badge.svg\" alt=\"Open In Colab\"/></a>"
      ]
    },
    {
      "cell_type": "markdown",
      "source": [
        "럭키 스트레이트\n",
        "---\n",
        "\n",
        "풀이: 배열로 나눠줘서 완전탐색 진행했다."
      ],
      "metadata": {
        "id": "OBFphZL57tQ3"
      }
    },
    {
      "cell_type": "code",
      "execution_count": null,
      "metadata": {
        "colab": {
          "base_uri": "https://localhost:8080/"
        },
        "id": "uPKPdYhX7mU4",
        "outputId": "c32c96be-a0e2-46bf-c53e-f8b366fb33bb"
      },
      "outputs": [
        {
          "output_type": "stream",
          "name": "stdout",
          "text": [
            "123402\n",
            "LUCKY\n"
          ]
        }
      ],
      "source": [
        "n = list(map(int,input()))\n",
        "\n",
        "sum = 0\n",
        "\n",
        "for i in range(len(n)//2):\n",
        "  sum += n[i]\n",
        "\n",
        "for i in range(len(n)//2,len(n)):\n",
        "  sum -=n[i]\n",
        "\n",
        "\n",
        "if sum == 0 :\n",
        "  print(\"LUCKY\")\n",
        "else:\n",
        "  print(\"READY\")\n"
      ]
    },
    {
      "cell_type": "markdown",
      "source": [
        "문자열 재정렬\n",
        "---\n",
        "\n",
        ".isalpha() --> 알파벳인가 아닌가에 대한 내장함수\n",
        ".sort() --> 알파벳에 대해서도 가능"
      ],
      "metadata": {
        "id": "pDi5QdpT8zjP"
      }
    },
    {
      "cell_type": "code",
      "source": [
        "n = input()\n",
        "\n",
        "result = []\n",
        "sum = 0\n",
        "\n",
        "for i in n :\n",
        "  if i.isalpha():\n",
        "    result.append(i)\n",
        "  else:\n",
        "    sum += int(i)\n",
        "\n",
        "result.sort()\n",
        "result.append(str(sum))\n",
        "\n",
        "for i in result:\n",
        "  print(i,end='')\n",
        "  \n"
      ],
      "metadata": {
        "colab": {
          "base_uri": "https://localhost:8080/"
        },
        "id": "Mqnljj638936",
        "outputId": "31499527-a259-43ec-e144-831a09b35108"
      },
      "execution_count": null,
      "outputs": [
        {
          "output_type": "stream",
          "name": "stdout",
          "text": [
            "K1KA5CB7\n",
            "ABCKK13"
          ]
        }
      ]
    },
    {
      "cell_type": "markdown",
      "source": [
        "문자열 압축\n",
        "---\n",
        "\n",
        "일단 갯수가 적으므로 완전 탐색이 가능할듯\n",
        "\n",
        "감이 안잡혀서 틀림\n",
        "\n",
        "https://programmers.co.kr/learn/courses/30/lessons/60057\n",
        "\n",
        "또한 한줄에 if else 문을 적어서 보기 좋게 만드는 방식도 배워야 한다."
      ],
      "metadata": {
        "id": "YkJUmqpL-a9y"
      }
    },
    {
      "cell_type": "code",
      "source": [
        "def solution(s):\n",
        "    answer = len(s)\n",
        "    \n",
        "    # 스텝 처음부터 끝까지 해야하니깐 다 나뉘었을때부터 반으로 나눴을 경우까지 하나씩 완전탐색\n",
        "    for step in range(1,len(s)//2+1):\n",
        "        compressed = \"\"\n",
        "        prev = s[0:step] #앞에서 step만큼 추출\n",
        "        count = 1\n",
        "        # 단위 step 만큼 증가 시키면서 이전 문자열과 비교\n",
        "        for j in range(step,len(s),step):\n",
        "            # 이전 상태와 동일하다면(count 증가)\n",
        "            if prev == s[j:j+step]:\n",
        "                count +=1\n",
        "            \n",
        "        # 더이상 압축 불가능 하다면     \n",
        "            else:\n",
        "            # 한번이라도 압축되었으면 압축된것을 적어준다.\n",
        "                compressed += str(count)+prev if count >=2 else prev\n",
        "                # 다시 다음단계 실행\n",
        "                prev = s[j:j+step]\n",
        "                count = 1\n",
        "        # 남아있는 문자열 처리\n",
        "        compressed += str(count)+prev if count >=2 else prev\n",
        "        answer = min(answer,len(compressed))\n",
        "        \n",
        "\n",
        "    \n",
        "    return answer"
      ],
      "metadata": {
        "id": "TmKL4NFm_w2L"
      },
      "execution_count": null,
      "outputs": []
    },
    {
      "cell_type": "markdown",
      "source": [
        "자물쇠와 열쇠\n",
        "---\n",
        "\n",
        "+ 처음 풀이: 일단 수가 적으니 완전 탐색 방법으로 방향을 지정해서 가는것도 나쁘지 않을듯 하다. --> 접근 방식은 맞았으나 구현 방식에서 틀렸었다.\n",
        "\n",
        "\n",
        "+ 후에 아이디어: 자물쇠 리스트가 작으니 2차원 리스트를 최소 3배이상으로 확장시키고 가운데 자물쇠를 배치하여 키를 돌려가면서 껴본다. 그때 만약 중간에 위치한 자물쇠가 모두 1이 될경우는 되는 경우라고 생각한다. \n",
        "\n",
        "***조금 새로운 접근 방식이였고 생각을 확장시키게 되는 문제였다.***"
      ],
      "metadata": {
        "id": "WLYNdCq6-2kt"
      }
    },
    {
      "cell_type": "code",
      "source": [
        "# 자주 나오는 2차원 리스트 90도 회전 --> 자주 접해서 응용하자\n",
        "def rotate_a_matrix_by_90_degree(a):\n",
        "  n = len(a) # 행 길이 계산\n",
        "  m = len(a[0])  # 열 길이 계산\n",
        "  result = [[0]* n for _ in range(m)] # 결과 리스트\n",
        "  for i in range(n):\n",
        "    for j in range(m):\n",
        "      result[j][n-i-1]=a[i][j]\n",
        "  return result\n",
        "\n",
        "# 자물쇠 중간 부분이 모두 1인지 확인\n",
        "def check(new_lock):\n",
        "  lock_length = len(new_lock) //3 \n",
        "\n",
        "  # 중간 부분 확인\n",
        "  for i in range(lock_length,lock_length*2):\n",
        "    for j in range(lock_length, lock_length*2):\n",
        "      if new_lock[i][j] !=1:\n",
        "        return False\n",
        "  return True\n",
        "\n",
        "\n",
        "def solution(key,lock):\n",
        "  n = len(lock)\n",
        "  m = len(key)\n",
        "\n",
        "  # 자물쇠 기존 크기를 기존 3배로 전환\n",
        "  new_lock =[[0]* (n*3) for _ in range(n*3)]\n",
        "\n",
        "  # 새로운 자물쇠 중앙 부분에 기존 자물쇠 넣기\n",
        "  for i in range(n):\n",
        "    for j in range(m):\n",
        "      new_lock[i+n][j+n] = lock[i][j]\n",
        "\n",
        "  # 4가지 방향에 대해서 확인-> 회전에 대해서\n",
        "  for rotation in range(4):\n",
        "    key = rotate_a_matrix_by_90_degree(key) # 열쇠회전\n",
        "\n",
        "    # 첫 모서리 조정\n",
        "    for x in range(n*2):\n",
        "      for y in range(n*2):\n",
        "\n",
        "        # 자물쇠에 열쇠 넣어보기\n",
        "        for i in range(m):\n",
        "          for j in range(m):\n",
        "            new_lock[x+i][y+j] += key[i][j]\n",
        "        # 새로운 자물쇠에 열쇠가 정확히 들어가는지 검사\n",
        "        if check(new_lock) == True:\n",
        "          return True\n",
        "        # 다시 자물쇠에서 열쇠를 빼기\n",
        "        for i in range(m):\n",
        "          for j in range(m):\n",
        "           new_lock[x+i][y+j] -= key[i][j]\n",
        "           \n",
        "  return False"
      ],
      "metadata": {
        "id": "d2EcRlgiBg26"
      },
      "execution_count": null,
      "outputs": []
    },
    {
      "cell_type": "markdown",
      "source": [
        "뱀\n",
        "---\n",
        "\n",
        "+ 처음 풀이: 이것도 N이 100까지 밖에 안되므로 완전탐색을 의심해봐야하겠다는 생각이 들었다. 처음엔 보드판에 사과를 위치시키고 뱀을 탐색시킨다 라는 느낌으로 접근을 해보려고 한다.\n",
        "\n",
        "+ 틀린 이유: 뱀의 몸정보를 저장하는 방식을 구현하려했지만 구현방법이 떠오르질않음"
      ],
      "metadata": {
        "id": "jSJZIO88ExhQ"
      }
    },
    {
      "cell_type": "code",
      "source": [
        "n = int(input())\n",
        "m = int(input())\n",
        "\n",
        "data = [[0]*(n+1) for _ in range(n+1)] # 맵정보\n",
        "info = [] # 방향정보\n",
        "\n",
        "# 맵 정보\n",
        "for _ in range(k):\n",
        "  a,b = map(int,input().split())\n",
        "  data[a][b] = 1\n",
        "\n",
        "# 방향 회전 정보 입력\n",
        "l = int(input())\n",
        "for _ in range(l):\n",
        "  x,c = input().split()\n",
        "  info.append((int(x),c))\n",
        "\n",
        "# 오른쪽을 바라보고 있음 처음에 진행 (동,남,서,북) 이 부분 키포인틀 못 잡은것 같다.\n",
        "dx = [0,1,0,-1]\n",
        "dy = [1.0,-1,0]\n",
        "\n",
        "def turn(direction,c):\n",
        "  if c == \"L\":\n",
        "    direction = (direction -1)%4\n",
        "  else:\n",
        "    direction = (direction + 1)% 4\n",
        "  return direction\n",
        "\n",
        "def simulate():\n",
        "  x,y = 1,1 # 뱀의 머리\n",
        "  data[x][y] = 2 # 뱀이 존재하는 위치는 2로 표시 이부분이 핵심인듯\n",
        "  direction = 0 # 처음에는 동쪽을 보고 있음\n",
        "  time = 0 # 시작한뒤의 초\n",
        "  index = 0 # 다음 회전정보\n",
        "  q = [(x,y)] # 뱀이 차지하고 있는 위치 정보(꼬리가 앞쪽)\n",
        "\n",
        "  while True:\n",
        "    nx = x+ dx[direction]  \n",
        "    ny = y + dy[direction]\n",
        "\n",
        "    # 맵 범위 안에있고 뱀의 몸통이 없는 위치라면\n",
        "    if 1<= nx and nx<=n and 1<= ny and ny <= n and data[nx][ny] !=2 :\n",
        "      # 사과가 없다면 이동후에 꼬리제거\n",
        "      if data[nx][ny] == 0:\n",
        "        data[nx][ny] = 2\n",
        "        q.append((nx,ny)) \n",
        "        # 지나가서 더이상 뱀이없는 자리 0으로 만들어줌\n",
        "        px,py = q.pop(0)\n",
        "        data[px][py] = 0\n",
        "\n",
        "      # 사과가 있다면 이동후에 꼬리는 그대로\n",
        "      if data[nx][ny] == 1:\n",
        "        data[nx][ny] = 2\n",
        "        q.append((nx,ny)) \n",
        "\n",
        "    #  벽이나 뱀의 몸통에 부딪혔으면\n",
        "    else:\n",
        "      time +=1\n",
        "      break\n",
        "    # 다음위치\n",
        "    x ,y = nx,ny\n",
        "    time +=1\n",
        "    if index < l and time == info[index][0]: # 회전할 시간이 되었으면\n",
        "      direction = turn(direction,info[index][1])\n",
        "      index += 1\n",
        "    return time\n",
        "\n",
        "print(simulate())\n"
      ],
      "metadata": {
        "id": "ekD875g2Fb3M"
      },
      "execution_count": null,
      "outputs": []
    },
    {
      "cell_type": "markdown",
      "source": [
        "기둥과 보 \n",
        "---\n",
        "\n",
        "\n",
        "일단 기본적으로 구현 문제는 코드가 길어질 수도 있으며 막상 구현을 해보면 그렇게 어려운 문제가 아니다. 하지만 길어지는 코드와 생각해내는 아이디어에 겁을 내서 중도 포기하는것이 문제인것 같다. 계속해서 문제를 풀어봐야 나에게 도움이 될 것 같고 실패해도 계속 해봐야 할 것 같다.\n",
        "\n",
        "또한 간단한 다른 함수를 적어 적용하는 문제들이 꽤 있는것 같으니 참고해야 할 듯하다."
      ],
      "metadata": {
        "id": "F6gBWG3nRHV8"
      }
    },
    {
      "cell_type": "code",
      "source": [
        "def possible(answer):\n",
        "  for x,y,stuff in answer:\n",
        "    if stuff == 0: # 설치된것이 기둥이라면 \n",
        "      #  바닥 위 혹은 보의 한쪽 끝부분 위 혹은 다른 기둥 위라면 정상\n",
        "      if y == 0 or [x-1,y-1] in answer or [x,y,1] in answer or [x,y-1,0] in answer:\n",
        "        continue\n",
        "      return False\n",
        "\n",
        "    elif stuff == 1: # 설치된 것이 보라면 \n",
        "      if [x,y-1,0] in answer or [x+1,y-1,0] in answer or ([x-1,y-1] in answer and [x+1,y,1]in answer):\n",
        "        continue\n",
        "      return False\n",
        "    return True\n",
        "\n",
        "def solution(n,build_frame):\n",
        "  answer = []\n",
        "  for frame in build_frame: # 작업 프레임의 개수는 최대 1000개\n",
        "    x,y,stuff,operate = frame\n",
        "\n",
        "    if operate == 0 : # 삭제하는 경우 일단 삭제는 가능하게 주어진다했으니깐 삭제를 해보고 건물 확인\n",
        "      answer.remove([x,y,stuff])\n",
        "      if not possible(answer):\n",
        "        answer.append([x,y,stuff]) # 가능한 구조물이 아니라면 바로 다시 건축\n",
        "    \n",
        "    if operate == 1: # 삭제의 반대로\n",
        "      answer.append([x,y,stuff])\n",
        "      if not possible(answer): \n",
        "        answer.remove([x,y,stuff])\n",
        "  return sorted(answer)\n"
      ],
      "metadata": {
        "id": "ZlnUJljxU5ak"
      },
      "execution_count": null,
      "outputs": []
    },
    {
      "cell_type": "markdown",
      "source": [
        "치킨 배달 \n",
        "---\n",
        "\n",
        "\n",
        "조합을 사용하는 문제이다. 갯수가 크지않고 충분히 프로그램을 돌리만 하기때문에 사용하는데 파이썬은 조합 라이브러리를 제공한다. from itertools import combinations  \n",
        "\n",
        "\n",
        "또한 절댓값은 abs() 메소드를 사용한다.\n"
      ],
      "metadata": {
        "id": "QeD9FbKEbCnT"
      }
    },
    {
      "cell_type": "code",
      "source": [
        "from itertools import combinations\n",
        "\n",
        "n,m = map(int,input().split())\n",
        "chicken ,house = [], []\n",
        "\n",
        "for r in range(n):\n",
        "  data = list(map(int,input().split()))\n",
        "  for c in range(n):\n",
        "    if data[c] == 1:\n",
        "      house.append((r,c)) # 일반집\n",
        "    elif data[c] == 2:\n",
        "      chicken.append((r,c)) # 치킨집의 행열 입력\n",
        "\n",
        "# 모든 치킨집 중에서 m개의 치킨집을 뽑는 조합 계산\n",
        "candidates = list(combinations(chicken,m))\n",
        "\n",
        "# 치킨 거리의 합을 계산하는 함수\n",
        "def get_sum(candidate):\n",
        "  result = 0\n",
        "  # 모든 집에 대하여 \n",
        "  for hx, hy in house:\n",
        "    # 가장 가까운 치킨집 찾기\n",
        "    temp = 1e9\n",
        "    for cx,cy in candidate:\n",
        "      temp = min(temp,abs(hx-cx)+abs(hy-cy))\n",
        "    # 가장 가까운 치킨집까지의 거리 더하기 // 위에서 지금 계속 비교를 하면서 한집당 가장 가까운 거리를 구하고 있음\n",
        "    result += temp \n",
        "  # 치킨 거리의 합 반환\n",
        "  return result\n",
        "\n",
        "# 치킨 거리의 합의 최소 찾아 출력\n",
        "result = 1e9 # 처음에는 최대값으로 넣어줘야함\n",
        "for candidate in candidates:\n",
        "  result = min(result,get_sum(candidate))\n",
        "\n",
        "print(result)"
      ],
      "metadata": {
        "id": "L-YKPyaCbG3O"
      },
      "execution_count": null,
      "outputs": []
    }
  ]
}