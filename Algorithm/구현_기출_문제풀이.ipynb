{
  "nbformat": 4,
  "nbformat_minor": 0,
  "metadata": {
    "colab": {
      "name": "구현 기출 문제풀이.ipynb",
      "provenance": [],
      "collapsed_sections": [],
      "authorship_tag": "ABX9TyOLY/IHC4ORMirw4eQB9Ev6",
      "include_colab_link": true
    },
    "kernelspec": {
      "name": "python3",
      "display_name": "Python 3"
    },
    "language_info": {
      "name": "python"
    }
  },
  "cells": [
    {
      "cell_type": "markdown",
      "metadata": {
        "id": "view-in-github",
        "colab_type": "text"
      },
      "source": [
        "<a href=\"https://colab.research.google.com/github/shinb-bong/TIL/blob/main/%EA%B5%AC%ED%98%84_%EA%B8%B0%EC%B6%9C_%EB%AC%B8%EC%A0%9C%ED%92%80%EC%9D%B4.ipynb\" target=\"_parent\"><img src=\"https://colab.research.google.com/assets/colab-badge.svg\" alt=\"Open In Colab\"/></a>"
      ]
    },
    {
      "cell_type": "markdown",
      "source": [
        "럭키 스트레이트\n",
        "---\n",
        "\n",
        "풀이: 배열로 나눠줘서 완전탐색 진행했다."
      ],
      "metadata": {
        "id": "OBFphZL57tQ3"
      }
    },
    {
      "cell_type": "code",
      "execution_count": 2,
      "metadata": {
        "colab": {
          "base_uri": "https://localhost:8080/"
        },
        "id": "uPKPdYhX7mU4",
        "outputId": "c32c96be-a0e2-46bf-c53e-f8b366fb33bb"
      },
      "outputs": [
        {
          "output_type": "stream",
          "name": "stdout",
          "text": [
            "123402\n",
            "LUCKY\n"
          ]
        }
      ],
      "source": [
        "n = list(map(int,input()))\n",
        "\n",
        "sum = 0\n",
        "\n",
        "for i in range(len(n)//2):\n",
        "  sum += n[i]\n",
        "\n",
        "for i in range(len(n)//2,len(n)):\n",
        "  sum -=n[i]\n",
        "\n",
        "\n",
        "if sum == 0 :\n",
        "  print(\"LUCKY\")\n",
        "else:\n",
        "  print(\"READY\")\n"
      ]
    },
    {
      "cell_type": "markdown",
      "source": [
        "문자열 재정렬\n",
        "---\n",
        "\n",
        ".isalpha() --> 알파벳인가 아닌가에 대한 내장함수\n",
        ".sort() --> 알파벳에 대해서도 가능"
      ],
      "metadata": {
        "id": "pDi5QdpT8zjP"
      }
    },
    {
      "cell_type": "code",
      "source": [
        "n = input()\n",
        "\n",
        "result = []\n",
        "sum = 0\n",
        "\n",
        "for i in n :\n",
        "  if i.isalpha():\n",
        "    result.append(i)\n",
        "  else:\n",
        "    sum += int(i)\n",
        "\n",
        "result.sort()\n",
        "result.append(str(sum))\n",
        "\n",
        "for i in result:\n",
        "  print(i,end='')\n",
        "  \n"
      ],
      "metadata": {
        "colab": {
          "base_uri": "https://localhost:8080/"
        },
        "id": "Mqnljj638936",
        "outputId": "31499527-a259-43ec-e144-831a09b35108"
      },
      "execution_count": 4,
      "outputs": [
        {
          "output_type": "stream",
          "name": "stdout",
          "text": [
            "K1KA5CB7\n",
            "ABCKK13"
          ]
        }
      ]
    },
    {
      "cell_type": "markdown",
      "source": [
        "문자열 압축\n",
        "---\n",
        "\n",
        "일단 갯수가 적으므로 완전 탐색이 가능할듯\n",
        "\n",
        "감이 안잡혀서 틀림\n",
        "\n",
        "https://programmers.co.kr/learn/courses/30/lessons/60057\n",
        "\n",
        "또한 한줄에 if else 문을 적어서 보기 좋게 만드는 방식도 배워야 한다."
      ],
      "metadata": {
        "id": "YkJUmqpL-a9y"
      }
    },
    {
      "cell_type": "code",
      "source": [
        "def solution(s):\n",
        "    answer = len(s)\n",
        "    \n",
        "    # 스텝 처음부터 끝까지 해야하니깐 다 나뉘었을때부터 반으로 나눴을 경우까지 하나씩 완전탐색\n",
        "    for step in range(1,len(s)//2+1):\n",
        "        compressed = \"\"\n",
        "        prev = s[0:step] #앞에서 step만큼 추출\n",
        "        count = 1\n",
        "        # 단위 step 만큼 증가 시키면서 이전 문자열과 비교\n",
        "        for j in range(step,len(s),step):\n",
        "            # 이전 상태와 동일하다면(count 증가)\n",
        "            if prev == s[j:j+step]:\n",
        "                count +=1\n",
        "            \n",
        "        # 더이상 압축 불가능 하다면     \n",
        "            else:\n",
        "            # 한번이라도 압축되었으면 압축된것을 적어준다.\n",
        "                compressed += str(count)+prev if count >=2 else prev\n",
        "                # 다시 다음단계 실행\n",
        "                prev = s[j:j+step]\n",
        "                count = 1\n",
        "        # 남아있는 문자열 처리\n",
        "        compressed += str(count)+prev if count >=2 else prev\n",
        "        answer = min(answer,len(compressed))\n",
        "        \n",
        "\n",
        "    \n",
        "    return answer"
      ],
      "metadata": {
        "id": "TmKL4NFm_w2L"
      },
      "execution_count": null,
      "outputs": []
    }
  ]
}