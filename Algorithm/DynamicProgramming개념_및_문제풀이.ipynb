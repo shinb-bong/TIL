{
  "nbformat": 4,
  "nbformat_minor": 0,
  "metadata": {
    "colab": {
      "name": "DynamicProgramming개념 및 문제풀이.ipynb",
      "provenance": [],
      "collapsed_sections": [],
      "authorship_tag": "ABX9TyNu4gYohymtZzZNW5jE8iBf",
      "include_colab_link": true
    },
    "kernelspec": {
      "name": "python3",
      "display_name": "Python 3"
    },
    "language_info": {
      "name": "python"
    }
  },
  "cells": [
    {
      "cell_type": "markdown",
      "metadata": {
        "id": "view-in-github",
        "colab_type": "text"
      },
      "source": [
        "<a href=\"https://colab.research.google.com/github/shinb-bong/TIL/blob/main/DynamicProgramming%EA%B0%9C%EB%85%90_%EB%B0%8F_%EB%AC%B8%EC%A0%9C%ED%92%80%EC%9D%B4.ipynb\" target=\"_parent\"><img src=\"https://colab.research.google.com/assets/colab-badge.svg\" alt=\"Open In Colab\"/></a>"
      ]
    },
    {
      "cell_type": "markdown",
      "source": [
        "다이나믹 프로그래밍\n",
        "---\n",
        "\n",
        "1. 큰문제를 작은 문제로 나눌 수 있다. 탑다운 하향식\n",
        "2. 작은 문제에서 구한 정답은 그것을 포함하는 큰문제에서도 동일하다. 보텁업 상향식, 전형적 형태\n",
        "  \n",
        "  -> DP테이블 사용하는 경우\n",
        "\n",
        "\n",
        "메모이제이션\n",
        "\n",
        "한번 구한 결과를 공간에 메모해 두고 같은 식을 다시 호출하면 결과를 그대로 가져오는 것\n",
        "\n",
        "아래 피보나치 예제 코드는 시간복잡도가 O(N)이다."
      ],
      "metadata": {
        "id": "Mm_HiIJeH1if"
      }
    },
    {
      "cell_type": "code",
      "execution_count": 1,
      "metadata": {
        "colab": {
          "base_uri": "https://localhost:8080/"
        },
        "id": "_cGaBzm2G7id",
        "outputId": "bc0967ee-0540-4dd3-c82f-31abad658e45"
      },
      "outputs": [
        {
          "output_type": "stream",
          "name": "stdout",
          "text": [
            "218922995834555169026\n"
          ]
        }
      ],
      "source": [
        "# 저장할 공간 초기화\n",
        "d = [0] *100\n",
        "\n",
        "def fibo(x):\n",
        "  if x ==1 or x ==2 :\n",
        "    return 1 \n",
        "  # 이미 계산한적있는 건 그대로 반환\n",
        "  if d[x] != 0:\n",
        "    return d[x]\n",
        "  # 아직 계산되지 않은 식 계산\n",
        "  d[x] = fibo(x-1)+ fibo(x-2)\n",
        "  return d[x]\n",
        "print(fibo(99))"
      ]
    },
    {
      "cell_type": "markdown",
      "source": [
        "분할 정복과 다이나믹 프로그래밍의 가장 큰 차이점은 다이나믹 프로그래밍은 문제들이 서로 영향을 미치고 있다는 점이다.\n",
        "\n",
        "문제를 푸는법\n",
        "\n",
        "1. 주어진 문제가 다이나믹 프로그래밍 유형인가? 부분 중복 여부 확인\n",
        "2. 재귀로한뒤 메모이제이션 가능하면 변형하는 것이 좋음\n",
        "3. 왠만하면 보텀업 사용하셈:"
      ],
      "metadata": {
        "id": "dD1hUim3IyNW"
      }
    },
    {
      "cell_type": "markdown",
      "source": [
        "문제\n",
        "---\n",
        "\n",
        "1로 만들기\n",
        "1빼기랑 나머지랑 비교해서 더 좋은 방안을 고른다"
      ],
      "metadata": {
        "id": "ZCBupg7RKrL5"
      }
    },
    {
      "cell_type": "code",
      "source": [
        "n = int(input())\n",
        "\n",
        "# dp 테이블 초기화 바텀업 진행\n",
        "dp = [0] * 30001\n",
        "\n",
        "# 1은 안하니깐 패쓰하고 해당 숫자까지\n",
        "for i in range(2,n+1):\n",
        "  # 현재 수에서 1빼기\n",
        "  dp[i] = dp[i-1]+1\n",
        "  # 2로 나누어 진다면? 두개비교\n",
        "  if i%2 ==0:\n",
        "    dp[i] = min(dp[i],dp[i//2]+1)\n",
        "  if i%3 ==0:\n",
        "    dp[i] = min(dp[i],dp[i//3]+1)  \n",
        "  if i%5 ==0:\n",
        "    dp[i] = min(dp[i],dp[i//5]+1) \n",
        "\n",
        "print(dp[n])"
      ],
      "metadata": {
        "colab": {
          "base_uri": "https://localhost:8080/"
        },
        "id": "KEhDDZo_K58v",
        "outputId": "7f80d8e5-d2e5-4c3f-9a76-9f26433593e0"
      },
      "execution_count": 8,
      "outputs": [
        {
          "output_type": "stream",
          "name": "stdout",
          "text": [
            "26\n",
            "3\n"
          ]
        }
      ]
    },
    {
      "cell_type": "markdown",
      "source": [
        "개미전사\n",
        "\n",
        "점화식을 구해서 풀었음."
      ],
      "metadata": {
        "id": "1bFiUO_ENGWw"
      }
    },
    {
      "cell_type": "code",
      "source": [
        "n = int(input())\n",
        "\n",
        "arr = list(map(int,input().split()))\n",
        "dp = [0] * 100\n",
        "\n",
        "dp[0]= arr[0]\n",
        "dp[1] = max(arr[0],arr[1])\n",
        "for i in range(2,n):\n",
        "  dp[i]= max(dp[i-1],dp[i-2]+arr[i])\n",
        "print(dp[n-1])"
      ],
      "metadata": {
        "colab": {
          "base_uri": "https://localhost:8080/"
        },
        "id": "te2qg2_dNMKj",
        "outputId": "9e673bc0-db4c-45c6-871d-75fe44f258e2"
      },
      "execution_count": 11,
      "outputs": [
        {
          "output_type": "stream",
          "name": "stdout",
          "text": [
            "4\n",
            "1 3 1 5\n",
            "8\n"
          ]
        }
      ]
    },
    {
      "cell_type": "markdown",
      "source": [
        "효율적 화폐 구성\n",
        "\n",
        "그리디는 후보가 배수였지만 여기는 배수가 아님\n",
        "\n",
        "풀이: dp테이블을 최대 횟수로 초기화 시킨뒤 하나씩 갱신해 간다\n",
        "ex) 2 는 2원 하나로 만들수있고 4 는 2원만든거에 2원 추가"
      ],
      "metadata": {
        "id": "YrUOZD1KOtv-"
      }
    },
    {
      "cell_type": "code",
      "source": [
        "n, k = map(int,input().split())\n",
        "\n",
        "dp =[10001]* (k+1)\n",
        "\n",
        "arr = []\n",
        "for i in range(n):\n",
        "  arr.append(int(input()))\n",
        "\n",
        "dp[0] = 0\n",
        "for i in range(n):\n",
        "  # 갱신 더이상 불가한것 이후로 다시 갱신\n",
        "  for j in range(arr[i],k+1):\n",
        "    if dp[j-arr[i]] != 10001: # (i-k) 만드는 법이 존재할 경우이다.\n",
        "      dp[j] = min(dp[j],dp[j-arr[i]]+1) \n",
        "\n",
        "if dp[k] == 10001:\n",
        "  print(-1)\n",
        "else:\n",
        "  print(dp[k])"
      ],
      "metadata": {
        "colab": {
          "base_uri": "https://localhost:8080/"
        },
        "id": "dJim71zQP_DI",
        "outputId": "08ec3d73-3f6e-4ea9-e171-b436d7d0b2cd"
      },
      "execution_count": 13,
      "outputs": [
        {
          "output_type": "stream",
          "name": "stdout",
          "text": [
            "2 15\n",
            "2\n",
            "3\n",
            "5\n"
          ]
        }
      ]
    }
  ]
}