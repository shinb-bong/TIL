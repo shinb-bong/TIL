{
  "nbformat": 4,
  "nbformat_minor": 0,
  "metadata": {
    "colab": {
      "name": "다이나믹 프로그래밍 기출 문제 풀이.ipynb",
      "provenance": [],
      "collapsed_sections": [],
      "authorship_tag": "ABX9TyPS9gZRIxbuig5OfoBRBq5W",
      "include_colab_link": true
    },
    "kernelspec": {
      "name": "python3",
      "display_name": "Python 3"
    },
    "language_info": {
      "name": "python"
    }
  },
  "cells": [
    {
      "cell_type": "markdown",
      "metadata": {
        "id": "view-in-github",
        "colab_type": "text"
      },
      "source": [
        "<a href=\"https://colab.research.google.com/github/shinb-bong/TIL/blob/main/%EB%8B%A4%EC%9D%B4%EB%82%98%EB%AF%B9_%ED%94%84%EB%A1%9C%EA%B7%B8%EB%9E%98%EB%B0%8D_%EA%B8%B0%EC%B6%9C_%EB%AC%B8%EC%A0%9C_%ED%92%80%EC%9D%B4.ipynb\" target=\"_parent\"><img src=\"https://colab.research.google.com/assets/colab-badge.svg\" alt=\"Open In Colab\"/></a>"
      ]
    },
    {
      "cell_type": "markdown",
      "source": [
        "금광\n",
        "----\n",
        "\n",
        "풀이: 점화식을 유추했다. 각 오는 방향에서 dp테이블에 저장되어있는 가장 큰 값과 현재값을 더하면서 비교하였다. "
      ],
      "metadata": {
        "id": "3c_wVHiX7_0E"
      }
    },
    {
      "cell_type": "code",
      "execution_count": null,
      "metadata": {
        "colab": {
          "base_uri": "https://localhost:8080/"
        },
        "id": "nOm6VjTDLNVF",
        "outputId": "21f5a727-4967-476f-efe5-10968106bac4"
      },
      "outputs": [
        {
          "output_type": "stream",
          "name": "stdout",
          "text": [
            "2\n",
            "3 4\n",
            "1 3 3 2 2 1 4 1 0 6 4 7\n",
            "19\n"
          ]
        }
      ],
      "source": [
        "t = int(input())\n",
        "\n",
        "n,m = map(int,input().split())\n",
        "arr = list(map(int,input().split()))\n",
        "\n",
        "dp = []\n",
        "index = 0\n",
        "\n",
        "# 이차원 리스트 만들기\n",
        "for i in range(n):\n",
        "  dp.append(arr[index: index+m])\n",
        "  index += m\n",
        "\n",
        "# 다이나믹 진행 (왼쪽에서 오른쪽으로 오니깐 m 부터 범위)\n",
        "for j in range(1,m):\n",
        "  for i in range(n):\n",
        "\n",
        "    # 왼쪽 위에서 오는경우\n",
        "    # 만약 맨위 칸이면 올 수가 없으니깐\n",
        "    if i == 0:\n",
        "      left_up = 0\n",
        "    else:\n",
        "      left_up = dp[i-1][j-1]\n",
        "    \n",
        "    # 왼쪽아래서 오는경우\n",
        "    # 맨 아래칸이면 아래서 올 수 가 없으니깐\n",
        "    if i == n-1:\n",
        "      left_down =0\n",
        "    else: \n",
        "      left_down = dp[i+1][j-1]\n",
        "    \n",
        "    left = dp[i][j-1]\n",
        "\n",
        "    # 점화식 사용 + dp 테이블 갱신\n",
        "    dp[i][j] = dp[i][j] + max(left,left_up,left_down)\n",
        "\n",
        "result = 0\n",
        "for i in range(n):\n",
        "  result = max(result,dp[i][m-1])\n",
        "\n",
        "print(result)\n"
      ]
    },
    {
      "cell_type": "markdown",
      "source": [
        "정수 삼각형\n",
        "---\n",
        "풀이: 위와 비슷한 형태로 조금만 더 생각하는 문제였다. 점화식을 떠올리는 과정이 비슷했으나 삼각형이기에 구현 방법이 i,j 를 변칙적으로 사용해야했다. 그리고 마지막에 max를 통해서 마지막줄의 최댓값을 뽑아냈다.\n"
      ],
      "metadata": {
        "id": "g_Mt7PdW7_Kw"
      }
    },
    {
      "cell_type": "code",
      "source": [
        "n = int(input())\n",
        "\n",
        "dp =[]\n",
        "\n",
        "for i in range(n):\n",
        "  dp.append(list(map(int,input().split() )))\n",
        "\n",
        "for i in range(1,n):\n",
        "  for j in range(i):\n",
        "  # 왼쪽 위에서 올경우\n",
        "    if j== 0:\n",
        "      left_up = 0\n",
        "    else:\n",
        "      left_up=dp[i-1][j-1]\n",
        "    # 오른쪽 위에서 올경우\n",
        "\n",
        "    if j==i :\n",
        "      right_down = 0\n",
        "    else:\n",
        "      right_down = dp[i-1][j]\n",
        "\n",
        "    dp[i][j] = dp[i][j] + max(left_up,right_down)\n",
        "\n",
        "print(max(dp[n-1]))"
      ],
      "metadata": {
        "colab": {
          "base_uri": "https://localhost:8080/"
        },
        "id": "5W_4h_Gk8POl",
        "outputId": "a3b3d69c-d561-4469-d369-578813716ee8"
      },
      "execution_count": 6,
      "outputs": [
        {
          "output_type": "stream",
          "name": "stdout",
          "text": [
            "5\n",
            "7\n",
            "3 8\n",
            "8 1 0\n",
            "2 7 4 4 \n",
            "4 5 2 6 5\n",
            "30\n"
          ]
        }
      ]
    },
    {
      "cell_type": "markdown",
      "source": [
        "퇴사 \n",
        "---\n",
        "\n",
        "점화식:  dp[i] = max(p[i] + dp[t[i]+i],max_value)\n",
        "max_value = 뒤에서부터 계산된 현재까지의 최대 상담 금액\n",
        "\n",
        "\n",
        "조금 난이도가 있었던 것같다. 틀린 이유는 뒤에서 부터 계산해야 한다는 점은 생각해 냈지만 저 max안에 있는 식을 생각까지만하고 구현하는 방법이 떠오르질 않았다. "
      ],
      "metadata": {
        "id": "PeqTWzYNBlWW"
      }
    },
    {
      "cell_type": "code",
      "source": [
        "n = int(input())\n",
        "\n",
        "# DP테이블 생성\n",
        "dp = [0] * (n+1)\n",
        "max_value = 0 # 뒤에서부터 계산된 현재까지의 최대 상담 금액\n",
        "\n",
        "# 각 상담을 완료하는 데 걸리는 시간\n",
        "t = []\n",
        "\n",
        "# 각 상담을 완료하는 데 받을수 있는 금액\n",
        "cost = []\n",
        "\n",
        "# 받아오기\n",
        "for i in range(n):\n",
        "  k,c = map(int,input().split())\n",
        "  t.append(k)\n",
        "  cost.append(c)\n",
        "\n",
        "# 리스트를 뒤에서 부터 확인하기\n",
        "for i in range(n-1,-1,-1):\n",
        "  time = t[i] + i\n",
        "  # 상담이 기간 안에 끝나는 경우\n",
        "  if time <= n:\n",
        "    # 점화식에 맞게, 현재까지의 최고 이익 계산\n",
        "    dp[i] = max( cost[i]+ dp[t] ,max_value)\n",
        "    max_value = dp[i]\n",
        "  \n",
        "  # 상담이 기간을 벗어나는 경우\n",
        "  else: \n",
        "    dp[i] = max_value\n",
        "\n",
        "print(max_value)"
      ],
      "metadata": {
        "id": "E2WOaOGvCH78"
      },
      "execution_count": null,
      "outputs": []
    },
    {
      "cell_type": "markdown",
      "source": [
        "병사 배치하기\n",
        "---\n",
        "\n",
        "증가하는 긴 수열 문제 LIS\n",
        "\n",
        "D[i] = array[i]를 마지막 원소로 가지는 부분 수열의 최대 길이\n",
        "\n",
        "+ 모든  0<= j <i 에 대하여 D[i] = max(D[i],D[j]+1) if array[j] < array[i]\n",
        "\n",
        ">> 반복해서 봐가면서 앞쪽보다 뒤쪽이 큰 사안에 대하여 처리하는 방법이다.\n",
        "\n",
        "점화식: 위를 거꾸로 진행"
      ],
      "metadata": {
        "id": "eVFu0LyMI-gN"
      }
    },
    {
      "cell_type": "code",
      "source": [
        "n = int(input())\n",
        "\n",
        "p = list(map(int,input().split()))\n",
        "# dp 테이블 초기화\n",
        "dp = [1] *n\n",
        "\n",
        "# 감소하는 수열이니깐 LIS를 거꾸로 진행\n",
        "p.reverse()\n",
        "\n",
        "for i in range(1,n):\n",
        "  for j in range(0,i):\n",
        "    # 증가하는 긴 수열 진행\n",
        "    if p[j]<p[i]:\n",
        "      dp[i] = max(dp[i],dp[j]+1)\n",
        "\n",
        "# 열외 시캬애하는 병사\n",
        "print(n-max(dp))"
      ],
      "metadata": {
        "colab": {
          "base_uri": "https://localhost:8080/"
        },
        "id": "93cKXp-zJIH1",
        "outputId": "d65fdbbf-5445-42f8-a359-58c266e7b73e"
      },
      "execution_count": 9,
      "outputs": [
        {
          "output_type": "stream",
          "name": "stdout",
          "text": [
            "7\n",
            "15 11 4 8 5 2 4\n",
            "2\n"
          ]
        }
      ]
    },
    {
      "cell_type": "markdown",
      "source": [
        "못생긴수\n",
        "---\n",
        "\n",
        "못생긴 수들의 2,3,5의 배수를 구하는데 1은 명시대로 못생긴수로 처리하고 min으로 비교하여 하나씩 검사해보며 처리한다."
      ],
      "metadata": {
        "id": "YCb4ClwlNNre"
      }
    },
    {
      "cell_type": "code",
      "source": [
        "n = int(input())\n",
        "\n",
        "dp = [0]* n\n",
        "dp[0] = 1\n",
        "\n",
        "# 2배 3배 5배를 위한 인덱스\n",
        "i2 = i3 =i5 =0\n",
        "\n",
        "# 처음 곱셈값을 초기화\n",
        "next2 , next3 , next5 = 2,3,5\n",
        "\n",
        "# 1부터 n까지의 못생긴 수 를 찾기\n",
        "for l in range(1,n):\n",
        "  # 가능한 곱셈중 가장 작은수 찾기\n",
        "  dp[l] = min(next2,next3,next5)\n",
        "  # 인덱스에 따라서 곱셈 증가\n",
        "  if dp[l] == next2:\n",
        "    i2 += 1\n",
        "    next2 = dp[i2] *2\n",
        "  if dp[l] == next3:\n",
        "    i3 += 1\n",
        "    next3 = dp[i3] *3\n",
        "  if dp[l] == next5:\n",
        "    i5 += 1\n",
        "    next5 = dp[i5] *5\n",
        "\n",
        "print(dp[n-1])\n",
        "  "
      ],
      "metadata": {
        "colab": {
          "base_uri": "https://localhost:8080/"
        },
        "id": "-yXHSCf9NQDJ",
        "outputId": "c65cbc27-f2d3-43d0-ca37-dd382acef9fc"
      },
      "execution_count": 25,
      "outputs": [
        {
          "output_type": "stream",
          "name": "stdout",
          "text": [
            "10\n",
            "12\n"
          ]
        }
      ]
    },
    {
      "cell_type": "markdown",
      "source": [
        "편집거리\n",
        "---\n",
        "\n",
        "점화식: 만약 둘이 같다면 그대로 사용 \n",
        "아니라면 1+ 삭제 삽입 교체 중하나 사용인데 그중 최소값 이용\n",
        "\n"
      ],
      "metadata": {
        "id": "COgG7MrKRYIR"
      }
    },
    {
      "cell_type": "code",
      "source": [
        "def edit_dist(str1,str2):\n",
        "  n = len(str1)\n",
        "  m = len(str2)\n",
        "\n",
        "  # 다이나믹 테이블 2차원 초기화\n",
        "  dp = [[0]*(m+1) for _ in range(n+1)]\n",
        "\n",
        "  # DP 초기 설정\n",
        "  for i in range(1,n+1):\n",
        "    dp[i][0] = i\n",
        "  for j in range(1,m+1):\n",
        "    dp[0][j] = j\n",
        "\n",
        "  \n",
        "  # 최소 편집 거리 계산\n",
        "  for i in range(1,n+1):\n",
        "    for j in range(1,m+1):\n",
        "\n",
        "      # 같다면?\n",
        "      if str1[i-1] ==  str2[j-1]:\n",
        "        dp[i][j] = dp[i-1][j-1]\n",
        "      # 다르다면?\n",
        "      else:\n",
        "        dp[i][j] = 1+ min(dp[i][j-1],dp[i-1][j],dp[i-1][j-1])\n",
        "  return dp[n][m]\n",
        "\n",
        "\n",
        "str1 =input()\n",
        "str2 = input()\n",
        "\n",
        "print(edit_dist(str1,str2))"
      ],
      "metadata": {
        "colab": {
          "base_uri": "https://localhost:8080/"
        },
        "id": "kBcvK0zJVq9F",
        "outputId": "f42ad31c-31a4-4043-a100-0b0b72961aa6"
      },
      "execution_count": 26,
      "outputs": [
        {
          "output_type": "stream",
          "name": "stdout",
          "text": [
            "cat\n",
            "cot\n",
            "1\n"
          ]
        }
      ]
    }
  ]
}