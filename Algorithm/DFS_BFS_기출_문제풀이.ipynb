{
  "nbformat": 4,
  "nbformat_minor": 0,
  "metadata": {
    "colab": {
      "name": "DFS/BFS 기출 문제풀이.ipynb",
      "provenance": [],
      "collapsed_sections": [],
      "authorship_tag": "ABX9TyNxYX33PsgSEozdUnI0mMbY",
      "include_colab_link": true
    },
    "kernelspec": {
      "name": "python3",
      "display_name": "Python 3"
    },
    "language_info": {
      "name": "python"
    }
  },
  "cells": [
    {
      "cell_type": "markdown",
      "metadata": {
        "id": "view-in-github",
        "colab_type": "text"
      },
      "source": [
        "<a href=\"https://colab.research.google.com/github/shinb-bong/TIL/blob/main/DFS_BFS_%EA%B8%B0%EC%B6%9C_%EB%AC%B8%EC%A0%9C%ED%92%80%EC%9D%B4.ipynb\" target=\"_parent\"><img src=\"https://colab.research.google.com/assets/colab-badge.svg\" alt=\"Open In Colab\"/></a>"
      ]
    },
    {
      "cell_type": "markdown",
      "source": [
        "특정 거리의 도시 찾기\n",
        "----\n",
        "\n",
        "풀이: N,M의 주어진 수가 매우 크기 때문에 완전 탐색은 별로인것 같다. 또한 *** 모든 간선의 길이가 1이라는 점** 에서 BFS 진행"
      ],
      "metadata": {
        "id": "IMM3Mg-8TPPs"
      }
    },
    {
      "cell_type": "code",
      "execution_count": null,
      "metadata": {
        "colab": {
          "base_uri": "https://localhost:8080/"
        },
        "id": "Ww6JtnNsSUAz",
        "outputId": "188d5c47-475c-4e6b-b51f-bb2c220a7e7f"
      },
      "outputs": [
        {
          "output_type": "stream",
          "name": "stdout",
          "text": [
            "4 4 2 1\n",
            "1 2\n",
            "1 3\n",
            "2 3\n",
            "2 4\n",
            "4\n"
          ]
        }
      ],
      "source": [
        "from collections import deque\n",
        "\n",
        "n,m,k,x = map(int,input().split())\n",
        "\n",
        "result =  [[0] for _ in range(n+1)]\n",
        "for i in range(m):\n",
        "  a,b = map(int,input().split())\n",
        "  result[a].append(b)\n",
        "\n",
        "distance = [-1]*(n+1) # 모든 최단 거리 테이블 초기화\n",
        "distance[x] = 0 # 처음 출발하는 자기 자신은 0이라고 했으니\n",
        "\n",
        "q = deque([x])\n",
        "\n",
        "while q:\n",
        "  now = q.popleft()\n",
        "  # 현재 도시에서 이동 할 수 있는 모든 도시 확인\n",
        "  for next in result[now]:\n",
        "    if distance[next] == -1: # 아직 방문 되지 않은거라면\n",
        "      distance[next] = distance[now]+1\n",
        "      q.append(next)\n",
        "\n",
        "check = False\n",
        "for i in range(1,n+1):\n",
        "  if distance[i] == k:\n",
        "    print(i)\n",
        "    check = True\n",
        "\n",
        "if check == False:\n",
        "  print(\"-1\")\n",
        "\n",
        "\n",
        "\n",
        "\n",
        "\n"
      ]
    },
    {
      "cell_type": "markdown",
      "source": [
        "연구소 \n",
        "---\n",
        "\n",
        "풀이: 어디든 놓는걸 계산했을때 최대 64C3 인데 엄청 작은 수니깐 하나씩 DFS/BFS 확인해가면서 벽 세울 곳을 계산해도 괜찮다\n",
        "\n",
        "이 문제는 완전탐색을 진행하면서 DFS/BFS 를 진행하는 문제라는데 두가지 방법 다 공부해보려고한다.\n",
        "\n",
        "또한 이렇게 \"바이러스가 사방으로 나간다\" 처럼 주체가 방향성을 띄고있을때는 **동서남북 방향 벡터**를 사용해서 접근하는 것이 좋을 것 같다.\n",
        "\n",
        "BFS 참고: https://hongcoding.tistory.com/m/130"
      ],
      "metadata": {
        "id": "kdvtBSZCbQkn"
      }
    },
    {
      "cell_type": "code",
      "source": [
        "#BFS\n",
        "from collections import deque\n",
        "import copy\n",
        "\n",
        "# 바이러스가 있는 자리 확인하는것 \n",
        "def bfs():\n",
        "  queue = deque()\n",
        "  tmp = copy.deepcopy(graph)\n",
        "\n",
        "  # 바이러스를 하나씩 확인하여 있는 자리 파악\n",
        "  for i in range(n):\n",
        "    for j in range(m):\n",
        "      if tmp[i][j] == 2:\n",
        "        queue.append((i,j))\n",
        "\n",
        "  # 바이러스 확산 계산하는거 \n",
        "  while queue:\n",
        "    x,y =queue.popleft()\n",
        "    for i in range(4):\n",
        "      nx = x + dx[i]\n",
        "      ny = y + dy[i]\n",
        "\n",
        "      if nx<0 or nx>=n or ny <0 or ny >=m:\n",
        "        continue\n",
        "      if tmp[nx][ny] == 0:\n",
        "        tmp[nx][ny] = 2\n",
        "        queue.append((nx,ny))\n",
        "\n",
        "    global answer \n",
        "    cnt = 0\n",
        "\n",
        "    for i in range(n):\n",
        "      cnt += tmp[i].count(0)\n",
        "    \n",
        "    answer = max(answer,cnt)\n",
        "\n",
        "def makeWall(cnt):\n",
        "    if cnt == 3:\n",
        "        bfs()\n",
        "        return\n",
        "\n",
        "# 벽을 하나씩 다 넣어 보면서 확인하는 것 \n",
        "    for i in range(n):\n",
        "        for j in range(m):\n",
        "            if graph[i][j] == 0:\n",
        "                graph[i][j] = 1\n",
        "                makeWall(cnt+1)\n",
        "                graph[i][j] = 0\n",
        "\n",
        "n, m = map(int, input().split())\n",
        "graph = []\n",
        "dx = [0, 0, 1, -1]\n",
        "dy = [1, -1, 0, 0]\n",
        "\n",
        "for i in range(n):\n",
        "    graph.append(list(map(int, input().split())))\n",
        "\n",
        "answer = 0\n",
        "makeWall(0)\n",
        "print(answer)"
      ],
      "metadata": {
        "id": "hrGlfz9VbTGJ"
      },
      "execution_count": null,
      "outputs": []
    },
    {
      "cell_type": "markdown",
      "source": [
        "결국 두 방법다 마지막에 바이러스 접근 방식이 다른것 뿐이지 핵심은 두 방법다 조합을 하였을때 최대 발생 할 수 있는 연산 수가 작기때문에 일일히 다 한번씩 세워보고 계산하고 아니면 다시 다음걸로 넘어가고 하는 모든 완전 탐색이 가능하다는 점이였다."
      ],
      "metadata": {
        "id": "FFDIv1xHpw10"
      }
    },
    {
      "cell_type": "code",
      "source": [
        "# DFS 사용\n",
        "# DFS는 재귀적함수를 자주 이용한다.\n",
        "\n",
        "n, m = map(int, input().split())\n",
        "data = [] # 초기 맵\n",
        "\n",
        "# 사방 이동 방향 벡터\n",
        "dx = [0, 0, 1, -1]\n",
        "dy = [1, -1, 0, 0]\n",
        "temp = [[0]*m for _ in range(n)] # 벽 세운뒤 맵\n",
        "\n",
        "for i in range(n):\n",
        "    data.append(list(map(int, input().split())))\n",
        "\n",
        "\n",
        "result = 0 \n",
        "\n",
        "# DFS로 각 바이러스가 사방으로 퍼지게만들기\n",
        "def virus(x,y):\n",
        "  for i in range(4):\n",
        "    nx = x+ dx[i]\n",
        "    ny = y+ dy[i]\n",
        "\n",
        "    # 상하좌우 중에서 바이러스가 퍼질수 있는 경우\n",
        "    if nx >= 0 and nx<n and ny>= 0 and ny <m:\n",
        "      if temp[nx][ny] == 0:\n",
        "        # 해당 위치에 바이러스 배치, 재귀\n",
        "        temp[nx][ny] == 2\n",
        "        virus(nx,ny)\n",
        "\n",
        "def safe():\n",
        "  score  =0\n",
        "  for i in range(n):\n",
        "    for j in range(m):\n",
        "      if temp[i][j] == 0:\n",
        "        score += 1\n",
        "  return score\n",
        "\n",
        "\n",
        "def dfs(cnt):\n",
        "  global result\n",
        "  # 울타리가 3개 설치 된경우\n",
        "  if cnt == 3:\n",
        "    for i in range(n):\n",
        "      for j in range(m):\n",
        "        # 벽 세워진 그래프로 복사(위는 deepcopy를 사용)\n",
        "        temp[i][j] =data[i][j]\n",
        "    # 각자리에서 전파 시작\n",
        "    for i in range(n):\n",
        "      for j in range(m):\n",
        "        if temp[i][j] == 2:\n",
        "          virus(i,j)\n",
        "    # 안전 구역 최대값 구함\n",
        "    result = max(result,safe())\n",
        "    return \n",
        "\n",
        "  for i in range(n):\n",
        "    for j in range(m):\n",
        "      if data[i][j] == 0:\n",
        "        # 하나씩 설치해보고 풀었다가 하면서 최대값 찾기\n",
        "        data[i][j] = 1\n",
        "        cnt += 1\n",
        "        dfs(cnt)\n",
        "        data[i][j] = 0\n",
        "        cnt -= 1\n",
        "# 0개로 시작\n",
        "dfs(0)\n",
        "\n",
        "print(result)"
      ],
      "metadata": {
        "id": "ylHM6o2CiWc6"
      },
      "execution_count": null,
      "outputs": []
    },
    {
      "cell_type": "markdown",
      "source": [
        "경쟁적 전염 \n",
        "---\n",
        "\n",
        "망한 풀이:  아래는 망한 코드이다.\n",
        "+ 방향 벡터로 접근을 하여 만약 비어있거나 해당 칸이 현재 수보다 클 경우를 덮어쓰기를 하려했지만 아마 시간 복잡도도 너무 크고 실행을 했을때 올바른 답이 안나오는 걸로 보아 오류가 있는듯하다.\n",
        "\n",
        "정확한 풀이: \"낮은 번호\"부터라는 점을 유의해서 보자. 낮은 번호라 함은 당연하게 큐를 떠올려야한다. BFS로 접근하는것이 좋을 것 같다."
      ],
      "metadata": {
        "id": "EDrHsfhljX24"
      }
    },
    {
      "cell_type": "code",
      "source": [
        "# 망한 풀이\n",
        "n,m = map(int,input().split())\n",
        "\n",
        "graph = []\n",
        "\n",
        "for i in range(n):\n",
        "  graph.append(list(map(int,input().split())))\n",
        "\n",
        "s,x,y = map(int,input().split())\n",
        "\n",
        "# 상하 좌우 방향 벡터 설정 (동,서,남,북)\n",
        "dx = [0,0,-1,1]\n",
        "dy = [1,-1,0,0]\n",
        "\n",
        "def dfs(graph):\n",
        "  for i in range(n):\n",
        "    for j in range(n):\n",
        "      # 번호 확인\n",
        "      now = graph[i][j]\n",
        "      # 상하좌우 이동\n",
        "      for k in range(4):\n",
        "        nx = dx[k] + x\n",
        "        ny = dx[k] + y\n",
        "\n",
        "        if nx<0 or ny<0  or nx>=n or ny>= n:\n",
        "          continue\n",
        "\n",
        "        if graph[nx][ny] > now or graph[nx][ny] == 0 :\n",
        "          graph[nx][ny] = now\n",
        "        \n",
        "for i in range(s):\n",
        "  dfs(graph)\n",
        "\n",
        "print(graph[y-1][x-1])\n",
        "\n",
        "\n"
      ],
      "metadata": {
        "colab": {
          "base_uri": "https://localhost:8080/"
        },
        "id": "kmS1v_VSjc8-",
        "outputId": "4236ca96-7c36-4dcb-e7cd-8a3384f649b6"
      },
      "execution_count": 6,
      "outputs": [
        {
          "output_type": "stream",
          "name": "stdout",
          "text": [
            "3 3\n",
            "1 0 2\n",
            "0 0 0\n",
            "3 0 0\n",
            "2 3 2\n",
            "0\n"
          ]
        }
      ]
    },
    {
      "cell_type": "markdown",
      "source": [
        "+ 놓친 포인트: s를 계속 해서 저장할 필요가 없고 한번 전파된 바이러스는 큐에서 나가니 s 를 데이터에 같이 넣어서 확인을 해주는 테크닉을 사용했다."
      ],
      "metadata": {
        "id": "cGCK4sG7r9p_"
      }
    },
    {
      "cell_type": "code",
      "source": [
        "# 인접리스트 구현 방식 BFS\n",
        "from collections import deque\n",
        "\n",
        "n,k = map(int,input().split())\n",
        "\n",
        "graph = [] # 전체 보드 정보\n",
        "data = [] # 바이러스에 대한 정보를 담는 리스트\n",
        "\n",
        "# 위 두 리스트에 정보 입력 시작\n",
        "for i in range(n):\n",
        "  # 보드 정보를 한 줄 단위로 입력\n",
        "  graph.append(list(map(int,input().split())))\n",
        "\n",
        "  for j in range(n):\n",
        "    # 해당 위치에 바이러스 존재하는 경우\n",
        "    if graph[i][j] != 0:\n",
        "      # (바이러스 종류, 시간, 위치, X, Y) 삽입 , 우선 순위 큐를 사용할꺼니깐 종류를 맨 앞에서 위치\n",
        "      data.append((graph[i][j],0,i,j))\n",
        "\n",
        "# 정렬을 진행해서 큐로 옮김 (낮은것 부터 진행하는걸 구현)\n",
        "data.sort()\n",
        "\n",
        "# 우선 순위 큐\n",
        "q = deque(data)\n",
        "\n",
        "# 목표 받아오기\n",
        "t_s,t_x,t_y = map(int,input().split())\n",
        "\n",
        "# 상하 좌우 방향 벡터 설정 (동,서,남,북)\n",
        "dx = [0,0,-1,1]\n",
        "dy = [1,-1,0,0]\n",
        "\n",
        "# BFS\n",
        "\n",
        "while  q:\n",
        "  virus,s,x,y = q.popleft()\n",
        "\n",
        "  # 정확히 s가 지나거나 큐가 빌때까지 반복\n",
        "  if s == t_s:\n",
        "      break\n",
        "  for i in range(4):\n",
        "    nx = x+dx[i]\n",
        "    ny = y+dy[i]\n",
        "    # 해당 위치 이동가능\n",
        "    if 0<= nx and nx<n and 0<=ny and ny< n :\n",
        "      # 아직 방문하지 않은 노드라면?\n",
        "      if graph[nx][ny] == 0:\n",
        "        graph[nx][ny] = virus\n",
        "        # 증가된 시간 넣어주기\n",
        "        q.append((virus,s+1,nx,ny))\n",
        "\n",
        "print(graph[t_s-1][t_y-1])\n",
        "  "
      ],
      "metadata": {
        "id": "kJrGkiHHpGf1"
      },
      "execution_count": null,
      "outputs": []
    },
    {
      "cell_type": "markdown",
      "source": [
        "괄호 변환\n",
        "---\n",
        "\n",
        "풀이: 재귀함수 사용 및 문제 그대로 따라가면 되는 유형이였다. 근데 나는 처음에 고민을 많이해서 조금 시간이 더 걸린감이 있던것 같다"
      ],
      "metadata": {
        "id": "w4zBEuews8HQ"
      }
    },
    {
      "cell_type": "code",
      "source": [
        "# 계속 작게작게 짜르는 문제\n",
        "\n",
        "# 균형 잡힌 문자열 확인\n",
        "def balance(p):\n",
        "    cnt = 0 \n",
        "    for i in range(len(p)):\n",
        "        if p[i] == \"(\":\n",
        "            cnt += 1\n",
        "        else:\n",
        "            cnt -= 1\n",
        "        # 첫 균형 잡힌 인덱스 반환\n",
        "        if cnt == 0:\n",
        "            return i\n",
        "    \n",
        "\n",
        "# 올바른 문자열인지 확인하는 메소드\n",
        "def check(p):\n",
        "    cnt = 0 \n",
        "    for i in p:\n",
        "        if i == \"(\":\n",
        "            cnt +=1\n",
        "        else:\n",
        "            if cnt == 0:\n",
        "                return False\n",
        "            cnt -=1\n",
        "    return True # 쌍이 맞는경우\n",
        "\n",
        "def solution(p):\n",
        "    \n",
        "    answer = ''\n",
        "    if p == '':\n",
        "        return answer\n",
        "    # 첫 균형잡힌 리스트 분해\n",
        "    index = balance(p)\n",
        "    u = p[:index+1]\n",
        "    v = p[index+1:]\n",
        "    \n",
        "    # 만약 u 가 올바른 문자열이라면\n",
        "    if check(u):\n",
        "        # 재귀 진행하여 v확인하고 합체\n",
        "        answer = u + solution(v)\n",
        "        \n",
        "    # 아니라면\n",
        "    else:\n",
        "        answer ='('\n",
        "        \n",
        "        # 4-2 문장 작성\n",
        "        answer += solution(v)\n",
        "        answer += ')'\n",
        "        \n",
        "        u = list(u[1:-1]) # 4-4 처음과 마지막 문자 제거\n",
        "        \n",
        "        for i in range(len(u)):\n",
        "            if u[i] == '(':\n",
        "                u[i] = ')'\n",
        "            else:\n",
        "                u[i] = '('\n",
        "        answer += \"\".join(u)               \n",
        "    return answer\n",
        "    "
      ],
      "metadata": {
        "id": "xpxmdM8b4KVr"
      },
      "execution_count": null,
      "outputs": []
    },
    {
      "cell_type": "markdown",
      "source": [
        "연산자 끼워 넣기\n",
        "---\n",
        "\n",
        "풀이:  완전 탐색을 해야할때 ( 다 검사해야할때) 해당 연산을 줄였다가 재귀하고 아닌게 판정이나면 다시 해당 연산을 더해주는 그런 테크닉이 자주 쓰이는것 같다."
      ],
      "metadata": {
        "id": "LvBJpzD54JId"
      }
    },
    {
      "cell_type": "code",
      "source": [
        "n = int(input())\n",
        "\n",
        "data = list(map(int,input().split()))\n",
        "\n",
        "cal = list(map(int,input().split()))\n",
        "\n",
        "# 최소 최대 초기화 \n",
        "min_value = 1e9\n",
        "max_value = -1e9\n",
        "\n",
        "def dfs(i,now):\n",
        "\n",
        "  # 연산들 들고오기\n",
        "  global cal,min_value,max_value\n",
        "  # 연산들 모두 소진\n",
        "  if i ==n:\n",
        "    min_value = min(min_value,now)\n",
        "    max_value = max(max_value,now)\n",
        "  else:\n",
        "    # 각 연산자에 대해서 재귀적으로 수행 풀이에서 적은 부분\n",
        "    if cal[0] > 0:\n",
        "      cal[0] -=1\n",
        "      dfs(i+1,now+data[i])\n",
        "      cal[0] +=1\n",
        "    if cal[1] > 0:\n",
        "      cal[1] -=1\n",
        "      dfs(i+1,now-data[i])\n",
        "      cal[1] +=1\n",
        "    if cal[2] > 0:\n",
        "      cal[2] -=1\n",
        "      dfs(i+1,now*data[i])\n",
        "      cal[2] +=1\n",
        "    if cal[3] > 0:\n",
        "      cal[3] -=1\n",
        "      dfs(i+1,int(now/data[i]))\n",
        "      cal[3] +=1\n",
        "\n",
        "# 첫 연산이라고 표기해주고 호출\n",
        "dfs(1,data[0])\n",
        "\n",
        "# 최대 최소 출력\n",
        "print(max_value)\n",
        "print(min_value)"
      ],
      "metadata": {
        "colab": {
          "base_uri": "https://localhost:8080/"
        },
        "id": "mPSKDI6l4cNe",
        "outputId": "8e5262db-1a0d-4a36-cc88-5075a476ef26"
      },
      "execution_count": 9,
      "outputs": [
        {
          "output_type": "stream",
          "name": "stdout",
          "text": [
            "2\n",
            "5 6\n",
            "0 0 1 0\n",
            "30\n",
            "30\n"
          ]
        }
      ]
    },
    {
      "cell_type": "markdown",
      "source": [
        "감시피하기\n",
        "---\n"
      ],
      "metadata": {
        "id": "HDnRZFj-9nQ8"
      }
    },
    {
      "cell_type": "markdown",
      "source": [
        "인구 이동\n",
        "---\n",
        "\n",
        "BFS를 사용하여 인구 이동 처리 and 연합 index를 사용하여 연합끼리 묶어주면서 진행하는 방식을 사용하였다. 큐를 사용하는거에 조금 더 익숙해질 필요가 있다."
      ],
      "metadata": {
        "id": "wnHyq7Hy9pEK"
      }
    },
    {
      "cell_type": "code",
      "source": [
        "from collections import deque\n",
        "n,l,r = map(int,input().split())\n",
        "\n",
        "city = []\n",
        "\n",
        "# 도시 입력\n",
        "for i in range(n):\n",
        "  city.append(list(map(int,input().split())))\n",
        "\n",
        "# 도시의 방향벡터\n",
        "dx = [1,0,-1,0]\n",
        "dy = [1,-1,0,0]\n",
        "\n",
        "result = 0\n",
        "\n",
        "# 특정 위체에서 출발하여 모든 연합을 체크 한뒤에 데이터 갱신\n",
        "def bfs(x,y,index):\n",
        "  # (x,y)의 위치와 연결된 나라의 정보를 담는다.\n",
        "  united = []\n",
        "  united.append((x,y))\n",
        "  # BFS 자료구조\n",
        "  q = deque()\n",
        "  q.append((x,y))\n",
        "\n",
        "  union[x][y] = index # 현재 연합번호를 할당\n",
        "  summary = city[x][y] # 현재 연합의 전체인구수\n",
        "\n",
        "  count = 1 # 현재 연합의 국가수\n",
        "  # 큐가 빌때까지\n",
        "  while q:\n",
        "    x,y = q.popleft()\n",
        "    # 현재 위치에서 4가지 방향확인\n",
        "    for i in range(4):\n",
        "      nx = x + dx[i]\n",
        "      ny = y + dy[i]\n",
        "      # 바로 옆에있는 나라확인(외부가 아니고 연합이 되지 않았다면)\n",
        "      if 0 <= nx <n and 0<=ny <n and union[nx][ny] == -1:\n",
        "        # 옆에 있는 나라와 인구 차이가 L 이상,R 이하\n",
        "        if l <= abs(city[nx][ny]-city[x][y]) <=r :\n",
        "          q.append((nx,ny))\n",
        "          # 연합에 추가\n",
        "          union[nx][ny] = index\n",
        "          summary += graph[nx][ny]\n",
        "          count += 1\n",
        "          united.append((nx,ny))\n",
        "  for i, j in united:\n",
        "    city[i][j] = summary //count # 문제에 적혀있음\n",
        "  return count\n",
        "\n",
        "total_count = 0\n",
        "\n",
        "# 더 이상 이동이 불가 할때까지 이동\n",
        "while True: \n",
        "  union = [[-1]*n for _ in range(n)]\n",
        "  index = 0\n",
        "  for i in range(n):\n",
        "    for j in range(n):\n",
        "      if union[i][j] == -1: # 아직나라가 처리가 안되었다면\n",
        "        bfs(i,j,index) # 연합국가 처리\n",
        "        index += 1\n",
        "\n",
        "  #모든 인구 이동이 끝나면\n",
        "  if index  == n *n :\n",
        "    break\n",
        "  \n",
        "  total_count += 1\n",
        "\n",
        "# 인구 이동 횟수 출력\n",
        "print(total_count)\n",
        "    \n"
      ],
      "metadata": {
        "id": "-3WP8n_g-H_M"
      },
      "execution_count": null,
      "outputs": []
    }
  ]
}