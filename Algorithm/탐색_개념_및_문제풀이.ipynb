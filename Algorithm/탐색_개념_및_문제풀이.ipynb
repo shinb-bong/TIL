{
  "nbformat": 4,
  "nbformat_minor": 0,
  "metadata": {
    "colab": {
      "name": "탐색 개념 및 문제풀이.ipynb",
      "provenance": [],
      "collapsed_sections": [],
      "authorship_tag": "ABX9TyP2ecHnZqte2glGu9z9Heac",
      "include_colab_link": true
    },
    "kernelspec": {
      "name": "python3",
      "display_name": "Python 3"
    },
    "language_info": {
      "name": "python"
    }
  },
  "cells": [
    {
      "cell_type": "markdown",
      "metadata": {
        "id": "view-in-github",
        "colab_type": "text"
      },
      "source": [
        "<a href=\"https://colab.research.google.com/github/shinb-bong/TIL/blob/main/%ED%83%90%EC%83%89_%EA%B0%9C%EB%85%90_%EB%B0%8F_%EB%AC%B8%EC%A0%9C%ED%92%80%EC%9D%B4.ipynb\" target=\"_parent\"><img src=\"https://colab.research.google.com/assets/colab-badge.svg\" alt=\"Open In Colab\"/></a>"
      ]
    },
    {
      "cell_type": "markdown",
      "source": [
        "순차 탐색\n",
        "---\n",
        "\n",
        "리스트 안에 있는 특정한 데이터를 찾기 위해 앞에서부터 데이터를 하나씩 차례대로 확인하는 방법\n",
        "\n",
        "시간복잡도: 최악의 경우 O(N)"
      ],
      "metadata": {
        "id": "CDvhoGE_53Mn"
      }
    },
    {
      "cell_type": "code",
      "execution_count": null,
      "metadata": {
        "id": "MnLCyBo_5gcb"
      },
      "outputs": [],
      "source": [
        "def sequential_search(n,target,array):\n",
        "   # 각 원소를 하나씩 확인\n",
        "  for i in range(n):\n",
        "    # 일치할 경우\n",
        "  if array[i] == target:\n",
        "    return i+1 # 인덱스는 0부터 시작하므로 하나를 더해줘서 현재 위치 표현"
      ]
    },
    {
      "cell_type": "markdown",
      "source": [
        "이진탐색\n",
        "---\n",
        "\n",
        "***정렬된 데이터***를 탐색 범위를 절반씩 좁혀가며 데이터 찾는법\n",
        "\n",
        "+ 찾으려는 데이터와 중간점위치에 있는 데이터를 반복적으로 비교하여 끝점과 시작점을 움직이면서 찾으려는 데이터와 같을 경우 멈춤\n",
        "\n",
        "시간복잡도: O(logN)"
      ],
      "metadata": {
        "id": "wEoUCAqK6t0E"
      }
    },
    {
      "cell_type": "code",
      "source": [
        "def binary_search(array,target,start,end):\n",
        "  if start > end: \n",
        "    return None\n",
        "  mid = (start+ end)//2\n",
        "\n",
        "  # 찾은 경우 중간점 인덱스 반환\n",
        "  if array[mid] == target:\n",
        "    return mid\n",
        "  # 중간점의 값보다 찾고자 하는 값이 작은 경우 왼쪽 확인\n",
        "  elif array[mid] > target:\n",
        "    return binary_search(array,target,start,mid-1)\n",
        "  else:\n",
        "    return binary_search(array,target,mid+1,end)\n",
        "\n",
        "  # result == None: 일경우 원소가 없다고 최종적으로 출력해 줘야함."
      ],
      "metadata": {
        "id": "rZHtWAtG7wLT"
      },
      "execution_count": null,
      "outputs": []
    },
    {
      "cell_type": "markdown",
      "source": [
        "TIP) 처리해야 할 데이터 개수나 값이 1,000만 단위 이상으로 넘어가면 이진탐색과 같이 O(NlogN)의 속도를 내야하는 문제가 많다\n",
        "----"
      ],
      "metadata": {
        "id": "IRTsXrhY8naa"
      }
    },
    {
      "cell_type": "markdown",
      "source": [
        "이진 탐색 트리\n",
        "----\n",
        "\n",
        "+ 왼쪽 자식노드 < 부모노드 < 오른쪽 자식 노드"
      ],
      "metadata": {
        "id": "ENRUyX_u9ato"
      }
    },
    {
      "cell_type": "markdown",
      "source": [
        "빠르게 입력 받기\n",
        "---\n",
        "\n",
        "데이터 개수가 1,000만개가 넘어가거나 탐색의 범위가 1,000억 이상이라면 input()은 느리다. 그래서 다른걸 사용한다.\n",
        "\n",
        "꼭 .rstrip()을 붙여서 사용하도록 한다."
      ],
      "metadata": {
        "id": "p0Ufu1O892nR"
      }
    },
    {
      "cell_type": "code",
      "source": [
        "import sys\n",
        "\n",
        "# 하나의 문자열 데이터 입력받기\n",
        "input_data = sys.stdin.readline().rstrip()\n",
        "\n",
        "# 입력받은 문자열 그대로 출력\n",
        "print(input_data)"
      ],
      "metadata": {
        "id": "lLtHPiiK9KMh"
      },
      "execution_count": null,
      "outputs": []
    },
    {
      "cell_type": "markdown",
      "source": [
        "문제\n",
        "---\n",
        "\n",
        "부품 찾기\n",
        "\n",
        "풀이: 이진탐색 방법을 사용하여 부품을 검색"
      ],
      "metadata": {
        "id": "7YRmckAd-oPy"
      }
    },
    {
      "cell_type": "code",
      "source": [
        "#이진탐색() O((M+N)xlogN)\n",
        "\n",
        "def binary_search(array,target,start,end):\n",
        "  if start > end:\n",
        "    return None\n",
        "  mid = (start+end)//2\n",
        "  if array[mid]== target:\n",
        "    return mid\n",
        "  elif array[mid] > target:\n",
        "    return binary_search(array,target,start,mid-1)\n",
        "  else:\n",
        "    return binary_search(array,target,mid+1,end)\n",
        "\n",
        "m = int(input())\n",
        "arr = list(map(int,input().split()))\n",
        "\n",
        "arr.sort() # 이진탐색을 하기위해 정렬\n",
        "\n",
        "n = int(input())\n",
        "x = list(map(int,input().split()))\n",
        "\n",
        "for i in x:\n",
        "  result = binary_search(arr,i,0,m-1)\n",
        "  if result != None:\n",
        "    print(\"yes\", end = ' ')\n",
        "  else:\n",
        "    print(\"no\", end = \" \")\n"
      ],
      "metadata": {
        "colab": {
          "base_uri": "https://localhost:8080/"
        },
        "id": "Ljchkj4G_B5S",
        "outputId": "9354f0e0-6d7b-4645-a7da-4fbaaaeb56e2"
      },
      "execution_count": 6,
      "outputs": [
        {
          "output_type": "stream",
          "name": "stdout",
          "text": [
            "5\n",
            "8 3 7 9 2\n",
            "3 \n",
            "5 7 9\n",
            "no yes yes "
          ]
        }
      ]
    },
    {
      "cell_type": "code",
      "source": [
        "# 집합 자료형 사용\n",
        "\n",
        "n = int(input())\n",
        "array = set(map(int,input().split()))\n",
        "m = int(input())\n",
        "x= list(map(int,input().split()))\n",
        "\n",
        "for i in x:\n",
        "  if i in array:\n",
        "    print('yes', end =' ')\n",
        "  else:\n",
        "    print('no', end= ' ')"
      ],
      "metadata": {
        "colab": {
          "base_uri": "https://localhost:8080/"
        },
        "id": "uLt7QEy8A_Tq",
        "outputId": "8515cdb5-d1ba-47e4-9364-a51fdc5b94a7"
      },
      "execution_count": 8,
      "outputs": [
        {
          "output_type": "stream",
          "name": "stdout",
          "text": [
            "5\n",
            "8 3 7 9 2\n",
            "3\n",
            "5 \n",
            "no "
          ]
        }
      ]
    },
    {
      "cell_type": "markdown",
      "source": [
        "떡볶이 떡 만들기\n",
        "\n",
        "풀이: M이 2천만이 가능하니 이진탐색으로 줄여 나가면서 해결 start는 0 end 는 가장 긴 떡으로 잡아서 시작"
      ],
      "metadata": {
        "id": "6yO_aij5B78I"
      }
    },
    {
      "cell_type": "code",
      "source": [
        "n,k = map(int,input().split())\n",
        "\n",
        "arr = list(map(int,input().split()))\n",
        "\n",
        "start = 0\n",
        "end = max(arr)\n",
        "result = 0\n",
        "\n",
        "while(start<=end):\n",
        "  sum = 0\n",
        "  mid = (start + end)//2\n",
        "  for i in arr:\n",
        "    if i > mid: \n",
        "      sum += i-mid\n",
        "  if sum < k: # 충분하지 못한경우\n",
        "    end = mid-1\n",
        "  else: # 충분한 경우 \n",
        "    result = mid \n",
        "    start = mid+1\n",
        "\n",
        "print(result)\n",
        "\n",
        "\n"
      ],
      "metadata": {
        "colab": {
          "base_uri": "https://localhost:8080/"
        },
        "id": "ixXQio0zCEBP",
        "outputId": "6a2af023-10f8-4651-bf6c-59e21ee46c71"
      },
      "execution_count": 18,
      "outputs": [
        {
          "output_type": "stream",
          "name": "stdout",
          "text": [
            "4 6\n",
            "19 15 10 17\n",
            "15\n"
          ]
        }
      ]
    }
  ]
}