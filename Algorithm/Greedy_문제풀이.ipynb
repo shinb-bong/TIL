{
  "nbformat": 4,
  "nbformat_minor": 0,
  "metadata": {
    "colab": {
      "name": "Greedy 문제풀이.ipynb",
      "provenance": [],
      "collapsed_sections": [],
      "authorship_tag": "ABX9TyOq9J68kXvPSqYOUDT4sC+i",
      "include_colab_link": true
    },
    "kernelspec": {
      "name": "python3",
      "display_name": "Python 3"
    },
    "language_info": {
      "name": "python"
    }
  },
  "cells": [
    {
      "cell_type": "markdown",
      "metadata": {
        "id": "view-in-github",
        "colab_type": "text"
      },
      "source": [
        "<a href=\"https://colab.research.google.com/github/shinb-bong/TIL/blob/main/Greedy_%EB%AC%B8%EC%A0%9C%ED%92%80%EC%9D%B4.ipynb\" target=\"_parent\"><img src=\"https://colab.research.google.com/assets/colab-badge.svg\" alt=\"Open In Colab\"/></a>"
      ]
    },
    {
      "cell_type": "markdown",
      "source": [
        "모험가 길드\n",
        "---\n",
        "\n",
        "풀이법: 구지 모든 사람을 챙겨갈 필요는 없으니깐 공포도가 작은 사람들로 먼저 구성하는 그리디 문제로 생각이 된다."
      ],
      "metadata": {
        "id": "6BgOj6xTAdjV"
      }
    },
    {
      "cell_type": "code",
      "execution_count": 2,
      "metadata": {
        "colab": {
          "base_uri": "https://localhost:8080/"
        },
        "id": "JTzzMKQCAZTt",
        "outputId": "a9e46d53-89ce-40fa-e506-2fe912840b79"
      },
      "outputs": [
        {
          "output_type": "stream",
          "name": "stdout",
          "text": [
            "5\n",
            "2 3 1 2 2 \n",
            "2\n"
          ]
        }
      ],
      "source": [
        "n = int(input())\n",
        "\n",
        "arr = list(map(int,input().split()))\n",
        "\n",
        "arr.sort()\n",
        "\n",
        "group = 0\n",
        "count = 0\n",
        "\n",
        "for i in arr :\n",
        "  count +=1\n",
        "  if count == i:\n",
        "    group +=1\n",
        "    count = 0\n",
        "\n",
        "print(group)\n",
        "\n"
      ]
    },
    {
      "cell_type": "markdown",
      "source": [
        "곱하기 혹은 더하기 \n",
        "---\n",
        "\n",
        "풀이: 제일 작은 숫자 두개를 더한뒤 나머지 숫자들은 계속 곱을 해주는 것이 가장 큰수가 나올 것 같아 숫자들을 정렬 시킨뒤 첫번째와 두번째 숫자를 계산해주었습니다."
      ],
      "metadata": {
        "id": "Ni3CLQVcFOOF"
      }
    },
    {
      "cell_type": "code",
      "source": [
        "arr = list(map(int,input()))\n",
        "\n",
        "arr.sort()\n",
        "sum = arr[0]+arr[1]\n",
        "for i in arr[2:]:\n",
        "  sum *= i\n",
        "\n",
        "print(sum)\n",
        "  \n"
      ],
      "metadata": {
        "colab": {
          "base_uri": "https://localhost:8080/"
        },
        "id": "t0yKdSZnFRfw",
        "outputId": "54e96337-49f5-4a15-a9d8-f929df87dc24"
      },
      "execution_count": 3,
      "outputs": [
        {
          "output_type": "stream",
          "name": "stdout",
          "text": [
            "02984\n",
            "576\n"
          ]
        }
      ]
    },
    {
      "cell_type": "markdown",
      "source": [
        "문자열 뒤집기\n",
        "---\n",
        "\n",
        "풀이: 0으로 만드는거와 1로 만드는 것중에 더 적은 횟수를 고르면된다."
      ],
      "metadata": {
        "id": "-53TErl8G0Gl"
      }
    },
    {
      "cell_type": "code",
      "source": [
        "arr =  list(map(int,input()))\n",
        "\n",
        "count0 = 0\n",
        "count1 = 1\n",
        "\n",
        "if arr[0] == 1:\n",
        "  count0 += 1\n",
        "else:\n",
        "  count1 += 1\n",
        "\n",
        "for i in range(len(arr)-1):\n",
        "  if arr[i] != arr[i+1]:\n",
        "    # 다음 수에서 1로 바뀌는 경우\n",
        "    if arr[i+1] == 1:\n",
        "      count0 += 1\n",
        "    else:\n",
        "      count1 += 1\n",
        "\n",
        "print(min(count0,count1))\n",
        "\n",
        "\n",
        "  "
      ],
      "metadata": {
        "colab": {
          "base_uri": "https://localhost:8080/"
        },
        "id": "b55Kv683G1u8",
        "outputId": "7c1db82d-2500-4b97-8d58-3f169f807d74"
      },
      "execution_count": 6,
      "outputs": [
        {
          "output_type": "stream",
          "name": "stdout",
          "text": [
            "0001100\n",
            "1\n"
          ]
        }
      ]
    },
    {
      "cell_type": "markdown",
      "source": [
        "만들 수 없는 금액\n",
        "---\n",
        "\n",
        "핵심적 요소가 안잡혔던 문제\n",
        "\n",
        "풀이: 1부터 하나씩 확인해가면서 올린다. 만약 리스트에 들어있는 수보다 작다면 바로 반환을 해주면 되는것이고 만약 리스트에 들어있는 수랑 같거나 크다면 만들 수있는 것으로 생각한다."
      ],
      "metadata": {
        "id": "LSR2Wtm6KgcL"
      }
    },
    {
      "cell_type": "code",
      "source": [
        "n = int(input())\n",
        "\n",
        "arr = list(map(int,input().split()))\n",
        "\n",
        "arr.sort()\n",
        "\n",
        "target = 1\n",
        "for i in arr:\n",
        "  # 만약 리스트에 들어있는 수보다 작을경우\n",
        "  if target < i:\n",
        "    break\n",
        "  else: \n",
        "    target += i\n",
        "\n",
        "print(target)"
      ],
      "metadata": {
        "colab": {
          "base_uri": "https://localhost:8080/"
        },
        "id": "k-tWhRkpKjGF",
        "outputId": "a7c80f35-5cdf-4817-9159-43526eb6375f"
      },
      "execution_count": 8,
      "outputs": [
        {
          "output_type": "stream",
          "name": "stdout",
          "text": [
            "5\n",
            "3 2 1 1 9\n",
            "8\n"
          ]
        }
      ]
    },
    {
      "cell_type": "markdown",
      "source": [
        "볼링공 고르기\n",
        "---\n",
        "\n",
        "풀이: 각 볼링공에 대한 갯수 종합을 해주고 자기랑 무게가 같은 볼링공과의 조합은 빼준뒤 결과를 출력한다."
      ],
      "metadata": {
        "id": "8uVZenPaNLU4"
      }
    },
    {
      "cell_type": "code",
      "source": [
        "n, m = map(int,input().split())\n",
        "\n",
        "arr = list(map(int,input().split()))\n",
        "\n",
        "count = [0] * 11\n",
        "\n",
        "for i in arr:\n",
        "  count[i] += 1\n",
        "\n",
        "result = 0\n",
        "for i in range(1,n+1):\n",
        "  n -= count[i] # 같은 무게 볼링공 제외\n",
        "  result += count[i] * n\n",
        "\n",
        "print(result)\n"
      ],
      "metadata": {
        "colab": {
          "base_uri": "https://localhost:8080/"
        },
        "id": "mkeST_BzPEy4",
        "outputId": "81676257-d671-4030-8cb1-60ad976c2615"
      },
      "execution_count": 9,
      "outputs": [
        {
          "output_type": "stream",
          "name": "stdout",
          "text": [
            "5 3\n",
            "1 3 2 3 2\n",
            "8\n"
          ]
        }
      ]
    },
    {
      "cell_type": "markdown",
      "source": [
        "무지의 먹방라이브\n",
        "---\n",
        "\n",
        "진짜 어려웠음 이해하는것도...\n",
        "\n",
        "효율성 검사 때문에 우선순위 큐 를 써야합니다.\n",
        "\n",
        "https://jeongchul.tistory.com/655 이분 포트폴리오 사이트를 참고해서 이해를 하였고 \n",
        "\n",
        "가장 작은 원소의 값이 k 보다 먼저 처리가 되면 그 작은 원소를 배열에서 빼버리는 방식을 채택하였습니다. \n",
        "\n",
        "가장 작은 원소의 값을 찾기 위해서 우선 순위 큐를 쓴 형태입니다."
      ],
      "metadata": {
        "id": "kuo0OfrHVqWk"
      }
    },
    {
      "cell_type": "code",
      "source": [
        "import heapq\n",
        "\n",
        "def solution(food_times,k):\n",
        "\n",
        "  # 전체 음식을 먹는 시간보다 k가 크거나 같으면 -1\n",
        "  if sum(food_times)<=k:\n",
        "    return -1\n",
        "\n",
        "  # 시간이 작은 음식부터 빼야하므로\n",
        "  q=[]\n",
        "  for i in range(len(food_times)):\n",
        "    # (음식시간, 음식번호) 로 해야 큐가 인식\n",
        "    heapq.push(q,(food_times[i],i+1))\n",
        "\n",
        "  sum_value = 0 # 먹기 위해 사용한 시간 // 누적되는 k에서 빠지는 값\n",
        "  previous = 0 # 이전에 다먹은 음식\n",
        "  length = len(food_times) # 남은 음식의 개수\n",
        "\n",
        "  # sum_value + (현재 음식 시간 - 이전 음식 시간) * 현재 음식개수와 k 비교\n",
        "  while sum_value + ((q[0][0] - previous) * length) <= k:\n",
        "    now =heapq.heappop(q)[0] #  가장 작은 음식의 시간\n",
        "    sum_value += (now-previous) * length  # 가장 작은 음식의 앞이 진행된 후 먹는 시간\n",
        "    length -= 1 # 다 먹은 음식을 제외\n",
        "    previous =  now # 이전 음식 시간 재설정\n",
        "\n",
        "  result = sorted(q,key =lambda x : x[1]) # 음식의 번호 기준으로 정렬 , 여기서 튜플의 형태는 (시간, 번호)\n",
        "\n",
        "  return result[(k-sum_value)% length][1]  # 남은 시간을 길이로 나눈뒤 번호를 출력 "
      ],
      "metadata": {
        "id": "2t0X-XNqSVJt"
      },
      "execution_count": 11,
      "outputs": []
    },
    {
      "cell_type": "markdown",
      "source": [
        "내가 분석한 내용\n",
        "\n",
        "sum_value + ((q[0][0] - previous) * length) <= k 이부분이 \n",
        "\n",
        "사실\n",
        "((q[0][0] - previous) * length) <= k - sum_value\n",
        "\n",
        "에서 유래된 것같다.\n",
        "+  앞쪽 항은 가장 작은 음식을 먹었을때 그다음 작은 음식이 남았을 때 그 먹는 시간을 유추하는거고\n",
        "\n",
        "+ 뒤쪽 항은 앞에 음식을 다 먹고 남은 시간을 의미하는 것 \n",
        "\n",
        "\n",
        "\n"
      ],
      "metadata": {
        "id": "qkbDVXXTY_m9"
      }
    }
  ]
}