{
  "cells": [
    {
      "cell_type": "markdown",
      "metadata": {
        "colab_type": "text",
        "id": "view-in-github"
      },
      "source": [
        "<a href=\"https://colab.research.google.com/github/shinb-bong/TIL/blob/main/LCA.ipynb\" target=\"_parent\"><img src=\"https://colab.research.google.com/assets/colab-badge.svg\" alt=\"Open In Colab\"/></a>"
      ]
    },
    {
      "cell_type": "markdown",
      "metadata": {
        "id": "j6gzO6Gzg-By"
      },
      "source": [
        "LCA(Lowest Common Ancestor)\n",
        "---\n",
        "\n",
        "https://www.youtube.com/watch?v=O895NbxirM8\n",
        "\n",
        "두 노드의 공통된 조상 중에서 가장 가까운 조상을 찾는 문제.\n",
        "\n",
        "작동 방법\n",
        "1. 모든 노드에 대한 깊이를 계산합니다.\n",
        "\n",
        "2. 최소 공통 조상을 찾을 두 노드를 확인합니다.\n",
        "\n",
        "3. 먼저 두 노드의 깊이가 동일하도록 거슬러 올라갑니다.\n",
        "\n",
        "4. 부모가 같아질 때까지 반복적으로 두 노드의 부모 방향으로 거슬러 올라갑니다.\n",
        "\n",
        "5. 모든 LCA(a, b) 연산에 대하여 3~4번의 과정을 반복합니다.\n",
        "\n",
        "최악의 경우 O(N) 매 쿼리를 처리할때 시간복잡도: O(NM)"
      ]
    },
    {
      "cell_type": "markdown",
      "metadata": {
        "id": "myQTDpNOhTYz"
      },
      "source": [
        "개선된 방법\n",
        "---\n",
        "- 각 노드가 거슬러 올라가는 속도를 빠르게 만드는 방법입니다.\n",
        "\n",
        "- 15칸을 올라가면 8칸 🠖 4칸 🠖 2칸 🠖 1칸\n",
        "\n",
        "- 2의 제곱 형태로 거슬러 올라가도록 하면 O(logN)의 시간 복잡도를 보장할 수 있습니다.\n",
        "\n",
        "- 메모리를 더 사용하여 각 노드에 대하여 2 \n",
        "i번째 부모에 대한 정보를 기록합니다.\n",
        "\n",
        "- 즉, 공간 복잡도를 늘리고 시간 복잡도를 줄이는 trade-off\n",
        "\n",
        "시간 복잡도: O(logN) 매 쿼리 처리 시간 복잡도 O(MlogN)"
      ]
    },
    {
      "cell_type": "code",
      "execution_count": null,
      "metadata": {
        "id": "SiietUe3gxIQ"
      },
      "outputs": [],
      "source": [
        "import sys\n",
        "sys.setrecursionlimit(int(1e5)) # 런타임 오류를 피하기 위한 재귀 깊이 제한\n",
        "input = sys.stdin.readline\n",
        "LOG = 21 # 2^20 = 1,000,000\n",
        "\n",
        "n = int(input())\n",
        "\n",
        "parent = [[0]* LOG for _ in range(n+1)] # 부모 노드 정보\n",
        "d = [0] * (n+1) # 각 노드 까지의 깊이\n",
        "c = [0] * (n+1) # 각 노드의 깊이가 계산 되었는지 여부\n",
        "graph = [[] for _ in range(n+1)] # 그래프(graph) 정보\n",
        "\n",
        "# 양방향이니깐 \n",
        "for _ in range(n-1):\n",
        "  a,b = map(int,input().split())\n",
        "  graph[a].append(b)\n",
        "  graph[b].append(a)\n",
        "\n",
        "# 루트 노드부터 시작하여 깊이를 구하는 함수\n",
        "def dfs(x,depth):\n",
        "  c[x] = True\n",
        "  d[x] = depth\n",
        "  for y in graph[x]:\n",
        "    if c[y]: # 이미 깊이를 구했다면 넘기기\n",
        "      continue\n",
        "    # 한칸 앞에 존재하는 부모 [y][0] y의 2^0에 해당하는 부모 메모하는법\n",
        "    parent[y][0] = x\n",
        "    dfs(y,depth+1)\n",
        "\n",
        "# 전체 부모 관계를 설정하는 함수\n",
        "def set_parent():\n",
        "  dfs(1,0) # 루트 노드는 1번이라는 뜻\n",
        "  for i in range(1,LOG):\n",
        "    for j in range(1,n+1):\n",
        "      # 2의 제곱으로 넘어가게 부모를 구함\n",
        "      parent[j][i] = parent[parent[j][i-1]][i-1]\n",
        "\n",
        "# A와 B의 최소 공통 조상을 찾는 함수\n",
        "def lca(a,b):\n",
        "  # b가 더 깊도록 설정\n",
        "  if d[a] > d[b]:\n",
        "    a,b = b,a\n",
        "  # 먼저 깊이(depth)가 동일하도록 설정\n",
        "  #(이 부분이 조금 이해가 어려웠지만 문제 풀때마다 복습)\n",
        "  # 동일하게 맞춰놓고 두개가 같이가려고 하는 과정\n",
        "  for i in range(LOG-1,-1,-1):\n",
        "    # 깊이의 차이가 15라고 하면 8 -> 4 -> 2-> 1순으로 가게 (1<<i)를 작성\n",
        "    if  d[b] - d[a] >= (1<<i):\n",
        "      b = parent[b][i]\n",
        "  if a == b:\n",
        "    return a;\n",
        "\n",
        "\n",
        "  # 2의 제곱형태로 큰값부터 작은 값으로 갈수 있게 9칸이동해야하면 8+1 로 이동하게\n",
        "  for i in range(LOG-1,-1,-1):\n",
        "    # 조상을 향해 거슬러 올라가기\n",
        "    if parent[a][i] != parent[b][i]:\n",
        "      a = parent[a][i]\n",
        "      b = parent[b][i]\n",
        "    \n",
        "    # 이후에 부모가 찾고자 하는 조상\n",
        "  return parent[a][0]\n",
        "\n",
        "set_parent()\n",
        "\n",
        "m = int(input())\n",
        "\n",
        "for i in range(m):\n",
        "  a,b = map(int,input().split())\n",
        "  print(lca(a,b))"
      ]
    }
  ],
  "metadata": {
    "colab": {
      "authorship_tag": "ABX9TyPrPO1aGgri/mIS65IV+Z8/",
      "collapsed_sections": [],
      "include_colab_link": true,
      "name": "LCA.ipynb",
      "provenance": []
    },
    "kernelspec": {
      "display_name": "Python 3",
      "language": "python",
      "name": "python3"
    },
    "language_info": {
      "name": "python",
      "version": "3.8.5"
    },
    "vscode": {
      "interpreter": {
        "hash": "c79f7dff0cf05aaa10b00e3f210c4e94cc49e1f96aa97f90205057359d993211"
      }
    }
  },
  "nbformat": 4,
  "nbformat_minor": 0
}
