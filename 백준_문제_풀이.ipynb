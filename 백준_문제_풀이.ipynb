{
  "nbformat": 4,
  "nbformat_minor": 0,
  "metadata": {
    "colab": {
      "name": "백준 문제 풀이.ipynb",
      "provenance": [],
      "collapsed_sections": [],
      "authorship_tag": "ABX9TyNgWgTQY1cepl5YGBeAL7zN",
      "include_colab_link": true
    },
    "kernelspec": {
      "name": "python3",
      "display_name": "Python 3"
    },
    "language_info": {
      "name": "python"
    }
  },
  "cells": [
    {
      "cell_type": "markdown",
      "metadata": {
        "id": "view-in-github",
        "colab_type": "text"
      },
      "source": [
        "<a href=\"https://colab.research.google.com/github/shinb-bong/TIL/blob/main/%EB%B0%B1%EC%A4%80_%EB%AC%B8%EC%A0%9C_%ED%92%80%EC%9D%B4.ipynb\" target=\"_parent\"><img src=\"https://colab.research.google.com/assets/colab-badge.svg\" alt=\"Open In Colab\"/></a>"
      ]
    },
    {
      "cell_type": "markdown",
      "source": [
        "ATM"
      ],
      "metadata": {
        "id": "Cyeo6F7mYsCS"
      }
    },
    {
      "cell_type": "code",
      "execution_count": null,
      "metadata": {
        "colab": {
          "base_uri": "https://localhost:8080/"
        },
        "id": "rZase3VGYMmo",
        "outputId": "f8783f78-074c-41fe-ce5f-9ed36bdd3508"
      },
      "outputs": [
        {
          "output_type": "stream",
          "name": "stdout",
          "text": [
            "5\n",
            "3 1 4 3 2\n",
            "32\n"
          ]
        }
      ],
      "source": [
        "n = int(input())\n",
        "\n",
        "arr = list(map(int,input().split()))\n",
        "arr.sort()\n",
        "\n",
        "result = 0\n",
        "for i in range(n):\n",
        "  result += arr[i]*(n-i)\n",
        "\n",
        "print(result)"
      ]
    },
    {
      "cell_type": "markdown",
      "source": [
        "동전 0\n",
        "----\n",
        "\n"
      ],
      "metadata": {
        "id": "cSmGFiDAZzUR"
      }
    },
    {
      "cell_type": "code",
      "source": [
        "n , k = map(int,input().split())\n",
        "\n",
        "sector = []\n",
        "count =0\n",
        "\n",
        "for i in range(n):\n",
        "  sector.append(int(input()))\n",
        "\n",
        "sector.sort(reverse=True)\n",
        "\n",
        "for i in sector:\n",
        "  if k > 0 and k // i !=0:\n",
        "    count += k//i\n",
        "    k = k% i  \n",
        "  if k <= 0 :\n",
        "    break\n",
        "\n",
        "print(count)"
      ],
      "metadata": {
        "id": "2dHJqcy5Z1E-"
      },
      "execution_count": null,
      "outputs": []
    },
    {
      "cell_type": "markdown",
      "source": [
        "회의실 배정\n",
        "---\n"
      ],
      "metadata": {
        "id": "7vvMvhMCb19-"
      }
    },
    {
      "cell_type": "code",
      "source": [
        "N = int(input())\n",
        "time = []\n",
        "\n",
        "for _ in range(N):\n",
        "  start, end = map(int, input().split())\n",
        "  time.append([start, end])\n",
        "\n",
        "time = sorted(time, key=lambda a: a[0]) # 시작 시간을 기준으로 오름차순\n",
        "time = sorted(time, key=lambda a: a[1]) # 끝나는 시간을 기준으로 다시 오름차순\n",
        "\n",
        "last = 0 # 회의의 마지막 시간을 저장할 변수\n",
        "conut = 0 # 회의 개수를 저장할 변수\n",
        "\n",
        "for i, j in time:\n",
        "  if i >= last: # 시작시간이 회의의 마지막 시간보다 크거나 같을경우\n",
        "    conut += 1\n",
        "    last = j\n",
        "\n",
        "print(conut)"
      ],
      "metadata": {
        "id": "NvvGqxP8b4nV"
      },
      "execution_count": null,
      "outputs": []
    },
    {
      "cell_type": "markdown",
      "source": [
        "보물\n",
        "--\n",
        "\n",
        "작은거 x 큰거 하면될 것같다."
      ],
      "metadata": {
        "id": "QAMWv_QgjzZU"
      }
    },
    {
      "cell_type": "code",
      "source": [
        "n = int(input())\n",
        "\n",
        "a_list = list(map(int, input().split()))\n",
        "b_list = list(map(int, input().split()))\n",
        "\n",
        "sorted_a = sorted(a_list, reverse=True)\n",
        "sorted_b = sorted(b_list)\n",
        "\n",
        "s = 0\n",
        "for i in range(n):\n",
        "    s += sorted_a[i] * sorted_b[i]\n",
        "\n",
        "print(s)"
      ],
      "metadata": {
        "id": "OrDWhncMj0ti"
      },
      "execution_count": null,
      "outputs": []
    },
    {
      "cell_type": "code",
      "source": [
        "n = int(input())\n",
        "\n",
        "a_list = list(map(int, input().split()))\n",
        "b_list = list(map(int, input().split()))\n",
        "\n",
        "s = 0\n",
        "for i in range(n):\n",
        "    s += min(a_list) * max(b_list)\n",
        "    a_list.pop(a_list.index(min(a_list)))\n",
        "    b_list.pop(b_list.index(max(b_list)))\n",
        "\n",
        "print(s)"
      ],
      "metadata": {
        "id": "98vOYmYvlUaF"
      },
      "execution_count": null,
      "outputs": []
    },
    {
      "cell_type": "markdown",
      "source": [
        "잃어버린 괄호\n",
        "---\n",
        "\n",
        "-기준으로 나머지들은 +로 묶어서 크게크게 빼면된다"
      ],
      "metadata": {
        "id": "vDygghRblpia"
      }
    },
    {
      "cell_type": "code",
      "source": [
        "arr = input().split('-')\n",
        "\n",
        "s = 0\n",
        "\n",
        "for i in arr[0].split('+'):\n",
        "  # 첫번째 시작은 무조건 양수니깐\n",
        "  s += int(i)\n",
        "\n",
        "for i in arr[1:]:\n",
        "  for j in i.split('+'):\n",
        "    s -= int(j)\n",
        "\n",
        "print(s)\n",
        "  "
      ],
      "metadata": {
        "id": "dtpWFXTKlrva"
      },
      "execution_count": null,
      "outputs": []
    },
    {
      "cell_type": "markdown",
      "source": [
        "A+b -5\n",
        "---\n",
        "-4 try except 문 사용"
      ],
      "metadata": {
        "id": "WwsIhfslnzsv"
      }
    },
    {
      "cell_type": "code",
      "source": [
        "while True:\n",
        "    try:\n",
        "        A, B = map(int, input().split())\n",
        "        print(A+B)\n",
        "    except:\n",
        "        break"
      ],
      "metadata": {
        "id": "dxPujqsan1gC"
      },
      "execution_count": null,
      "outputs": []
    },
    {
      "cell_type": "markdown",
      "source": [
        "DFS/BFS (1260)\n",
        "---\n",
        "\n",
        "\n",
        "DFS/ BFS 구현 제일 기초문제"
      ],
      "metadata": {
        "id": "WMTdk2sxrUhY"
      }
    },
    {
      "cell_type": "code",
      "source": [
        "n, m, v = map(int, input().split())\n",
        "import collections\n",
        "\n",
        "matrix = [[0] * (n+1) for i in range(n+1)]\n",
        "seen = [0] * (n+1)\n",
        "\n",
        "for _ in range(m):\n",
        "    a, b = map(int, input().split())\n",
        "    matrix[a][b] = matrix[b][a]= 1\n",
        "\n",
        "def dfs(v):\n",
        "    seen[v] = 1\n",
        "    print(v, end=' ')\n",
        "    for i in range(1, n+1):\n",
        "        if matrix[v][i] == 1 and seen[i] == 0:\n",
        "            dfs(i)\n",
        "\n",
        "def bfs(v):\n",
        "    queue = collections.deque()\n",
        "    queue.append(v)\n",
        "    seen[v] = 1\n",
        "\n",
        "    while queue:\n",
        "        v = queue.popleft()\n",
        "        print(v, end=' ')\n",
        "        for i in range(1, n+1):\n",
        "            if matrix[v][i]==1 and seen[i] == 0:\n",
        "                queue.append(i)\n",
        "                seen[i]=1\n",
        "\n",
        "dfs(v)\n",
        "seen = [0] * (n+1)\n",
        "print()\n",
        "bfs(v)"
      ],
      "metadata": {
        "id": "r5Tq-fqkrSmb"
      },
      "execution_count": null,
      "outputs": []
    },
    {
      "cell_type": "markdown",
      "source": [
        "미로탐색\n",
        "---\n",
        "\n",
        "bfs 접근 \n",
        "```\n",
        "queue  = deque() \n",
        "queue.append((x,y))\n",
        "\n",
        "x,y= queue.popleft()\n",
        "```\n",
        "\n",
        "기본적인 bfs 문제였다."
      ],
      "metadata": {
        "id": "if3F_NqHh0yp"
      }
    },
    {
      "cell_type": "code",
      "source": [
        "from collections import deque\n",
        "\n",
        "n ,m = map(int,input().split())\n",
        "\n",
        "# 방향벡터 설정\n",
        "dx = [-1,1,0,0]\n",
        "dy = [0,0,1,-1]\n",
        "\n",
        "# 그래프 입력 받기\n",
        "graph = []\n",
        "\n",
        "for i in range(n):\n",
        "  graph.append(list(map(int,input())))\n",
        "\n",
        "\n",
        "# bfs구현\n",
        "def bfs(x,y):\n",
        "  queue = deque()\n",
        "  queue.append((x,y))\n",
        "\n",
        "  while queue:\n",
        "    x,y = queue.popleft()\n",
        "    # 현재 위치에서 네 방향으로 위치 확인\n",
        "    for i in range(4):\n",
        "      nx = x + dx[i]\n",
        "      ny = y + dy[i]\n",
        "      \n",
        "      # 나가면 아웃\n",
        "      if nx <0 or nx>=n or ny <0 or ny >= m:\n",
        "        continue\n",
        "      # 벽만나면 아웃\n",
        "      if graph[nx][ny] == 0:\n",
        "        continue\n",
        "      # 만약 벽이 아니고 처음 만나는거면\n",
        "\n",
        "      if graph[nx][ny] == 1 :\n",
        "        graph[nx][ny] = graph[x][y] + 1\n",
        "        queue.append((nx,ny))\n",
        "  return graph[n-1][m-1]\n",
        "\n",
        "print(bfs(0,0))\n"
      ],
      "metadata": {
        "id": "qTkJTyCYhzAc"
      },
      "execution_count": null,
      "outputs": []
    },
    {
      "cell_type": "markdown",
      "source": [
        "2667\n",
        "단지 번호 붙이기\n",
        "---"
      ],
      "metadata": {
        "id": "pqid77VMhycw"
      }
    },
    {
      "cell_type": "code",
      "source": [
        "from collections import deque\n",
        "\n",
        "n = int(input())\n",
        "\n",
        "graph = []\n",
        "\n",
        "# 방향 벡터\n",
        "dx = [0,0,1,-1]\n",
        "dy = [1,-1,0,0]\n",
        "\n",
        "# 입력 받기\n",
        "for i in range(n):\n",
        "  graph.append(list(map(int,input())))\n",
        "\n",
        "def bfs(graph, a, b):\n",
        "    n = len(graph)\n",
        "    queue = deque()\n",
        "    queue.append((a, b))\n",
        "    graph[a][b] = 0\n",
        "    count = 1\n",
        "  \n",
        "    # 큐가 비지 않았다면\n",
        "    while queue:\n",
        "      x,y =  queue.popleft()\n",
        "\n",
        "      for i in range(4):\n",
        "        nx = x+ dx[i]\n",
        "        ny = y+ dy[i]\n",
        "\n",
        "        # 벽 밖으로 나간다면?\n",
        "        if nx < 0 or nx >= n or ny < 0 or ny >= n:\n",
        "          continue\n",
        "        if graph[nx][ny] == 1:\n",
        "          graph[nx][ny] = 0\n",
        "          queue.append((nx, ny))\n",
        "          count += 1\n",
        "\n",
        "  return count \n",
        "\n",
        "cnt = []\n",
        "\n",
        "for i in range(n):\n",
        "  for j in range(n):\n",
        "    if graph[i][j] ==1:\n",
        "      cnt.append(bfs(graph,i,j))\n",
        "\n",
        "cnt.sort()\n",
        "print(lent(cnt))\n",
        "\n",
        "for i in range(len(cnt)):\n",
        "  print(cnt[i])\n"
      ],
      "metadata": {
        "id": "KiFYhFVjbTDb"
      },
      "execution_count": null,
      "outputs": []
    },
    {
      "cell_type": "code",
      "source": [
        "# dfs 로 풀었을 경우\n",
        "\n",
        "def DFS(x,y):\n",
        "  # 넘어갔을경우\n",
        "  ~~~\n",
        "    return False\n",
        "  \n",
        "  # 만약 아직 안건들인거 \n",
        "  if graph[x][y] == 1:\n",
        "    global count \n",
        "    count += 1\n",
        "    # 방문처리를 한다\n",
        "    graph[x][y] = 0\n",
        "    for i in range(4):\n",
        "      nx = x + dx[i]\n",
        "      ny = y + dy[i]\n",
        "      DFS(nx,ny)\n",
        "    return True\n",
        "  return False\n",
        "\n",
        "for i in range(n):\n",
        "    for j in range(n):\n",
        "        if DFS(i, j) == True:\n",
        "            num.append(count)\n",
        "            result += 1\n",
        "            count = 0\n"
      ],
      "metadata": {
        "id": "Zl1dKg0ggLyr"
      },
      "execution_count": null,
      "outputs": []
    },
    {
      "cell_type": "markdown",
      "source": [
        "2606 번\n",
        "바이러스\n",
        "---\n",
        "\n",
        "문제 내용만 읽어보면 깊이 탐색에 수가 그렇게 크지 않으니 이차원 그래프를 만들어서 진행을 할까 생각이 든다."
      ],
      "metadata": {
        "id": "dJQazbu-hwzJ"
      }
    },
    {
      "cell_type": "code",
      "source": [
        "n = int(input())\n",
        "\n",
        "m = int(input())\n",
        "\n",
        "# 그래프 저장 할 곳 \n",
        "graph = [[]*(n+1) for _ in range(n+1)]\n",
        "\n",
        "# 양방향 이기때문에 양쪽으로 저장\n",
        "for i in range(m):\n",
        "  x, y = map(int,input().split())\n",
        "  graph[x].append(y)\n",
        "  graph[y].append(x)\n",
        "\n",
        "# 결과 값\n",
        "result = 0\n",
        "\n",
        "# 방문했는지 요소\n",
        "visited = [0] *(n+1)\n",
        "\n",
        "# dfs\n",
        "def dfs(start):\n",
        "  global result \n",
        "  visited[start] = 1\n",
        "  # 그래프 안에 들어있는데 싹다 검사\n",
        "  for i in graph[start]:\n",
        "    # 방문 안한곳 이라면\n",
        "    if visited[i] == 0:\n",
        "      # 재귀 호출\n",
        "      dfs(i)\n",
        "      result += 1\n",
        "\n",
        "dfs(1)\n",
        "print(result)"
      ],
      "metadata": {
        "id": "qVaNcGfvh0Ru"
      },
      "execution_count": null,
      "outputs": []
    },
    {
      "cell_type": "markdown",
      "source": [
        "11724\n",
        "\n",
        "연결 요소의 개수\n",
        "\n",
        "----\n",
        " \n",
        " 연결 되어있는 것만 구하면 되니깐 dfs or bfs로 편한걸로 이어져있는것 갯수 구하면 될듯\n",
        " "
      ],
      "metadata": {
        "id": "dLaA1NMqk-_K"
      }
    },
    {
      "cell_type": "code",
      "source": [
        "# 정점, 간선\n",
        "n, m = map(int,input().split())\n",
        "\n",
        "# dfs 생각 이차원 그래프\n",
        "# 연결 정보 받을 그래프\n",
        "grpah = [[]* n for _ in range(n)]\n",
        "\n",
        "# 입력받기\n",
        "for i in range(m):\n",
        "  x,y = map(int,input().split())\n",
        "  graph[x].append(y)\n",
        "  graph[y].append(x)\n",
        "\n",
        "result = 0 # 총 갯수\n",
        "vistied = [0] *(n) #방문 여부\n",
        "\n",
        "# dfs\n",
        "def dfs(n):\n",
        "  # 방문처리\n",
        "  vistied[n] =1\n",
        "  for i in graph[n]:\n",
        "    if visited[i] == 0:\n",
        "      dfs(i)\n",
        "\n",
        "answer = 0\n",
        "\n",
        "# 전체적으로 방문여부를 확인하면서 덩이마다 추가해준다.\n",
        "\n",
        "for i in range(n):\n",
        "  if visited[i] == 0:\n",
        "    dfs(i)\n",
        "    answer +=1\n",
        "print(answer)"
      ],
      "metadata": {
        "id": "b04qyfNdlJQB"
      },
      "execution_count": null,
      "outputs": []
    },
    {
      "cell_type": "code",
      "source": [
        "# bfs 로 푼다면?\n",
        "\n",
        "from collections import deque\n",
        "# 정점, 간선\n",
        "n, m = map(int,input().split())\n",
        "graph= [[]*(n+1)]\n",
        "\n",
        "# 입력받기\n",
        "for i in range(m):\n",
        "  x,y = map(int,input().split())\n",
        "  graph[x].append(y)\n",
        "  graph[y].append(x)\n",
        "\n",
        "def bfs(graph,start,visited):\n",
        "  queue = deque([start])\n",
        "  visited[start] = True\n",
        "  \n",
        "  while queue:\n",
        "    v = queue.popleft()\n",
        "    for i in graph[v]:\n",
        "      # 방문하지 않았더라면\n",
        "      if not visited[i]:\n",
        "        queue.append(i)\n",
        "        # 방문처리를 한다\n",
        "        visited[i] = True\n",
        "\n",
        "visited = [False] *(n+1)\n",
        "\n",
        "result = 0\n",
        "for i in range(1,N+1):\n",
        "  if not visited[i]:\n",
        "    bfs(graph,i,visited)\n",
        "    cnt += 1\n",
        "    \n",
        "print(result)"
      ],
      "metadata": {
        "id": "jdK5JIYpnJ81"
      },
      "execution_count": null,
      "outputs": []
    },
    {
      "cell_type": "markdown",
      "source": [
        "1012\n",
        "\n",
        "유기농 배추\n",
        "--- \n",
        "\n",
        "dfs로 접근하려고 한다. bfs도 가능하지만 dfs 기술이 좀더 부족하기 때문이다."
      ],
      "metadata": {
        "id": "ab2JcJDRuTI8"
      }
    },
    {
      "cell_type": "markdown",
      "source": [
        "원하는 것보다 재귀가 많이 일어나면 안되므로\n",
        "\n",
        "```\n",
        "import sys \n",
        "sys.setrecursionlimit(10000)\n",
        "```\n",
        "\n",
        "를 사용해줘야한다."
      ],
      "metadata": {
        "id": "4Hcbj33oy-Fs"
      }
    },
    {
      "cell_type": "code",
      "source": [
        "\n",
        "\n",
        "import sys \n",
        "sys.setrecursionlimit(10000)\n",
        "\n",
        "# dfs\n",
        "def dfs(x,y):\n",
        "  # 방향 벡터 설정\n",
        "  dx =[-1,1,0,0]\n",
        "  dy =[0,0,-1,1]\n",
        "\n",
        "  for i in range(4):\n",
        "    nx = x + dx[i]\n",
        "    ny = y + dy[i]\n",
        "\n",
        "    if (0<=nx<n) and (0<= ny <m):\n",
        "      if graph[nx][ny] == 1:\n",
        "        # 방문 처리\n",
        "        graph[nx][ny] = -1\n",
        "        dfs(nx,ny)\n",
        "\n",
        "tc = int(input())\n",
        "for i in range(tc):\n",
        "  m,n,k = map(int,input().split())\n",
        "  graph = [[0]*m for _ in range(n)]\n",
        "\n",
        "  for i in range(k):\n",
        "    a,b = map(int,input().split())\n",
        "    graph[b][a] =1\n",
        "\n",
        "\n",
        "  result = 0\n",
        "\n",
        "  for i in range(n): # 행 \n",
        "    for j in range(m): # 열\n",
        "      if graph[i][j] > 0:\n",
        "        dfs(i, j)\n",
        "        result += 1\n",
        "          \n",
        "  print(result)\n"
      ],
      "metadata": {
        "id": "lf2aSdF5unOl"
      },
      "execution_count": null,
      "outputs": []
    },
    {
      "cell_type": "markdown",
      "source": [
        "유기농 배추 bfs"
      ],
      "metadata": {
        "id": "O0P6mA1pzIxC"
      }
    },
    {
      "cell_type": "code",
      "source": [
        "from collections import deque\n",
        "\n",
        "def bfs(graph,x,y):\n",
        "  # 방향 벡터 설정\n",
        "  dx =[-1,1,0,0]\n",
        "  dy =[0,0,-1,1]\n",
        "\n",
        "  q = deque((x,y))\n",
        "  graph[x][y] = 0\n",
        "  while q: \n",
        "    now_x,now_y = q.popleft()\n",
        "    for i in range(4):\n",
        "      nx = now_x + dx[i]\n",
        "      ny = now_y + dy[i]\n",
        "      if nx < 0 or nx >=n or ny < 0 or ny >= m:\n",
        "        continue\n",
        "        if graph[nx][ny] ==1 :\n",
        "          q.append((nx,ny))\n",
        "          graph[nx][ny] = 0\n",
        "\n",
        "  return \n",
        "\n",
        "tc = int(input())\n",
        "for i in range(tc):\n",
        "  m,n,k = map(int,input().split())\n",
        "  graph = [[0]*m for _ in range(n)]\n",
        "\n",
        "  for _ in range(k):\n",
        "    a,b = map(int,input().split())\n",
        "    graph[b][a] =1\n",
        "    \n",
        "  result = 0\n",
        "\n",
        "  for a in range(n):\n",
        "    for b in range(m):\n",
        "      if graph[a][b] ==1 :\n",
        "        bfs(graph,a,b)\n",
        "        result +=1\n",
        "          \n",
        "  print(result)"
      ],
      "metadata": {
        "id": "keHqLobBzKlg"
      },
      "execution_count": null,
      "outputs": []
    },
    {
      "cell_type": "markdown",
      "source": [
        "2750\n",
        "\n",
        "수 정렬하기\n",
        "---"
      ],
      "metadata": {
        "id": "1l18tvb42alG"
      }
    },
    {
      "cell_type": "code",
      "source": [
        "# 빠르게 입력받기위한 요소\n",
        "import sys\n",
        "input = sys.stdin.readline\n",
        "\n",
        "# 갯수 입력\n",
        "n = int(input())\n",
        "arr= []\n",
        "\n",
        "# 총수 입력\n",
        "for _ in range(n):\n",
        "  arr.append(int(input()))\n",
        "arr.sort()\n",
        "for i in arr:\n",
        "  print(i)"
      ],
      "metadata": {
        "id": "zP9K0crX2c8d"
      },
      "execution_count": null,
      "outputs": []
    },
    {
      "cell_type": "code",
      "source": [
        "n = list(map(int,input()))\n",
        "\n",
        "n= sorted(n,reverse = True)\n",
        "\n",
        "for i in n:\n",
        "  print(i, end=\"\")"
      ],
      "metadata": {
        "colab": {
          "base_uri": "https://localhost:8080/"
        },
        "id": "r1NQLeEU4QJP",
        "outputId": "a91ad2f1-6f45-420b-fa40-f80546974447"
      },
      "execution_count": 2,
      "outputs": [
        {
          "output_type": "stream",
          "name": "stdout",
          "text": [
            "1234\n",
            "4321"
          ]
        }
      ]
    },
    {
      "cell_type": "markdown",
      "source": [
        "\n",
        "1181\n",
        "단어 정렬\n",
        "---\n",
        "\n",
        "\n",
        "조건이 여러개인 정렬 \n",
        "lambda 를 사용해야할 것 같음\n",
        "\n",
        "또한 중복을 제외해야하니 집합 자료형에 넣었다가 다시 되돌리면 사라질 듯하다."
      ],
      "metadata": {
        "id": "W_FKW4rH45xC"
      }
    },
    {
      "cell_type": "code",
      "source": [
        "n = int(input())\n",
        "arr = []\n",
        "\n",
        "for i in range(n):\n",
        "  a = str(input())\n",
        "  arr.append((len(a),a))\n",
        "\n",
        "# 중복 삭제\n",
        "arr = list(set(arr))\n",
        "\n",
        "arr = sorted(arr,key=lambda a: (a[0],a[1]))\n",
        "\n",
        "for i in arr:\n",
        "  print(i[1])"
      ],
      "metadata": {
        "id": "mhdkeZt24_-_"
      },
      "execution_count": null,
      "outputs": []
    },
    {
      "cell_type": "markdown",
      "source": [
        "11650\n",
        "좌표 정렬하기\n",
        "---\n",
        "\n",
        "lambda로 쉽게 구현"
      ],
      "metadata": {
        "id": "-CXAhqDY8Uqd"
      }
    },
    {
      "cell_type": "code",
      "source": [
        "n = int(input())\n",
        "\n",
        "node = []\n",
        "\n",
        "for _ in range(n):\n",
        "  x,y = map(int,input().split())\n",
        "  node.append((x,y))\n",
        "\n",
        "node.sort(key = lambda a: (a[1], a[0]))\n",
        "\n",
        "for x,y in node:\n",
        "  print(x, end= \" \")\n",
        "  print(y, end= \" \")"
      ],
      "metadata": {
        "id": "lBCNa2TL8Y1r"
      },
      "execution_count": null,
      "outputs": []
    },
    {
      "cell_type": "markdown",
      "source": [
        "3273\n",
        "\n",
        "두수의 합\n",
        "---\n",
        "\n",
        "수가 엄청 커서 각각을 확인하는 방법으로는 시간 초과가 될 것같다. 그러면 보통 LOGN의 시간대가 나오는 반으로 자르는 정렬을 하는데 이것은 왼쪽 오른쪽에서 비교를 해서 오면 될 것 같다."
      ],
      "metadata": {
        "id": "-IZGqrfb-46k"
      }
    },
    {
      "cell_type": "code",
      "source": [
        "import sys\n",
        "\n",
        "n = int(input())\n",
        "# 입력을 받는다.\n",
        "arr = list(map(int, sys.stdin.readline().split()))\n",
        "\n",
        "x= int(input())\n",
        "\n",
        "# 정렬을 해준다\n",
        "arr.sort()\n",
        "\n",
        "lef , right = 0, n-1\n",
        "\n",
        "result = 0\n",
        "\n",
        "while left<right:\n",
        "  tmp  = arr[left] + arr[right]\n",
        "  if tmp == x :\n",
        "    result +=1\n",
        "  if tmp<x:\n",
        "    left += 1\n",
        "  else:\n",
        "    right -=1\n",
        "\n",
        "print(result)"
      ],
      "metadata": {
        "id": "NfjIsFmL_IHj"
      },
      "execution_count": null,
      "outputs": []
    }
  ]
}