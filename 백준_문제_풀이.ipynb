{
  "nbformat": 4,
  "nbformat_minor": 0,
  "metadata": {
    "colab": {
      "name": "백준 문제 풀이.ipynb",
      "provenance": [],
      "collapsed_sections": [],
      "authorship_tag": "ABX9TyMVqpG+uNwVvS1KHxP2VtRP",
      "include_colab_link": true
    },
    "kernelspec": {
      "name": "python3",
      "display_name": "Python 3"
    },
    "language_info": {
      "name": "python"
    }
  },
  "cells": [
    {
      "cell_type": "markdown",
      "metadata": {
        "id": "view-in-github",
        "colab_type": "text"
      },
      "source": [
        "<a href=\"https://colab.research.google.com/github/shinb-bong/TIL/blob/main/%EB%B0%B1%EC%A4%80_%EB%AC%B8%EC%A0%9C_%ED%92%80%EC%9D%B4.ipynb\" target=\"_parent\"><img src=\"https://colab.research.google.com/assets/colab-badge.svg\" alt=\"Open In Colab\"/></a>"
      ]
    },
    {
      "cell_type": "markdown",
      "source": [
        "ATM"
      ],
      "metadata": {
        "id": "Cyeo6F7mYsCS"
      }
    },
    {
      "cell_type": "code",
      "execution_count": 4,
      "metadata": {
        "colab": {
          "base_uri": "https://localhost:8080/"
        },
        "id": "rZase3VGYMmo",
        "outputId": "f8783f78-074c-41fe-ce5f-9ed36bdd3508"
      },
      "outputs": [
        {
          "output_type": "stream",
          "name": "stdout",
          "text": [
            "5\n",
            "3 1 4 3 2\n",
            "32\n"
          ]
        }
      ],
      "source": [
        "n = int(input())\n",
        "\n",
        "arr = list(map(int,input().split()))\n",
        "arr.sort()\n",
        "\n",
        "result = 0\n",
        "for i in range(n):\n",
        "  result += arr[i]*(n-i)\n",
        "\n",
        "print(result)"
      ]
    },
    {
      "cell_type": "markdown",
      "source": [
        "동전 0\n",
        "----\n",
        "\n"
      ],
      "metadata": {
        "id": "cSmGFiDAZzUR"
      }
    },
    {
      "cell_type": "code",
      "source": [
        "n , k = map(int,input().split())\n",
        "\n",
        "sector = []\n",
        "count =0\n",
        "\n",
        "for i in range(n):\n",
        "  sector.append(int(input()))\n",
        "\n",
        "sector.sort(reverse=True)\n",
        "\n",
        "for i in sector:\n",
        "  if k > 0 and k // i !=0:\n",
        "    count += k//i\n",
        "    k = k% i  \n",
        "  if k <= 0 :\n",
        "    break\n",
        "\n",
        "print(count)"
      ],
      "metadata": {
        "id": "2dHJqcy5Z1E-"
      },
      "execution_count": null,
      "outputs": []
    },
    {
      "cell_type": "markdown",
      "source": [
        "회의실 배정\n",
        "---\n"
      ],
      "metadata": {
        "id": "7vvMvhMCb19-"
      }
    },
    {
      "cell_type": "code",
      "source": [
        "N = int(input())\n",
        "time = []\n",
        "\n",
        "for _ in range(N):\n",
        "  start, end = map(int, input().split())\n",
        "  time.append([start, end])\n",
        "\n",
        "time = sorted(time, key=lambda a: a[0]) # 시작 시간을 기준으로 오름차순\n",
        "time = sorted(time, key=lambda a: a[1]) # 끝나는 시간을 기준으로 다시 오름차순\n",
        "\n",
        "last = 0 # 회의의 마지막 시간을 저장할 변수\n",
        "conut = 0 # 회의 개수를 저장할 변수\n",
        "\n",
        "for i, j in time:\n",
        "  if i >= last: # 시작시간이 회의의 마지막 시간보다 크거나 같을경우\n",
        "    conut += 1\n",
        "    last = j\n",
        "\n",
        "print(conut)"
      ],
      "metadata": {
        "id": "NvvGqxP8b4nV"
      },
      "execution_count": null,
      "outputs": []
    },
    {
      "cell_type": "markdown",
      "source": [
        "보물\n",
        "--\n",
        "\n",
        "작은거 x 큰거 하면될 것같다."
      ],
      "metadata": {
        "id": "QAMWv_QgjzZU"
      }
    },
    {
      "cell_type": "code",
      "source": [
        "n = int(input())\n",
        "\n",
        "a_list = list(map(int, input().split()))\n",
        "b_list = list(map(int, input().split()))\n",
        "\n",
        "sorted_a = sorted(a_list, reverse=True)\n",
        "sorted_b = sorted(b_list)\n",
        "\n",
        "s = 0\n",
        "for i in range(n):\n",
        "    s += sorted_a[i] * sorted_b[i]\n",
        "\n",
        "print(s)"
      ],
      "metadata": {
        "id": "OrDWhncMj0ti"
      },
      "execution_count": null,
      "outputs": []
    },
    {
      "cell_type": "code",
      "source": [
        "n = int(input())\n",
        "\n",
        "a_list = list(map(int, input().split()))\n",
        "b_list = list(map(int, input().split()))\n",
        "\n",
        "s = 0\n",
        "for i in range(n):\n",
        "    s += min(a_list) * max(b_list)\n",
        "    a_list.pop(a_list.index(min(a_list)))\n",
        "    b_list.pop(b_list.index(max(b_list)))\n",
        "\n",
        "print(s)"
      ],
      "metadata": {
        "id": "98vOYmYvlUaF"
      },
      "execution_count": null,
      "outputs": []
    },
    {
      "cell_type": "markdown",
      "source": [
        "잃어버린 괄호\n",
        "---\n",
        "\n",
        "-기준으로 나머지들은 +로 묶어서 크게크게 빼면된다"
      ],
      "metadata": {
        "id": "vDygghRblpia"
      }
    },
    {
      "cell_type": "code",
      "source": [
        "arr = input().split('-')\n",
        "\n",
        "s = 0\n",
        "\n",
        "for i in arr[0].split('+'):\n",
        "  # 첫번째 시작은 무조건 양수니깐\n",
        "  s += int(i)\n",
        "\n",
        "for i in arr[1:]:\n",
        "  for j in i.split('+'):\n",
        "    s -= int(j)\n",
        "\n",
        "print(s)\n",
        "  "
      ],
      "metadata": {
        "id": "dtpWFXTKlrva"
      },
      "execution_count": null,
      "outputs": []
    },
    {
      "cell_type": "markdown",
      "source": [
        "A+b -5\n",
        "---\n",
        "-4 try except 문 사용"
      ],
      "metadata": {
        "id": "WwsIhfslnzsv"
      }
    },
    {
      "cell_type": "code",
      "source": [
        "while True:\n",
        "    try:\n",
        "        A, B = map(int, input().split())\n",
        "        print(A+B)\n",
        "    except:\n",
        "        break"
      ],
      "metadata": {
        "id": "dxPujqsan1gC"
      },
      "execution_count": null,
      "outputs": []
    },
    {
      "cell_type": "markdown",
      "source": [
        "DFS/BFS (1260)\n",
        "---\n",
        "\n",
        "\n",
        "DFS/ BFS 구현 제일 기초문제"
      ],
      "metadata": {
        "id": "WMTdk2sxrUhY"
      }
    },
    {
      "cell_type": "code",
      "source": [
        "n, m, v = map(int, input().split())\n",
        "import collections\n",
        "\n",
        "matrix = [[0] * (n+1) for i in range(n+1)]\n",
        "seen = [0] * (n+1)\n",
        "\n",
        "for _ in range(m):\n",
        "    a, b = map(int, input().split())\n",
        "    matrix[a][b] = matrix[b][a]= 1\n",
        "\n",
        "def dfs(v):\n",
        "    seen[v] = 1\n",
        "    print(v, end=' ')\n",
        "    for i in range(1, n+1):\n",
        "        if matrix[v][i] == 1 and seen[i] == 0:\n",
        "            dfs(i)\n",
        "\n",
        "def bfs(v):\n",
        "    queue = collections.deque()\n",
        "    queue.append(v)\n",
        "    seen[v] = 1\n",
        "\n",
        "    while queue:\n",
        "        v = queue.popleft()\n",
        "        print(v, end=' ')\n",
        "        for i in range(1, n+1):\n",
        "            if matrix[v][i]==1 and seen[i] == 0:\n",
        "                queue.append(i)\n",
        "                seen[i]=1\n",
        "\n",
        "dfs(v)\n",
        "seen = [0] * (n+1)\n",
        "print()\n",
        "bfs(v)"
      ],
      "metadata": {
        "id": "r5Tq-fqkrSmb"
      },
      "execution_count": null,
      "outputs": []
    }
  ]
}