{
  "nbformat": 4,
  "nbformat_minor": 0,
  "metadata": {
    "colab": {
      "name": "백준 3주차 문제풀이.ipynb",
      "provenance": [],
      "collapsed_sections": [],
      "authorship_tag": "ABX9TyMoIAzLdeqDQG3k6QqQUsGk",
      "include_colab_link": true
    },
    "kernelspec": {
      "name": "python3",
      "display_name": "Python 3"
    },
    "language_info": {
      "name": "python"
    }
  },
  "cells": [
    {
      "cell_type": "markdown",
      "metadata": {
        "id": "view-in-github",
        "colab_type": "text"
      },
      "source": [
        "<a href=\"https://colab.research.google.com/github/shinb-bong/TIL/blob/main/%EB%B0%B1%EC%A4%80_3%EC%A3%BC%EC%B0%A8_%EB%AC%B8%EC%A0%9C%ED%92%80%EC%9D%B4.ipynb\" target=\"_parent\"><img src=\"https://colab.research.google.com/assets/colab-badge.svg\" alt=\"Open In Colab\"/></a>"
      ]
    },
    {
      "cell_type": "markdown",
      "source": [
        "11054번\n",
        "가장 긴 바이토닉 부분 수열\n",
        "---\n",
        "\n",
        "틀린 문제이지만 \n",
        "\n",
        "해설을 적어보자면 한 수에 대해서 양쪽으로 증가하는 수열을 기록해준다. \n",
        "\n",
        "그러면 왼쪽에서 증가하는 수열에 대한 답, 오른쪽에서 증가하는 수열에 대한 답이 나올것 이며 \n",
        "\n",
        "정답은 해당 수들 중 가장 큰 합을 가지는 값을 보여주면된다. "
      ],
      "metadata": {
        "id": "HjuWtpnhr1Sk"
      }
    },
    {
      "cell_type": "code",
      "execution_count": null,
      "metadata": {
        "id": "sqDYqRakrFx9"
      },
      "outputs": [],
      "source": [
        "import operator\n",
        "\n",
        "n = int(input())\n",
        "\n",
        "arr = list(map(int,input().split()))\n",
        "\n",
        "# 왼쪽 부분에 대한 증가 수열을 적음\n",
        "inc = [1] * n\n",
        "\n",
        "# 오른쪽 부분에 대한 증가 수열을 적음\n",
        "dec = [1] * n\n",
        "\n",
        "# 해당 전 수까지 확인을 하면서\n",
        "for i in range(n):\n",
        "  for j in range(i):\n",
        "    # 만약 그 전 수가 작고 수열이 길다면\n",
        "    if arr[i] > arr[j] and inc[i] <= inc[j]:\n",
        "      inc[i] = inc[j] +1\n",
        "\n",
        "# 해당 수 후부터 증가 수열을 판별\n",
        "for i in range(n-1,-1,-1):\n",
        "  for j in range(i,n):\n",
        "    # 위와 같음\n",
        "    if arr[i] > arr[j] and dec[i] <= dec[j]:\n",
        "      dec[i] = dec[j] +1\n",
        "\n",
        "print(max(map(operator.add,inc,dec))-1)"
      ]
    },
    {
      "cell_type": "markdown",
      "source": [
        "11055번\n",
        "가장 큰 증가 부분 수열\n",
        "--- \n",
        "\n",
        "해당 수열은 람다 함수식에 의해서 쉽게 구현할 수 있었다.\n"
      ],
      "metadata": {
        "id": "mPt46FwTvNen"
      }
    },
    {
      "cell_type": "code",
      "source": [
        "n = int(input())\n",
        "\n",
        "arr = list(map(int,input().split()))\n",
        "\n",
        "# arr 값 복사\n",
        "dp = arr[:]\n",
        "\n",
        "for i in range(n):\n",
        "  for j in range(i):\n",
        "    if arr[i] > arr[j]:\n",
        "      dp[i] = max(dp[i], dp[j]+arr[i])\n",
        "\n",
        "print(max(dp))"
      ],
      "metadata": {
        "id": "qBhKLcvnvT14"
      },
      "execution_count": null,
      "outputs": []
    },
    {
      "cell_type": "markdown",
      "source": [
        "2565번\n",
        "전깃줄\n",
        "---\n",
        "\n",
        "해당 문제는 전깃줄을 교차하지 않도록 하게 최소 개수의 전깃줄을 없애는 것인데 \n",
        "\n",
        "가장 쉬운방법은 출발 시작점 보다 다음이 커지는 전깃줄을 다 제외하던가\n",
        "\n",
        "아니면 출발 시작점 보다 다음이 다 작아지는 전깃줄을 제외하면된다.\n",
        "\n",
        "----\n",
        "정확한 풀이: 첫번째  A에 대해 전부 정렬을 진행한다. 그후 증가하는 부분 수열을 구해주면 조금 더 쉽게 접근이 가능하다.\n",
        "\n"
      ],
      "metadata": {
        "id": "FWzzX9IyxLoS"
      }
    },
    {
      "cell_type": "code",
      "source": [
        "n = int(input()) \n",
        "\n",
        "lst = []\n",
        "\n",
        "# list 받아오기\n",
        "for _ in range(n):\n",
        "  lst.append(list(map(int,input().split())))\n",
        "\n",
        "lst.sort()\n",
        "\n",
        "dp = [1] * n\n",
        "for i in range(n):\n",
        "  for j in range(i):\n",
        "    if lst[i][1] > lst [j][1] and dp[i] < dp[j] +1:\n",
        "      dp[i] = dp[j] +1\n",
        "\n",
        "print(n - max(dp))"
      ],
      "metadata": {
        "id": "YTct75AhzZZT"
      },
      "execution_count": null,
      "outputs": []
    },
    {
      "cell_type": "markdown",
      "source": [
        "10815\n",
        "숫자 카드\n",
        "--- \n",
        "\n",
        "원하는 카드가 있는지 검색하는 문제이다. 하지만 주어진 수가 50만으로 굉장히 크다. 이에 따라 이분 탐색을 진행하려고한다.\n",
        "\n"
      ],
      "metadata": {
        "id": "ZU4sHOa60XkN"
      }
    },
    {
      "cell_type": "code",
      "source": [
        "import sys\n",
        "\n",
        "n = int(input())\n",
        "card = list(map(int, sys.stdin.readline().split()))\n",
        "m = int(input())\n",
        "check = list(map(int, sys.stdin.readline().split()))\n",
        "\n",
        "card.sort()\n",
        "\n",
        "def binary_search(array, target, start, end):\n",
        "    while start <= end:\n",
        "        mid = (start + end) // 2\n",
        "\n",
        "        if array[mid] == target:\n",
        "            return mid\n",
        "        elif array[mid] > target:\n",
        "            end = mid - 1\n",
        "        else:\n",
        "            start = mid + 1\n",
        "    return None\n",
        "\n",
        "\n",
        "for i in range(m):\n",
        "    if binary_search(card, check[i], 0, n - 1) is not None:\n",
        "        print(1, end=' ')\n",
        "    else:\n",
        "        print(0, end=' ')"
      ],
      "metadata": {
        "colab": {
          "base_uri": "https://localhost:8080/"
        },
        "id": "bsymeze-0iSK",
        "outputId": "666da2bb-6b4a-49d5-f13e-6ac9ff3b81fb"
      },
      "execution_count": null,
      "outputs": [
        {
          "output_type": "stream",
          "name": "stdout",
          "text": [
            "5\n",
            "6 3 2 10 -10\n",
            "8\n",
            "10 9 -5 2 3 4 5 -10\n",
            "0 0 0 0 1 0 0 0 "
          ]
        }
      ]
    },
    {
      "cell_type": "markdown",
      "source": [
        "2110번\n",
        "공유기 설치\n",
        "---\n",
        "\n",
        "최대 값을 비교해보면서 간다"
      ],
      "metadata": {
        "id": "tGx8kT-yyimy"
      }
    },
    {
      "cell_type": "code",
      "source": [
        "n,c = map(int,input().split())\n",
        "\n",
        "# 집 좌표 받기\n",
        "array = []\n",
        "for _ in range(n):\n",
        "  array.append(int(input()))\n",
        "\n",
        "array.sort() # 이진 탐색을 위해 정렬\n",
        "\n",
        "start =1 # 가능한 최소거리\n",
        "end = array[-1] -array[0] # 가능한 최대거리\n",
        "result =0 \n",
        "\n",
        "while start <= end :\n",
        "  mid = (start+end) //2 # 가장 인접한 두 공유기 사이의 거리\n",
        "  value = array[0]\n",
        "  cnt =1\n",
        "  # 현재 mid값을 사용해 공유기를 설치\n",
        "  for i in range(1,n):\n",
        "    if array[i] >= value + mid:\n",
        "      value  = array[i]\n",
        "      cnt += 1\n",
        "  if cnt >= c: # c개 이상의 공유기를 설치가능\n",
        "    start= mid +1\n",
        "    result = mid #최적의 결과\n",
        "  else:\n",
        "    end = mid -1\n",
        "\n",
        "\n",
        "print(result)"
      ],
      "metadata": {
        "id": "tYadxOvoD6jv"
      },
      "execution_count": null,
      "outputs": []
    },
    {
      "cell_type": "markdown",
      "source": [
        "11725번\n",
        "트리의 부모 찾기\n",
        "---\n",
        "\n",
        "dfs로 풀었으며\n",
        "\n",
        "어느쪽이 우위인지 방향성이 없으므로 \n",
        "둘다 삽입을 해준다. 그리고 만약 방문이 안되었다면 n으로 업데이트를 하고 이어가는 방식으로 한다.\n",
        "\n",
        "이때 만약 1,6 이랑 충동하거나 우위가 달라지면 어떻하냐? 그래서 루트 노드인 1부터 진행을 하면서 확인을 하면서 그런 오류가 발생하지 않는다.\n",
        "\n",
        "```\n",
        "sys.setrecursionlimit(10**6)\n",
        "```\n",
        "\n",
        "이걸로 리커전 오류를 방지한다."
      ],
      "metadata": {
        "id": "9LbX-78MFjr3"
      }
    },
    {
      "cell_type": "code",
      "source": [
        "import sys\n",
        "input = sys.stdin.readline\n",
        "sys.setrecursionlimit(10**6)\n",
        "\n",
        "n = int(input())\n",
        "graph = [[] for _ in range(n+1)]\n",
        "parent = [-1]*(n+1)\n",
        "    \n",
        "for _ in range(n-1):\n",
        "    a,b = map(int,input().split())\n",
        "    graph[a].append(b)\n",
        "    graph[b].append(a)\n",
        "\n",
        "def dfs(n):\n",
        "    for i in graph[n]:\n",
        "        if parent[i] == -1:\n",
        "            parent[i] = n\n",
        "            dfs(i)\n",
        "    return\n",
        "            \n",
        "dfs(1)\n",
        "for i in range(2,n+1):\n",
        "    print(parent[i])"
      ],
      "metadata": {
        "id": "UUYqckUGF1wg"
      },
      "execution_count": null,
      "outputs": []
    },
    {
      "cell_type": "markdown",
      "source": [
        "2644번 \n",
        "촌수계산 \n",
        "---\n",
        "\n"
      ],
      "metadata": {
        "id": "vDbYXOxwL9bd"
      }
    },
    {
      "cell_type": "code",
      "source": [
        "from collections import deque\n",
        "n = int(input())\n",
        "\n",
        "# 촌수를 계산해야하는 서로 다른 두사람\n",
        "answer = list(map(int,input().split()))\n",
        "\n",
        "m = int(input())\n",
        "# 그래프\n",
        "graph = [[]for _ in range(n+1)]\n",
        "for _ in range(m):\n",
        "  a, b = map(int,input().split())\n",
        "  graph[a].append(b)\n",
        "  graph[b].append(a)\n",
        "\n",
        "# 정보를 담기위한 테이블\n",
        "visitied = [0] * (n+1)\n",
        "\n",
        "q = deque()\n",
        "q.append(answer[0])\n",
        "\n",
        "while q:\n",
        "  now =q.popleft()\n",
        "  for i in graph[now]:\n",
        "    if visitied[i] == 0:\n",
        "      # 촌수를 계산한뒤 넣어주기\n",
        "      visitied[i] = visitied[now] +1\n",
        "      q.append(i)\n",
        " \n",
        "# 만약 촌수가 계산되지 않았다면\n",
        "if visitied[answer[1]] <= 0 :\n",
        "  print(-1)\n",
        "# 촌수가 계산되엇다면\n",
        "else: \n",
        "  print(visitied[answer[1]])"
      ],
      "metadata": {
        "id": "FEPpf_q3MQv2"
      },
      "execution_count": null,
      "outputs": []
    },
    {
      "cell_type": "markdown",
      "source": [
        "1707번\n",
        "연결 요소의 개수\n",
        "---"
      ],
      "metadata": {
        "id": "j0iNv_d1UwWi"
      }
    },
    {
      "cell_type": "code",
      "source": [
        "tc = int(input())\n",
        "\n",
        "for _ in range(tc):\n",
        "  n = int(input())\n",
        "  parent = [0] * (n+1) #부모노드\n",
        "  for _ in range(n-1):\n",
        "    a,b = map(int,input().split())\n",
        "    parent[b] = a\n",
        "  \n",
        "  a,b = map(int,input().split())\n",
        "\n",
        "  a_parent, b_parent = [0,a], [0,b] # a,b 부모 자식일수니 인덱스 에러안나게\n",
        "  \n",
        "  # a 부터 거슬러 올라가자\n",
        "  while parent[a]:\n",
        "      a_parent.append(parent[a])\n",
        "      a = parent[a]\n",
        "  # b 거슬러 올라가기\n",
        "  while parent[b]:\n",
        "      b_parent.append(parent[b])\n",
        "      b = parent[b]\n",
        "\n",
        "  # 뒤에서 부터 거꾸로 탐색하며 가장 가까운 공통 조상 찾기\n",
        "  cnt = 1\n",
        "  while a_parent[-cnt] == b_parent[-cnt]:\n",
        "      cnt +=1\n",
        "  \n",
        "  print(a_parent[-cnt+1])\n",
        "        "
      ],
      "metadata": {
        "id": "Zwv6K-hgVOD7"
      },
      "execution_count": null,
      "outputs": []
    },
    {
      "cell_type": "markdown",
      "source": [
        "1937번\n",
        "욕심쟁이 판다\n",
        "---\n",
        "\n",
        "메모이제이션으로 메모해가면서 푸는 문제 인것 같다. \n",
        "\n",
        "주어진 수가 작아서 총 출력할땐 한번씩 다 검사해보고 출력을 해줘도 될듯하다.\n",
        "\n",
        "dfs로 진행을 해보려고 한다.\n",
        "\n",
        "\n",
        "result = max(result, dfs(i, j))\n",
        "\n",
        "이부분을 실수해서 틀렸다. 다 구해진 dp 테이블과 지금까지 구해진 result 중 큰 값을 구해줘야한다."
      ],
      "metadata": {
        "id": "WadFW13oUwS-"
      }
    },
    {
      "cell_type": "code",
      "source": [
        "import sys\n",
        "sys.setrecursionlimit(40000)\n",
        "\n",
        "def dfs(x, y):\n",
        "    # 이미 한번 방문한건 그대로 돌려준다.\n",
        "    if dp[x][y]: return dp[x][y]\n",
        "    # 탑다운 방식 진행\n",
        "    dp[x][y] = 1\n",
        "    for i in range(4):\n",
        "        nx = x + dx[i]\n",
        "        ny = y + dy[i]\n",
        "        if 0 <= nx < n and 0 <= ny < n:\n",
        "            if graph[x][y] < graph[nx][ny]:\n",
        "                # 더 큰값을 dp에 새로갱신\n",
        "                dp[x][y] = max(dp[x][y], dfs(nx, ny) + 1)\n",
        "    # dp 리턴\n",
        "    return dp[x][y]\n",
        "\n",
        "# 크기\n",
        "n = int(input())\n",
        "graph = []\n",
        "dp = [[0]*n for _ in range(n)]\n",
        "# 그래프 입력 받기\n",
        "for _ in range(n):\n",
        "  graph.append(list(map(int,input().split())))\n",
        "\n",
        "# 방향 벡터 설정\n",
        "dx = [-1,1,0,0]\n",
        "dy = [0,0,1,-1]\n",
        "\n",
        "# 결과\n",
        "result =0\n",
        "# 어디서 시작할지 \n",
        "for i in range(n):\n",
        "  for j in range(n):\n",
        "    result = max(result, dfs(i, j))\n",
        "\n",
        "print(result)"
      ],
      "metadata": {
        "id": "RMuA6KuNmin3"
      },
      "execution_count": null,
      "outputs": []
    },
    {
      "cell_type": "markdown",
      "source": [
        "1967번\n",
        "트리의 지름 \n",
        "----\n",
        "\n",
        "핵심요소: \n",
        "\n",
        "지름이란 말단노드에서 말단 노드까지의 거리를 말하는데 이것을 가장 최대로 구해야하므로\n",
        "\n",
        "1. 가장 먼 말단 노드를 찾는다.\n",
        "\n",
        "2. 그 말단 노드에서 가장 먼 다른 말단 노드를 찾는다. \n",
        "\n",
        "\n",
        "이과정에서 dfs가 두번연속 사용된다는 것을 알 수 있다."
      ],
      "metadata": {
        "id": "HXi0ZAwDv8YK"
      }
    },
    {
      "cell_type": "code",
      "source": [
        "import sys\n",
        "\n",
        "input = sys.stdin.readline\n",
        "sys.setrecursionlimit(10**9)\n",
        "\n",
        "n = int(input())\n",
        "graph = [[] for _ in range(n + 1)]\n",
        "\n",
        "\n",
        "def dfs(x, wei):\n",
        "    for i in graph[x]:\n",
        "        a, b = i\n",
        "        if distance[a] == -1:\n",
        "            distance[a] = wei + b\n",
        "            dfs(a, wei + b)\n",
        "\n",
        "\n",
        "# 트리 구현\n",
        "for _ in range(n - 1):\n",
        "    a, b, c = map(int, input().split())\n",
        "    graph[a].append([b, c])\n",
        "    graph[b].append([a, c])\n",
        "\n",
        "# 1번 노드에서 가장 먼 곳을 찾는다.\n",
        "distance = [-1] * (n + 1)\n",
        "distance[1] = 0\n",
        "dfs(1, 0)\n",
        "\n",
        "# 위에서 찾은 노드에 대한 가장 먼 노드를 찾는다.\n",
        "start = distance.index(max(distance))\n",
        "distance = [-1] * (n + 1)\n",
        "distance[start] = 0\n",
        "\n",
        "#시작 노드이므로 처음 가중치는 0\n",
        "dfs(start, 0)\n",
        "\n",
        "print(max(distance))"
      ],
      "metadata": {
        "id": "jSvtfaM8vkk5"
      },
      "execution_count": null,
      "outputs": []
    },
    {
      "cell_type": "markdown",
      "source": [
        "2156번\n",
        "포도주 시식\n",
        "---\n",
        "\n",
        "점화식: dp[i-2]+ max(dp[i-1],dp[i])\n",
        "\n"
      ],
      "metadata": {
        "id": "CulPd5dZLbU3"
      }
    },
    {
      "cell_type": "code",
      "source": [
        "n = int(input())\n",
        "\n",
        "# 컵 입력 받기\n",
        "graph = [0]* 10000\n",
        "dp = [0] * 10000\n",
        "\n",
        "# 입력 받기\n",
        "for i in range(n):\n",
        "  graph[i] = int(input())\n",
        "\n",
        "dp[0]= graph[0]\n",
        "dp[1]= graph[1]+graph[0]\n",
        "dp[2]=max(graph[2]+graph[0], graph[2]+graph[1],dp[1])\n",
        "for i in range(3,n):\n",
        "  dp[i] = max(graph[i]+dp[i-2], graph[i]+graph[i-1]+dp[i-3],dp[i-1])\n",
        "\n",
        "    \n",
        "print(max(dp))"
      ],
      "metadata": {
        "colab": {
          "base_uri": "https://localhost:8080/"
        },
        "id": "PMfCeyeIMCUK",
        "outputId": "f409cff0-183f-4a3f-a18c-9d67ac981619"
      },
      "execution_count": null,
      "outputs": [
        {
          "output_type": "stream",
          "name": "stdout",
          "text": [
            "6\n",
            "6\n",
            "10\n",
            "13\n",
            "9\n",
            "8\n",
            "1\n",
            "27\n"
          ]
        }
      ]
    },
    {
      "cell_type": "markdown",
      "source": [
        "2468\n",
        "안전영역\n",
        "----\n",
        "\n",
        "BFS로 접근을 하였고 높이가 100이하의 정수로 N^2 을해도 10000회밖에 나오질않으므로 2중 포문으로 모두 검사하려고한다."
      ],
      "metadata": {
        "id": "gEUjGY3pNcrU"
      }
    },
    {
      "cell_type": "code",
      "source": [
        "from collections import deque\n",
        "\n",
        "# (x,y,높이,방문여부)\n",
        "def bfs(a,b,target,visited):\n",
        "  \n",
        "  # 큐 정의\n",
        "  q = deque()\n",
        "  q.append((a,b))\n",
        "  visited[a][b] = 1\n",
        "  while q:\n",
        "    x,y = q.popleft()\n",
        "    for i in range(4):\n",
        "      nx = x + dx[i]\n",
        "      ny = y + dy[i]\n",
        "      if 0 <= nx < n and 0 <= ny < n:\n",
        "        if graph[nx][ny] > target and visited[nx][ny] == 0:\n",
        "            visited[nx][ny] = 1\n",
        "            q.append((nx, ny))\n",
        "\n",
        "# 수 입력           \n",
        "n = int(input())\n",
        "# 행렬중 가장 큰수 (가장 큰게 잠기면 다 잠기는거니깐 의미가없음)\n",
        "max = 0\n",
        "graph= []\n",
        "# 방향벡터\n",
        "dx = [-1,1,0,0]\n",
        "dy = [0,0,-1,1]\n",
        "\n",
        "# 가장 큰수를 찾아준다.\n",
        "for i in range(n):\n",
        "    graph.append(list(map(int, input().split())))\n",
        "    for j in range(n):\n",
        "        if graph[i][j] > max:\n",
        "            max = graph[i][j] \n",
        "\n",
        "# 결과 값중 가장 영역이 많은것\n",
        "maximum = 0\n",
        "for a in range(max): # 0부터 max-1까지 조회\n",
        "    visited = [[0] * n for _ in range(n)] # 매횟수마다 visited 초기화\n",
        "    ans = 0\n",
        "    for i in range(n):\n",
        "        for j in range(n):\n",
        "            if graph[i][j] > a and visited[i][j] == 0: # 비가 온것보다 높은 곳이고 방문하지 않은 경우 bfs호출\n",
        "                bfs(i, j, a, visited)\n",
        "                ans += 1\n",
        "    if maximum < ans:\n",
        "        maximum = ans\n",
        "print(maximum)"
      ],
      "metadata": {
        "colab": {
          "base_uri": "https://localhost:8080/"
        },
        "id": "IaCOFpWmNuV8",
        "outputId": "70c2f944-2a2c-4490-c0f3-ce447a0ff93e"
      },
      "execution_count": null,
      "outputs": [
        {
          "output_type": "stream",
          "name": "stdout",
          "text": [
            "5\n",
            "6 8 2 6 2\n",
            "3 2 3 4 6\n",
            "6 7 3 3 2\n",
            "7 2 5 3 6\n",
            "8 9 5 2 7\n",
            "9\n"
          ]
        }
      ]
    },
    {
      "cell_type": "markdown",
      "source": [
        "11727번\n",
        "2xn 타일링2\n",
        "---\n",
        "\n",
        "dp 테이블 작성으로 바텀 업 방식을 사용하려고 한다. \n",
        "\n",
        "홀수 일경우 그전 dp테이블에서 세로1xn의 블럭 밖에 못두니 그대로 가져가고 짝수일 경우 총 할수 있는 방법 3개를 더해주려고 한다."
      ],
      "metadata": {
        "id": "Hgv1nNUJneiJ"
      }
    },
    {
      "cell_type": "code",
      "source": [
        "n = int(input())\n",
        "\n",
        "# 주어진 수의 끝\n",
        "dp = [0] * 10001\n",
        "dp[1] = 1 # 한가지 방법\n",
        "dp[2] =3\n",
        "for i in range(3,n+1):\n",
        "  dp[i] = dp[i-1] + 2*dp[i-2] # i-1은 현재 i-1에서 뒤에 1x2를 붙인거 i-2는 뒤에다가 정사각형 두개붙인거\n",
        "\n",
        "print(dp[n]%10007)"
      ],
      "metadata": {
        "colab": {
          "base_uri": "https://localhost:8080/"
        },
        "id": "4krwu1KwoVdO",
        "outputId": "b79073b3-22c6-475e-c6c0-e034468f962d"
      },
      "execution_count": 6,
      "outputs": [
        {
          "output_type": "stream",
          "name": "stdout",
          "text": [
            "8\n",
            "171\n"
          ]
        }
      ]
    },
    {
      "cell_type": "markdown",
      "source": [
        "2193번\n",
        "이친수\n",
        "---\n",
        "\n",
        "그림을 그려봤다. \n",
        "1일땐 1 (1)\n",
        "2일땐 10 (1)\n",
        "3일땐 100,110 (2)\n",
        "4일땐 1000,1001,1010 (3)\n",
        "5일땐 5개\n",
        "\n",
        "해서 dp[i] = dp[i-1]+ dp[i-2]\n"
      ],
      "metadata": {
        "id": "lpYzKb3voRZV"
      }
    },
    {
      "cell_type": "code",
      "source": [
        "n = int(input())\n",
        "\n",
        "dp = [0] * 91\n",
        "dp[1] = 1\n",
        "dp[2] = 1\n",
        "\n",
        "for i in range(3,n+1):\n",
        "  dp[i] = dp[i-1]+dp[i-2]\n",
        "\n",
        "print(dp[n])"
      ],
      "metadata": {
        "id": "3XbTvq8Xs-W0"
      },
      "execution_count": null,
      "outputs": []
    }
  ]
}