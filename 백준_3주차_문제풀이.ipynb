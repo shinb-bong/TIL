{
  "nbformat": 4,
  "nbformat_minor": 0,
  "metadata": {
    "colab": {
      "name": "백준 3주차 문제풀이.ipynb",
      "provenance": [],
      "collapsed_sections": [],
      "authorship_tag": "ABX9TyMth83/N46UKlbCmJRYUzWg",
      "include_colab_link": true
    },
    "kernelspec": {
      "name": "python3",
      "display_name": "Python 3"
    },
    "language_info": {
      "name": "python"
    }
  },
  "cells": [
    {
      "cell_type": "markdown",
      "metadata": {
        "id": "view-in-github",
        "colab_type": "text"
      },
      "source": [
        "<a href=\"https://colab.research.google.com/github/shinb-bong/TIL/blob/main/%EB%B0%B1%EC%A4%80_3%EC%A3%BC%EC%B0%A8_%EB%AC%B8%EC%A0%9C%ED%92%80%EC%9D%B4.ipynb\" target=\"_parent\"><img src=\"https://colab.research.google.com/assets/colab-badge.svg\" alt=\"Open In Colab\"/></a>"
      ]
    },
    {
      "cell_type": "markdown",
      "source": [
        "11054번\n",
        "가장 긴 바이토닉 부분 수열\n",
        "---\n",
        "\n",
        "틀린 문제이지만 \n",
        "\n",
        "해설을 적어보자면 한 수에 대해서 양쪽으로 증가하는 수열을 기록해준다. \n",
        "\n",
        "그러면 왼쪽에서 증가하는 수열에 대한 답, 오른쪽에서 증가하는 수열에 대한 답이 나올것 이며 \n",
        "\n",
        "정답은 해당 수들 중 가장 큰 합을 가지는 값을 보여주면된다. "
      ],
      "metadata": {
        "id": "HjuWtpnhr1Sk"
      }
    },
    {
      "cell_type": "code",
      "execution_count": null,
      "metadata": {
        "id": "sqDYqRakrFx9"
      },
      "outputs": [],
      "source": [
        "import operator\n",
        "\n",
        "n = int(input())\n",
        "\n",
        "arr = list(map(int,input().split()))\n",
        "\n",
        "# 왼쪽 부분에 대한 증가 수열을 적음\n",
        "inc = [1] * n\n",
        "\n",
        "# 오른쪽 부분에 대한 증가 수열을 적음\n",
        "dec = [1] * n\n",
        "\n",
        "# 해당 전 수까지 확인을 하면서\n",
        "for i in range(n):\n",
        "  for j in range(i):\n",
        "    # 만약 그 전 수가 작고 수열이 길다면\n",
        "    if arr[i] > arr[j] and inc[i] <= inc[j]:\n",
        "      inc[i] = inc[j] +1\n",
        "\n",
        "# 해당 수 후부터 증가 수열을 판별\n",
        "for i in range(n-1,-1,-1):\n",
        "  for j in range(i,n):\n",
        "    # 위와 같음\n",
        "    if arr[i] > arr[j] and dec[i] <= dec[j]:\n",
        "      dec[i] = dec[j] +1\n",
        "\n",
        "print(max(map(operator.add,inc,dec))-1)"
      ]
    },
    {
      "cell_type": "markdown",
      "source": [
        "11055번\n",
        "가장 큰 증가 부분 수열\n",
        "--- \n",
        "\n",
        "해당 수열은 람다 함수식에 의해서 쉽게 구현할 수 있었다.\n"
      ],
      "metadata": {
        "id": "mPt46FwTvNen"
      }
    },
    {
      "cell_type": "code",
      "source": [
        "n = int(input())\n",
        "\n",
        "arr = list(map(int,input().split()))\n",
        "\n",
        "# arr 값 복사\n",
        "dp = arr[:]\n",
        "\n",
        "for i in range(n):\n",
        "  for j in range(i):\n",
        "    if arr[i] > arr[j]:\n",
        "      dp[i] = max(dp[i], dp[j]+arr[i])\n",
        "\n",
        "print(max(dp))"
      ],
      "metadata": {
        "id": "qBhKLcvnvT14"
      },
      "execution_count": null,
      "outputs": []
    },
    {
      "cell_type": "markdown",
      "source": [
        "2565번\n",
        "전깃줄\n",
        "---\n",
        "\n",
        "해당 문제는 전깃줄을 교차하지 않도록 하게 최소 개수의 전깃줄을 없애는 것인데 \n",
        "\n",
        "가장 쉬운방법은 출발 시작점 보다 다음이 커지는 전깃줄을 다 제외하던가\n",
        "\n",
        "아니면 출발 시작점 보다 다음이 다 작아지는 전깃줄을 제외하면된다.\n",
        "\n",
        "----\n",
        "정확한 풀이: 첫번째  A에 대해 전부 정렬을 진행한다. 그후 증가하는 부분 수열을 구해주면 조금 더 쉽게 접근이 가능하다.\n",
        "\n"
      ],
      "metadata": {
        "id": "FWzzX9IyxLoS"
      }
    },
    {
      "cell_type": "code",
      "source": [
        "n = int(input()) \n",
        "\n",
        "lst = []\n",
        "\n",
        "# list 받아오기\n",
        "for _ in range(n):\n",
        "  lst.append(list(map(int,input().split())))\n",
        "\n",
        "lst.sort()\n",
        "\n",
        "dp = [1] * n\n",
        "for i in range(n):\n",
        "  for j in range(i):\n",
        "    if lst[i][1] > lst [j][1] and dp[i] < dp[j] +1:\n",
        "      dp[i] = dp[j] +1\n",
        "\n",
        "print(n - max(dp))"
      ],
      "metadata": {
        "id": "YTct75AhzZZT"
      },
      "execution_count": null,
      "outputs": []
    },
    {
      "cell_type": "markdown",
      "source": [
        "10815\n",
        "숫자 카드\n",
        "--- \n",
        "\n",
        "원하는 카드가 있는지 검색하는 문제이다. 하지만 주어진 수가 50만으로 굉장히 크다. 이에 따라 이분 탐색을 진행하려고한다.\n",
        "\n"
      ],
      "metadata": {
        "id": "ZU4sHOa60XkN"
      }
    },
    {
      "cell_type": "code",
      "source": [
        "import sys\n",
        "\n",
        "n = int(input())\n",
        "card = list(map(int, sys.stdin.readline().split()))\n",
        "m = int(input())\n",
        "check = list(map(int, sys.stdin.readline().split()))\n",
        "\n",
        "card.sort()\n",
        "\n",
        "def binary_search(array, target, start, end):\n",
        "    while start <= end:\n",
        "        mid = (start + end) // 2\n",
        "\n",
        "        if array[mid] == target:\n",
        "            return mid\n",
        "        elif array[mid] > target:\n",
        "            end = mid - 1\n",
        "        else:\n",
        "            start = mid + 1\n",
        "    return None\n",
        "\n",
        "\n",
        "for i in range(m):\n",
        "    if binary_search(card, check[i], 0, n - 1) is not None:\n",
        "        print(1, end=' ')\n",
        "    else:\n",
        "        print(0, end=' ')"
      ],
      "metadata": {
        "colab": {
          "base_uri": "https://localhost:8080/"
        },
        "id": "bsymeze-0iSK",
        "outputId": "666da2bb-6b4a-49d5-f13e-6ac9ff3b81fb"
      },
      "execution_count": 7,
      "outputs": [
        {
          "output_type": "stream",
          "name": "stdout",
          "text": [
            "5\n",
            "6 3 2 10 -10\n",
            "8\n",
            "10 9 -5 2 3 4 5 -10\n",
            "0 0 0 0 1 0 0 0 "
          ]
        }
      ]
    },
    {
      "cell_type": "markdown",
      "source": [
        "2110번\n",
        "공유기 설치\n",
        "---\n",
        "\n",
        "최대 값을 비교해보면서 간다"
      ],
      "metadata": {
        "id": "tGx8kT-yyimy"
      }
    },
    {
      "cell_type": "code",
      "source": [
        "n,c = map(int,input().split())\n",
        "\n",
        "# 집 좌표 받기\n",
        "array = []\n",
        "for _ in range(n):\n",
        "  array.append(int(input()))\n",
        "\n",
        "array.sort() # 이진 탐색을 위해 정렬\n",
        "\n",
        "start =1 # 가능한 최소거리\n",
        "end = array[-1] -array[0] # 가능한 최대거리\n",
        "result =0 \n",
        "\n",
        "while start <= end :\n",
        "  mid = (start+end) //2 # 가장 인접한 두 공유기 사이의 거리\n",
        "  value = array[0]\n",
        "  cnt =1\n",
        "  # 현재 mid값을 사용해 공유기를 설치\n",
        "  for i in range(1,n):\n",
        "    if array[i] >= value + mid:\n",
        "      value  = array[i]\n",
        "      cnt += 1\n",
        "  if cnt >= c: # c개 이상의 공유기를 설치가능\n",
        "    start= mid +1\n",
        "    result = mid #최적의 결과\n",
        "  else:\n",
        "    end = mid -1\n",
        "\n",
        "\n",
        "print(result)"
      ],
      "metadata": {
        "id": "tYadxOvoD6jv"
      },
      "execution_count": null,
      "outputs": []
    },
    {
      "cell_type": "markdown",
      "source": [
        "11725번\n",
        "트리의 부모 찾기\n",
        "---\n",
        "\n",
        "dfs로 풀었으며\n",
        "\n",
        "어느쪽이 우위인지 방향성이 없으므로 \n",
        "둘다 삽입을 해준다. 그리고 만약 방문이 안되었다면 n으로 업데이트를 하고 이어가는 방식으로 한다.\n",
        "\n",
        "이때 만약 1,6 이랑 충동하거나 우위가 달라지면 어떻하냐? 그래서 루트 노드인 1부터 진행을 하면서 확인을 하면서 그런 오류가 발생하지 않는다.\n",
        "\n",
        "```\n",
        "sys.setrecursionlimit(10**6)\n",
        "```\n",
        "\n",
        "이걸로 리커전 오류를 방지한다."
      ],
      "metadata": {
        "id": "9LbX-78MFjr3"
      }
    },
    {
      "cell_type": "code",
      "source": [
        "import sys\n",
        "input = sys.stdin.readline\n",
        "sys.setrecursionlimit(10**6)\n",
        "\n",
        "n = int(input())\n",
        "graph = [[] for _ in range(n+1)]\n",
        "parent = [-1]*(n+1)\n",
        "    \n",
        "for _ in range(n-1):\n",
        "    a,b = map(int,input().split())\n",
        "    graph[a].append(b)\n",
        "    graph[b].append(a)\n",
        "\n",
        "def dfs(n):\n",
        "    for i in graph[n]:\n",
        "        if parent[i] == -1:\n",
        "            parent[i] = n\n",
        "            dfs(i)\n",
        "    return\n",
        "            \n",
        "dfs(1)\n",
        "for i in range(2,n+1):\n",
        "    print(parent[i])"
      ],
      "metadata": {
        "id": "UUYqckUGF1wg"
      },
      "execution_count": null,
      "outputs": []
    },
    {
      "cell_type": "markdown",
      "source": [
        "2644번 \n",
        "촌수계산 \n",
        "---\n",
        "\n"
      ],
      "metadata": {
        "id": "vDbYXOxwL9bd"
      }
    },
    {
      "cell_type": "code",
      "source": [
        "from collections import deque\n",
        "n = int(input())\n",
        "\n",
        "# 촌수를 계산해야하는 서로 다른 두사람\n",
        "answer = list(map(int,input().split()))\n",
        "\n",
        "m = int(input())\n",
        "# 그래프\n",
        "graph = [[]for _ in range(n+1)]\n",
        "for _ in range(m):\n",
        "  a, b = map(int,input().split())\n",
        "  graph[a].append(b)\n",
        "  graph[b].append(a)\n",
        "\n",
        "# 정보를 담기위한 테이블\n",
        "visitied = [0] * (n+1)\n",
        "\n",
        "q = deque()\n",
        "q.append(answer[0])\n",
        "\n",
        "while q:\n",
        "  now =q.popleft()\n",
        "  for i in graph[now]:\n",
        "    if visitied[i] == 0:\n",
        "      # 촌수를 계산한뒤 넣어주기\n",
        "      visitied[i] = visitied[now] +1\n",
        "      q.append(i)\n",
        " \n",
        "# 만약 촌수가 계산되지 않았다면\n",
        "if visitied[answer[1]] <= 0 :\n",
        "  print(-1)\n",
        "# 촌수가 계산되엇다면\n",
        "else: \n",
        "  print(visitied[answer[1]])"
      ],
      "metadata": {
        "id": "FEPpf_q3MQv2"
      },
      "execution_count": null,
      "outputs": []
    },
    {
      "cell_type": "markdown",
      "source": [
        "1707번\n",
        "연결 요소의 개수\n",
        "---"
      ],
      "metadata": {
        "id": "j0iNv_d1UwWi"
      }
    },
    {
      "cell_type": "code",
      "source": [
        "tc = int(input())\n",
        "\n",
        "for _ in range(tc):\n",
        "  n = int(input())\n",
        "  parent = [0] * (n+1) #부모노드\n",
        "  for _ in range(n-1):\n",
        "    a,b = map(int,input().split())\n",
        "    parent[b] = a\n",
        "  \n",
        "  a,b = map(int,input().split())\n",
        "\n",
        "  a_parent, b_parent = [0,a], [0,b] # a,b 부모 자식일수니 인덱스 에러안나게\n",
        "  \n",
        "  # a 부터 거슬러 올라가자\n",
        "  while parent[a]:\n",
        "      a_parent.append(parent[a])\n",
        "      a = parent[a]\n",
        "  # b 거슬러 올라가기\n",
        "  while parent[b]:\n",
        "      b_parent.append(parent[b])\n",
        "      b = parent[b]\n",
        "\n",
        "  # 뒤에서 부터 거꾸로 탐색하며 가장 가까운 공통 조상 찾기\n",
        "  cnt = 1\n",
        "  while a_parent[-cnt] == b_parent[-cnt]:\n",
        "      cnt +=1\n",
        "  \n",
        "  print(a_parent[-cnt+1])\n",
        "        "
      ],
      "metadata": {
        "id": "Zwv6K-hgVOD7"
      },
      "execution_count": null,
      "outputs": []
    },
    {
      "cell_type": "markdown",
      "source": [
        ""
      ],
      "metadata": {
        "id": "WadFW13oUwS-"
      }
    }
  ]
}