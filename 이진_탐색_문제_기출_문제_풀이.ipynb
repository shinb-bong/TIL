{
  "nbformat": 4,
  "nbformat_minor": 0,
  "metadata": {
    "colab": {
      "name": "이진 탐색 문제 기출 문제 풀이.ipynb",
      "provenance": [],
      "collapsed_sections": [],
      "authorship_tag": "ABX9TyO5WPKIzz3eKbWdJx7kRNA3",
      "include_colab_link": true
    },
    "kernelspec": {
      "name": "python3",
      "display_name": "Python 3"
    },
    "language_info": {
      "name": "python"
    }
  },
  "cells": [
    {
      "cell_type": "markdown",
      "metadata": {
        "id": "view-in-github",
        "colab_type": "text"
      },
      "source": [
        "<a href=\"https://colab.research.google.com/github/shinb-bong/TIL/blob/main/%EC%9D%B4%EC%A7%84_%ED%83%90%EC%83%89_%EB%AC%B8%EC%A0%9C_%EA%B8%B0%EC%B6%9C_%EB%AC%B8%EC%A0%9C_%ED%92%80%EC%9D%B4.ipynb\" target=\"_parent\"><img src=\"https://colab.research.google.com/assets/colab-badge.svg\" alt=\"Open In Colab\"/></a>"
      ]
    },
    {
      "cell_type": "markdown",
      "source": [
        "이진 탐색 복습\n",
        "----\n",
        "탐색 범위를 반으로 줄여나가며 함수의 파라미터는 (시작점,끝점, 중간점) 사용\n",
        "\n",
        "bisect 클래스\n",
        "----\n",
        "```\n",
        "from bisect import bisect_left, bisect_right\n",
        "\n",
        "arr = [ 1,2,4,4,8]\n",
        "\n",
        "x = 4\n",
        "\n",
        "\n",
        "print(bisect_left(arr,x))\n",
        "```\n",
        "결과 값: 2\n",
        "\n",
        "+ 이유: bisect_left는 찾고자 하는 수의 가장 왼쪽 인덱스를 반환\n",
        "\n",
        "\n",
        "해당 라이브러리는 자주 사용되니깐 앞서 큐하고 최소힙과 관련해서 필수적으로 외우면 좋을 듯하다.\n"
      ],
      "metadata": {
        "id": "dGUl3bNcyrgu"
      }
    },
    {
      "cell_type": "markdown",
      "source": [
        "정렬된 배열에서 특정 수의 개수 구하기\n",
        "---\n"
      ],
      "metadata": {
        "id": "PLqD2ooA0OrG"
      }
    },
    {
      "cell_type": "code",
      "execution_count": 4,
      "metadata": {
        "colab": {
          "base_uri": "https://localhost:8080/"
        },
        "id": "oiptetdNyq2I",
        "outputId": "e87c4c68-b2dd-4519-9588-58618f3447a2"
      },
      "outputs": [
        {
          "output_type": "stream",
          "name": "stdout",
          "text": [
            "7 4 \n",
            "1 1 2 2 2 2 3\n",
            "-1\n"
          ]
        }
      ],
      "source": [
        "from bisect import bisect_left, bisect_right\n",
        "\n",
        "n ,m = map(int,input().split())\n",
        "\n",
        "arr = list(map(int,input().split()))\n",
        "\n",
        "if arr.count(m) == 0:\n",
        "  print(\"-1\")\n",
        "else:\n",
        "  print(bisect_right(arr,m)-bisect_left(arr,m))"
      ]
    },
    {
      "cell_type": "markdown",
      "source": [
        "고정점 찾기\n",
        "---\n",
        "\n",
        "풀이: 시간판정이 logN 이니깐 일단 이진탐색을 이용해 보려고 한다. \n",
        "\n",
        "고정점을 찾은 경우 인덱스를 반환해서 출력하는 방식을 이용하려고 한다."
      ],
      "metadata": {
        "id": "ImX1bggw3H53"
      }
    },
    {
      "cell_type": "code",
      "source": [
        "from bisect import bisect_left, bisect_right\n",
        "def binary_search(arr,start,end):\n",
        "  # 교차 하였을 때\n",
        "  if start > end:\n",
        "    return None \n",
        "  \n",
        "  mid  = (start+end)//2\n",
        "  # 고정점을 찾은 경우 인덱스 반환\n",
        "  if arr[mid] == mid:\n",
        "    return mid\n",
        "  # 중간점 인덱스가 중간값 보다 작으면 \n",
        "  elif arr[mid] > mid:\n",
        "    return binary_search(arr,start,mid-1)\n",
        "  else:\n",
        "    return binary_search(arr,mid+1,end)\n",
        "\n",
        "\n",
        "n = int(input())\n",
        "\n",
        "arr = list(map(int,input().split()))\n",
        "\n",
        "start = arr[0]\n",
        "end = arr[n-1]\n",
        "\n",
        "# 인덱스 찾기 진행\n",
        "index = binary_search (arr,0,n-1)\n",
        "\n",
        "if index == None:\n",
        "  print(-1)\n",
        "else:\n",
        "  print(index)"
      ],
      "metadata": {
        "colab": {
          "base_uri": "https://localhost:8080/"
        },
        "id": "H9AZ-uLy3Ss5",
        "outputId": "b8edbf5c-3bb1-43cf-b6d8-52a92a401e11"
      },
      "execution_count": 5,
      "outputs": [
        {
          "output_type": "stream",
          "name": "stdout",
          "text": [
            "5\n",
            "-15 -6 1 3 7\n",
            "3\n"
          ]
        }
      ]
    },
    {
      "cell_type": "markdown",
      "source": [
        "공유기 설치\n",
        "---\n",
        "\n",
        "풀이: 일단 공유기의 갯수가 10억 이므로 이진 탐색 문제로 결정이 된다. \n",
        "\n",
        "거리를 비교해가며 적절한 위치에 공유기를 넣는 것이다.\n",
        "\n",
        "유사한 문제: 개념에 떡볶이 떡 만들기 \n"
      ],
      "metadata": {
        "id": "byI9XnPL-Lkh"
      }
    },
    {
      "cell_type": "code",
      "source": [
        "n ,m = map(int,input().split(' '))\n",
        "\n",
        "arr = []\n",
        "\n",
        "for i in range(n):\n",
        "  arr.append(int(input()))\n",
        "\n",
        "arr.sort() # 이진 탐색을 수행하기 위해 정렬을 진행한다.\n",
        "\n",
        "start = 1 # 가능한 최소거리\n",
        "end= arr[-1] - arr[0] # 가능한 최대 거리\n",
        "\n",
        "result = 0\n",
        "\n",
        "# 이분 탐색 진행\n",
        "while (start <= end):\n",
        "  mid = (start+ end) // 2 # 여기서 mid는 가장 인접한 두 공유기 사이의 거리를 의미.\n",
        "  value  = arr[0]\n",
        "  cnt =1\n",
        "  # 현재의 mid 를 사용하여 공유기 설치\n",
        "  for i in range(1,n):\n",
        "    if arr[i] >= value + mid:\n",
        "      value = arr[i]\n",
        "      cnt += 1\n",
        "  if cnt >= m : #m 개 이상의 공유기를 설치가능한 경우\n",
        "    start = mid +1 # 거리를 증가\n",
        "    result = mid # 최적 결과 저장\n",
        "  else: # 그 반대 상황이면 오히려 감소\n",
        "    end  = mid -1\n",
        "\n",
        "print(result)"
      ],
      "metadata": {
        "colab": {
          "base_uri": "https://localhost:8080/"
        },
        "id": "349zZEFZ-bDX",
        "outputId": "a4d4f1ce-c9a8-4b01-eaa8-8f7d4af3c437"
      },
      "execution_count": 10,
      "outputs": [
        {
          "output_type": "stream",
          "name": "stdout",
          "text": [
            "5 3\n",
            "1\n",
            "2\n",
            "8\n",
            "4\n",
            "9\n",
            "3\n"
          ]
        }
      ]
    },
    {
      "cell_type": "markdown",
      "source": [
        "가사 검색\n",
        "---\n",
        "\n",
        "count_by_range(a, left_value, right_value)\n",
        "\n",
        ": 정렬된 리스트 a 에서 left_value≤x≤ right_value인 x개수를 \n",
        "O(logN)으로 찾기\n",
        "\n",
        "--> 구현은 bisect로 \n",
        "\n",
        "\n",
        "풀이: 이진탐색을 이용, 수가 크진않지만 수를 보고서 해결을 막연하게 생각하는 방법을 버렸던 문제\n",
        "\n",
        "how? \n",
        "- 길이별로 문자열을 나눈뒤 정렬\n",
        "\n",
        "- 그다음 fro로 시작되는 마지막 단어 - fro 시작되는 첫단어 를 사용해서 갯수를 구한다. \n",
        "\n",
        "- 또한 froaa 보다 크고 frozz 보다 작은 단어의 개수를 세도록 구현을 하면된다. \n",
        "\n",
        "- 만약 ?가 앞에 온다면?(접마사라면) \n",
        "\n",
        "- 해당 문자열을 반대로 뒤집어서 진행해주면 된다."
      ],
      "metadata": {
        "id": "EzZM325gEK_V"
      }
    },
    {
      "cell_type": "code",
      "source": [
        "from bisect import bisect_left, bisect_right\n",
        "\n",
        "# 범위안에 해당 문자가 얼마나 있는지 계산해주는 메소드 구현\n",
        "def count_by_range(a,left_value,right_value):\n",
        "    \n",
        "    right_index = bisect_right(a,right_value)\n",
        "    left_index = bisect_left(a,left_value)\n",
        "    \n",
        "    return right_index -left_index\n",
        "\n",
        "# 모든 단어를 길이 마다 나누어서 저장하기 위한 리스트 ( word의 최대값은 10000)\n",
        "array = [[] for _ in range(10001)]\n",
        "\n",
        "# 접두사에 ? 가 나왔을 경우 거꾸로 진행해야하기 때문에 거꾸로 된 리스트 준비\n",
        "r_array = [ [] for _ in range(10001)]\n",
        "\n",
        "\n",
        "def solution(words, queries):\n",
        "    answer = []\n",
        "    for word in words: # 모든 단어를 길이 마다 따로 배열:\n",
        "        array[len(word)].append(word)\n",
        "        r_array[len(word)].append(word[::-1]) # 뒤집어서 삽입 해야함\n",
        "    \n",
        "    for i in range(10001): # 이진 탐색을 수행하기 위해서 각 단어들을 정렬해줘야한다.\n",
        "        array[i].sort() # 각 단어의 길이 안에서 정렬해줘야한다.\n",
        "        r_array[i].sort()\n",
        "\n",
        "    for q in queries: # 쿼리를 하나씩 확인하며 시작\n",
        "        if q[0] != \"?\" : # ?가 뒤에 있을경우\n",
        "            # (쿼리문에 대한 길이의 문자열만 검사, 처음 시작을 froaa 부터 해야하니 ?를 a로 바꿔줌,같은 z )\n",
        "            res = count_by_range(array[len(q)],q.replace('?','a'), q.replace('?','z'))\n",
        "        else: # ?가 앞에 붙을 경우\n",
        "            # 같지만 이제 문자열을 뒤집은걸 확인해야 하므로 쿼리문 역시 뒤집어서 확인을 진행해 준다.\n",
        "            res = count_by_range(r_array[len(q)],\n",
        "                                 q[::-1].replace('?','a'), \n",
        "                                 q[::-1].replace('?','z'))\n",
        "        # 검사된 결과 저장해 놓기\n",
        "        answer.append(res)\n",
        "    \n",
        "    \n",
        "    return answer"
      ],
      "metadata": {
        "id": "pqjeE6gtK9zv"
      },
      "execution_count": null,
      "outputs": []
    }
  ]
}