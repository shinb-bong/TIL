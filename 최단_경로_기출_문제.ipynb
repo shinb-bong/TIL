{
  "nbformat": 4,
  "nbformat_minor": 0,
  "metadata": {
    "colab": {
      "name": "최단 경로 기출 문제.ipynb",
      "provenance": [],
      "collapsed_sections": [],
      "authorship_tag": "ABX9TyOz89EkHzuHfYEdqgL1ZYfe",
      "include_colab_link": true
    },
    "kernelspec": {
      "name": "python3",
      "display_name": "Python 3"
    },
    "language_info": {
      "name": "python"
    }
  },
  "cells": [
    {
      "cell_type": "markdown",
      "metadata": {
        "id": "view-in-github",
        "colab_type": "text"
      },
      "source": [
        "<a href=\"https://colab.research.google.com/github/shinb-bong/TIL/blob/main/%EC%B5%9C%EB%8B%A8_%EA%B2%BD%EB%A1%9C_%EA%B8%B0%EC%B6%9C_%EB%AC%B8%EC%A0%9C.ipynb\" target=\"_parent\"><img src=\"https://colab.research.google.com/assets/colab-badge.svg\" alt=\"Open In Colab\"/></a>"
      ]
    },
    {
      "cell_type": "markdown",
      "source": [
        "플로이드 \n",
        "---\n",
        "\n",
        "복습: 플로이드 워셜은 시간복잡도가 O(V^3)으로 크고 이차원 리스트를 사용하며 거쳐가는 노드를 확인하는 방법\n",
        "\n",
        "그래서 노드의 수가 적을때 사용하면 좋다."
      ],
      "metadata": {
        "id": "GVXDCjYo8zve"
      }
    },
    {
      "cell_type": "code",
      "execution_count": null,
      "metadata": {
        "id": "91hEgOrg7w4B"
      },
      "outputs": [],
      "source": [
        "INF = int(1e9)\n",
        "\n",
        "n = int(input())\n",
        "m = int(input())\n",
        "\n",
        "# 2차원 리스트 생성\n",
        "flod = [[INF]*n for i in range(n)]\n",
        "\n",
        "for a in range(n):\n",
        "  for b in range(n):\n",
        "    if a == b:\n",
        "      flod[a][b] = 0\n",
        "\n",
        "# 그래프에 정보입력\n",
        "for i in range(m):\n",
        "  a,b,c = map(int,input().split())\n",
        "  if c < flod[a-1][b-1]:\n",
        "    flod[a-1][b-1] =c\n",
        "\n",
        "\n",
        "# 플로이드 진행\n",
        "for i in range(n):\n",
        "  for j in range(n):\n",
        "    for k in range(n):\n",
        "      flod[i][j]= min[flod[i][j],flod[i][k]+flod[k][j]]\n",
        "\n",
        "for i in range(n):\n",
        "  for j in range(n):\n",
        "    if flod[i][j] == INF :\n",
        "      print(0, end = \" \")\n",
        "    else:\n",
        "      print(flod[i][j],end=\" \")\n",
        "  print()\n",
        "\n"
      ]
    },
    {
      "cell_type": "markdown",
      "source": [
        "정확한 순위 \n",
        "---\n",
        "\n",
        "일단 경로를 명시했으므로 경로 문제라고 생각이 들며 주어진 숫자가 500으로 작은걸 보면서 플로이드가 가능할지도 라는 생각이 들어 접근을 하였다."
      ],
      "metadata": {
        "id": "KS4jJegOAmkk"
      }
    },
    {
      "cell_type": "code",
      "source": [
        "INF = int(1e9)\n",
        "\n",
        "n, m = map(int,input().split())\n",
        "# 2차원 그래프 초기화\n",
        "graph = [[0]*(n+1) for i in range(n+1)]\n",
        "\n",
        "# 자기 자신일 경우 0 대입\n",
        "for i in range(1,n+1):\n",
        "  for j in range(1,n+1):\n",
        "    if i == j:\n",
        "      graph[i][j] = 0\n",
        "\n",
        "# 입력 받기\n",
        "for i in range(m):\n",
        "  a, b = map(int,input().split())\n",
        "  graph[a][b] = 1\n",
        "\n",
        "# 플로이드 워셜 진행\n",
        "for i in range(1,n+1):\n",
        "  for j in range(1,n+1):\n",
        "    for j in range(1,n+1):\n",
        "      graph[i][j] = min(graph[i][j]+ graph[i][k]+graph[k][j])\n",
        "\n",
        "# 출력\n",
        "result = 0\n",
        "\n",
        "for i in range(1,n+1):\n",
        "  cnt = 0\n",
        "  # 하나씩 모두 확인\n",
        "  for j in range(1,n+1):\n",
        "    if graph[i][j] != INF or graph[j][i] != INF:\n",
        "      cnt +=1 \n",
        "  if cnt == n:  \n",
        "    result += 1\n",
        "print(result)\n"
      ],
      "metadata": {
        "id": "4ov4O10YB0CB"
      },
      "execution_count": null,
      "outputs": []
    },
    {
      "cell_type": "markdown",
      "source": [
        "화성탐사\n",
        "---\n",
        "\n",
        "주어진 수가 N= 125라고 3제곱을 하면 꽤나 큰수가 되므로 플로이드는 조금 힘들것 같아 최단경로로 접근을 한다.\n",
        "\n",
        "    import sys\n",
        "\n",
        "    input = sys.stdin.readline"
      ],
      "metadata": {
        "id": "9sagYL-dKnVX"
      }
    },
    {
      "cell_type": "code",
      "source": [
        "import heapq\n",
        "import sys\n",
        "input = sys.stdin.readline\n",
        "INF = int(1e9)\n",
        "\n",
        "# 방향 벡터 설정\n",
        "dx = [-1,0,1,0]\n",
        "dy = [0,1,0,-1]\n",
        "\n",
        "# 노드의 개수 입력받기\n",
        "n = int(input())\n",
        "\n",
        "# 들어올 리스트 초기화\n",
        "graph = []\n",
        "\n",
        "for i in range(n):\n",
        "  graph.append(list(map(int,input().split())))\n",
        "\n",
        "# 최단 거리 테이블 초기화\n",
        "distance = [[INF]*n for _ in range(n)]\n",
        "\n",
        "x,y = 0,0 # 시작위치 명시\n",
        "\n",
        "# 시작노드로 가기 위한 비용은 (0,0) 설정 + 큐에 삽입\n",
        "\n",
        "q = [(graph[x][y],x,y)]\n",
        "distance[x][y] = graph[x][y]\n",
        "\n",
        "# 이 부분이 가장 이해가 어려웠다. 생각 하는 방법 distace[x][y] 가 변형이 되어서 만약 현재 값보다\n",
        "# 작아졌다면 이미 건들어진거니깐 무시를 하는거고 \"같거나\"클경우는 아직 건들이지 않은 값으로 인정\n",
        "\n",
        "# 큐가 빌때 까지 다익스트라 알고리즘\n",
        "# 최단 경로 니깐 \n",
        "while q : \n",
        "  # 가장 최단 거리가 짧은 노드에 대한 정보를 꺼내기\n",
        "  # 덱이랑 햇갈리지 말자 q= deque([x]) 이다. \n",
        "  # heap은 그냥 있는 리스트에다가 적는 메소드고\n",
        "  dist,x,y = heapq.heappop(q)\n",
        "  \n",
        "  # 현재 노드가 이미 처리된 노드라면? 이게 위에서 말한 첫 노드에 대한 어려운 점이였다.\n",
        "  if distance[x][y] < dist:\n",
        "    continue\n",
        "\n",
        "  # 연결된 다른 인접 노드 확인(동서남북 스킬 앞에서도 연습)\n",
        "  for i in range(4):\n",
        "    nx = x + dx[i]\n",
        "    ny = y + dy[i]\n",
        "\n",
        "    if nx <0 or nx>= n or ny <0 or ny >= n:\n",
        "      continue\n",
        "    \n",
        "    cost = dist + graph[nx][ny]\n",
        "\n",
        "    # 현재 노드를 거쳐서 다른 노드를 이동하는 거리가 더짧은 경우\n",
        "    if cost < distance[nx][ny]:\n",
        "      distance[nx][ny] = cost\n",
        "      heapq.heappush(q,(cost,nx,ny))\n",
        "\n",
        "print(distance[n-1][m-1])"
      ],
      "metadata": {
        "colab": {
          "base_uri": "https://localhost:8080/",
          "height": 243
        },
        "id": "SDkBwGi4LJf5",
        "outputId": "3343c7b5-e68c-4232-ee1e-c062565af969"
      },
      "execution_count": 2,
      "outputs": [
        {
          "output_type": "error",
          "ename": "ValueError",
          "evalue": "ignored",
          "traceback": [
            "\u001b[0;31m---------------------------------------------------------------------------\u001b[0m",
            "\u001b[0;31mValueError\u001b[0m                                Traceback (most recent call last)",
            "\u001b[0;32m<ipython-input-2-987a27534147>\u001b[0m in \u001b[0;36m<module>\u001b[0;34m()\u001b[0m\n\u001b[1;32m      9\u001b[0m \u001b[0;34m\u001b[0m\u001b[0m\n\u001b[1;32m     10\u001b[0m \u001b[0;31m# 노드의 개수 입력받기\u001b[0m\u001b[0;34m\u001b[0m\u001b[0;34m\u001b[0m\u001b[0;34m\u001b[0m\u001b[0m\n\u001b[0;32m---> 11\u001b[0;31m \u001b[0mn\u001b[0m \u001b[0;34m=\u001b[0m \u001b[0mint\u001b[0m\u001b[0;34m(\u001b[0m\u001b[0minput\u001b[0m\u001b[0;34m(\u001b[0m\u001b[0;34m)\u001b[0m\u001b[0;34m)\u001b[0m\u001b[0;34m\u001b[0m\u001b[0;34m\u001b[0m\u001b[0m\n\u001b[0m\u001b[1;32m     12\u001b[0m \u001b[0;34m\u001b[0m\u001b[0m\n\u001b[1;32m     13\u001b[0m \u001b[0;31m# 들어올 리스트 초기화\u001b[0m\u001b[0;34m\u001b[0m\u001b[0;34m\u001b[0m\u001b[0;34m\u001b[0m\u001b[0m\n",
            "\u001b[0;31mValueError\u001b[0m: invalid literal for int() with base 10: ''"
          ]
        }
      ]
    },
    {
      "cell_type": "markdown",
      "source": [
        "숨바꼭질\n",
        "---\n",
        "\n",
        "다익스트라에 대한 이해도가 있어야 하며 다익스트라 대표 문법을 조금 더 숙달해야겠다는 생각이 든 문제였다. 또한 다익스트라 같은경우 heapq에 넣어서 while 문을 사용하여 더 나은 방안을 모색하고 다시 큐에넣는 방법을 많이 사용한다."
      ],
      "metadata": {
        "id": "j1eiAnFCXUwg"
      }
    },
    {
      "cell_type": "code",
      "source": [
        "import heapq\n",
        "import sys\n",
        "input = sys.stdin.readline\n",
        "\n",
        "INF = int(1e9)\n",
        "n , m = int(input())\n",
        "\n",
        "graph= [[] for i in range(n+1)]\n",
        "distance = [INF] * n+1 \n",
        "\n",
        "start  = 1\n",
        "\n",
        "for i in range(m):\n",
        "  a,b = map(int,input().split())\n",
        "  # 이동 비용이 1이라는 걸 추가\n",
        "  graph[a].append((b,1))\n",
        "  graph[b].append((a,1))\n",
        "\n",
        "def dijkstra(start):\n",
        "  q = []\n",
        "  # 시작 노드로 가기위한 최단 경로는 0 + 큐에삽입\n",
        "  distance[start] = 0\n",
        "  # heap (넣을 리스트 , 뭘넣을지(0,start))\n",
        "  heap.heappush(q,(0,start))\n",
        "\n",
        "  # 다익스트라 메인 구현\n",
        "  while q :\n",
        "    # 가장 최단거리 짧은거 꺼내기\n",
        "    dist, now = heap.heappop(q)\n",
        "    # 현재 노드가 이미 처리된 적 있다면\n",
        "    if distance[now] < dist:\n",
        "      continue\n",
        "    \n",
        "    # 현재 노드와 연결된 다른 노드 확인\n",
        "    for i in graph[now]:\n",
        "      cost = dist + i[1]\n",
        "      # 현재 노드를 거쳐서 다른 노드로 이동하는게 짧을 경우\n",
        "      if cost =< distance[i[0]]:\n",
        "        distance[i[0]] = cost\n",
        "        # 다시 큐에 삽입\n",
        "        heapq.heappush(q,(cost,i[0]))\n",
        "\n",
        "dijkstra(start)\n",
        "\n",
        "# 가장 거리가 먼 노드 찾기\n",
        "max_node = 0\n",
        "# 가장 거리가 먼 노드의 거리\n",
        "max_distance = 0\n",
        "# 최단거리가 가장 먼노드와 같은 거리\n",
        "count = []\n",
        "\n",
        "for i in range(1,n+1):\n",
        "  if max_distance <distance[i]:\n",
        "    max_node = i\n",
        "    max_distance = distance[i]\n",
        "    count = [max_node]\n",
        "  elif max_distance == distance[i]:\n",
        "    result.append(i)\n",
        "\n",
        "print(max_node, max_distance, len(result))"
      ],
      "metadata": {
        "id": "zCP8CjMFYGG7"
      },
      "execution_count": null,
      "outputs": []
    }
  ]
}