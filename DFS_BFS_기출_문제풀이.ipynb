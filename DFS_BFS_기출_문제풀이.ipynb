{
  "nbformat": 4,
  "nbformat_minor": 0,
  "metadata": {
    "colab": {
      "name": "DFS/BFS 기출 문제풀이.ipynb",
      "provenance": [],
      "collapsed_sections": [],
      "authorship_tag": "ABX9TyMLumJByNoVZHJJA655YWob",
      "include_colab_link": true
    },
    "kernelspec": {
      "name": "python3",
      "display_name": "Python 3"
    },
    "language_info": {
      "name": "python"
    }
  },
  "cells": [
    {
      "cell_type": "markdown",
      "metadata": {
        "id": "view-in-github",
        "colab_type": "text"
      },
      "source": [
        "<a href=\"https://colab.research.google.com/github/shinb-bong/TIL/blob/main/DFS_BFS_%EA%B8%B0%EC%B6%9C_%EB%AC%B8%EC%A0%9C%ED%92%80%EC%9D%B4.ipynb\" target=\"_parent\"><img src=\"https://colab.research.google.com/assets/colab-badge.svg\" alt=\"Open In Colab\"/></a>"
      ]
    },
    {
      "cell_type": "markdown",
      "source": [
        "특정 거리의 도시 찾기\n",
        "----\n",
        "\n",
        "풀이: N,M의 주어진 수가 매우 크기 때문에 완전 탐색은 별로인것 같다. 또한 *** 모든 간선의 길이가 1이라는 점** 에서 BFS 진행"
      ],
      "metadata": {
        "id": "IMM3Mg-8TPPs"
      }
    },
    {
      "cell_type": "code",
      "execution_count": null,
      "metadata": {
        "colab": {
          "base_uri": "https://localhost:8080/"
        },
        "id": "Ww6JtnNsSUAz",
        "outputId": "188d5c47-475c-4e6b-b51f-bb2c220a7e7f"
      },
      "outputs": [
        {
          "output_type": "stream",
          "name": "stdout",
          "text": [
            "4 4 2 1\n",
            "1 2\n",
            "1 3\n",
            "2 3\n",
            "2 4\n",
            "4\n"
          ]
        }
      ],
      "source": [
        "from collections import deque\n",
        "\n",
        "n,m,k,x = map(int,input().split())\n",
        "\n",
        "result =  [[0] for _ in range(n+1)]\n",
        "for i in range(m):\n",
        "  a,b = map(int,input().split())\n",
        "  result[a].append(b)\n",
        "\n",
        "distance = [-1]*(n+1) # 모든 최단 거리 테이블 초기화\n",
        "distance[x] = 0 # 처음 출발하는 자기 자신은 0이라고 했으니\n",
        "\n",
        "q = deque([x])\n",
        "\n",
        "while q:\n",
        "  now = q.popleft()\n",
        "  # 현재 도시에서 이동 할 수 있는 모든 도시 확인\n",
        "  for next in result[now]:\n",
        "    if distance[next] == -1: # 아직 방문 되지 않은거라면\n",
        "      distance[next] = distance[now]+1\n",
        "      q.append(next)\n",
        "\n",
        "check = False\n",
        "for i in range(1,n+1):\n",
        "  if distance[i] == k:\n",
        "    print(i)\n",
        "    check = True\n",
        "\n",
        "if check == False:\n",
        "  print(\"-1\")\n",
        "\n",
        "\n",
        "\n",
        "\n",
        "\n"
      ]
    },
    {
      "cell_type": "markdown",
      "source": [
        "연구소 \n",
        "---\n",
        "\n",
        "풀이: 어디든 놓는걸 계산했을때 최대 64C3 인데 엄청 작은 수니깐 하나씩 DFS/BFS 확인해가면서 벽 세울 곳을 계산해도 괜찮다\n",
        "\n",
        "이 문제는 완전탐색을 진행하면서 DFS/BFS 를 진행하는 문제라는데 두가지 방법 다 공부해보려고한다.\n",
        "\n",
        "또한 이렇게 \"바이러스가 사방으로 나간다\" 처럼 주체가 방향성을 띄고있을때는 **동서남북 방향 벡터**를 사용해서 접근하는 것이 좋을 것 같다.\n",
        "\n",
        "BFS 참고: https://hongcoding.tistory.com/m/130"
      ],
      "metadata": {
        "id": "kdvtBSZCbQkn"
      }
    },
    {
      "cell_type": "code",
      "source": [
        "#BFS\n",
        "from collections import deque\n",
        "import copy\n",
        "\n",
        "# 바이러스가 있는 자리 확인하는것 \n",
        "def bfs():\n",
        "  queue = deque()\n",
        "  tmp = copy.deepcopy(graph)\n",
        "\n",
        "  # 바이러스를 하나씩 확인하여 있는 자리 파악\n",
        "  for i in range(n):\n",
        "    for j in range(m):\n",
        "      if tmp[i][j] == 2:\n",
        "        queue.append((i,j))\n",
        "\n",
        "  # 바이러스 확산 계산하는거 \n",
        "  while queue:\n",
        "    x,y =queue.popleft()\n",
        "    for i in range(4):\n",
        "      nx = x + dx[i]\n",
        "      ny = y + dy[i]\n",
        "\n",
        "      if nx<0 or nx>=n or ny <0 or ny >=m:\n",
        "        continue\n",
        "      if tmp[nx][ny] == 0:\n",
        "        tmp[nx][ny] = 2\n",
        "        queue.append((nx,ny))\n",
        "\n",
        "    global answer \n",
        "    cnt = 0\n",
        "\n",
        "    for i in range(n):\n",
        "      cnt += tmp[i].count(0)\n",
        "    \n",
        "    answer = max(answer,cnt)\n",
        "\n",
        "def makeWall(cnt):\n",
        "    if cnt == 3:\n",
        "        bfs()\n",
        "        return\n",
        "\n",
        "# 벽을 하나씩 다 넣어 보면서 확인하는 것 \n",
        "    for i in range(n):\n",
        "        for j in range(m):\n",
        "            if graph[i][j] == 0:\n",
        "                graph[i][j] = 1\n",
        "                makeWall(cnt+1)\n",
        "                graph[i][j] = 0\n",
        "\n",
        "n, m = map(int, input().split())\n",
        "graph = []\n",
        "dx = [0, 0, 1, -1]\n",
        "dy = [1, -1, 0, 0]\n",
        "\n",
        "for i in range(n):\n",
        "    graph.append(list(map(int, input().split())))\n",
        "\n",
        "answer = 0\n",
        "makeWall(0)\n",
        "print(answer)"
      ],
      "metadata": {
        "id": "hrGlfz9VbTGJ"
      },
      "execution_count": null,
      "outputs": []
    },
    {
      "cell_type": "markdown",
      "source": [
        "결국 두 방법다 마지막에 바이러스 접근 방식이 다른것 뿐이지 핵심은 두 방법다 조합을 하였을때 최대 발생 할 수 있는 연산 수가 작기때문에 일일히 다 한번씩 세워보고 계산하고 아니면 다시 다음걸로 넘어가고 하는 모든 완전 탐색이 가능하다는 점이였다."
      ],
      "metadata": {
        "id": "FFDIv1xHpw10"
      }
    },
    {
      "cell_type": "code",
      "source": [
        "# DFS 사용\n",
        "# DFS는 재귀적함수를 자주 이용한다.\n",
        "\n",
        "n, m = map(int, input().split())\n",
        "data = [] # 초기 맵\n",
        "\n",
        "# 사방 이동 방향 벡터\n",
        "dx = [0, 0, 1, -1]\n",
        "dy = [1, -1, 0, 0]\n",
        "temp = [[0]*m for _ in range(n)] # 벽 세운뒤 맵\n",
        "\n",
        "for i in range(n):\n",
        "    data.append(list(map(int, input().split())))\n",
        "\n",
        "\n",
        "result = 0 \n",
        "\n",
        "# DFS로 각 바이러스가 사방으로 퍼지게만들기\n",
        "def virus(x,y):\n",
        "  for i in range(4):\n",
        "    nx = x+ dx[i]\n",
        "    ny = y+ dy[i]\n",
        "\n",
        "    # 상하좌우 중에서 바이러스가 퍼질수 있는 경우\n",
        "    if nx >= 0 and nx<n and ny>= 0 and ny <m:\n",
        "      if temp[nx][ny] == 0:\n",
        "        # 해당 위치에 바이러스 배치, 재귀\n",
        "        temp[nx][ny] == 2\n",
        "        virus(nx,ny)\n",
        "\n",
        "def safe():\n",
        "  score  =0\n",
        "  for i in range(n):\n",
        "    for j in range(m):\n",
        "      if temp[i][j] == 0:\n",
        "        score += 1\n",
        "  return score\n",
        "\n",
        "\n",
        "def dfs(cnt):\n",
        "  global result\n",
        "  # 울타리가 3개 설치 된경우\n",
        "  if cnt == 3:\n",
        "    for i in range(n):\n",
        "      for j in range(m):\n",
        "        # 벽 세워진 그래프로 복사(위는 deepcopy를 사용)\n",
        "        temp[i][j] =data[i][j]\n",
        "    # 각자리에서 전파 시작\n",
        "    for i in range(n):\n",
        "      for j in range(m):\n",
        "        if temp[i][j] == 2:\n",
        "          virus(i,j)\n",
        "    # 안전 구역 최대값 구함\n",
        "    result = max(result,safe())\n",
        "    return \n",
        "\n",
        "  for i in range(n):\n",
        "    for j in range(m):\n",
        "      if data[i][j] == 0:\n",
        "        # 하나씩 설치해보고 풀었다가 하면서 최대값 찾기\n",
        "        data[i][j] = 1\n",
        "        cnt += 1\n",
        "        dfs(cnt)\n",
        "        data[i][j] = 0\n",
        "        cnt -= 1\n",
        "# 0개로 시작\n",
        "dfs(0)\n",
        "\n",
        "print(result)"
      ],
      "metadata": {
        "id": "ylHM6o2CiWc6"
      },
      "execution_count": null,
      "outputs": []
    }
  ]
}