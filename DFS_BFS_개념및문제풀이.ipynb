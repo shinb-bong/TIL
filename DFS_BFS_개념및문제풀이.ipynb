{
  "nbformat": 4,
  "nbformat_minor": 0,
  "metadata": {
    "colab": {
      "name": "DFS/BFS 개념및문제풀이.ipynb",
      "provenance": [],
      "collapsed_sections": [],
      "authorship_tag": "ABX9TyMgIyD3AnZRKvVQ+uWJukk/",
      "include_colab_link": true
    },
    "kernelspec": {
      "name": "python3",
      "display_name": "Python 3"
    },
    "language_info": {
      "name": "python"
    }
  },
  "cells": [
    {
      "cell_type": "markdown",
      "metadata": {
        "id": "view-in-github",
        "colab_type": "text"
      },
      "source": [
        "<a href=\"https://colab.research.google.com/github/shinb-bong/TIL/blob/main/DFS_BFS_%EA%B0%9C%EB%85%90%EB%B0%8F%EB%AC%B8%EC%A0%9C%ED%92%80%EC%9D%B4.ipynb\" target=\"_parent\"><img src=\"https://colab.research.google.com/assets/colab-badge.svg\" alt=\"Open In Colab\"/></a>"
      ]
    },
    {
      "cell_type": "markdown",
      "source": [
        "*** 기본적으로 사용되는 문법 ***\n",
        "\n",
        "사용 1: 큐를 구현하는 방법"
      ],
      "metadata": {
        "id": "kbjDtEeYxvgM"
      }
    },
    {
      "cell_type": "code",
      "source": [
        "from collections import deque\n",
        "\n",
        "queue = deque()\n",
        "\n",
        "queue.append(5)\n",
        "queue.popleft()"
      ],
      "metadata": {
        "id": "ONEA8a5exyQd"
      },
      "execution_count": null,
      "outputs": []
    },
    {
      "cell_type": "markdown",
      "source": [
        "사용 2: 재귀함수 "
      ],
      "metadata": {
        "id": "AROj3Qq6y-6k"
      }
    },
    {
      "cell_type": "code",
      "execution_count": null,
      "metadata": {
        "id": "6kINwfLJxp8B"
      },
      "outputs": [],
      "source": [
        "\bdef factorial(n):\n",
        "    if n <= 1:\n",
        "     return 1\n",
        "    return n * factorial(n-1)\n"
      ]
    },
    {
      "cell_type": "markdown",
      "source": [
        "인접 행렬: 2차원 배열로 그래프의 연결 관계를 표현\n",
        "\n",
        "모든 노드의 개수가 많을수록 메모리가 불필요하게 낭비"
      ],
      "metadata": {
        "id": "7jvfVXbD0fKA"
      }
    },
    {
      "cell_type": "code",
      "source": [
        "INF = 99999\n",
        "\n",
        "graph = [\n",
        "         [0,7,5],\n",
        "         [7,0,INF],\n",
        "         [5,INF,0]\n",
        "]"
      ],
      "metadata": {
        "id": "LRpvmvBr0n07"
      },
      "execution_count": null,
      "outputs": []
    },
    {
      "cell_type": "markdown",
      "source": [
        "인접 리스트: 리스트로 그래프의 연결관계를 표현하는 방법\n",
        "\n",
        "정보를 얻는 속도가 느리다."
      ],
      "metadata": {
        "id": "QlD4ccSh0hGd"
      }
    },
    {
      "cell_type": "code",
      "source": [
        "graph =[[]for _in range(3)]\n",
        "\n",
        "# 0과 연결된 정보 저장 (노드, 거리)\n",
        "graph[0].append((1,7))"
      ],
      "metadata": {
        "id": "2kLb9IxH00H5"
      },
      "execution_count": null,
      "outputs": []
    },
    {
      "cell_type": "markdown",
      "source": [
        "DFS\n",
        "---\n",
        "1. 탐색 시작 노드를 스택에 삽입하고 방문처리\n",
        "2. 스택의 최상단 노드에 방문하지 않은 인접노드가 있으면 스택에 넣고 방문 처리,\n",
        "방문하지 않은 인접노드가 없으면 최상단 노드를 꺼냄\n",
        "3. 1,2반복"
      ],
      "metadata": {
        "id": "vwEpdKHa1UAy"
      }
    },
    {
      "cell_type": "code",
      "source": [
        "def dfs(graph,v,visited):\n",
        "  # 현재 노드 방문 처리\n",
        "  visited[v] = True\n",
        "  print(v,end=' ')\n",
        "\n",
        "  # 현재 노드와 연결된 다른 노드를 재귀적으로 방문\n",
        "  for i in graph[v]:\n",
        "    if not visited[i]:\n",
        "      dfs(graph,i,visited)\n",
        "\n",
        "graph = [#채워져있음]\n",
        "         \n",
        "visited = [False] * 9 \n",
        "dfs(graph,1,visited)"
      ],
      "metadata": {
        "id": "NZJ9aEKl16XJ"
      },
      "execution_count": null,
      "outputs": []
    },
    {
      "cell_type": "markdown",
      "source": [
        "BFS\n",
        "---\n",
        "가까운 노드부터 탐색\n",
        "\n",
        "1. 탐색 시작 노드를 큐에 삽입하고 방문\n",
        "2. 큐에서 노드를 꺼내 해당 노드의 인접 노드 중에서 방문하지 않은 노드를 모두 큐에 삽입하고 방문처리\n",
        "3. 1,2반복\n",
        "\n"
      ],
      "metadata": {
        "id": "s04m9FlF2ruu"
      }
    },
    {
      "cell_type": "code",
      "source": [
        "from collections import deque\n",
        "\n",
        "def bfs(graph, start,visited):\n",
        "  # 큐 구현을 위해 deque 라이브러리\n",
        "  queue = deque([start])\n",
        "\n",
        "  visited[start] = True\n",
        "\n",
        "  while queue:\n",
        "    # 큐에서 원소를 하나 뽑아서 출력\n",
        "    v= queue.popleft()\n",
        "    print(v,end=' ')\n",
        "    # 연결된 다른 노드들 삽입\n",
        "    for i in graph[v]:\n",
        "      if not vistied[i]:\n",
        "        queue.append(i)\n",
        "        visited = True\n",
        "\n",
        "graph = [#작성]\n",
        "\n",
        "visited = [False] * 9 \n",
        "bfs(graph,1,visited)"
      ],
      "metadata": {
        "id": "ht2sJUgN3F93"
      },
      "execution_count": null,
      "outputs": []
    },
    {
      "cell_type": "markdown",
      "source": [
        "음료수 얼려먹기"
      ],
      "metadata": {
        "id": "TJLqVogZ4jLC"
      }
    },
    {
      "cell_type": "code",
      "source": [
        "n,m = map(int,input().split())\n",
        "\n",
        "graph = []\n",
        "for i in range(n):\n",
        "  graph.append(list(map(int,input())))\n",
        "\n",
        "def dfs(x,y):\n",
        "\n",
        "  if x<=1 or x>=n or y<= -1 or y >= m:\n",
        "    return False\n",
        "\n",
        "    # 현재 노드를 방문하지 않았다면 \n",
        "    if graph[x][y]==0:\n",
        "      graph[x][y] = 1\n",
        "\n",
        "      # 여기서 재귀함수로 모든방향을 확인해주는 방식으로 표현한다.\n",
        "      dfs(x-1,y)\n",
        "      dfs(x+1,y)\n",
        "      dfs(x,y-1)\n",
        "      dfs(x,y+1)\n",
        "      # 얼음 갯수를 셀 때 필요함.\n",
        "      return True\n",
        "\n",
        "    return False\n",
        "\n",
        "result = 0\n",
        "for i in range(n):\n",
        "  for j in range(m):\n",
        "    if dfs(i,j) == True:\n",
        "      result += 1\n",
        "\n",
        "prit(result)"
      ],
      "metadata": {
        "id": "ujB8AG0n4lAg"
      },
      "execution_count": null,
      "outputs": []
    },
    {
      "cell_type": "markdown",
      "source": [
        "풀이 : 상하좌우를 확인하면서 연결된 얼음을 만들어준뒤 개수로 반환하여 추가해준다."
      ],
      "metadata": {
        "id": "crttfE909Hr7"
      }
    },
    {
      "cell_type": "markdown",
      "source": [
        "미로 탈출"
      ],
      "metadata": {
        "id": "hhSFVqMc8k6f"
      }
    },
    {
      "cell_type": "code",
      "source": [
        "from collections import deque\n",
        "\n",
        "n,m = map(int,input().split())\n",
        "\n",
        "graph= []\n",
        "for i in range(n):\n",
        "  graph.append(list(map(int,input())))\n",
        "\n",
        "dx = [-1,1,0,0]\n",
        "dy = [0,0,-1,1]\n",
        "\n",
        "def bfs(x,y):\n",
        "  queue = deque()\n",
        "  queue.append((x,y))\n",
        "\n",
        "  while queue :\n",
        "    x,y= queue.popleft()\n",
        "\n",
        "    for i in range(4):\n",
        "      nx = x + dx[i]\n",
        "      ny = y+ dy[i]\n",
        "\n",
        "      if nx<0 or ny>0 or nx >= n or ny >=m :\n",
        "        continue\n",
        "\n",
        "      if graph[nx][ny] ==0 :\n",
        "        continue\n",
        "      if graph[nx][ny] == 1:\n",
        "        graph[nx][ny] = graph[x][y]+1\n",
        "        queue.append((nx,ny))\n",
        "\n",
        "    return graph[n-1][m-1]\n",
        "\n",
        "print(bfs(0,0))"
      ],
      "metadata": {
        "id": "GOwjTZDB8vE9"
      },
      "execution_count": null,
      "outputs": []
    },
    {
      "cell_type": "markdown",
      "source": [
        "풀이: 처음 방문한 곳만 그전에 이어서 하나를 더해서 기록을 해주고 다른 벽이나 초과했을 경우는 무시한다. 그 후 출력한다."
      ],
      "metadata": {
        "id": "LV3TJgxa-RO0"
      }
    }
  ]
}